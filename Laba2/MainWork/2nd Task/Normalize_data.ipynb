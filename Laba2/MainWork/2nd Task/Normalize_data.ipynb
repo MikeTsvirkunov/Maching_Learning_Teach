{
 "cells": [
  {
   "attachments": {},
   "cell_type": "markdown",
   "metadata": {},
   "source": [
    "# Задание 2\n",
    "\n",
    "- загрузите датасет для классификации, проведите предобработку, выделите целевой признак и предикторы, разбейте данные на обучающую и тестовую выборку;\n",
    "- Масштабируйте числовые признаки\n",
    "- В случае дисбаланса проведите балансировку\n"
   ]
  },
  {
   "attachments": {},
   "cell_type": "markdown",
   "metadata": {},
   "source": [
    "# Импорт"
   ]
  },
  {
   "cell_type": "code",
   "execution_count": 2,
   "metadata": {},
   "outputs": [],
   "source": [
    "import pandas as pd\n",
    "import numpy as np"
   ]
  },
  {
   "attachments": {},
   "cell_type": "markdown",
   "metadata": {},
   "source": [
    "# Удаляем линейно-зависимые столбцы."
   ]
  },
  {
   "cell_type": "code",
   "execution_count": 3,
   "metadata": {},
   "outputs": [],
   "source": [
    "df = pd.read_csv('../../Data/neo_task_moded.csv')\n",
    "models = df.drop('est_diameter_max', axis=1)\n",
    "models = models.drop('hazardous', axis=1)"
   ]
  },
  {
   "cell_type": "code",
   "execution_count": 4,
   "metadata": {},
   "outputs": [
    {
     "data": {
      "text/plain": [
       "id                    1.063662e+07\n",
       "name                  1.446088e+03\n",
       "est_diameter_min      7.906446e-02\n",
       "relative_velocity     3.672431e+03\n",
       "miss_distance         7.800332e+05\n",
       "absolute_magnitude    1.733470e-01\n",
       "dtype: float64"
      ]
     },
     "execution_count": 4,
     "metadata": {},
     "output_type": "execute_result"
    }
   ],
   "source": [
    "np.abs(models.median() - models.mean())"
   ]
  },
  {
   "attachments": {},
   "cell_type": "markdown",
   "metadata": {},
   "source": [
    "# Масштабирование числовых признаков"
   ]
  },
  {
   "attachments": {},
   "cell_type": "markdown",
   "metadata": {},
   "source": [
    "## Используем средне-дисперсную нормализацию:\n",
    "$$x^\\prime_i = \\dfrac{x_i - \\overline{x}}{\\sigma}$$"
   ]
  },
  {
   "cell_type": "code",
   "execution_count": 5,
   "metadata": {},
   "outputs": [
    {
     "data": {
      "text/plain": [
       "id                    0.511180\n",
       "name                  0.204146\n",
       "est_diameter_min      0.264863\n",
       "relative_velocity     0.145634\n",
       "miss_distance         0.034898\n",
       "absolute_magnitude    0.060126\n",
       "dtype: float64"
      ]
     },
     "execution_count": 5,
     "metadata": {},
     "output_type": "execute_result"
    }
   ],
   "source": [
    "models_normed_by_mean_dispersion = (models-models.mean())/models.std()\n",
    "models_normed_by_mean_dispersion_results = np.abs(models_normed_by_mean_dispersion.median() - models_normed_by_mean_dispersion.mean())\n",
    "models_normed_by_mean_dispersion_results\n"
   ]
  },
  {
   "attachments": {},
   "cell_type": "markdown",
   "metadata": {},
   "source": [
    "## Используем средне-дисперсную нормализацию:\n",
    "$$X^\\prime = a - \\dfrac{X - X_{\\text{min}}}{X_{\\text{max}} - X_{\\text{min}}}(b-a)$$"
   ]
  },
  {
   "cell_type": "code",
   "execution_count": 6,
   "metadata": {},
   "outputs": [
    {
     "data": {
      "text/plain": [
       "id                    0.406945\n",
       "name                  0.105488\n",
       "est_diameter_min      0.004173\n",
       "relative_velocity     0.031019\n",
       "miss_distance         0.020859\n",
       "absolute_magnitude    0.014464\n",
       "dtype: float64"
      ]
     },
     "execution_count": 6,
     "metadata": {},
     "output_type": "execute_result"
    }
   ],
   "source": [
    "a = -1\n",
    "b = 1\n",
    "models_normed_by_min_max = a + (models - models.min())/(models.max() - models.min()) * (b-a)\n",
    "models_normed_by_min_max_results = np.abs(models_normed_by_min_max.median() - models_normed_by_min_max.mean())\n",
    "models_normed_by_min_max_results\n"
   ]
  },
  {
   "attachments": {},
   "cell_type": "markdown",
   "metadata": {},
   "source": [
    "## Вывод\n",
    "Минмакс нормализация показала себя лучше, т.к. отличие среднего значениия от медианны меньше. "
   ]
  },
  {
   "cell_type": "code",
   "execution_count": 7,
   "metadata": {},
   "outputs": [
    {
     "data": {
      "text/plain": [
       "id                    True\n",
       "name                  True\n",
       "est_diameter_min      True\n",
       "relative_velocity     True\n",
       "miss_distance         True\n",
       "absolute_magnitude    True\n",
       "dtype: bool"
      ]
     },
     "execution_count": 7,
     "metadata": {},
     "output_type": "execute_result"
    }
   ],
   "source": [
    "models_normed_by_min_max_results < models_normed_by_mean_dispersion_results"
   ]
  },
  {
   "attachments": {},
   "cell_type": "markdown",
   "metadata": {},
   "source": [
    "# Сохранение"
   ]
  },
  {
   "cell_type": "code",
   "execution_count": 10,
   "metadata": {},
   "outputs": [],
   "source": [
    "models_normed_by_min_max['hazardous'] = df['hazardous']\n",
    "models_normed_by_min_max.to_csv('../../Data/neo_task_moded_norm.csv', index=False)"
   ]
  }
 ],
 "metadata": {
  "kernelspec": {
   "display_name": "Python 3",
   "language": "python",
   "name": "python3"
  },
  "language_info": {
   "codemirror_mode": {
    "name": "ipython",
    "version": 3
   },
   "file_extension": ".py",
   "mimetype": "text/x-python",
   "name": "python",
   "nbconvert_exporter": "python",
   "pygments_lexer": "ipython3",
   "version": "3.9.2"
  },
  "orig_nbformat": 4
 },
 "nbformat": 4,
 "nbformat_minor": 2
}
