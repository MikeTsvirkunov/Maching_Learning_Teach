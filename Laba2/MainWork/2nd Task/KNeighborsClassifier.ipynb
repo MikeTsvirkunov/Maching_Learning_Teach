{
 "cells": [
  {
   "attachments": {},
   "cell_type": "markdown",
   "metadata": {},
   "source": [
    "## Задание 2\n",
    "\n",
    "- решите задачу классификации на ваших данных с использованием рассмотренных моделей sklearn: knn, NB, Logistic Regression, SVM. Не забудьте подобрать гиперпараметры.\n",
    "- вычислите значения метрик Accuracy, Precision, Recall, F1, ROC AUC score\n"
   ]
  },
  {
   "attachments": {},
   "cell_type": "markdown",
   "metadata": {},
   "source": [
    "# Импорт"
   ]
  },
  {
   "cell_type": "code",
   "execution_count": 1,
   "metadata": {},
   "outputs": [],
   "source": [
    "import pandas as pd\n",
    "import matplotlib.pyplot as plt\n",
    "import numpy as np\n",
    "\n",
    "from sklearn.model_selection import train_test_split\n",
    "\n",
    "from sklearn.metrics.pairwise import distance_metrics\n",
    "\n",
    "from sklearn.neighbors import KNeighborsClassifier\n",
    "from sklearn.model_selection import GridSearchCV, RandomizedSearchCV\n",
    "\n",
    "from sklearn.metrics import accuracy_score, confusion_matrix, classification_report, plot_roc_curve\n",
    "\n",
    "from joblib import dump\n"
   ]
  },
  {
   "attachments": {},
   "cell_type": "markdown",
   "metadata": {},
   "source": [
    "# Загружаем датасет и разбиваем её на выборку."
   ]
  },
  {
   "cell_type": "code",
   "execution_count": 2,
   "metadata": {},
   "outputs": [],
   "source": [
    "models = pd.read_csv('../../Data/neo_task_moded_norm.csv')\n",
    "X_train, X_test, y_train, y_test = train_test_split(models.drop('hazardous', axis=1), models['hazardous'], test_size=0.25, random_state=42)\n"
   ]
  },
  {
   "cell_type": "markdown",
   "metadata": {},
   "source": [
    "# Подбираем гиппер-параметры."
   ]
  },
  {
   "cell_type": "code",
   "execution_count": 3,
   "metadata": {},
   "outputs": [
    {
     "name": "stderr",
     "output_type": "stream",
     "text": [
      "c:\\Users\\Mike\\AppData\\Local\\Programs\\Python\\Python39\\lib\\site-packages\\sklearn\\model_selection\\_search.py:922: UserWarning: One or more of the test scores are non-finite: [       nan 0.88624351 0.88624351 0.88669528 0.9049168  0.88624351\n",
      " 0.88669528 0.88624351]\n",
      "  warnings.warn(\n"
     ]
    },
    {
     "data": {
      "text/plain": [
       "{'weights': 'uniform',\n",
       " 'p': 2,\n",
       " 'n_neighbors': 2,\n",
       " 'metric': 'nan_euclidean',\n",
       " 'leaf_size': 3,\n",
       " 'algorithm': 'brute'}"
      ]
     },
     "execution_count": 3,
     "metadata": {},
     "output_type": "execute_result"
    }
   ],
   "source": [
    "knn_optimal_n_neighbors = RandomizedSearchCV(KNeighborsClassifier(), \n",
    "                                             {'n_neighbors': np.arange(1, 3, 1), \n",
    "                                              'weights': ['uniform', 'distance'],\n",
    "                                              'algorithm': ['ball_tree', 'kd_tree', 'brute'],\n",
    "                                              'leaf_size': np.arange(1, 6, 1),\n",
    "                                              'p': np.arange(1, 3, 1),\n",
    "                                              'metric': list(distance_metrics().keys())\n",
    "                                              },\n",
    "                                              n_iter=8,\n",
    "                                              n_jobs=-1,\n",
    "                                              scoring='accuracy',\n",
    "                                              random_state=71\n",
    "                                              ).fit(X_train, y_train)\n",
    "knn_optimal_n_neighbors.best_params_"
   ]
  },
  {
   "cell_type": "code",
   "execution_count": 10,
   "metadata": {},
   "outputs": [],
   "source": [
    "# knn_optimal_n_neighbors = GridSearchCV(KNeighborsClassifier(), \n",
    "#                                        {'n_neighbors': np.arange(1, 3, 1), \n",
    "#                                         # 'weights': ['uniform', 'distance'],\n",
    "#                                         'algorithm': ['ball_tree', 'kd_tree', 'brute'],\n",
    "#                                         'leaf_size': np.arange(1, 3, 1),\n",
    "#                                         'p': np.arange(1, 3, 1),\n",
    "#                                         # 'metric': np.array(distance_metrics().keys())\n",
    "#                                         },\n",
    "#                                         cv=2,\n",
    "#                                         n_jobs=-1,\n",
    "#                                         scoring='accuracy'\n",
    "#                                         ).fit(X_train, y_train)\n",
    "# knn_optimal_n_neighbors.best_params_"
   ]
  },
  {
   "attachments": {},
   "cell_type": "markdown",
   "metadata": {},
   "source": [
    "# Метод k-ближайших соседей"
   ]
  },
  {
   "cell_type": "code",
   "execution_count": 4,
   "metadata": {},
   "outputs": [],
   "source": [
    "knn = KNeighborsClassifier(\n",
    "    n_neighbors=knn_optimal_n_neighbors.best_params_['n_neighbors'] if 'n_neighbors' in knn_optimal_n_neighbors.best_params_ else 5,\n",
    "    algorithm=knn_optimal_n_neighbors.best_params_['algorithm'] if 'algorithm' in knn_optimal_n_neighbors.best_params_ else 'auto',\n",
    "    p=knn_optimal_n_neighbors.best_params_['p'] if 'p' in knn_optimal_n_neighbors.best_params_ else 2,\n",
    "    weights=knn_optimal_n_neighbors.best_params_['weights'] if 'weights' in knn_optimal_n_neighbors.best_params_ else 'uniform',\n",
    "    leaf_size=knn_optimal_n_neighbors.best_params_['leaf_size'] if 'leaf_size' in knn_optimal_n_neighbors.best_params_ else 30,\n",
    "    metric=knn_optimal_n_neighbors.best_params_['metric'] if 'n_neighbors' in knn_optimal_n_neighbors.best_params_ else 'minkowski',\n",
    "    )\n",
    "knn.fit(X_train, y_train)\n",
    "y_predicted_by_kn_neighbors = knn.predict(X_test)"
   ]
  },
  {
   "attachments": {},
   "cell_type": "markdown",
   "metadata": {},
   "source": [
    "## Оценка качества "
   ]
  },
  {
   "cell_type": "code",
   "execution_count": 5,
   "metadata": {},
   "outputs": [
    {
     "name": "stdout",
     "output_type": "stream",
     "text": [
      "Accuracy\n",
      "0.9044951434379941\n"
     ]
    }
   ],
   "source": [
    "print('Accuracy')\n",
    "print(accuracy_score(y_test, y_predicted_by_kn_neighbors))"
   ]
  },
  {
   "cell_type": "code",
   "execution_count": 6,
   "metadata": {},
   "outputs": [
    {
     "name": "stdout",
     "output_type": "stream",
     "text": [
      "Confusion matrix\n",
      "[[19564   385]\n",
      " [ 1729   457]]\n"
     ]
    }
   ],
   "source": [
    "print('Confusion matrix')\n",
    "print(confusion_matrix(y_test, y_predicted_by_kn_neighbors))"
   ]
  },
  {
   "cell_type": "code",
   "execution_count": 7,
   "metadata": {},
   "outputs": [
    {
     "name": "stdout",
     "output_type": "stream",
     "text": [
      "Precision, Recall, F\n",
      "               precision    recall  f1-score   support\n",
      "\n",
      "       False       0.92      0.98      0.95     19949\n",
      "        True       0.54      0.21      0.30      2186\n",
      "\n",
      "    accuracy                           0.90     22135\n",
      "   macro avg       0.73      0.59      0.63     22135\n",
      "weighted avg       0.88      0.90      0.88     22135\n",
      "\n"
     ]
    }
   ],
   "source": [
    "print('Precision, Recall, F\\n', classification_report(y_test, y_predicted_by_kn_neighbors))"
   ]
  },
  {
   "cell_type": "code",
   "execution_count": 8,
   "metadata": {},
   "outputs": [
    {
     "name": "stdout",
     "output_type": "stream",
     "text": [
      "ROC AUC score\n"
     ]
    },
    {
     "data": {
      "text/plain": [
       "<sklearn.metrics._plot.roc_curve.RocCurveDisplay at 0x19e410ed6d0>"
      ]
     },
     "execution_count": 8,
     "metadata": {},
     "output_type": "execute_result"
    },
    {
     "data": {
      "image/png": "[encoded data removed]",
      "text/plain": [
       "<Figure size 432x288 with 1 Axes>"
      ]
     },
     "metadata": {
      "needs_background": "light"
     },
     "output_type": "display_data"
    }
   ],
   "source": [
    "print('ROC AUC score') \n",
    "plot_roc_curve(knn, X_test, y_test)"
   ]
  },
  {
   "cell_type": "code",
   "execution_count": null,
   "metadata": {},
   "outputs": [],
   "source": [
    "dump(gaussian_naive_bayes, '../../Pipelines/knn.sav')"
   ]
  }
 ],
 "metadata": {
  "kernelspec": {
   "display_name": "Python 3",
   "language": "python",
   "name": "python3"
  },
  "language_info": {
   "codemirror_mode": {
    "name": "ipython",
    "version": 3
   },
   "file_extension": ".py",
   "mimetype": "text/x-python",
   "name": "python",
   "nbconvert_exporter": "python",
   "pygments_lexer": "ipython3",
   "version": "3.9.2"
  },
  "orig_nbformat": 4
 },
 "nbformat": 4,
 "nbformat_minor": 2
}
