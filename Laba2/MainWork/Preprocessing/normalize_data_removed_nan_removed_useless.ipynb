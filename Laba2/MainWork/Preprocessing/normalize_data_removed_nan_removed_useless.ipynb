{
 "cells": [
  {
   "attachments": {},
   "cell_type": "markdown",
   "metadata": {},
   "source": [
    "# Задание 2\n",
    "\n",
    "- загрузите датасет для классификации, проведите предобработку, выделите целевой признак и предикторы, разбейте данные на обучающую и тестовую выборку;\n",
    "- Масштабируйте числовые признаки\n",
    "- В случае дисбаланса проведите балансировку\n"
   ]
  },
  {
   "attachments": {},
   "cell_type": "markdown",
   "metadata": {},
   "source": [
    "# Импорт"
   ]
  },
  {
   "cell_type": "code",
   "execution_count": 12,
   "metadata": {},
   "outputs": [],
   "source": [
    "import pandas as pd\n",
    "import numpy as np"
   ]
  },
  {
   "attachments": {},
   "cell_type": "markdown",
   "metadata": {},
   "source": [
    "# Удаляем линейно-зависимые столбцы."
   ]
  },
  {
   "cell_type": "code",
   "execution_count": 13,
   "metadata": {},
   "outputs": [
    {
     "data": {
      "text/html": [
       "<div>\n",
       "<style scoped>\n",
       "    .dataframe tbody tr th:only-of-type {\n",
       "        vertical-align: middle;\n",
       "    }\n",
       "\n",
       "    .dataframe tbody tr th {\n",
       "        vertical-align: top;\n",
       "    }\n",
       "\n",
       "    .dataframe thead th {\n",
       "        text-align: right;\n",
       "    }\n",
       "</style>\n",
       "<table border=\"1\" class=\"dataframe\">\n",
       "  <thead>\n",
       "    <tr style=\"text-align: right;\">\n",
       "      <th></th>\n",
       "      <th>est_diameter_min</th>\n",
       "      <th>relative_velocity</th>\n",
       "      <th>miss_distance</th>\n",
       "      <th>absolute_magnitude</th>\n",
       "    </tr>\n",
       "  </thead>\n",
       "  <tbody>\n",
       "    <tr>\n",
       "      <th>0</th>\n",
       "      <td>0.016016</td>\n",
       "      <td>56014.078517</td>\n",
       "      <td>1.024333e+06</td>\n",
       "      <td>26.10</td>\n",
       "    </tr>\n",
       "    <tr>\n",
       "      <th>1</th>\n",
       "      <td>0.030518</td>\n",
       "      <td>7864.348060</td>\n",
       "      <td>3.268186e+07</td>\n",
       "      <td>24.70</td>\n",
       "    </tr>\n",
       "    <tr>\n",
       "      <th>2</th>\n",
       "      <td>0.055533</td>\n",
       "      <td>55257.544508</td>\n",
       "      <td>6.538636e+07</td>\n",
       "      <td>23.40</td>\n",
       "    </tr>\n",
       "    <tr>\n",
       "      <th>3</th>\n",
       "      <td>0.019256</td>\n",
       "      <td>41531.404722</td>\n",
       "      <td>1.260796e+07</td>\n",
       "      <td>25.70</td>\n",
       "    </tr>\n",
       "    <tr>\n",
       "      <th>4</th>\n",
       "      <td>0.139494</td>\n",
       "      <td>67639.394481</td>\n",
       "      <td>7.130590e+07</td>\n",
       "      <td>21.40</td>\n",
       "    </tr>\n",
       "    <tr>\n",
       "      <th>...</th>\n",
       "      <td>...</td>\n",
       "      <td>...</td>\n",
       "      <td>...</td>\n",
       "      <td>...</td>\n",
       "    </tr>\n",
       "    <tr>\n",
       "      <th>88535</th>\n",
       "      <td>0.017561</td>\n",
       "      <td>23264.740825</td>\n",
       "      <td>1.635007e+06</td>\n",
       "      <td>25.90</td>\n",
       "    </tr>\n",
       "    <tr>\n",
       "      <th>88536</th>\n",
       "      <td>0.110804</td>\n",
       "      <td>24802.519406</td>\n",
       "      <td>3.351901e+07</td>\n",
       "      <td>21.90</td>\n",
       "    </tr>\n",
       "    <tr>\n",
       "      <th>88537</th>\n",
       "      <td>0.035039</td>\n",
       "      <td>116288.999548</td>\n",
       "      <td>5.471396e+07</td>\n",
       "      <td>24.40</td>\n",
       "    </tr>\n",
       "    <tr>\n",
       "      <th>88538</th>\n",
       "      <td>0.044112</td>\n",
       "      <td>45763.317060</td>\n",
       "      <td>2.694877e+07</td>\n",
       "      <td>23.90</td>\n",
       "    </tr>\n",
       "    <tr>\n",
       "      <th>88539</th>\n",
       "      <td>0.084441</td>\n",
       "      <td>79519.526381</td>\n",
       "      <td>3.631207e+07</td>\n",
       "      <td>22.49</td>\n",
       "    </tr>\n",
       "  </tbody>\n",
       "</table>\n",
       "<p>88540 rows × 4 columns</p>\n",
       "</div>"
      ],
      "text/plain": [
       "       est_diameter_min  relative_velocity  miss_distance  absolute_magnitude\n",
       "0              0.016016       56014.078517   1.024333e+06               26.10\n",
       "1              0.030518        7864.348060   3.268186e+07               24.70\n",
       "2              0.055533       55257.544508   6.538636e+07               23.40\n",
       "3              0.019256       41531.404722   1.260796e+07               25.70\n",
       "4              0.139494       67639.394481   7.130590e+07               21.40\n",
       "...                 ...                ...            ...                 ...\n",
       "88535          0.017561       23264.740825   1.635007e+06               25.90\n",
       "88536          0.110804       24802.519406   3.351901e+07               21.90\n",
       "88537          0.035039      116288.999548   5.471396e+07               24.40\n",
       "88538          0.044112       45763.317060   2.694877e+07               23.90\n",
       "88539          0.084441       79519.526381   3.631207e+07               22.49\n",
       "\n",
       "[88540 rows x 4 columns]"
      ]
     },
     "execution_count": 13,
     "metadata": {},
     "output_type": "execute_result"
    }
   ],
   "source": [
    "df = pd.read_csv('../../Data/neo_task_moded_removed_nan_removed_useless_params.csv')\n",
    "models = df.drop('est_diameter_max', axis=1)\n",
    "models = models.drop('hazardous', axis=1)\n",
    "models"
   ]
  },
  {
   "cell_type": "code",
   "execution_count": 14,
   "metadata": {},
   "outputs": [
    {
     "data": {
      "text/plain": [
       "est_diameter_min           0.079259\n",
       "relative_velocity       3877.942952\n",
       "miss_distance         788774.496138\n",
       "absolute_magnitude         0.173044\n",
       "dtype: float64"
      ]
     },
     "execution_count": 14,
     "metadata": {},
     "output_type": "execute_result"
    }
   ],
   "source": [
    "np.abs(models.median() - models.mean())"
   ]
  },
  {
   "attachments": {},
   "cell_type": "markdown",
   "metadata": {},
   "source": [
    "# Масштабирование числовых признаков"
   ]
  },
  {
   "attachments": {},
   "cell_type": "markdown",
   "metadata": {},
   "source": [
    "## Используем средне-дисперсную нормализацию:\n",
    "$$x^\\prime_i = \\dfrac{x_i - \\overline{x}}{\\sigma}$$"
   ]
  },
  {
   "cell_type": "code",
   "execution_count": 15,
   "metadata": {},
   "outputs": [
    {
     "data": {
      "text/plain": [
       "est_diameter_min      0.263528\n",
       "relative_velocity     0.153381\n",
       "miss_distance         0.035302\n",
       "absolute_magnitude    0.059772\n",
       "dtype: float64"
      ]
     },
     "execution_count": 15,
     "metadata": {},
     "output_type": "execute_result"
    }
   ],
   "source": [
    "models_normed_by_mean_dispersion = (models-models.mean())/models.std()\n",
    "models_normed_by_mean_dispersion_results = np.abs(models_normed_by_mean_dispersion.median() - models_normed_by_mean_dispersion.mean())\n",
    "models_normed_by_mean_dispersion_results\n"
   ]
  },
  {
   "attachments": {},
   "cell_type": "markdown",
   "metadata": {},
   "source": [
    "## Используем средне-дисперсную нормализацию:\n",
    "$$X^\\prime = a - \\dfrac{X - X_{\\text{min}}}{X_{\\text{max}} - X_{\\text{min}}}(b-a)$$"
   ]
  },
  {
   "cell_type": "code",
   "execution_count": 16,
   "metadata": {},
   "outputs": [
    {
     "data": {
      "text/plain": [
       "est_diameter_min      0.004183\n",
       "relative_velocity     0.032755\n",
       "miss_distance         0.021093\n",
       "absolute_magnitude    0.014438\n",
       "dtype: float64"
      ]
     },
     "execution_count": 16,
     "metadata": {},
     "output_type": "execute_result"
    }
   ],
   "source": [
    "a = -1\n",
    "b = 1\n",
    "models_normed_by_min_max = a + (models - models.min())/(models.max() - models.min()) * (b-a)\n",
    "models_normed_by_min_max_results = np.abs(models_normed_by_min_max.median() - models_normed_by_min_max.mean())\n",
    "models_normed_by_min_max_results\n"
   ]
  },
  {
   "attachments": {},
   "cell_type": "markdown",
   "metadata": {},
   "source": [
    "## Вывод\n",
    "Минмакс нормализация показала себя лучше, т.к. отличие среднего значениия от медианны меньше. "
   ]
  },
  {
   "cell_type": "code",
   "execution_count": 17,
   "metadata": {},
   "outputs": [
    {
     "data": {
      "text/plain": [
       "est_diameter_min      True\n",
       "relative_velocity     True\n",
       "miss_distance         True\n",
       "absolute_magnitude    True\n",
       "dtype: bool"
      ]
     },
     "execution_count": 17,
     "metadata": {},
     "output_type": "execute_result"
    }
   ],
   "source": [
    "models_normed_by_min_max_results < models_normed_by_mean_dispersion_results"
   ]
  },
  {
   "attachments": {},
   "cell_type": "markdown",
   "metadata": {},
   "source": [
    "# Сохранение"
   ]
  },
  {
   "cell_type": "code",
   "execution_count": 18,
   "metadata": {},
   "outputs": [],
   "source": [
    "models_normed_by_min_max['hazardous'] = df['hazardous']\n",
    "models_normed_by_min_max.to_csv('../../Data/neo_task_moded_norm.csv', index=False)"
   ]
  }
 ],
 "metadata": {
  "kernelspec": {
   "display_name": "Python 3",
   "language": "python",
   "name": "python3"
  },
  "language_info": {
   "codemirror_mode": {
    "name": "ipython",
    "version": 3
   },
   "file_extension": ".py",
   "mimetype": "text/x-python",
   "name": "python",
   "nbconvert_exporter": "python",
   "pygments_lexer": "ipython3",
   "version": "3.9.2"
  },
  "orig_nbformat": 4
 },
 "nbformat": 4,
 "nbformat_minor": 2
}
