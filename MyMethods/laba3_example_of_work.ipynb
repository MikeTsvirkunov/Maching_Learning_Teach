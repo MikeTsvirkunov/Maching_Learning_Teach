{
 "cells": [
  {
   "cell_type": "markdown",
   "metadata": {},
   "source": [
    "# Импорт."
   ]
  },
  {
   "cell_type": "code",
   "execution_count": 1,
   "metadata": {},
   "outputs": [],
   "source": [
    "import pandas as pd\n",
    "import numpy as np\n",
    "\n",
    "from sklearn.model_selection import train_test_split\n",
    "\n",
    "from Classes.CartTreeClassifier import CartTreeClassifier\n",
    "from Classes.CartTreeTeacher import CartTreeTeacher\n",
    "\n",
    "from Functions.metrics import *\n",
    "from Functions.split_functions import *\n",
    "from Functions.spreading_functions import *\n",
    "from Functions.search_split_functions import *\n",
    "\n",
    "from Functions.metrics import accuracy\n",
    "from sys import setrecursionlimit"
   ]
  },
  {
   "cell_type": "code",
   "execution_count": 2,
   "metadata": {},
   "outputs": [],
   "source": [
    "setrecursionlimit(5000)"
   ]
  },
  {
   "cell_type": "markdown",
   "metadata": {},
   "source": [
    "# Загрузка Dataset'а."
   ]
  },
  {
   "cell_type": "code",
   "execution_count": 3,
   "metadata": {},
   "outputs": [],
   "source": [
    "models = pd.read_csv('../Data/DataLaba2/neo_task_smoted.csv')\n",
    "X_train, X_test, y_train, y_test = train_test_split(models.drop('hazardous', axis=1), models['hazardous'], test_size=0.8, random_state=42)"
   ]
  },
  {
   "cell_type": "code",
   "execution_count": 4,
   "metadata": {},
   "outputs": [
    {
     "data": {
      "text/plain": [
       "30724     0.0\n",
       "35732     0.0\n",
       "118948    1.0\n",
       "76136     0.0\n",
       "36621     0.0\n",
       "         ... \n",
       "78301     1.0\n",
       "156971    1.0\n",
       "21441     0.0\n",
       "98558     1.0\n",
       "77859     0.0\n",
       "Name: hazardous, Length: 131194, dtype: float64"
      ]
     },
     "execution_count": 4,
     "metadata": {},
     "output_type": "execute_result"
    }
   ],
   "source": [
    "y_test"
   ]
  },
  {
   "cell_type": "code",
   "execution_count": 5,
   "metadata": {},
   "outputs": [
    {
     "data": {
      "text/html": [
       "<div>\n",
       "<style scoped>\n",
       "    .dataframe tbody tr th:only-of-type {\n",
       "        vertical-align: middle;\n",
       "    }\n",
       "\n",
       "    .dataframe tbody tr th {\n",
       "        vertical-align: top;\n",
       "    }\n",
       "\n",
       "    .dataframe thead th {\n",
       "        text-align: right;\n",
       "    }\n",
       "</style>\n",
       "<table border=\"1\" class=\"dataframe\">\n",
       "  <thead>\n",
       "    <tr style=\"text-align: right;\">\n",
       "      <th></th>\n",
       "      <th>est_diameter_max</th>\n",
       "      <th>relative_velocity</th>\n",
       "      <th>miss_distance</th>\n",
       "      <th>absolute_magnitude</th>\n",
       "    </tr>\n",
       "  </thead>\n",
       "  <tbody>\n",
       "    <tr>\n",
       "      <th>141239</th>\n",
       "      <td>-0.981476</td>\n",
       "      <td>-0.675772</td>\n",
       "      <td>0.590152</td>\n",
       "      <td>-0.151944</td>\n",
       "    </tr>\n",
       "    <tr>\n",
       "      <th>63113</th>\n",
       "      <td>-0.986259</td>\n",
       "      <td>-0.574666</td>\n",
       "      <td>0.795103</td>\n",
       "      <td>-0.098039</td>\n",
       "    </tr>\n",
       "    <tr>\n",
       "      <th>29924</th>\n",
       "      <td>-0.994915</td>\n",
       "      <td>-0.449857</td>\n",
       "      <td>-0.118752</td>\n",
       "      <td>0.081352</td>\n",
       "    </tr>\n",
       "    <tr>\n",
       "      <th>109159</th>\n",
       "      <td>-0.986257</td>\n",
       "      <td>-0.716450</td>\n",
       "      <td>-0.881387</td>\n",
       "      <td>-0.098033</td>\n",
       "    </tr>\n",
       "    <tr>\n",
       "      <th>64320</th>\n",
       "      <td>-0.992601</td>\n",
       "      <td>-0.507073</td>\n",
       "      <td>-0.517601</td>\n",
       "      <td>0.013767</td>\n",
       "    </tr>\n",
       "    <tr>\n",
       "      <th>...</th>\n",
       "      <td>...</td>\n",
       "      <td>...</td>\n",
       "      <td>...</td>\n",
       "      <td>...</td>\n",
       "    </tr>\n",
       "    <tr>\n",
       "      <th>119879</th>\n",
       "      <td>-0.981295</td>\n",
       "      <td>-0.635733</td>\n",
       "      <td>-0.532257</td>\n",
       "      <td>-0.153718</td>\n",
       "    </tr>\n",
       "    <tr>\n",
       "      <th>103694</th>\n",
       "      <td>-0.984032</td>\n",
       "      <td>-0.714345</td>\n",
       "      <td>0.317797</td>\n",
       "      <td>-0.125175</td>\n",
       "    </tr>\n",
       "    <tr>\n",
       "      <th>131932</th>\n",
       "      <td>-0.992591</td>\n",
       "      <td>-0.636823</td>\n",
       "      <td>-0.081927</td>\n",
       "      <td>0.013857</td>\n",
       "    </tr>\n",
       "    <tr>\n",
       "      <th>146867</th>\n",
       "      <td>-0.989026</td>\n",
       "      <td>-0.652895</td>\n",
       "      <td>-0.262361</td>\n",
       "      <td>-0.057075</td>\n",
       "    </tr>\n",
       "    <tr>\n",
       "      <th>121958</th>\n",
       "      <td>-0.981846</td>\n",
       "      <td>-0.532647</td>\n",
       "      <td>-0.703201</td>\n",
       "      <td>-0.148371</td>\n",
       "    </tr>\n",
       "  </tbody>\n",
       "</table>\n",
       "<p>32798 rows × 4 columns</p>\n",
       "</div>"
      ],
      "text/plain": [
       "        est_diameter_max  relative_velocity  miss_distance  absolute_magnitude\n",
       "141239         -0.981476          -0.675772       0.590152           -0.151944\n",
       "63113          -0.986259          -0.574666       0.795103           -0.098039\n",
       "29924          -0.994915          -0.449857      -0.118752            0.081352\n",
       "109159         -0.986257          -0.716450      -0.881387           -0.098033\n",
       "64320          -0.992601          -0.507073      -0.517601            0.013767\n",
       "...                  ...                ...            ...                 ...\n",
       "119879         -0.981295          -0.635733      -0.532257           -0.153718\n",
       "103694         -0.984032          -0.714345       0.317797           -0.125175\n",
       "131932         -0.992591          -0.636823      -0.081927            0.013857\n",
       "146867         -0.989026          -0.652895      -0.262361           -0.057075\n",
       "121958         -0.981846          -0.532647      -0.703201           -0.148371\n",
       "\n",
       "[32798 rows x 4 columns]"
      ]
     },
     "execution_count": 5,
     "metadata": {},
     "output_type": "execute_result"
    }
   ],
   "source": [
    "X_train"
   ]
  },
  {
   "cell_type": "code",
   "execution_count": 6,
   "metadata": {},
   "outputs": [
    {
     "data": {
      "text/plain": [
       "((131194,), (32798,), (32798, 4))"
      ]
     },
     "execution_count": 6,
     "metadata": {},
     "output_type": "execute_result"
    }
   ],
   "source": [
    "y_test.shape, y_train.shape, X_train.shape"
   ]
  },
  {
   "cell_type": "code",
   "execution_count": 7,
   "metadata": {},
   "outputs": [],
   "source": [
    "g, p, n = search_params_that_equiv_to_majority_class(X_train.to_numpy()[0:50], y_train.to_numpy()[0:50])"
   ]
  },
  {
   "cell_type": "code",
   "execution_count": 8,
   "metadata": {},
   "outputs": [
    {
     "data": {
      "text/plain": [
       "(0.275, 0.079682937004589, 3)"
      ]
     },
     "execution_count": 8,
     "metadata": {},
     "output_type": "execute_result"
    }
   ],
   "source": [
    "g, p, n"
   ]
  },
  {
   "cell_type": "code",
   "execution_count": 9,
   "metadata": {},
   "outputs": [
    {
     "data": {
      "text/plain": [
       "17"
      ]
     },
     "execution_count": 9,
     "metadata": {},
     "output_type": "execute_result"
    }
   ],
   "source": [
    "y_train.to_numpy()[0:50][X_train.to_numpy()[0:50].T[n]>p].shape[0]"
   ]
  },
  {
   "cell_type": "code",
   "execution_count": 10,
   "metadata": {},
   "outputs": [
    {
     "data": {
      "text/plain": [
       "33"
      ]
     },
     "execution_count": 10,
     "metadata": {},
     "output_type": "execute_result"
    }
   ],
   "source": [
    "y_train.to_numpy()[0:50][X_train.to_numpy()[0:50].T[n]<=p].shape[0]"
   ]
  },
  {
   "cell_type": "code",
   "execution_count": 11,
   "metadata": {},
   "outputs": [],
   "source": [
    "ctc = CartTreeClassifier()\n",
    "ctt = CartTreeTeacher(ctc, lambda a, b: classic_split(a, b[1], b[2]), search_params_that_equiv_to_majority_class, 5)\n",
    "ctt.teach(X_train.to_numpy()[0:10], y_train.to_numpy()[0:10])"
   ]
  },
  {
   "cell_type": "code",
   "execution_count": 12,
   "metadata": {},
   "outputs": [
    {
     "data": {
      "text/plain": [
       "(array([1., 0., 0., 1., 0., 0., 0., 1., 0., 0., 1., 0., 0., 0., 0., 1., 0.,\n",
       "        0., 0., 0., 0., 0., 0., 0., 0., 0., 0., 0., 0., 1., 1., 0., 0., 1.,\n",
       "        1., 1., 1., 1., 1., 1., 0., 0., 1., 0., 1., 0., 0., 1., 0., 0., 0.,\n",
       "        0., 0., 0., 0., 0., 0., 0., 0., 0., 0., 0., 0., 0., 0., 0., 0., 0.,\n",
       "        0., 0., 0., 0., 0., 0., 0., 0., 0., 1., 1., 1., 0., 0., 0., 0., 0.,\n",
       "        0., 1., 0., 0., 0., 0., 0., 1., 1., 0., 0., 0., 0., 0., 1.]),\n",
       " array([1., 0., 0., 1., 0., 0., 0., 1., 0., 0., 1., 1., 0., 0., 1., 0., 0.,\n",
       "        0., 0., 0., 1., 0., 1., 0., 1., 0., 0., 0., 1., 1., 1., 0., 0., 1.,\n",
       "        1., 1., 1., 0., 1., 1., 0., 0., 0., 1., 1., 0., 1., 0., 0., 1., 1.,\n",
       "        1., 0., 0., 1., 1., 1., 0., 0., 0., 0., 0., 0., 1., 0., 1., 0., 1.,\n",
       "        0., 0., 0., 1., 0., 1., 0., 0., 1., 1., 1., 1., 1., 0., 0., 0., 1.,\n",
       "        0., 1., 1., 0., 1., 0., 0., 1., 0., 0., 0., 0., 0., 1., 0.]))"
      ]
     },
     "execution_count": 12,
     "metadata": {},
     "output_type": "execute_result"
    }
   ],
   "source": [
    "ctc.predict(X_train.to_numpy()[0:100]), y_train.to_numpy()[0:100]"
   ]
  },
  {
   "cell_type": "code",
   "execution_count": 13,
   "metadata": {},
   "outputs": [
    {
     "data": {
      "text/plain": [
       "array([1.])"
      ]
     },
     "execution_count": 13,
     "metadata": {},
     "output_type": "execute_result"
    }
   ],
   "source": [
    "ctc.predict(X_test.to_numpy()[0:1])"
   ]
  },
  {
   "cell_type": "code",
   "execution_count": 14,
   "metadata": {},
   "outputs": [],
   "source": [
    "z = ctc.predict(X_test.to_numpy()[0:1000])"
   ]
  },
  {
   "cell_type": "code",
   "execution_count": 15,
   "metadata": {},
   "outputs": [
    {
     "data": {
      "text/plain": [
       "0.596"
      ]
     },
     "execution_count": 15,
     "metadata": {},
     "output_type": "execute_result"
    }
   ],
   "source": [
    "accuracy(z, y_test[0:1000])"
   ]
  }
 ],
 "metadata": {
  "kernelspec": {
   "display_name": "Python 3",
   "language": "python",
   "name": "python3"
  },
  "language_info": {
   "codemirror_mode": {
    "name": "ipython",
    "version": 3
   },
   "file_extension": ".py",
   "mimetype": "text/x-python",
   "name": "python",
   "nbconvert_exporter": "python",
   "pygments_lexer": "ipython3",
   "version": "3.9.2"
  },
  "orig_nbformat": 4,
  "vscode": {
   "interpreter": {
    "hash": "aba3edc6606a8ac8a255511c1ea25614f6a6cd9b905fba0a56f65d4023c78f46"
   }
  }
 },
 "nbformat": 4,
 "nbformat_minor": 2
}
