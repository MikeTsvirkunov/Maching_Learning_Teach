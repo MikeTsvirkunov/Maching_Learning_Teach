{
 "cells": [
  {
   "cell_type": "code",
   "execution_count": 1,
   "metadata": {},
   "outputs": [],
   "source": [
    "from Classes.KNumNeighborsClassifier import KNumNeighborsClassifier\n",
    "from Classes.KNumNeighborsTeacher import KNumNeighborsTeacher\n",
    "from Classes.NaiveBayesianClassificator import NaiveBayesianClassificator\n",
    "from Classes.NaiveBayesianTeacher import NaiveBayesianTeacher\n",
    "from Classes.BaggingContainer import BaggingContainer\n",
    "from Classes.BaggingTeacher import BaggingTeacher\n",
    "\n",
    "from Functions.distance_functions import euclid_distance\n",
    "from Functions.functions_of_priority import max_count_class\n",
    "from Functions.spreading_functions import normal_spread\n",
    "from Functions.split_functions import bootstrap_split_of_train_data\n",
    "from Functions.decision_functions import mean_value\n",
    "from Functions.metrics import *\n",
    "\n",
    "from sklearn.model_selection import train_test_split\n",
    "\n",
    "import pandas as pd\n",
    "import numpy as np\n",
    "\n",
    "from random import getrandbits"
   ]
  },
  {
   "cell_type": "code",
   "execution_count": 2,
   "metadata": {},
   "outputs": [],
   "source": [
    "def random_split_on_two(x, n):\n",
    "    return [np.array(list(map(lambda a: getrandbits(1), range(x.shape[0]))), dtype=bool) for i in range(n)]\n"
   ]
  },
  {
   "cell_type": "code",
   "execution_count": 3,
   "metadata": {},
   "outputs": [],
   "source": [
    "models = pd.read_csv('../Data/DataLaba2/neo_task_smoted.csv')\n",
    "X_train, X_test, y_train, y_test = train_test_split(models.drop('hazardous', axis=1), models['hazardous'], test_size=0.1, random_state=42)"
   ]
  },
  {
   "cell_type": "code",
   "execution_count": 4,
   "metadata": {},
   "outputs": [],
   "source": [
    "knn = KNumNeighborsClassifier(k=5, \n",
    "                            distance=euclid_distance, \n",
    "                            function_of_priority=max_count_class)\n"
   ]
  },
  {
   "cell_type": "code",
   "execution_count": 5,
   "metadata": {},
   "outputs": [],
   "source": [
    "nbc = NaiveBayesianClassificator(lambda a: a > 0)\n"
   ]
  },
  {
   "cell_type": "code",
   "execution_count": 6,
   "metadata": {},
   "outputs": [],
   "source": [
    "bagging_container = BaggingContainer(predictors=[nbc, nbc, nbc],\n",
    "                                     out_function=mean_value)\n",
    "bagging_teacher = BaggingTeacher(begging_container=bagging_container, \n",
    "                                 teachers=[NaiveBayesianTeacher,\n",
    "                                           NaiveBayesianTeacher,\n",
    "                                           NaiveBayesianTeacher],\n",
    "                                 teachers_params=[[], []],\n",
    "                                 split_function=bootstrap_split_of_train_data,\n",
    "                                 )\n",
    "bagging_teacher.teach(X_train.to_numpy()[0:100], y_train.to_numpy()[0:100], [\n",
    "                      normal_spread, normal_spread, normal_spread, normal_spread])\n"
   ]
  },
  {
   "cell_type": "code",
   "execution_count": 7,
   "metadata": {},
   "outputs": [
    {
     "name": "stdout",
     "output_type": "stream",
     "text": [
      "0.6110365853658537\n",
      "0.6110365853658537\n"
     ]
    },
    {
     "data": {
      "text/plain": [
       "array([1, 0, 1, ..., 1, 1, 1], dtype=int32)"
      ]
     },
     "execution_count": 7,
     "metadata": {},
     "output_type": "execute_result"
    }
   ],
   "source": [
    "y_predicted = bagging_container.predict(X_test.to_numpy())\n",
    "y_predicted\n"
   ]
  },
  {
   "cell_type": "code",
   "execution_count": 8,
   "metadata": {},
   "outputs": [
    {
     "name": "stdout",
     "output_type": "stream",
     "text": [
      "TP : 7882\n",
      "TN : 6008\n",
      "FN : 371\n",
      "FP : 2139\n",
      "Accuracy : 0.8469512195121951\n",
      "Specificity : 0.737449367865472\n",
      "Prcision : 0.7865482486777766\n",
      "Recall : 0.9550466497031382\n",
      "F1 : 0.8626463828390062\n"
     ]
    }
   ],
   "source": [
    "print(\n",
    "    f'TP : {TruePositive(y_predicted, y_test)}',\n",
    "    f'TN : {TrueNegative(y_predicted, y_test)}',\n",
    "    f'FN : {FalseNegative(y_predicted, y_test)}',\n",
    "    f'FP : {FalsePositive(y_predicted, y_test)}',\n",
    "    f'Accuracy : {accuracy(y_predicted, y_test)}',\n",
    "    f'Specificity : {specificity(y_predicted, y_test)}',\n",
    "    f'Prcision : {precision(y_predicted, y_test)}',\n",
    "    f'Recall : {recall(y_predicted, y_test)}',\n",
    "    f'F1 : {f1(y_predicted, y_test)}',\n",
    "    sep='\\n'\n",
    "    )"
   ]
  }
 ],
 "metadata": {
  "kernelspec": {
   "display_name": "Python 3",
   "language": "python",
   "name": "python3"
  },
  "language_info": {
   "codemirror_mode": {
    "name": "ipython",
    "version": 3
   },
   "file_extension": ".py",
   "mimetype": "text/x-python",
   "name": "python",
   "nbconvert_exporter": "python",
   "pygments_lexer": "ipython3",
   "version": "3.9.2"
  },
  "orig_nbformat": 4
 },
 "nbformat": 4,
 "nbformat_minor": 2
}
