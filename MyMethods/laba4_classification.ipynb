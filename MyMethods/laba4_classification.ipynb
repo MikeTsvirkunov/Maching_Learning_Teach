{
 "cells": [
  {
   "cell_type": "code",
   "execution_count": 3,
   "metadata": {},
   "outputs": [],
   "source": [
    "import pandas as pd\n",
    "import numpy as np\n",
    "\n",
    "from sklearn.model_selection import train_test_split\n",
    "\n",
    "from Classes.CartTreeClassifier import CartTreeClassifier\n",
    "from Classes.CartTreeTeacher import CartTreeTeacher\n",
    "\n",
    "from Functions.metrics import *\n",
    "from Functions.split_functions import *\n",
    "from Functions.spreading_functions import *\n",
    "from Functions.search_split_functions import *\n",
    "\n",
    "from Functions.metrics import accuracy\n",
    "from sys import setrecursionlimit\n",
    "from imblearn.over_sampling import SMOTE\n",
    "from sklearn.preprocessing import MinMaxScaler, StandardScaler, MaxAbsScaler\n",
    "\n",
    "from Classes.LayerGen import LayerGenerator\n",
    "from Classes.Layer import Layer\n",
    "from Classes.Perceptron import Perceptron\n",
    "from Classes.PerceptronBWSearcher import PerceptronBWSearcher\n"
   ]
  },
  {
   "cell_type": "code",
   "execution_count": 8,
   "metadata": {},
   "outputs": [],
   "source": [
    "data = pd.read_csv('../Data/DataLaba2/neo_task_smoted.csv')\n",
    "mm_scaler = MinMaxScaler()\n",
    "data_scaled = mm_scaler.fit_transform(data)\n",
    "data_scaled = pd.DataFrame(data_scaled, columns=data.columns)\n",
    "data_scaled_x, hazardous = SMOTE().fit_resample(data_scaled.drop(['hazardous'], axis=1), data['hazardous'])\n",
    "data_scaled_x = pd.DataFrame(data_scaled_x, columns=data.columns[data.columns != 'hazardous'])\n",
    "X_train, X_test, y_train, y_test = train_test_split(data_scaled, hazardous, test_size=0.5, random_state=42)\n"
   ]
  },
  {
   "cell_type": "code",
   "execution_count": null,
   "metadata": {},
   "outputs": [],
   "source": []
  }
 ],
 "metadata": {
  "kernelspec": {
   "display_name": "Python 3",
   "language": "python",
   "name": "python3"
  },
  "language_info": {
   "codemirror_mode": {
    "name": "ipython",
    "version": 3
   },
   "file_extension": ".py",
   "mimetype": "text/x-python",
   "name": "python",
   "nbconvert_exporter": "python",
   "pygments_lexer": "ipython3",
   "version": "3.9.2"
  },
  "orig_nbformat": 4
 },
 "nbformat": 4,
 "nbformat_minor": 2
}
