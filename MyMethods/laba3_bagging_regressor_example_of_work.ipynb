{
 "cells": [
  {
   "cell_type": "code",
   "execution_count": 138,
   "metadata": {},
   "outputs": [],
   "source": [
    "from Classes.Regression import Regression\n",
    "from Classes.RegressionTeacher import RegressionTeacher\n",
    "from Classes.BaggingContainer import BaggingContainer\n",
    "from Classes.BaggingTeacher import BaggingTeacher\n",
    "from Classes.Polinomizer import Polinomizer\n",
    "\n",
    "from Functions.distance_functions import euclid_distance\n",
    "from Functions.functions_of_priority import max_count_class\n",
    "from Functions.spreading_functions import normal_spread\n",
    "from Functions.split_functions import bootstrap_split_of_train_data\n",
    "from Functions.decision_functions import mean_value\n",
    "from Functions.lossFunctions import euclideError, euclideErrorGradient\n",
    "from Classes.Polinomizer import Polinomizer\n",
    "from Functions.gradientDescentAlgorithm import gradientDescentAlgorithm\n",
    "from Functions.errorFunctions import MAE, MAPE, MSE, RMSE, R2\n",
    "from Functions.metrics import *\n",
    "\n",
    "from sklearn.model_selection import train_test_split\n",
    "\n",
    "import pandas as pd\n",
    "import numpy as np\n",
    "\n",
    "from random import getrandbits"
   ]
  },
  {
   "cell_type": "code",
   "execution_count": 139,
   "metadata": {},
   "outputs": [],
   "source": [
    "models = pd.read_csv('../Data/DataLaba1/energy_task_moded.csv')\n",
    "model = models.drop('year', axis=1)\n",
    "model = (model-model.mean())/model.std()\n",
    "X_train, X_test, y_train, y_test = train_test_split(\n",
    "    model.drop('Appliances', axis=1), model['Appliances'], test_size=0.5)\n"
   ]
  },
  {
   "cell_type": "code",
   "execution_count": 140,
   "metadata": {},
   "outputs": [],
   "source": [
    "r1 = Regression()\n",
    "r2 = Regression()\n",
    "r3 = Regression()\n"
   ]
  },
  {
   "cell_type": "code",
   "execution_count": 141,
   "metadata": {},
   "outputs": [],
   "source": [
    "def function_optimizer_error(td, cd, w): return gradientDescentAlgorithm(\n",
    "    td=td,\n",
    "    cd=cd,\n",
    "    w=w,\n",
    "    lost_function=euclideError,\n",
    "    gradient=euclideErrorGradient,\n",
    "    nsteps=520,\n",
    "    merror=0.1,\n",
    "    step=0.00000000000000000000000000000000000000000000000000000001)\n"
   ]
  },
  {
   "cell_type": "code",
   "execution_count": 142,
   "metadata": {},
   "outputs": [],
   "source": [
    "bagging_container = BaggingContainer(predictors=[r1, r2, r3],\n",
    "                                     out_function=mean_value)\n",
    "bagging_teacher = BaggingTeacher(begging_container=bagging_container, \n",
    "                                 teachers=[RegressionTeacher,\n",
    "                                           RegressionTeacher,\n",
    "                                           RegressionTeacher],\n",
    "                                 teachers_params=[\n",
    "                                     [function_optimizer_error], [function_optimizer_error], [function_optimizer_error]],\n",
    "                                 split_function=bootstrap_split_of_train_data,\n",
    "                                 )\n",
    "bagging_teacher.teach(X_train.to_numpy(), y_train.to_numpy())\n"
   ]
  },
  {
   "cell_type": "code",
   "execution_count": 143,
   "metadata": {},
   "outputs": [
    {
     "data": {
      "text/plain": [
       "array([ 13., -12.,  11., ...,   9.,   9.,   9.])"
      ]
     },
     "execution_count": 143,
     "metadata": {},
     "output_type": "execute_result"
    }
   ],
   "source": [
    "y_predicted = bagging_container.predict(X_test.to_numpy())\n",
    "y_predicted\n"
   ]
  },
  {
   "cell_type": "code",
   "execution_count": 144,
   "metadata": {},
   "outputs": [
    {
     "data": {
      "text/plain": [
       "16360   -0.465204\n",
       "7449    -0.270129\n",
       "4515    -0.562741\n",
       "7788    -0.172592\n",
       "19441   -0.172592\n",
       "           ...   \n",
       "13854   -0.172592\n",
       "2156    -0.465204\n",
       "4127    -0.270129\n",
       "15046   -0.270129\n",
       "15304   -0.367666\n",
       "Name: Appliances, Length: 9867, dtype: float64"
      ]
     },
     "execution_count": 144,
     "metadata": {},
     "output_type": "execute_result"
    }
   ],
   "source": [
    "y_train"
   ]
  },
  {
   "cell_type": "code",
   "execution_count": 145,
   "metadata": {},
   "outputs": [
    {
     "data": {
      "text/plain": [
       "{'MAE': 7.264756189179626,\n",
       " 'RMSE': 9.369318307132023,\n",
       " 'MSE': 87.78412554035928,\n",
       " 'MAPE': 36.84000342096042,\n",
       " 'R^2': 0.22768832055876387}"
      ]
     },
     "execution_count": 145,
     "metadata": {},
     "output_type": "execute_result"
    }
   ],
   "source": [
    "my_line_regression_classic_errors = {'MAE': MAE(y_predicted, y_test),\n",
    "                                     'RMSE': RMSE(y_predicted, y_test),\n",
    "                                     'MSE': MSE(y_predicted, y_test),\n",
    "                                     'MAPE': MAPE(y_predicted, y_test),\n",
    "                                     'R^2': R2(y_predicted, np.array(y_test))\n",
    "                                     }\n",
    "\n",
    "my_line_regression_classic_errors\n"
   ]
  },
  {
   "cell_type": "code",
   "execution_count": 146,
   "metadata": {},
   "outputs": [
    {
     "data": {
      "text/plain": [
       "-0.0027626867731469495"
      ]
     },
     "execution_count": 146,
     "metadata": {},
     "output_type": "execute_result"
    }
   ],
   "source": [
    "from sklearn.metrics import r2_score\n",
    "\n",
    "r2_score(y_predicted, np.array(y_test))\n"
   ]
  },
  {
   "attachments": {},
   "cell_type": "markdown",
   "metadata": {},
   "source": [
    "# Линейная регрессия"
   ]
  },
  {
   "attachments": {},
   "cell_type": "markdown",
   "metadata": {},
   "source": [
    "# Полином"
   ]
  },
  {
   "cell_type": "code",
   "execution_count": 147,
   "metadata": {},
   "outputs": [],
   "source": [
    "def function_optimizer_error(td, cd, w): return gradientDescentAlgorithm(\n",
    "    td=td,\n",
    "    cd=cd,\n",
    "    w=w,\n",
    "    lost_function=euclideError,\n",
    "    gradient=euclideErrorGradient,\n",
    "    nsteps=520,\n",
    "    merror=0.1,\n",
    "    step=0.00000000000000000000000000000000000000000000000000000001)\n"
   ]
  },
  {
   "cell_type": "code",
   "execution_count": 148,
   "metadata": {},
   "outputs": [],
   "source": [
    "bagging_container = BaggingContainer(predictors=[r1, r2, r3],\n",
    "                                     out_function=mean_value)\n",
    "bagging_teacher = BaggingTeacher(begging_container=bagging_container, \n",
    "                                 teachers=[RegressionTeacher,\n",
    "                                           RegressionTeacher,\n",
    "                                           RegressionTeacher],\n",
    "                                 teachers_params=[\n",
    "                                     [function_optimizer_error], [function_optimizer_error], [function_optimizer_error]],\n",
    "                                 split_function=bootstrap_split_of_train_data,\n",
    "                                 )\n",
    "bagging_teacher.teach(np.array(Polinomizer(\n",
    "    np.array(X_train, dtype=np.float64), 14).polinomize()), y_train.to_numpy())\n"
   ]
  },
  {
   "cell_type": "code",
   "execution_count": 149,
   "metadata": {},
   "outputs": [
    {
     "data": {
      "text/plain": [
       "array([2.331000e+03, 8.300000e+03, 2.088032e+06, ..., 2.125000e+03,\n",
       "       9.219700e+04, 4.750000e+02])"
      ]
     },
     "execution_count": 149,
     "metadata": {},
     "output_type": "execute_result"
    }
   ],
   "source": [
    "y_predicted = bagging_container.predict(\n",
    "    np.array(Polinomizer(np.array(X_test, dtype=np.float64), 14).polinomize()))\n",
    "y_predicted\n"
   ]
  },
  {
   "cell_type": "code",
   "execution_count": 150,
   "metadata": {},
   "outputs": [
    {
     "data": {
      "text/plain": [
       "16360   -0.465204\n",
       "7449    -0.270129\n",
       "4515    -0.562741\n",
       "7788    -0.172592\n",
       "19441   -0.172592\n",
       "           ...   \n",
       "13854   -0.172592\n",
       "2156    -0.465204\n",
       "4127    -0.270129\n",
       "15046   -0.270129\n",
       "15304   -0.367666\n",
       "Name: Appliances, Length: 9867, dtype: float64"
      ]
     },
     "execution_count": 150,
     "metadata": {},
     "output_type": "execute_result"
    }
   ],
   "source": [
    "y_train"
   ]
  },
  {
   "cell_type": "code",
   "execution_count": 151,
   "metadata": {},
   "outputs": [
    {
     "data": {
      "text/plain": [
       "{'MAE': 128674276.1626104,\n",
       " 'RMSE': 7364146849.67864,\n",
       " 'MSE': 5.423065882363184e+19,\n",
       " 'MAPE': 281098123.9384438,\n",
       " 'R^2': -2.9474767570963385e+35}"
      ]
     },
     "execution_count": 151,
     "metadata": {},
     "output_type": "execute_result"
    }
   ],
   "source": [
    "my_line_regression_classic_errors = {'MAE': MAE(y_predicted, y_test),\n",
    "                                     'RMSE': RMSE(y_predicted, y_test),\n",
    "                                     'MSE': MSE(y_predicted, y_test),\n",
    "                                     'MAPE': MAPE(y_predicted, y_test),\n",
    "                                     'R^2': R2(y_predicted, np.array(y_test))\n",
    "                                     }\n",
    "\n",
    "my_line_regression_classic_errors\n"
   ]
  },
  {
   "cell_type": "code",
   "execution_count": 152,
   "metadata": {},
   "outputs": [
    {
     "data": {
      "text/plain": [
       "-0.0003053938542454393"
      ]
     },
     "execution_count": 152,
     "metadata": {},
     "output_type": "execute_result"
    }
   ],
   "source": [
    "from sklearn.metrics import r2_score\n",
    "\n",
    "r2_score(y_predicted, np.array(y_test))\n"
   ]
  }
 ],
 "metadata": {
  "kernelspec": {
   "display_name": "Python 3",
   "language": "python",
   "name": "python3"
  },
  "language_info": {
   "codemirror_mode": {
    "name": "ipython",
    "version": 3
   },
   "file_extension": ".py",
   "mimetype": "text/x-python",
   "name": "python",
   "nbconvert_exporter": "python",
   "pygments_lexer": "ipython3",
   "version": "3.9.2"
  },
  "orig_nbformat": 4
 },
 "nbformat": 4,
 "nbformat_minor": 2
}
