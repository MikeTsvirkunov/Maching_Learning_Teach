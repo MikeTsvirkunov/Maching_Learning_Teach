{
 "cells": [
  {
   "attachments": {},
   "cell_type": "markdown",
   "metadata": {},
   "source": [
    "# Функция потерь"
   ]
  },
  {
   "attachments": {},
   "cell_type": "markdown",
   "metadata": {},
   "source": [
    "$$f_{\\text{loss function}}(x, y) = (x - y)^2$$\n",
    "$$\\dfrac{df_{\\text{loss function}}}{dx}(x, y) = 2(x - y)$$\n"
   ]
  },
  {
   "attachments": {},
   "cell_type": "markdown",
   "metadata": {},
   "source": [
    "# Функция активации"
   ]
  },
  {
   "attachments": {},
   "cell_type": "markdown",
   "metadata": {},
   "source": [
    "$$f_{\\text{activation}}(x) = \\dfrac{1}{1+e^{-x}}$$\n",
    "$$\\dfrac{f_{\\text{activation}}}{dx}(x) = \\dfrac{e^x}{(e^x + 1)^2}$$"
   ]
  },
  {
   "attachments": {},
   "cell_type": "markdown",
   "metadata": {},
   "source": [
    "# Сумматор"
   ]
  },
  {
   "attachments": {},
   "cell_type": "markdown",
   "metadata": {},
   "source": [
    "$$f_{\\text{summator}}(x, w) = \\sum_{i=1}^{n}w_ix_i$$\n",
    "$$\\dfrac{df_{\\text{summator}}}{dw_i}(x, w) = x_i$$"
   ]
  },
  {
   "attachments": {},
   "cell_type": "markdown",
   "metadata": {},
   "source": [
    "# Расписываем"
   ]
  },
  {
   "attachments": {},
   "cell_type": "markdown",
   "metadata": {},
   "source": [
    "$$f_{\\text{loss function}}(f_{\\text{activation}}(x), y) = (f_{\\text{activation}}(x) - y)^2$$\n",
    "$$\\dfrac{df_{\\text{loss function}}}{dx}(f_{\\text{activation}}(x), y) = 2(f_{\\text{activation}}(x) - y)\\dfrac{df_{\\text{activation}}}{dx}(x)$$\n",
    "$$\\dfrac{df_{\\text{loss function}}}{dx}(x, y) = 2(\\dfrac{1}{1+e^{-x}} - y)\\dfrac{e^x}{(e^x + 1)^2}$$"
   ]
  },
  {
   "attachments": {},
   "cell_type": "markdown",
   "metadata": {},
   "source": [
    "$$f_{\\text{loss function}}(f_{\\text{activation}}(f_{\\text{summator}}(x)), y) = (f_{\\text{activation}}(f_{\\text{summator}}(x)) - y)^2$$\n",
    "$$\\dfrac{df_{\\text{loss function}}}{dx}(f_{\\text{activation}}(x), y) = 2(f_{\\text{activation}}(f_{\\text{summator}}(x)) - y)\\dfrac{df_{\\text{activation}}}{df_{\\text{summator}}(x)}(f_{\\text{summator}}(x))=$$\n",
    "$$=2(f_{\\text{activation}}(f_{\\text{summator}}(x)) - y)\\dfrac{df_{\\text{activation}}}{dx}(f_{\\text{summator}}(x))\\dfrac{f_{\\text{summator}}}{dx}(x)$$\n",
    "$$=2(f_{\\text{activation}}(f_{\\text{summator}}(x)) - y)\\dfrac{df_{\\text{activation}}}{dx}(f_{\\text{summator}}(x))\\dfrac{f_{\\text{summator}}}{dx}(x)$$"
   ]
  },
  {
   "attachments": {},
   "cell_type": "markdown",
   "metadata": {},
   "source": [
    "# Описание"
   ]
  },
  {
   "attachments": {},
   "cell_type": "markdown",
   "metadata": {},
   "source": []
  }
 ],
 "metadata": {
  "language_info": {
   "name": "python"
  },
  "orig_nbformat": 4
 },
 "nbformat": 4,
 "nbformat_minor": 2
}
