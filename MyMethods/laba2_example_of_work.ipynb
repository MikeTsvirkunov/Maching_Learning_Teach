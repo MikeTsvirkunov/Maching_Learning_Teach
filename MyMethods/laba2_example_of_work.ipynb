{
 "cells": [
  {
   "attachments": {},
   "cell_type": "markdown",
   "metadata": {},
   "source": [
    "# Импорт."
   ]
  },
  {
   "cell_type": "code",
   "execution_count": 1,
   "metadata": {},
   "outputs": [],
   "source": [
    "from Classes.KNumNeighborsClassifier import KNumNeighborsClassifier\n",
    "from Classes.KNumNeighborsTeacher import KNumNeighborsTeacher\n",
    "from Classes.NaiveBayesianClassificator import NaiveBayesianClassificator\n",
    "from Classes.NaiveBayesianTeacher import NaiveBayesianTeacher\n",
    "\n",
    "from Functions.distance_functions import euclid_distance\n",
    "from Functions.functions_of_priority import max_count_class\n",
    "from Functions.spreading_functions import normal_spread\n",
    "from Functions.metrics import *\n",
    "\n",
    "from sklearn.metrics import classification_report\n",
    "from sklearn.model_selection import train_test_split\n",
    "\n",
    "import pandas as pd\n",
    "import numpy as np"
   ]
  },
  {
   "attachments": {},
   "cell_type": "markdown",
   "metadata": {},
   "source": [
    "# Загрузка Dataset'а."
   ]
  },
  {
   "cell_type": "code",
   "execution_count": 2,
   "metadata": {},
   "outputs": [],
   "source": [
    "models = pd.read_csv('../Data/DataLaba2/neo_task_smoted.csv')\n",
    "X_train, X_test, y_train, y_test = train_test_split(models.drop('hazardous', axis=1), models['hazardous'], test_size=0.1, random_state=42)"
   ]
  },
  {
   "cell_type": "code",
   "execution_count": 3,
   "metadata": {},
   "outputs": [
    {
     "data": {
      "text/plain": [
       "30724     0.0\n",
       "35732     0.0\n",
       "118948    1.0\n",
       "76136     0.0\n",
       "36621     0.0\n",
       "         ... \n",
       "41761     0.0\n",
       "19297     0.0\n",
       "149944    1.0\n",
       "103037    1.0\n",
       "154557    1.0\n",
       "Name: hazardous, Length: 16400, dtype: float64"
      ]
     },
     "execution_count": 3,
     "metadata": {},
     "output_type": "execute_result"
    }
   ],
   "source": [
    "y_test"
   ]
  },
  {
   "cell_type": "code",
   "execution_count": 4,
   "metadata": {},
   "outputs": [
    {
     "data": {
      "text/html": [
       "<div>\n",
       "<style scoped>\n",
       "    .dataframe tbody tr th:only-of-type {\n",
       "        vertical-align: middle;\n",
       "    }\n",
       "\n",
       "    .dataframe tbody tr th {\n",
       "        vertical-align: top;\n",
       "    }\n",
       "\n",
       "    .dataframe thead th {\n",
       "        text-align: right;\n",
       "    }\n",
       "</style>\n",
       "<table border=\"1\" class=\"dataframe\">\n",
       "  <thead>\n",
       "    <tr style=\"text-align: right;\">\n",
       "      <th></th>\n",
       "      <th>est_diameter_max</th>\n",
       "      <th>relative_velocity</th>\n",
       "      <th>miss_distance</th>\n",
       "      <th>absolute_magnitude</th>\n",
       "    </tr>\n",
       "  </thead>\n",
       "  <tbody>\n",
       "    <tr>\n",
       "      <th>161658</th>\n",
       "      <td>-0.993405</td>\n",
       "      <td>-0.382161</td>\n",
       "      <td>0.718675</td>\n",
       "      <td>0.034654</td>\n",
       "    </tr>\n",
       "    <tr>\n",
       "      <th>46173</th>\n",
       "      <td>-0.999696</td>\n",
       "      <td>-0.956341</td>\n",
       "      <td>-0.981829</td>\n",
       "      <td>0.574468</td>\n",
       "    </tr>\n",
       "    <tr>\n",
       "      <th>124370</th>\n",
       "      <td>-0.994114</td>\n",
       "      <td>-0.839733</td>\n",
       "      <td>-0.699950</td>\n",
       "      <td>0.094784</td>\n",
       "    </tr>\n",
       "    <tr>\n",
       "      <th>109476</th>\n",
       "      <td>-0.978060</td>\n",
       "      <td>-0.331272</td>\n",
       "      <td>0.952452</td>\n",
       "      <td>-0.182535</td>\n",
       "    </tr>\n",
       "    <tr>\n",
       "      <th>106322</th>\n",
       "      <td>-0.989715</td>\n",
       "      <td>-0.730527</td>\n",
       "      <td>0.273584</td>\n",
       "      <td>-0.045514</td>\n",
       "    </tr>\n",
       "    <tr>\n",
       "      <th>...</th>\n",
       "      <td>...</td>\n",
       "      <td>...</td>\n",
       "      <td>...</td>\n",
       "      <td>...</td>\n",
       "    </tr>\n",
       "    <tr>\n",
       "      <th>119879</th>\n",
       "      <td>-0.981295</td>\n",
       "      <td>-0.635733</td>\n",
       "      <td>-0.532257</td>\n",
       "      <td>-0.153718</td>\n",
       "    </tr>\n",
       "    <tr>\n",
       "      <th>103694</th>\n",
       "      <td>-0.984032</td>\n",
       "      <td>-0.714345</td>\n",
       "      <td>0.317797</td>\n",
       "      <td>-0.125175</td>\n",
       "    </tr>\n",
       "    <tr>\n",
       "      <th>131932</th>\n",
       "      <td>-0.992591</td>\n",
       "      <td>-0.636823</td>\n",
       "      <td>-0.081927</td>\n",
       "      <td>0.013857</td>\n",
       "    </tr>\n",
       "    <tr>\n",
       "      <th>146867</th>\n",
       "      <td>-0.989026</td>\n",
       "      <td>-0.652895</td>\n",
       "      <td>-0.262361</td>\n",
       "      <td>-0.057075</td>\n",
       "    </tr>\n",
       "    <tr>\n",
       "      <th>121958</th>\n",
       "      <td>-0.981846</td>\n",
       "      <td>-0.532647</td>\n",
       "      <td>-0.703201</td>\n",
       "      <td>-0.148371</td>\n",
       "    </tr>\n",
       "  </tbody>\n",
       "</table>\n",
       "<p>147592 rows × 4 columns</p>\n",
       "</div>"
      ],
      "text/plain": [
       "        est_diameter_max  relative_velocity  miss_distance  absolute_magnitude\n",
       "161658         -0.993405          -0.382161       0.718675            0.034654\n",
       "46173          -0.999696          -0.956341      -0.981829            0.574468\n",
       "124370         -0.994114          -0.839733      -0.699950            0.094784\n",
       "109476         -0.978060          -0.331272       0.952452           -0.182535\n",
       "106322         -0.989715          -0.730527       0.273584           -0.045514\n",
       "...                  ...                ...            ...                 ...\n",
       "119879         -0.981295          -0.635733      -0.532257           -0.153718\n",
       "103694         -0.984032          -0.714345       0.317797           -0.125175\n",
       "131932         -0.992591          -0.636823      -0.081927            0.013857\n",
       "146867         -0.989026          -0.652895      -0.262361           -0.057075\n",
       "121958         -0.981846          -0.532647      -0.703201           -0.148371\n",
       "\n",
       "[147592 rows x 4 columns]"
      ]
     },
     "execution_count": 4,
     "metadata": {},
     "output_type": "execute_result"
    }
   ],
   "source": [
    "X_train"
   ]
  },
  {
   "cell_type": "code",
   "execution_count": 5,
   "metadata": {},
   "outputs": [
    {
     "data": {
      "text/plain": [
       "((16400,), (147592,), (147592, 4))"
      ]
     },
     "execution_count": 5,
     "metadata": {},
     "output_type": "execute_result"
    }
   ],
   "source": [
    "y_test.shape, y_train.shape, X_train.shape"
   ]
  },
  {
   "attachments": {},
   "cell_type": "markdown",
   "metadata": {},
   "source": [
    "# KNN"
   ]
  },
  {
   "cell_type": "code",
   "execution_count": 6,
   "metadata": {},
   "outputs": [],
   "source": [
    "knn = KNumNeighborsClassifier(k=5, \n",
    "                            distance=euclid_distance, \n",
    "                            function_of_priority=max_count_class)\n",
    "knn_teacher = KNumNeighborsTeacher(classifier=knn)\n",
    "knn_teacher.teach(np.array(X_train), np.array(y_train))\n",
    "knn_predict = knn.predict(np.array(X_test))"
   ]
  },
  {
   "cell_type": "code",
   "execution_count": 8,
   "metadata": {},
   "outputs": [
    {
     "name": "stdout",
     "output_type": "stream",
     "text": [
      "TP : 8148\n",
      "TN : 6830\n",
      "FN : 105\n",
      "FP : 1317\n",
      "Accuracy : 0.9132926829268293\n",
      "Specificity : 0.8383454032159077\n",
      "Prcision : 0.8608557844690967\n",
      "Recall : 0.9872773536895675\n",
      "F1 : 0.9197426346088724\n"
     ]
    }
   ],
   "source": [
    "print(\n",
    "    f'TP : {TruePositive(knn_predict, y_test)}',\n",
    "    f'TN : {TrueNegative(knn_predict, y_test)}',\n",
    "    f'FN : {FalseNegative(knn_predict, y_test)}',\n",
    "    f'FP : {FalsePositive(knn_predict, y_test)}',\n",
    "    f'Accuracy : {accuracy(knn_predict, y_test)}',\n",
    "    f'Specificity : {specificity(knn_predict, y_test)}',\n",
    "    f'Prcision : {precision(knn_predict, y_test)}',\n",
    "    f'Recall : {recall(knn_predict, y_test)}',\n",
    "    f'F1 : {f1(knn_predict, y_test)}',\n",
    "    sep='\\n'\n",
    "    )"
   ]
  },
  {
   "cell_type": "code",
   "execution_count": 10,
   "metadata": {},
   "outputs": [
    {
     "name": "stdout",
     "output_type": "stream",
     "text": [
      "              precision    recall  f1-score   support\n",
      "\n",
      "         0.0       0.84      0.98      0.91      6935\n",
      "         1.0       0.99      0.86      0.92      9465\n",
      "\n",
      "    accuracy                           0.91     16400\n",
      "   macro avg       0.91      0.92      0.91     16400\n",
      "weighted avg       0.92      0.91      0.91     16400\n",
      "\n"
     ]
    }
   ],
   "source": [
    "print(classification_report(knn_predict, y_test))"
   ]
  },
  {
   "attachments": {},
   "cell_type": "markdown",
   "metadata": {},
   "source": [
    "# Naive Bayesian"
   ]
  },
  {
   "cell_type": "code",
   "execution_count": 12,
   "metadata": {},
   "outputs": [],
   "source": [
    "nbc = NaiveBayesianClassificator(lambda a: a > 0)\n",
    "NaiveBayesianTeacher(nbc).teach(np.array(X_train), np.array(y_train), [normal_spread, normal_spread, normal_spread, normal_spread])\n",
    "nbc_predict = nbc.predict(np.array(X_test))\n"
   ]
  },
  {
   "cell_type": "code",
   "execution_count": 14,
   "metadata": {},
   "outputs": [
    {
     "name": "stdout",
     "output_type": "stream",
     "text": [
      "TP : 6954\n",
      "TN : 6371\n",
      "FN : 1299\n",
      "FP : 1776\n",
      "Accuracy : 0.8125\n",
      "Specificity : 0.7820056462501535\n",
      "Prcision : 0.7965635738831615\n",
      "Recall : 0.8426026899309342\n",
      "F1 : 0.8189365836424659\n"
     ]
    }
   ],
   "source": [
    "print(\n",
    "    f'TP : {TruePositive(nbc_predict, y_test)}',\n",
    "    f'TN : {TrueNegative(nbc_predict, y_test)}',\n",
    "    f'FN : {FalseNegative(nbc_predict, y_test)}',\n",
    "    f'FP : {FalsePositive(nbc_predict, y_test)}',\n",
    "    f'Accuracy : {accuracy(nbc_predict, y_test)}',\n",
    "    f'Specificity : {specificity(nbc_predict, y_test)}',\n",
    "    f'Prcision : {precision(nbc_predict, y_test)}',\n",
    "    f'Recall : {recall(nbc_predict, y_test)}',\n",
    "    f'F1 : {f1(nbc_predict, y_test)}',\n",
    "    sep='\\n'\n",
    "    )"
   ]
  },
  {
   "cell_type": "code",
   "execution_count": 16,
   "metadata": {},
   "outputs": [
    {
     "name": "stdout",
     "output_type": "stream",
     "text": [
      "              precision    recall  f1-score   support\n",
      "\n",
      "       False       0.78      0.83      0.81      7670\n",
      "        True       0.84      0.80      0.82      8730\n",
      "\n",
      "    accuracy                           0.81     16400\n",
      "   macro avg       0.81      0.81      0.81     16400\n",
      "weighted avg       0.81      0.81      0.81     16400\n",
      "\n"
     ]
    }
   ],
   "source": [
    "print(classification_report(nbc_predict, y_test))"
   ]
  },
  {
   "cell_type": "markdown",
   "metadata": {},
   "source": []
  }
 ],
 "metadata": {
  "kernelspec": {
   "display_name": "Python 3",
   "language": "python",
   "name": "python3"
  },
  "language_info": {
   "codemirror_mode": {
    "name": "ipython",
    "version": 3
   },
   "file_extension": ".py",
   "mimetype": "text/x-python",
   "name": "python",
   "nbconvert_exporter": "python",
   "pygments_lexer": "ipython3",
   "version": "3.9.2"
  },
  "orig_nbformat": 4
 },
 "nbformat": 4,
 "nbformat_minor": 2
}
