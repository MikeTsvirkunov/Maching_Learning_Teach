{
 "cells": [
  {
   "attachments": {},
   "cell_type": "markdown",
   "metadata": {},
   "source": [
    "# Импорт."
   ]
  },
  {
   "cell_type": "code",
   "execution_count": 11,
   "metadata": {},
   "outputs": [],
   "source": [
    "from Classes.KNumNeighborsClassifier import KNumNeighborsClassifier\n",
    "from Classes.KNumNeighborsTeacher import KNumNeighborsTeacher\n",
    "from Classes.NaiveBayesianClassificator import NaiveBayesianClassificator\n",
    "from Classes.NaiveBayesianTeacher import NaiveBayesianTeacher\n",
    "\n",
    "from Functions.distance_functions import euclid_distance\n",
    "from Functions.functions_of_priority import max_count_class\n",
    "from Functions.spreading_functions import normal_spread\n",
    "from Functions.metrics import *\n",
    "\n",
    "from sklearn.metrics import classification_report\n",
    "from sklearn.model_selection import train_test_split\n",
    "\n",
    "import pandas as pd\n",
    "import numpy as np"
   ]
  },
  {
   "attachments": {},
   "cell_type": "markdown",
   "metadata": {},
   "source": [
    "# Загрузка Dataset'а."
   ]
  },
  {
   "cell_type": "code",
   "execution_count": 2,
   "metadata": {},
   "outputs": [],
   "source": [
    "models = pd.read_csv('../Laba2/Data/neo_task_smoted.csv')\n",
    "X_train, X_test, y_train, y_test = train_test_split(models.drop('hazardous', axis=1), models['hazardous'], test_size=0.1, random_state=42)"
   ]
  },
  {
   "cell_type": "code",
   "execution_count": 3,
   "metadata": {},
   "outputs": [
    {
     "data": {
      "text/plain": [
       "30724     0.0\n",
       "35732     0.0\n",
       "118948    1.0\n",
       "76136     0.0\n",
       "36621     0.0\n",
       "         ... \n",
       "41761     0.0\n",
       "19297     0.0\n",
       "149944    1.0\n",
       "103037    1.0\n",
       "154557    1.0\n",
       "Name: hazardous, Length: 16400, dtype: float64"
      ]
     },
     "execution_count": 3,
     "metadata": {},
     "output_type": "execute_result"
    }
   ],
   "source": [
    "y_test"
   ]
  },
  {
   "cell_type": "code",
   "execution_count": 4,
   "metadata": {},
   "outputs": [
    {
     "data": {
      "text/html": [
       "<div>\n",
       "<style scoped>\n",
       "    .dataframe tbody tr th:only-of-type {\n",
       "        vertical-align: middle;\n",
       "    }\n",
       "\n",
       "    .dataframe tbody tr th {\n",
       "        vertical-align: top;\n",
       "    }\n",
       "\n",
       "    .dataframe thead th {\n",
       "        text-align: right;\n",
       "    }\n",
       "</style>\n",
       "<table border=\"1\" class=\"dataframe\">\n",
       "  <thead>\n",
       "    <tr style=\"text-align: right;\">\n",
       "      <th></th>\n",
       "      <th>est_diameter_max</th>\n",
       "      <th>relative_velocity</th>\n",
       "      <th>miss_distance</th>\n",
       "      <th>absolute_magnitude</th>\n",
       "    </tr>\n",
       "  </thead>\n",
       "  <tbody>\n",
       "    <tr>\n",
       "      <th>161658</th>\n",
       "      <td>-0.993405</td>\n",
       "      <td>-0.382161</td>\n",
       "      <td>0.718675</td>\n",
       "      <td>0.034654</td>\n",
       "    </tr>\n",
       "    <tr>\n",
       "      <th>46173</th>\n",
       "      <td>-0.999696</td>\n",
       "      <td>-0.956341</td>\n",
       "      <td>-0.981829</td>\n",
       "      <td>0.574468</td>\n",
       "    </tr>\n",
       "    <tr>\n",
       "      <th>124370</th>\n",
       "      <td>-0.994114</td>\n",
       "      <td>-0.839733</td>\n",
       "      <td>-0.699950</td>\n",
       "      <td>0.094784</td>\n",
       "    </tr>\n",
       "    <tr>\n",
       "      <th>109476</th>\n",
       "      <td>-0.978060</td>\n",
       "      <td>-0.331272</td>\n",
       "      <td>0.952452</td>\n",
       "      <td>-0.182535</td>\n",
       "    </tr>\n",
       "    <tr>\n",
       "      <th>106322</th>\n",
       "      <td>-0.989715</td>\n",
       "      <td>-0.730527</td>\n",
       "      <td>0.273584</td>\n",
       "      <td>-0.045514</td>\n",
       "    </tr>\n",
       "    <tr>\n",
       "      <th>...</th>\n",
       "      <td>...</td>\n",
       "      <td>...</td>\n",
       "      <td>...</td>\n",
       "      <td>...</td>\n",
       "    </tr>\n",
       "    <tr>\n",
       "      <th>119879</th>\n",
       "      <td>-0.981295</td>\n",
       "      <td>-0.635733</td>\n",
       "      <td>-0.532257</td>\n",
       "      <td>-0.153718</td>\n",
       "    </tr>\n",
       "    <tr>\n",
       "      <th>103694</th>\n",
       "      <td>-0.984032</td>\n",
       "      <td>-0.714345</td>\n",
       "      <td>0.317797</td>\n",
       "      <td>-0.125175</td>\n",
       "    </tr>\n",
       "    <tr>\n",
       "      <th>131932</th>\n",
       "      <td>-0.992591</td>\n",
       "      <td>-0.636823</td>\n",
       "      <td>-0.081927</td>\n",
       "      <td>0.013857</td>\n",
       "    </tr>\n",
       "    <tr>\n",
       "      <th>146867</th>\n",
       "      <td>-0.989026</td>\n",
       "      <td>-0.652895</td>\n",
       "      <td>-0.262361</td>\n",
       "      <td>-0.057075</td>\n",
       "    </tr>\n",
       "    <tr>\n",
       "      <th>121958</th>\n",
       "      <td>-0.981846</td>\n",
       "      <td>-0.532647</td>\n",
       "      <td>-0.703201</td>\n",
       "      <td>-0.148371</td>\n",
       "    </tr>\n",
       "  </tbody>\n",
       "</table>\n",
       "<p>147592 rows × 4 columns</p>\n",
       "</div>"
      ],
      "text/plain": [
       "        est_diameter_max  relative_velocity  miss_distance  absolute_magnitude\n",
       "161658         -0.993405          -0.382161       0.718675            0.034654\n",
       "46173          -0.999696          -0.956341      -0.981829            0.574468\n",
       "124370         -0.994114          -0.839733      -0.699950            0.094784\n",
       "109476         -0.978060          -0.331272       0.952452           -0.182535\n",
       "106322         -0.989715          -0.730527       0.273584           -0.045514\n",
       "...                  ...                ...            ...                 ...\n",
       "119879         -0.981295          -0.635733      -0.532257           -0.153718\n",
       "103694         -0.984032          -0.714345       0.317797           -0.125175\n",
       "131932         -0.992591          -0.636823      -0.081927            0.013857\n",
       "146867         -0.989026          -0.652895      -0.262361           -0.057075\n",
       "121958         -0.981846          -0.532647      -0.703201           -0.148371\n",
       "\n",
       "[147592 rows x 4 columns]"
      ]
     },
     "execution_count": 4,
     "metadata": {},
     "output_type": "execute_result"
    }
   ],
   "source": [
    "X_train"
   ]
  },
  {
   "cell_type": "code",
   "execution_count": 5,
   "metadata": {},
   "outputs": [
    {
     "data": {
      "text/plain": [
       "((16400,), (147592,), (147592, 4))"
      ]
     },
     "execution_count": 5,
     "metadata": {},
     "output_type": "execute_result"
    }
   ],
   "source": [
    "y_test.shape, y_train.shape, X_train.shape"
   ]
  },
  {
   "attachments": {},
   "cell_type": "markdown",
   "metadata": {},
   "source": [
    "# KNN"
   ]
  },
  {
   "cell_type": "code",
   "execution_count": 6,
   "metadata": {},
   "outputs": [],
   "source": [
    "knn = KNumNeighborsClassifier(k=5, \n",
    "                            distance=euclid_distance, \n",
    "                            function_of_priority=max_count_class)\n",
    "knn_teacher = KNumNeighborsTeacher(classifier=knn)\n",
    "knn_teacher.teach(np.array(X_train), np.array(y_train))\n",
    "knn_predict = knn.predict(np.array(X_test[0:100]))"
   ]
  },
  {
   "cell_type": "code",
   "execution_count": 7,
   "metadata": {},
   "outputs": [
    {
     "name": "stdout",
     "output_type": "stream",
     "text": [
      "TP : 47\n",
      "TN : 43\n",
      "FN : 0\n",
      "FP : 10\n",
      "Accuracy : 0.9\n",
      "Specificity : 0.8113207547169812\n",
      "Prcision : 0.8245614035087719\n",
      "Recall : 1.0\n",
      "F1 : 0.9038461538461539\n"
     ]
    }
   ],
   "source": [
    "print(\n",
    "    f'TP : {TruePositive(knn_predict, y_test[0:100])}',\n",
    "    f'TN : {TrueNegative(knn_predict, y_test[0:100])}',\n",
    "    f'FN : {FalseNegative(knn_predict, y_test[0:100])}',\n",
    "    f'FP : {FalsePositive(knn_predict, y_test[0:100])}',\n",
    "    f'Accuracy : {accuracy(knn_predict, y_test[0:100])}',\n",
    "    f'Specificity : {specificity(knn_predict, y_test[0:100])}',\n",
    "    f'Prcision : {precision(knn_predict, y_test[0:100])}',\n",
    "    f'Recall : {recall(knn_predict, y_test[0:100])}',\n",
    "    f'F1 : {f1(knn_predict, y_test[0:100])}',\n",
    "    sep='\\n'\n",
    "    )"
   ]
  },
  {
   "cell_type": "code",
   "execution_count": 13,
   "metadata": {},
   "outputs": [
    {
     "name": "stdout",
     "output_type": "stream",
     "text": [
      "              precision    recall  f1-score   support\n",
      "\n",
      "         0.0       0.81      1.00      0.90        43\n",
      "         1.0       1.00      0.82      0.90        57\n",
      "\n",
      "    accuracy                           0.90       100\n",
      "   macro avg       0.91      0.91      0.90       100\n",
      "weighted avg       0.92      0.90      0.90       100\n",
      "\n"
     ]
    }
   ],
   "source": [
    "print(classification_report(knn_predict, y_test[0:100]))"
   ]
  },
  {
   "attachments": {},
   "cell_type": "markdown",
   "metadata": {},
   "source": [
    "# Naive Bayesian"
   ]
  },
  {
   "cell_type": "code",
   "execution_count": 8,
   "metadata": {},
   "outputs": [],
   "source": [
    "nbc = NaiveBayesianClassificator(lambda a: a > 0)\n",
    "NaiveBayesianTeacher(nbc).teach(np.array(X_train), np.array(y_train), [normal_spread, normal_spread, normal_spread, normal_spread])\n",
    "nbc_predict = nbc.predict(np.array(X_test[0:100]))\n"
   ]
  },
  {
   "cell_type": "code",
   "execution_count": 9,
   "metadata": {},
   "outputs": [
    {
     "name": "stdout",
     "output_type": "stream",
     "text": [
      "TP : 41\n",
      "TN : 39\n",
      "FN : 6\n",
      "FP : 14\n",
      "Accuracy : 0.8\n",
      "Specificity : 0.7358490566037735\n",
      "Prcision : 0.7454545454545455\n",
      "Recall : 0.8723404255319149\n",
      "F1 : 0.803921568627451\n"
     ]
    }
   ],
   "source": [
    "print(\n",
    "    f'TP : {TruePositive(nbc_predict, y_test[0:100])}',\n",
    "    f'TN : {TrueNegative(nbc_predict, y_test[0:100])}',\n",
    "    f'FN : {FalseNegative(nbc_predict, y_test[0:100])}',\n",
    "    f'FP : {FalsePositive(nbc_predict, y_test[0:100])}',\n",
    "    f'Accuracy : {accuracy(nbc_predict, y_test[0:100])}',\n",
    "    f'Specificity : {specificity(nbc_predict, y_test[0:100])}',\n",
    "    f'Prcision : {precision(nbc_predict, y_test[0:100])}',\n",
    "    f'Recall : {recall(nbc_predict, y_test[0:100])}',\n",
    "    f'F1 : {f1(nbc_predict, y_test[0:100])}',\n",
    "    sep='\\n'\n",
    "    )"
   ]
  },
  {
   "cell_type": "code",
   "execution_count": 14,
   "metadata": {},
   "outputs": [
    {
     "name": "stdout",
     "output_type": "stream",
     "text": [
      "              precision    recall  f1-score   support\n",
      "\n",
      "       False       0.74      0.87      0.80        45\n",
      "        True       0.87      0.75      0.80        55\n",
      "\n",
      "    accuracy                           0.80       100\n",
      "   macro avg       0.80      0.81      0.80       100\n",
      "weighted avg       0.81      0.80      0.80       100\n",
      "\n"
     ]
    }
   ],
   "source": [
    "print(classification_report(nbc_predict, y_test[0:100]))"
   ]
  },
  {
   "cell_type": "markdown",
   "metadata": {},
   "source": []
  }
 ],
 "metadata": {
  "kernelspec": {
   "display_name": "Python 3",
   "language": "python",
   "name": "python3"
  },
  "language_info": {
   "codemirror_mode": {
    "name": "ipython",
    "version": 3
   },
   "file_extension": ".py",
   "mimetype": "text/x-python",
   "name": "python",
   "nbconvert_exporter": "python",
   "pygments_lexer": "ipython3",
   "version": "3.9.2"
  },
  "orig_nbformat": 4
 },
 "nbformat": 4,
 "nbformat_minor": 2
}
