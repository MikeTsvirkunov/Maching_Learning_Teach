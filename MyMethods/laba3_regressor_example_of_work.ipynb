{
 "cells": [
  {
   "cell_type": "markdown",
   "metadata": {},
   "source": [
    "# Импорт"
   ]
  },
  {
   "cell_type": "code",
   "execution_count": 1,
   "metadata": {},
   "outputs": [],
   "source": [
    "import pandas as pd\n",
    "import numpy as np\n",
    "from sklearn.model_selection import train_test_split\n",
    "\n",
    "\n",
    "from Classes.CartTreeClassifier import CartTreeClassifier\n",
    "from Classes.CartTreeTeacher import CartTreeTeacher\n",
    "\n",
    "from Functions.metrics import *\n",
    "from Functions.split_functions import *\n",
    "from Functions.spreading_functions import *\n",
    "from Functions.search_split_functions import *\n",
    "\n",
    "from Functions.metrics import accuracy\n",
    "\n",
    "from Functions.errorFunctions import MAE, MAPE, MSE, RMSE, R2\n"
   ]
  },
  {
   "cell_type": "markdown",
   "metadata": {},
   "source": [
    "# Загрузка датасета для регрессии."
   ]
  },
  {
   "cell_type": "code",
   "execution_count": 2,
   "metadata": {},
   "outputs": [],
   "source": [
    "models = pd.read_csv('../Data/DataLaba1/energy_task_moded.csv')\n"
   ]
  },
  {
   "cell_type": "markdown",
   "metadata": {},
   "source": [
    "# Разбиваем на выборку"
   ]
  },
  {
   "cell_type": "code",
   "execution_count": 3,
   "metadata": {},
   "outputs": [],
   "source": [
    "X_train, X_test, y_train, y_test = train_test_split(models.drop('Appliances', axis=1), models['Appliances'], test_size=0.5)\n"
   ]
  },
  {
   "attachments": {},
   "cell_type": "markdown",
   "metadata": {},
   "source": [
    "# Cart Tree Regressor"
   ]
  },
  {
   "cell_type": "markdown",
   "metadata": {},
   "source": [
    "## On Small Data"
   ]
  },
  {
   "cell_type": "code",
   "execution_count": 4,
   "metadata": {},
   "outputs": [],
   "source": [
    "ctc = CartTreeClassifier()\n",
    "ctt = CartTreeTeacher(ctc, lambda a, b: classic_split(a, b[1], b[2]), search_params_that_equiv_to_majority_class, lambda a, b: a**2 and b>0, 10)\n",
    "ctt.teach(X_train.to_numpy()[0:1000], y_train.to_numpy()[0:1000])"
   ]
  },
  {
   "cell_type": "code",
   "execution_count": 5,
   "metadata": {},
   "outputs": [],
   "source": [
    "y_predicted = ctc.predict(X_test.to_numpy()[0:1000])"
   ]
  },
  {
   "cell_type": "code",
   "execution_count": 6,
   "metadata": {},
   "outputs": [
    {
     "data": {
      "text/plain": [
       "{'MAE': 49.69,\n",
       " 'RMSE': 109.96954123756268,\n",
       " 'MSE': 12093.3,\n",
       " 'MAPE': 0.41351485125829546,\n",
       " 'R^2': 0.9988229923256293}"
      ]
     },
     "execution_count": 6,
     "metadata": {},
     "output_type": "execute_result"
    }
   ],
   "source": [
    "my_line_regression_classic_errors = {'MAE': MAE(y_predicted, y_test[0:1000]),\n",
    "                                     'RMSE': RMSE(y_predicted, y_test[0:1000]),\n",
    "                                     'MSE': MSE(y_predicted, y_test[0:1000]),\n",
    "                                     'MAPE': MAPE(y_predicted, y_test[0:1000]),\n",
    "                                     'R^2': R2(y_predicted, np.array(y_test[0:1000]))\n",
    "                                     }\n",
    "\n",
    "my_line_regression_classic_errors"
   ]
  }
 ],
 "metadata": {
  "kernelspec": {
   "display_name": "Python 3",
   "language": "python",
   "name": "python3"
  },
  "language_info": {
   "codemirror_mode": {
    "name": "ipython",
    "version": 3
   },
   "file_extension": ".py",
   "mimetype": "text/x-python",
   "name": "python",
   "nbconvert_exporter": "python",
   "pygments_lexer": "ipython3",
   "version": "3.9.2"
  },
  "orig_nbformat": 4
 },
 "nbformat": 4,
 "nbformat_minor": 2
}
