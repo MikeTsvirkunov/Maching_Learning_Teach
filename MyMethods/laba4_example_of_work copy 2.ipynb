{
 "cells": [
  {
   "cell_type": "code",
   "execution_count": 22,
   "metadata": {},
   "outputs": [],
   "source": [
    "import numpy as np\n",
    "import pandas as pd\n",
    "from Classes.PercepTeacher import PerceptronTeacher\n",
    "from Functions.function_of_activation import sigmoid, dsigmoid\n",
    "from Functions.errorFunctions import MSE\n",
    "from Classes.Layer import Layer\n",
    "from Classes.LayerGen import LayerGenerator\n",
    "from random import random\n",
    "from Classes.Perceptron import Perceptron\n",
    "from sklearn.metrics import r2_score\n",
    "from sklearn.model_selection import train_test_split\n",
    "from sklearn.preprocessing import MinMaxScaler\n",
    "np.random.seed(1)\n"
   ]
  },
  {
   "cell_type": "code",
   "execution_count": 23,
   "metadata": {},
   "outputs": [],
   "source": [
    "data = pd.read_csv('../Data/DataLaba1/energy_task_moded_removed_nan.csv')\n",
    "sl = data.shape[0]\n",
    "scale = MinMaxScaler().fit_transform(data)\n",
    "X_train, X_test, y_train, y_test = train_test_split(scale.T[:, :-2], scale.T[:, -1], test_size=0.25)\n",
    "\n"
   ]
  },
  {
   "cell_type": "code",
   "execution_count": 24,
   "metadata": {},
   "outputs": [
    {
     "data": {
      "text/plain": [
       "((18538, 28), (18538,))"
      ]
     },
     "execution_count": 24,
     "metadata": {},
     "output_type": "execute_result"
    }
   ],
   "source": [
    "scale[:, :-2].shape, scale[:, -1].shape\n"
   ]
  },
  {
   "cell_type": "code",
   "execution_count": 25,
   "metadata": {},
   "outputs": [
    {
     "data": {
      "text/plain": [
       "(1.0, 0.0)"
      ]
     },
     "execution_count": 25,
     "metadata": {},
     "output_type": "execute_result"
    }
   ],
   "source": [
    "max(y_train), min(y_train)\n"
   ]
  },
  {
   "cell_type": "code",
   "execution_count": 26,
   "metadata": {},
   "outputs": [
    {
     "data": {
      "text/plain": [
       "[<Classes.Layer.Layer at 0x1746c431730>,\n",
       " <Classes.Layer.Layer at 0x1744b001340>,\n",
       " <Classes.Layer.Layer at 0x1746b239460>]"
      ]
     },
     "execution_count": 26,
     "metadata": {},
     "output_type": "execute_result"
    }
   ],
   "source": [
    "layer_mass = LayerGenerator(sizes_of_input_layer=X_train.shape[1],\n",
    "                            sizes_of_hidden_layers=[X_train.shape[1] // 2, X_train.shape[1] // 4],\n",
    "                            sizes_of_output_layer=1,\n",
    "                            summators=[lambda w, x, d: w.dot(x.T) + d, \n",
    "                                       lambda w, x, d: w.dot(x.T) + d,\n",
    "                                       lambda w, x, d: w.dot(x.T) + d,\n",
    "                                       lambda w, x, d: w.dot(x.T) + d],\n",
    "                            dsummators=[lambda w, x, d: (x, d),\n",
    "                                        lambda w, x, d: (x, d),\n",
    "                                        lambda w, x, d: (x, d),\n",
    "                                        lambda w, x, d: (x, d)],\n",
    "                            activation_functions=[sigmoid,\n",
    "                                                  sigmoid,\n",
    "                                                  sigmoid,\n",
    "                                                  sigmoid],\n",
    "                            dactivation_functions=[dsigmoid,\n",
    "                                                   dsigmoid,\n",
    "                                                   dsigmoid,\n",
    "                                                   dsigmoid],\n",
    "                            function_of_generation=lambda a, b: np.random.rand(a, b)).generate()\n",
    "layer_mass\n"
   ]
  },
  {
   "cell_type": "code",
   "execution_count": 27,
   "metadata": {},
   "outputs": [
    {
     "data": {
      "text/plain": [
       "(22, 18536)"
      ]
     },
     "execution_count": 27,
     "metadata": {},
     "output_type": "execute_result"
    }
   ],
   "source": [
    "X_train.shape\n"
   ]
  },
  {
   "cell_type": "code",
   "execution_count": 28,
   "metadata": {},
   "outputs": [],
   "source": [
    "def batch_spliter(x, y, size, num):\n",
    "    batches = list()\n",
    "    for _ in range(num):\n",
    "        js = np.random.shuffle(np.arange(size))\n",
    "        batches.append((x[js][0], y[js][0]))\n",
    "    return batches\n"
   ]
  },
  {
   "attachments": {},
   "cell_type": "markdown",
   "metadata": {},
   "source": [
    "# Not trained"
   ]
  },
  {
   "cell_type": "code",
   "execution_count": 29,
   "metadata": {},
   "outputs": [
    {
     "name": "stdout",
     "output_type": "stream",
     "text": [
      "[[0.91396202 0.45720481 0.43069857 ... 0.11574774 0.91328866 0.88396382]\n",
      " [0.31012219 0.0921288  0.86035901 ... 0.47779916 0.61342873 0.2591459 ]\n",
      " [0.40172844 0.27336398 0.05076561 ... 0.28517195 0.39874098 0.90691154]\n",
      " ...\n",
      " [0.23096955 0.49857544 0.15016932 ... 0.75975348 0.28699937 0.73471961]\n",
      " [0.0331401  0.9083018  0.58257696 ... 0.40158846 0.26487134 0.70652817]\n",
      " [0.80017891 0.40359934 0.68061741 ... 0.31103597 0.49551722 0.585855  ]]\n",
      "[[0.8898169  0.64986933 0.13244185 ... 0.47790409 0.99161274 0.91882621]\n",
      " [0.72423841 0.84039229 0.56960939 ... 0.98822525 0.91595708 0.00177404]\n",
      " [0.37145467 0.7675109  0.41997672 ... 0.82292086 0.21793237 0.90423363]\n",
      " ...\n",
      " [0.64351596 0.25486628 0.7067317  ... 0.08868618 0.52367673 0.57470745]\n",
      " [0.59855439 0.63626215 0.65652005 ... 0.9385239  0.12484929 0.53234928]\n",
      " [0.17012315 0.92651222 0.25553959 ... 0.32343476 0.90132421 0.45324889]]\n",
      "[[0.20449402 0.09285827 0.62045068 ... 0.52198211 0.19490728 0.94646861]]\n"
     ]
    }
   ],
   "source": [
    "k = []\n",
    "for i in layer_mass:\n",
    "    k.append(np.array(i.get_weights(), copy=True))\n",
    "    print(i.get_weights())\n"
   ]
  },
  {
   "cell_type": "code",
   "execution_count": 30,
   "metadata": {},
   "outputs": [
    {
     "name": "stdout",
     "output_type": "stream",
     "text": [
      "5.520138809073515\n",
      "p:[1.],\t y:0.4,\t d:[0.6]\n",
      "p:[1.],\t y:0.4342105263157895,\t d:[0.56578947]\n",
      "p:[1.],\t y:0.2857142857142857,\t d:[0.71428571]\n",
      "p:[1.],\t y:0.6661705142558345,\t d:[0.33382949]\n",
      "p:[1.],\t y:0.9197465681098203,\t d:[0.08025343]\n",
      "p:[1.],\t y:0.8956916099773242,\t d:[0.10430839]\n",
      "p:[1.],\t y:0.7995458067464272,\t d:[0.20045419]\n",
      "p:[1.],\t y:0.8647242455775233,\t d:[0.13527575]\n",
      "p:[1.],\t y:0.0,\t d:[1.]\n",
      "p:[1.],\t y:0.5790621593952523,\t d:[0.42093784]\n",
      "p:[1.],\t y:1.0,\t d:[0.]\n",
      "p:[1.],\t y:0.14285714285714285,\t d:[0.85714286]\n",
      "p:[1.],\t y:0.7705142623922883,\t d:[0.22948574]\n",
      "p:[1.],\t y:0.39622641509433965,\t d:[0.60377358]\n",
      "p:[1.],\t y:0.7395035460992909,\t d:[0.26049645]\n",
      "p:[1.],\t y:0.7552447552447552,\t d:[0.24475524]\n",
      "p:[1.],\t y:0.0,\t d:[1.]\n",
      "p:[1.],\t y:0.7811922035851471,\t d:[0.2188078]\n",
      "p:[1.],\t y:0.8648648648648651,\t d:[0.13513514]\n",
      "p:[1.],\t y:0.7885800224130404,\t d:[0.21141998]\n",
      "p:[1.],\t y:0.336582798700051,\t d:[0.6634172]\n",
      "p:[1.],\t y:0.6329017312526195,\t d:[0.36709827]\n"
     ]
    }
   ],
   "source": [
    "a = Perceptron(layer_mass)\n",
    "res = [a.predict(i)[0] for i in X_train[:200]]\n",
    "print(MSE(res, y_train[:200]))\n",
    "for p, y in zip(res, y_train[:200]):\n",
    "    print(f'p:{p},\\t y:{y},\\t d:{abs(p-y)}')\n"
   ]
  },
  {
   "cell_type": "code",
   "execution_count": 31,
   "metadata": {},
   "outputs": [
    {
     "data": {
      "text/plain": [
       "(1.0, 0.0, 1.0)"
      ]
     },
     "execution_count": 31,
     "metadata": {},
     "output_type": "execute_result"
    }
   ],
   "source": [
    "np.array(res).mean(), np.array(res).std(), np.array(res).min()\n"
   ]
  },
  {
   "cell_type": "code",
   "execution_count": 32,
   "metadata": {},
   "outputs": [
    {
     "data": {
      "text/plain": [
       "0.0"
      ]
     },
     "execution_count": 32,
     "metadata": {},
     "output_type": "execute_result"
    }
   ],
   "source": [
    "# -1.1027074438226645\n",
    "r2_score(np.array(res) >= np.array(res).mean(), y_train[:200])\n"
   ]
  },
  {
   "attachments": {},
   "cell_type": "markdown",
   "metadata": {},
   "source": [
    "# Trained"
   ]
  },
  {
   "cell_type": "code",
   "execution_count": 33,
   "metadata": {},
   "outputs": [],
   "source": [
    "teacher = PerceptronTeacher(layers=layer_mass,\n",
    "                                 step=1e-1,\n",
    "                                 batch_spliter=lambda a, b: batch_spliter(a, b, a.shape[0]//2, 1),\n",
    "                                 epochs=2,\n",
    "                                 error_function=MSE,\n",
    "                                 derror_function=lambda x, y: 2 * x - 2 * y)\n"
   ]
  },
  {
   "cell_type": "code",
   "execution_count": 34,
   "metadata": {},
   "outputs": [
    {
     "name": "stdout",
     "output_type": "stream",
     "text": [
      "shapes\ta: (1, 9268), s: (1, 1)\n",
      "shapes\ta: (1, 9268), s: (9268, 1)\n",
      "shapes\ta: (1, 18536), s: (9268, 1)\n",
      "shapes\ta: (1, 9268), s: (1, 1)\n",
      "shapes\ta: (1, 9268), s: (9268, 1)\n",
      "shapes\ta: (1, 18536), s: (9268, 1)\n",
      "shapes\ta: (1, 9268), s: (1, 1)\n",
      "shapes\ta: (1, 9268), s: (9268, 1)\n",
      "shapes\ta: (1, 18536), s: (9268, 1)\n",
      "shapes\ta: (1, 9268), s: (1, 1)\n",
      "shapes\ta: (1, 9268), s: (9268, 1)\n",
      "shapes\ta: (1, 18536), s: (9268, 1)\n",
      "shapes\ta: (1, 9268), s: (1, 1)\n",
      "shapes\ta: (1, 9268), s: (9268, 1)\n",
      "shapes\ta: (1, 18536), s: (9268, 1)\n",
      "shapes\ta: (1, 9268), s: (1, 1)\n",
      "shapes\ta: (1, 9268), s: (9268, 1)\n",
      "shapes\ta: (1, 18536), s: (9268, 1)\n",
      "shapes\ta: (1, 9268), s: (1, 1)\n",
      "shapes\ta: (1, 9268), s: (9268, 1)\n",
      "shapes\ta: (1, 18536), s: (9268, 1)\n"
     ]
    },
    {
     "ename": "KeyboardInterrupt",
     "evalue": "",
     "output_type": "error",
     "traceback": [
      "\u001b[1;31m---------------------------------------------------------------------------\u001b[0m",
      "\u001b[1;31mKeyboardInterrupt\u001b[0m                         Traceback (most recent call last)",
      "\u001b[1;32m~\\AppData\\Local\\Temp/ipykernel_2308/4235310632.py\u001b[0m in \u001b[0;36m<module>\u001b[1;34m\u001b[0m\n\u001b[1;32m----> 1\u001b[1;33m \u001b[0mtl\u001b[0m \u001b[1;33m=\u001b[0m \u001b[0mteacher\u001b[0m\u001b[1;33m.\u001b[0m\u001b[0mteach\u001b[0m\u001b[1;33m(\u001b[0m\u001b[0mX_train\u001b[0m\u001b[1;33m[\u001b[0m\u001b[1;33m:\u001b[0m\u001b[1;36m200\u001b[0m\u001b[1;33m]\u001b[0m\u001b[1;33m,\u001b[0m \u001b[0my_train\u001b[0m\u001b[1;33m[\u001b[0m\u001b[1;33m:\u001b[0m\u001b[1;36m200\u001b[0m\u001b[1;33m]\u001b[0m\u001b[1;33m)\u001b[0m\u001b[1;33m\u001b[0m\u001b[1;33m\u001b[0m\u001b[0m\n\u001b[0m",
      "\u001b[1;32mc:\\Users\\Mike\\Desktop\\4semak\\Maching_learning\\MyMethods\\Classes\\PercepTeacher.py\u001b[0m in \u001b[0;36mteach\u001b[1;34m(self, X_train, y_train, colums_spec)\u001b[0m\n\u001b[0;32m     51\u001b[0m                 \u001b[1;32mfor\u001b[0m \u001b[0mx\u001b[0m\u001b[1;33m,\u001b[0m \u001b[0my\u001b[0m \u001b[1;32min\u001b[0m \u001b[0mzip\u001b[0m\u001b[1;33m(\u001b[0m\u001b[0mX_batch\u001b[0m\u001b[1;33m,\u001b[0m \u001b[0my_batch\u001b[0m\u001b[1;33m)\u001b[0m\u001b[1;33m:\u001b[0m\u001b[1;33m\u001b[0m\u001b[1;33m\u001b[0m\u001b[0m\n\u001b[0;32m     52\u001b[0m                     \u001b[1;31m# print('\\n\\n' + '<'*20 + 'NEW_X' + '>'*20)\u001b[0m\u001b[1;33m\u001b[0m\u001b[1;33m\u001b[0m\u001b[1;33m\u001b[0m\u001b[0m\n\u001b[1;32m---> 53\u001b[1;33m                     \u001b[0mA\u001b[0m\u001b[1;33m,\u001b[0m \u001b[0mS\u001b[0m \u001b[1;33m=\u001b[0m \u001b[0mself\u001b[0m\u001b[1;33m.\u001b[0m\u001b[0mforward_propagation\u001b[0m\u001b[1;33m(\u001b[0m\u001b[0mx\u001b[0m\u001b[1;33m)\u001b[0m\u001b[1;33m\u001b[0m\u001b[1;33m\u001b[0m\u001b[0m\n\u001b[0m\u001b[0;32m     54\u001b[0m                     \u001b[0mdL_dA\u001b[0m \u001b[1;33m=\u001b[0m \u001b[0mself\u001b[0m\u001b[1;33m.\u001b[0m\u001b[0m__derror_function\u001b[0m\u001b[1;33m(\u001b[0m\u001b[0mA\u001b[0m\u001b[1;33m[\u001b[0m\u001b[1;33m-\u001b[0m\u001b[1;36m1\u001b[0m\u001b[1;33m]\u001b[0m\u001b[1;33m,\u001b[0m \u001b[0my\u001b[0m\u001b[1;33m)\u001b[0m\u001b[1;33m.\u001b[0m\u001b[0mreshape\u001b[0m\u001b[1;33m(\u001b[0m\u001b[1;36m1\u001b[0m\u001b[1;33m,\u001b[0m \u001b[0mlen\u001b[0m\u001b[1;33m(\u001b[0m\u001b[0mA\u001b[0m\u001b[1;33m[\u001b[0m\u001b[1;33m-\u001b[0m\u001b[1;36m1\u001b[0m\u001b[1;33m]\u001b[0m\u001b[1;33m)\u001b[0m\u001b[1;33m)\u001b[0m\u001b[1;33m\u001b[0m\u001b[1;33m\u001b[0m\u001b[0m\n\u001b[0;32m     55\u001b[0m                     \u001b[0md_output\u001b[0m \u001b[1;33m=\u001b[0m \u001b[0mdL_dA\u001b[0m\u001b[1;33m\u001b[0m\u001b[1;33m\u001b[0m\u001b[0m\n",
      "\u001b[1;32mc:\\Users\\Mike\\Desktop\\4semak\\Maching_learning\\MyMethods\\Classes\\PercepTeacher.py\u001b[0m in \u001b[0;36mforward_propagation\u001b[1;34m(self, x)\u001b[0m\n\u001b[0;32m     40\u001b[0m             \u001b[1;31m# print('W: ', layer.get_weights().shape, layer.get_weights().tolist())\u001b[0m\u001b[1;33m\u001b[0m\u001b[1;33m\u001b[0m\u001b[1;33m\u001b[0m\u001b[0m\n\u001b[0;32m     41\u001b[0m             \u001b[1;31m# print('A: ', A[-1].shape, A[-1].tolist())\u001b[0m\u001b[1;33m\u001b[0m\u001b[1;33m\u001b[0m\u001b[1;33m\u001b[0m\u001b[0m\n\u001b[1;32m---> 42\u001b[1;33m             \u001b[0mS\u001b[0m\u001b[1;33m.\u001b[0m\u001b[0mappend\u001b[0m\u001b[1;33m(\u001b[0m\u001b[0mlayer\u001b[0m\u001b[1;33m.\u001b[0m\u001b[0mget_sumation\u001b[0m\u001b[1;33m(\u001b[0m\u001b[0mA\u001b[0m\u001b[1;33m[\u001b[0m\u001b[1;33m-\u001b[0m\u001b[1;36m1\u001b[0m\u001b[1;33m]\u001b[0m\u001b[1;33m)\u001b[0m\u001b[1;33m)\u001b[0m\u001b[1;33m\u001b[0m\u001b[1;33m\u001b[0m\u001b[0m\n\u001b[0m\u001b[0;32m     43\u001b[0m             \u001b[1;31m# print('S: ', S[-1].shape, S[-1].tolist())\u001b[0m\u001b[1;33m\u001b[0m\u001b[1;33m\u001b[0m\u001b[1;33m\u001b[0m\u001b[0m\n\u001b[0;32m     44\u001b[0m             \u001b[0mA\u001b[0m\u001b[1;33m.\u001b[0m\u001b[0mappend\u001b[0m\u001b[1;33m(\u001b[0m\u001b[0mlayer\u001b[0m\u001b[1;33m.\u001b[0m\u001b[0mactivation_function\u001b[0m\u001b[1;33m(\u001b[0m\u001b[0mS\u001b[0m\u001b[1;33m[\u001b[0m\u001b[1;33m-\u001b[0m\u001b[1;36m1\u001b[0m\u001b[1;33m]\u001b[0m\u001b[1;33m)\u001b[0m\u001b[1;33m)\u001b[0m\u001b[1;33m\u001b[0m\u001b[1;33m\u001b[0m\u001b[0m\n",
      "\u001b[1;32mc:\\Users\\Mike\\Desktop\\4semak\\Maching_learning\\MyMethods\\Classes\\Layer.py\u001b[0m in \u001b[0;36mget_sumation\u001b[1;34m(self, x)\u001b[0m\n\u001b[0;32m     28\u001b[0m \u001b[1;33m\u001b[0m\u001b[0m\n\u001b[0;32m     29\u001b[0m     \u001b[1;32mdef\u001b[0m \u001b[0mget_sumation\u001b[0m\u001b[1;33m(\u001b[0m\u001b[0mself\u001b[0m\u001b[1;33m,\u001b[0m \u001b[0mx\u001b[0m\u001b[1;33m)\u001b[0m\u001b[1;33m:\u001b[0m\u001b[1;33m\u001b[0m\u001b[1;33m\u001b[0m\u001b[0m\n\u001b[1;32m---> 30\u001b[1;33m         \u001b[1;32mreturn\u001b[0m \u001b[0mself\u001b[0m\u001b[1;33m.\u001b[0m\u001b[0msummator\u001b[0m\u001b[1;33m(\u001b[0m\u001b[0mself\u001b[0m\u001b[1;33m.\u001b[0m\u001b[0m__weights\u001b[0m\u001b[1;33m,\u001b[0m \u001b[0mx\u001b[0m\u001b[1;33m,\u001b[0m \u001b[0mself\u001b[0m\u001b[1;33m.\u001b[0m\u001b[0m__dias\u001b[0m\u001b[1;33m)\u001b[0m\u001b[1;33m\u001b[0m\u001b[1;33m\u001b[0m\u001b[0m\n\u001b[0m\u001b[0;32m     31\u001b[0m \u001b[1;33m\u001b[0m\u001b[0m\n\u001b[0;32m     32\u001b[0m     \u001b[1;32mdef\u001b[0m \u001b[0mget_dsumation\u001b[0m\u001b[1;33m(\u001b[0m\u001b[0mself\u001b[0m\u001b[1;33m,\u001b[0m \u001b[0mx\u001b[0m\u001b[1;33m)\u001b[0m\u001b[1;33m:\u001b[0m\u001b[1;33m\u001b[0m\u001b[1;33m\u001b[0m\u001b[0m\n",
      "\u001b[1;32m~\\AppData\\Local\\Temp/ipykernel_2308/2123129251.py\u001b[0m in \u001b[0;36m<lambda>\u001b[1;34m(w, x, d)\u001b[0m\n\u001b[0;32m      2\u001b[0m                             \u001b[0msizes_of_hidden_layers\u001b[0m\u001b[1;33m=\u001b[0m\u001b[1;33m[\u001b[0m\u001b[0mX_train\u001b[0m\u001b[1;33m.\u001b[0m\u001b[0mshape\u001b[0m\u001b[1;33m[\u001b[0m\u001b[1;36m1\u001b[0m\u001b[1;33m]\u001b[0m \u001b[1;33m//\u001b[0m \u001b[1;36m2\u001b[0m\u001b[1;33m,\u001b[0m \u001b[0mX_train\u001b[0m\u001b[1;33m.\u001b[0m\u001b[0mshape\u001b[0m\u001b[1;33m[\u001b[0m\u001b[1;36m1\u001b[0m\u001b[1;33m]\u001b[0m \u001b[1;33m//\u001b[0m \u001b[1;36m2\u001b[0m\u001b[1;33m]\u001b[0m\u001b[1;33m,\u001b[0m\u001b[1;33m\u001b[0m\u001b[1;33m\u001b[0m\u001b[0m\n\u001b[0;32m      3\u001b[0m                             \u001b[0msizes_of_output_layer\u001b[0m\u001b[1;33m=\u001b[0m\u001b[1;36m1\u001b[0m\u001b[1;33m,\u001b[0m\u001b[1;33m\u001b[0m\u001b[1;33m\u001b[0m\u001b[0m\n\u001b[1;32m----> 4\u001b[1;33m                             summators=[lambda w, x, d: w.dot(x.T) + d, \n\u001b[0m\u001b[0;32m      5\u001b[0m                                        \u001b[1;32mlambda\u001b[0m \u001b[0mw\u001b[0m\u001b[1;33m,\u001b[0m \u001b[0mx\u001b[0m\u001b[1;33m,\u001b[0m \u001b[0md\u001b[0m\u001b[1;33m:\u001b[0m \u001b[0mw\u001b[0m\u001b[1;33m.\u001b[0m\u001b[0mdot\u001b[0m\u001b[1;33m(\u001b[0m\u001b[0mx\u001b[0m\u001b[1;33m.\u001b[0m\u001b[0mT\u001b[0m\u001b[1;33m)\u001b[0m \u001b[1;33m+\u001b[0m \u001b[0md\u001b[0m\u001b[1;33m,\u001b[0m\u001b[1;33m\u001b[0m\u001b[1;33m\u001b[0m\u001b[0m\n\u001b[0;32m      6\u001b[0m                                        \u001b[1;32mlambda\u001b[0m \u001b[0mw\u001b[0m\u001b[1;33m,\u001b[0m \u001b[0mx\u001b[0m\u001b[1;33m,\u001b[0m \u001b[0md\u001b[0m\u001b[1;33m:\u001b[0m \u001b[0mw\u001b[0m\u001b[1;33m.\u001b[0m\u001b[0mdot\u001b[0m\u001b[1;33m(\u001b[0m\u001b[0mx\u001b[0m\u001b[1;33m.\u001b[0m\u001b[0mT\u001b[0m\u001b[1;33m)\u001b[0m \u001b[1;33m+\u001b[0m \u001b[0md\u001b[0m\u001b[1;33m,\u001b[0m\u001b[1;33m\u001b[0m\u001b[1;33m\u001b[0m\u001b[0m\n",
      "\u001b[1;31mKeyboardInterrupt\u001b[0m: "
     ]
    }
   ],
   "source": [
    "tl = teacher.teach(X_train[:200], y_train[:200])\n"
   ]
  },
  {
   "cell_type": "code",
   "execution_count": null,
   "metadata": {},
   "outputs": [
    {
     "name": "stdout",
     "output_type": "stream",
     "text": [
      "[[0.91396202 0.45720481 0.43069857 ... 0.11574774 0.91328866 0.88396382]\n",
      " [0.31012219 0.0921288  0.86035901 ... 0.47779916 0.61342873 0.2591459 ]\n",
      " [0.40172844 0.27336398 0.05076561 ... 0.28517195 0.39874098 0.90691154]\n",
      " ...\n",
      " [0.23096955 0.49857544 0.15016932 ... 0.75975348 0.28699937 0.73471961]\n",
      " [0.0331401  0.9083018  0.58257696 ... 0.40158846 0.26487134 0.70652817]\n",
      " [0.80017891 0.40359934 0.68061741 ... 0.31103597 0.49551722 0.585855  ]]\n",
      "[[0.8898169  0.64986933 0.13244185 ... 0.47790409 0.99161274 0.91882621]\n",
      " [0.72423841 0.84039229 0.56960939 ... 0.98822525 0.91595708 0.00177404]\n",
      " [0.37145467 0.7675109  0.41997672 ... 0.82292086 0.21793237 0.90423363]\n",
      " ...\n",
      " [0.64351596 0.25486628 0.7067317  ... 0.08868618 0.52367673 0.57470745]\n",
      " [0.59855439 0.63626215 0.65652005 ... 0.9385239  0.12484929 0.53234928]\n",
      " [0.17012315 0.92651222 0.25553959 ... 0.32343476 0.90132421 0.45324889]]\n",
      "[[0.20449402 0.09285827 0.62045068 ... 0.52198211 0.19490728 0.94646861]]\n"
     ]
    }
   ],
   "source": [
    "for i in tl:\n",
    "    print(i.get_weights())\n"
   ]
  },
  {
   "cell_type": "code",
   "execution_count": null,
   "metadata": {},
   "outputs": [
    {
     "name": "stdout",
     "output_type": "stream",
     "text": [
      "[[0.91396202 0.45720481 0.43069857 ... 0.11574774 0.91328866 0.88396382]\n",
      " [0.31012219 0.0921288  0.86035901 ... 0.47779916 0.61342873 0.2591459 ]\n",
      " [0.40172844 0.27336398 0.05076561 ... 0.28517195 0.39874098 0.90691154]\n",
      " ...\n",
      " [0.23096955 0.49857544 0.15016932 ... 0.75975348 0.28699937 0.73471961]\n",
      " [0.0331401  0.9083018  0.58257696 ... 0.40158846 0.26487134 0.70652817]\n",
      " [0.80017891 0.40359934 0.68061741 ... 0.31103597 0.49551722 0.585855  ]]\n",
      "[[0.8898169  0.64986933 0.13244185 ... 0.47790409 0.99161274 0.91882621]\n",
      " [0.72423841 0.84039229 0.56960939 ... 0.98822525 0.91595708 0.00177404]\n",
      " [0.37145467 0.7675109  0.41997672 ... 0.82292086 0.21793237 0.90423363]\n",
      " ...\n",
      " [0.64351596 0.25486628 0.7067317  ... 0.08868618 0.52367673 0.57470745]\n",
      " [0.59855439 0.63626215 0.65652005 ... 0.9385239  0.12484929 0.53234928]\n",
      " [0.17012315 0.92651222 0.25553959 ... 0.32343476 0.90132421 0.45324889]]\n",
      "[[0.20449402 0.09285827 0.62045068 ... 0.52198211 0.19490728 0.94646861]]\n"
     ]
    }
   ],
   "source": [
    "for i in tl:\n",
    "    print(i.get_weights())"
   ]
  },
  {
   "cell_type": "code",
   "execution_count": null,
   "metadata": {},
   "outputs": [
    {
     "name": "stdout",
     "output_type": "stream",
     "text": [
      "[[0. 0. 0. ... 0. 0. 0.]\n",
      " [0. 0. 0. ... 0. 0. 0.]\n",
      " [0. 0. 0. ... 0. 0. 0.]\n",
      " ...\n",
      " [0. 0. 0. ... 0. 0. 0.]\n",
      " [0. 0. 0. ... 0. 0. 0.]\n",
      " [0. 0. 0. ... 0. 0. 0.]]\n",
      "[[0. 0. 0. ... 0. 0. 0.]\n",
      " [0. 0. 0. ... 0. 0. 0.]\n",
      " [0. 0. 0. ... 0. 0. 0.]\n",
      " ...\n",
      " [0. 0. 0. ... 0. 0. 0.]\n",
      " [0. 0. 0. ... 0. 0. 0.]\n",
      " [0. 0. 0. ... 0. 0. 0.]]\n",
      "[[0. 0. 0. ... 0. 0. 0.]]\n"
     ]
    }
   ],
   "source": [
    "for i, j in zip(k, tl):\n",
    "    print(i - j.get_weights())\n"
   ]
  },
  {
   "cell_type": "code",
   "execution_count": null,
   "metadata": {},
   "outputs": [
    {
     "name": "stdout",
     "output_type": "stream",
     "text": [
      "5.520138809073515\n",
      "p:[1.],\t y:0.4,\t d:[0.6]\n",
      "p:[1.],\t y:0.4342105263157895,\t d:[0.56578947]\n",
      "p:[1.],\t y:0.2857142857142857,\t d:[0.71428571]\n",
      "p:[1.],\t y:0.6661705142558345,\t d:[0.33382949]\n",
      "p:[1.],\t y:0.9197465681098203,\t d:[0.08025343]\n",
      "p:[1.],\t y:0.8956916099773242,\t d:[0.10430839]\n",
      "p:[1.],\t y:0.7995458067464272,\t d:[0.20045419]\n",
      "p:[1.],\t y:0.8647242455775233,\t d:[0.13527575]\n",
      "p:[1.],\t y:0.0,\t d:[1.]\n",
      "p:[1.],\t y:0.5790621593952523,\t d:[0.42093784]\n",
      "p:[1.],\t y:1.0,\t d:[0.]\n",
      "p:[1.],\t y:0.14285714285714285,\t d:[0.85714286]\n",
      "p:[1.],\t y:0.7705142623922883,\t d:[0.22948574]\n",
      "p:[1.],\t y:0.39622641509433965,\t d:[0.60377358]\n",
      "p:[1.],\t y:0.7395035460992909,\t d:[0.26049645]\n",
      "p:[1.],\t y:0.7552447552447552,\t d:[0.24475524]\n",
      "p:[1.],\t y:0.0,\t d:[1.]\n",
      "p:[1.],\t y:0.7811922035851471,\t d:[0.2188078]\n",
      "p:[1.],\t y:0.8648648648648651,\t d:[0.13513514]\n",
      "p:[1.],\t y:0.7885800224130404,\t d:[0.21141998]\n",
      "p:[1.],\t y:0.336582798700051,\t d:[0.6634172]\n",
      "p:[1.],\t y:0.6329017312526195,\t d:[0.36709827]\n"
     ]
    }
   ],
   "source": [
    "a = Perceptron(tl)\n",
    "res = [a.predict(i)[0] for i in X_train[:200]]\n",
    "print(MSE(res, y_train[:200]))\n",
    "for p, y in zip(res, y_train[:200]):\n",
    "    print(f'p:{p},\\t y:{y},\\t d:{abs(p-y)}')\n"
   ]
  },
  {
   "cell_type": "code",
   "execution_count": null,
   "metadata": {},
   "outputs": [
    {
     "data": {
      "text/plain": [
       "(0.8039168190946774, 0.0023756631773083764, 0.7998516383000169)"
      ]
     },
     "metadata": {},
     "output_type": "display_data"
    }
   ],
   "source": [
    "np.array(res).mean(), np.array(res).std(), np.array(res).min()\n"
   ]
  },
  {
   "cell_type": "code",
   "execution_count": null,
   "metadata": {},
   "outputs": [
    {
     "data": {
      "text/plain": [
       "0.36371100164203607"
      ]
     },
     "execution_count": 31,
     "metadata": {},
     "output_type": "execute_result"
    }
   ],
   "source": [
    "# -1.1027074438226645\n",
    "r2_score(np.array(res) >= 0.6, y_train.to_numpy()[:200])\n"
   ]
  },
  {
   "attachments": {},
   "cell_type": "markdown",
   "metadata": {},
   "source": []
  }
 ],
 "metadata": {
  "kernelspec": {
   "display_name": "Python 3",
   "language": "python",
   "name": "python3"
  },
  "language_info": {
   "codemirror_mode": {
    "name": "ipython",
    "version": 3
   },
   "file_extension": ".py",
   "mimetype": "text/x-python",
   "name": "python",
   "nbconvert_exporter": "python",
   "pygments_lexer": "ipython3",
   "version": "3.9.2"
  },
  "orig_nbformat": 4
 },
 "nbformat": 4,
 "nbformat_minor": 2
}
