{
 "cells": [
  {
   "cell_type": "code",
   "execution_count": 1,
   "metadata": {},
   "outputs": [],
   "source": [
    "from Classes.KNumNeighborsClassifier import KNumNeighborsClassifier\n",
    "from Classes.KNumNeighborsTeacher import KNumNeighborsTeacher\n",
    "from Classes.NaiveBayesianClassificator import NaiveBayesianClassificator\n",
    "from Classes.NaiveBayesianTeacher import NaiveBayesianTeacher\n",
    "from Classes.BaggingContainer import BaggingContainer\n",
    "from Classes.BaggingTeacher import BaggingTeacher\n",
    "\n",
    "from Functions.distance_functions import euclid_distance\n",
    "from Functions.functions_of_priority import max_count_class\n",
    "from Functions.spreading_functions import normal_spread\n",
    "from Functions.metrics import *\n",
    "\n",
    "from sklearn.model_selection import train_test_split\n",
    "\n",
    "import pandas as pd\n",
    "import numpy as np\n",
    "\n",
    "from random import getrandbits"
   ]
  },
  {
   "cell_type": "code",
   "execution_count": 2,
   "metadata": {},
   "outputs": [],
   "source": [
    "def random_split_on_two(x, n):\n",
    "    return [np.array(list(map(lambda a: getrandbits(1), range(x.shape[0]))), dtype=bool) for i in range(n)]\n"
   ]
  },
  {
   "cell_type": "code",
   "execution_count": 3,
   "metadata": {},
   "outputs": [],
   "source": [
    "models = pd.read_csv('../Data/DataLaba2/neo_task_smoted.csv')\n",
    "X_train, X_test, y_train, y_test = train_test_split(models.drop('hazardous', axis=1), models['hazardous'], test_size=0.1, random_state=42)"
   ]
  },
  {
   "cell_type": "code",
   "execution_count": 4,
   "metadata": {},
   "outputs": [],
   "source": [
    "knn = KNumNeighborsClassifier(k=5, \n",
    "                            distance=euclid_distance, \n",
    "                            function_of_priority=max_count_class)\n"
   ]
  },
  {
   "cell_type": "code",
   "execution_count": 5,
   "metadata": {},
   "outputs": [],
   "source": [
    "nbc = NaiveBayesianClassificator(lambda a: a > 0)\n"
   ]
  },
  {
   "cell_type": "code",
   "execution_count": 13,
   "metadata": {},
   "outputs": [],
   "source": [
    "bagging_container = BaggingContainer(predictors=[knn, nbc, nbc],\n",
    "                                     out_function=np.mean)\n",
    "bagging_teacher = BaggingTeacher(begging_container=bagging_container, \n",
    "                                 teachers=[KNumNeighborsTeacher, NaiveBayesianTeacher], \n",
    "                                 teachers_params=[[], []],\n",
    "                                 split_function=random_split_on_two)\n",
    "bagging_teacher.teach(X_train.to_numpy()[0:100], y_train.to_numpy()[0:100], [\n",
    "                      normal_spread, normal_spread, normal_spread, normal_spread])\n"
   ]
  },
  {
   "cell_type": "code",
   "execution_count": null,
   "metadata": {},
   "outputs": [],
   "source": []
  },
  {
   "cell_type": "code",
   "execution_count": 17,
   "metadata": {},
   "outputs": [
    {
     "data": {
      "text/plain": [
       "array([1., 0., 1., 0., 0., 1., 1., 0., 0., 0., 1., 1., 0., 1., 1., 0., 0.,\n",
       "       0., 1., 0., 0., 0., 1., 1., 0., 1., 1., 1., 1., 0., 1., 1., 1., 1.,\n",
       "       1., 0., 1., 1., 0., 1., 1., 0., 1., 1., 1., 1., 0., 0., 0., 0., 0.,\n",
       "       1., 1., 1., 0., 1., 1., 1., 1., 1., 0., 1., 0., 1., 0., 1., 1., 0.,\n",
       "       1., 1., 1., 0., 1., 0., 1., 1., 1., 0., 1., 1., 0., 1., 0., 1., 1.,\n",
       "       1., 0., 1., 0., 0., 0., 0., 0., 1., 1., 1., 1., 1., 0., 1.])"
      ]
     },
     "execution_count": 17,
     "metadata": {},
     "output_type": "execute_result"
    }
   ],
   "source": [
    "sum(bagging_container.predict(X_test.to_numpy()[0:100]))//2"
   ]
  }
 ],
 "metadata": {
  "kernelspec": {
   "display_name": "Python 3",
   "language": "python",
   "name": "python3"
  },
  "language_info": {
   "codemirror_mode": {
    "name": "ipython",
    "version": 3
   },
   "file_extension": ".py",
   "mimetype": "text/x-python",
   "name": "python",
   "nbconvert_exporter": "python",
   "pygments_lexer": "ipython3",
   "version": "3.9.2"
  },
  "orig_nbformat": 4
 },
 "nbformat": 4,
 "nbformat_minor": 2
}
