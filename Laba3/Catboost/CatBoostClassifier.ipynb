{
 "cells": [
  {
   "cell_type": "markdown",
   "metadata": {},
   "source": [
    "# Импорт"
   ]
  },
  {
   "cell_type": "code",
   "execution_count": 16,
   "metadata": {},
   "outputs": [],
   "source": [
    "import pandas as pd\n",
    "import matplotlib.pyplot as plt\n",
    "import numpy as np\n",
    "\n",
    "from itertools import combinations, chain\n",
    "\n",
    "from catboost import CatBoostClassifier\n",
    "\n",
    "from sklearn.model_selection import train_test_split\n",
    "from sklearn.metrics import accuracy_score, confusion_matrix, classification_report, roc_curve, RocCurveDisplay, auc\n",
    "\n",
    "from joblib import dump\n"
   ]
  },
  {
   "cell_type": "markdown",
   "metadata": {},
   "source": [
    "# Загружаем датасет и разбиваем её на выборку."
   ]
  },
  {
   "cell_type": "code",
   "execution_count": 3,
   "metadata": {},
   "outputs": [
    {
     "data": {
      "text/plain": [
       "((24598, 4), (24598,))"
      ]
     },
     "execution_count": 3,
     "metadata": {},
     "output_type": "execute_result"
    }
   ],
   "source": [
    "data = pd.read_csv('../../Data/DataLaba2/neo_task_smoted.csv')\n",
    "X_train, X_test, y_train, y_test = train_test_split(data.drop('hazardous', axis=1), data['hazardous'], test_size=0.85, random_state=42)\n",
    "X_train.shape, y_train.shape\n"
   ]
  },
  {
   "cell_type": "code",
   "execution_count": 4,
   "metadata": {},
   "outputs": [
    {
     "data": {
      "text/html": [
       "<div>\n",
       "<style scoped>\n",
       "    .dataframe tbody tr th:only-of-type {\n",
       "        vertical-align: middle;\n",
       "    }\n",
       "\n",
       "    .dataframe tbody tr th {\n",
       "        vertical-align: top;\n",
       "    }\n",
       "\n",
       "    .dataframe thead th {\n",
       "        text-align: right;\n",
       "    }\n",
       "</style>\n",
       "<table border=\"1\" class=\"dataframe\">\n",
       "  <thead>\n",
       "    <tr style=\"text-align: right;\">\n",
       "      <th></th>\n",
       "      <th>est_diameter_max</th>\n",
       "      <th>relative_velocity</th>\n",
       "      <th>miss_distance</th>\n",
       "      <th>absolute_magnitude</th>\n",
       "      <th>hazardous</th>\n",
       "    </tr>\n",
       "  </thead>\n",
       "  <tbody>\n",
       "    <tr>\n",
       "      <th>0</th>\n",
       "      <td>-0.999187</td>\n",
       "      <td>-0.528599</td>\n",
       "      <td>-0.972789</td>\n",
       "      <td>0.407593</td>\n",
       "      <td>0.0</td>\n",
       "    </tr>\n",
       "    <tr>\n",
       "      <th>1</th>\n",
       "      <td>-0.998421</td>\n",
       "      <td>-0.935292</td>\n",
       "      <td>-0.126239</td>\n",
       "      <td>0.290780</td>\n",
       "      <td>0.0</td>\n",
       "    </tr>\n",
       "    <tr>\n",
       "      <th>2</th>\n",
       "      <td>-0.997101</td>\n",
       "      <td>-0.534989</td>\n",
       "      <td>0.748307</td>\n",
       "      <td>0.182311</td>\n",
       "      <td>0.0</td>\n",
       "    </tr>\n",
       "    <tr>\n",
       "      <th>3</th>\n",
       "      <td>-0.999016</td>\n",
       "      <td>-0.650926</td>\n",
       "      <td>-0.663033</td>\n",
       "      <td>0.374218</td>\n",
       "      <td>0.0</td>\n",
       "    </tr>\n",
       "    <tr>\n",
       "      <th>4</th>\n",
       "      <td>-0.992669</td>\n",
       "      <td>-0.430407</td>\n",
       "      <td>0.906601</td>\n",
       "      <td>0.015436</td>\n",
       "      <td>0.0</td>\n",
       "    </tr>\n",
       "    <tr>\n",
       "      <th>...</th>\n",
       "      <td>...</td>\n",
       "      <td>...</td>\n",
       "      <td>...</td>\n",
       "      <td>...</td>\n",
       "      <td>...</td>\n",
       "    </tr>\n",
       "    <tr>\n",
       "      <th>163987</th>\n",
       "      <td>-0.994367</td>\n",
       "      <td>-0.604209</td>\n",
       "      <td>-0.841236</td>\n",
       "      <td>0.062991</td>\n",
       "      <td>1.0</td>\n",
       "    </tr>\n",
       "    <tr>\n",
       "      <th>163988</th>\n",
       "      <td>-0.993778</td>\n",
       "      <td>-0.757087</td>\n",
       "      <td>-0.160396</td>\n",
       "      <td>0.045115</td>\n",
       "      <td>1.0</td>\n",
       "    </tr>\n",
       "    <tr>\n",
       "      <th>163989</th>\n",
       "      <td>-0.989685</td>\n",
       "      <td>-0.114495</td>\n",
       "      <td>-0.067884</td>\n",
       "      <td>-0.046048</td>\n",
       "      <td>1.0</td>\n",
       "    </tr>\n",
       "    <tr>\n",
       "      <th>163990</th>\n",
       "      <td>-0.986634</td>\n",
       "      <td>-0.067341</td>\n",
       "      <td>0.716200</td>\n",
       "      <td>-0.093033</td>\n",
       "      <td>1.0</td>\n",
       "    </tr>\n",
       "    <tr>\n",
       "      <th>163991</th>\n",
       "      <td>-0.991556</td>\n",
       "      <td>-0.530904</td>\n",
       "      <td>-0.851264</td>\n",
       "      <td>-0.010082</td>\n",
       "      <td>1.0</td>\n",
       "    </tr>\n",
       "  </tbody>\n",
       "</table>\n",
       "<p>163992 rows × 5 columns</p>\n",
       "</div>"
      ],
      "text/plain": [
       "        est_diameter_max  relative_velocity  miss_distance  \\\n",
       "0              -0.999187          -0.528599      -0.972789   \n",
       "1              -0.998421          -0.935292      -0.126239   \n",
       "2              -0.997101          -0.534989       0.748307   \n",
       "3              -0.999016          -0.650926      -0.663033   \n",
       "4              -0.992669          -0.430407       0.906601   \n",
       "...                  ...                ...            ...   \n",
       "163987         -0.994367          -0.604209      -0.841236   \n",
       "163988         -0.993778          -0.757087      -0.160396   \n",
       "163989         -0.989685          -0.114495      -0.067884   \n",
       "163990         -0.986634          -0.067341       0.716200   \n",
       "163991         -0.991556          -0.530904      -0.851264   \n",
       "\n",
       "        absolute_magnitude  hazardous  \n",
       "0                 0.407593        0.0  \n",
       "1                 0.290780        0.0  \n",
       "2                 0.182311        0.0  \n",
       "3                 0.374218        0.0  \n",
       "4                 0.015436        0.0  \n",
       "...                    ...        ...  \n",
       "163987            0.062991        1.0  \n",
       "163988            0.045115        1.0  \n",
       "163989           -0.046048        1.0  \n",
       "163990           -0.093033        1.0  \n",
       "163991           -0.010082        1.0  \n",
       "\n",
       "[163992 rows x 5 columns]"
      ]
     },
     "execution_count": 4,
     "metadata": {},
     "output_type": "execute_result"
    }
   ],
   "source": [
    "data"
   ]
  },
  {
   "cell_type": "markdown",
   "metadata": {},
   "source": [
    "# Создаём регрессор."
   ]
  },
  {
   "cell_type": "code",
   "execution_count": 9,
   "metadata": {},
   "outputs": [],
   "source": [
    "cbc = CatBoostClassifier(learning_rate=0.05, \n",
    "                        task_type=\"GPU\",\n",
    "                        devices='0:4',\n",
    "                        logging_level='Silent'\n",
    "                        )"
   ]
  },
  {
   "cell_type": "markdown",
   "metadata": {},
   "source": [
    "# Поиск гиппер-параметров."
   ]
  },
  {
   "cell_type": "code",
   "execution_count": 10,
   "metadata": {},
   "outputs": [
    {
     "name": "stdout",
     "output_type": "stream",
     "text": [
      "0:\tloss: 0.4555776\tbest: 0.4555776 (0)\ttotal: 252ms\tremaining: 504ms\n",
      "1:\tloss: 0.4809658\tbest: 0.4555776 (0)\ttotal: 409ms\tremaining: 204ms\n",
      "2:\tloss: 0.4698739\tbest: 0.4555776 (0)\ttotal: 664ms\tremaining: 0us\n",
      "Estimating final quality...\n"
     ]
    },
    {
     "data": {
      "text/plain": [
       "{'depth': 6, 'l2_leaf_reg': 13, 'iterations': 7, 'bootstrap_type': 'Bayesian'}"
      ]
     },
     "execution_count": 10,
     "metadata": {},
     "output_type": "execute_result"
    }
   ],
   "source": [
    "params = {'depth': np.arange(3, 10), \n",
    "          'l2_leaf_reg': np.arange(1, 20),\n",
    "          'bootstrap_type': ['Bayesian', 'Bernoulli', 'Poisson'],\n",
    "          # 'leaf_estimation_method': [],\n",
    "          'num_trees': np.arange(1, 20),\n",
    "        #   'n_estimators': np.arange(3, 20),\n",
    "        #   'num_boost_round': np.arange(1, 20),\n",
    "          }\n",
    "catboost_classifier_best_params = cbc.randomized_search(params, X=X_train[:1000], y=y_train[:1000], n_iter=3)\n",
    "\n",
    "catboost_classifier_best_params['params']"
   ]
  },
  {
   "cell_type": "code",
   "execution_count": 11,
   "metadata": {},
   "outputs": [
    {
     "data": {
      "text/plain": [
       "{'nan_mode': 'Min',\n",
       " 'gpu_ram_part': 0.95,\n",
       " 'eval_metric': 'Logloss',\n",
       " 'iterations': 7,\n",
       " 'leaf_estimation_method': 'Newton',\n",
       " 'observations_to_bootstrap': 'TestOnly',\n",
       " 'grow_policy': 'SymmetricTree',\n",
       " 'penalties_coefficient': 1,\n",
       " 'boosting_type': 'Plain',\n",
       " 'feature_border_type': 'GreedyLogSum',\n",
       " 'bayesian_matrix_reg': 0.10000000149011612,\n",
       " 'devices': '0:4',\n",
       " 'eval_fraction': 0,\n",
       " 'pinned_memory_bytes': '104857600',\n",
       " 'force_unit_auto_pair_weights': False,\n",
       " 'l2_leaf_reg': 13,\n",
       " 'random_strength': 1,\n",
       " 'rsm': 1,\n",
       " 'boost_from_average': False,\n",
       " 'gpu_cat_features_storage': 'GpuRam',\n",
       " 'fold_size_loss_normalization': False,\n",
       " 'model_size_reg': 0.5,\n",
       " 'pool_metainfo_options': {'tags': {}},\n",
       " 'use_best_model': False,\n",
       " 'meta_l2_frequency': 0,\n",
       " 'class_names': [0, 1],\n",
       " 'random_seed': 0,\n",
       " 'depth': 6,\n",
       " 'border_count': 128,\n",
       " 'min_fold_size': 100,\n",
       " 'data_partition': 'DocParallel',\n",
       " 'bagging_temperature': 1,\n",
       " 'classes_count': 0,\n",
       " 'auto_class_weights': 'None',\n",
       " 'leaf_estimation_backtracking': 'AnyImprovement',\n",
       " 'best_model_min_trees': 1,\n",
       " 'min_data_in_leaf': 1,\n",
       " 'add_ridge_penalty_to_loss_function': False,\n",
       " 'loss_function': 'Logloss',\n",
       " 'learning_rate': 0.05000000074505806,\n",
       " 'meta_l2_exponent': 1,\n",
       " 'score_function': 'Cosine',\n",
       " 'task_type': 'GPU',\n",
       " 'leaf_estimation_iterations': 1,\n",
       " 'bootstrap_type': 'Bayesian',\n",
       " 'max_leaves': 64}"
      ]
     },
     "execution_count": 11,
     "metadata": {},
     "output_type": "execute_result"
    }
   ],
   "source": [
    "cbc.get_all_params()"
   ]
  },
  {
   "cell_type": "markdown",
   "metadata": {},
   "source": [
    "# Обучение."
   ]
  },
  {
   "cell_type": "code",
   "execution_count": 13,
   "metadata": {},
   "outputs": [
    {
     "data": {
      "text/plain": [
       "<catboost.core.CatBoostClassifier at 0x1f5cbb5b370>"
      ]
     },
     "execution_count": 13,
     "metadata": {},
     "output_type": "execute_result"
    }
   ],
   "source": [
    "cbc.fit(X_train, y_train)"
   ]
  },
  {
   "cell_type": "markdown",
   "metadata": {},
   "source": [
    "# Предсказание."
   ]
  },
  {
   "cell_type": "code",
   "execution_count": 14,
   "metadata": {},
   "outputs": [
    {
     "data": {
      "text/plain": [
       "array([1., 0., 1., ..., 0., 1., 0.])"
      ]
     },
     "execution_count": 14,
     "metadata": {},
     "output_type": "execute_result"
    }
   ],
   "source": [
    "cbc_predict = cbc.predict(X_test)\n",
    "cbc_predict"
   ]
  },
  {
   "cell_type": "markdown",
   "metadata": {},
   "source": [
    "# Оценка"
   ]
  },
  {
   "cell_type": "code",
   "execution_count": 17,
   "metadata": {},
   "outputs": [
    {
     "name": "stdout",
     "output_type": "stream",
     "text": [
      "Accuracy\n",
      "0.8762859233539464\n"
     ]
    }
   ],
   "source": [
    "print('Accuracy')\n",
    "print(accuracy_score(y_test, cbc_predict))"
   ]
  },
  {
   "cell_type": "code",
   "execution_count": 18,
   "metadata": {},
   "outputs": [
    {
     "name": "stdout",
     "output_type": "stream",
     "text": [
      "Confusion matrix\n",
      "[[53195 16539]\n",
      " [  706 68954]]\n"
     ]
    }
   ],
   "source": [
    "print('Confusion matrix')\n",
    "print(confusion_matrix(y_test, cbc_predict))"
   ]
  },
  {
   "cell_type": "code",
   "execution_count": 19,
   "metadata": {},
   "outputs": [
    {
     "name": "stdout",
     "output_type": "stream",
     "text": [
      "Precision, Recall, F\n",
      "               precision    recall  f1-score   support\n",
      "\n",
      "         0.0       0.99      0.76      0.86     69734\n",
      "         1.0       0.81      0.99      0.89     69660\n",
      "\n",
      "    accuracy                           0.88    139394\n",
      "   macro avg       0.90      0.88      0.87    139394\n",
      "weighted avg       0.90      0.88      0.87    139394\n",
      "\n"
     ]
    }
   ],
   "source": [
    "print('Precision, Recall, F\\n', classification_report(y_test, cbc_predict))"
   ]
  },
  {
   "cell_type": "code",
   "execution_count": 20,
   "metadata": {},
   "outputs": [
    {
     "data": {
      "text/plain": [
       "<sklearn.metrics._plot.roc_curve.RocCurveDisplay at 0x1f589b67fd0>"
      ]
     },
     "execution_count": 20,
     "metadata": {},
     "output_type": "execute_result"
    },
    {
     "data": {
      "image/png": "[encoded data removed]",
      "text/plain": [
       "<Figure size 432x288 with 1 Axes>"
      ]
     },
     "metadata": {
      "needs_background": "light"
     },
     "output_type": "display_data"
    }
   ],
   "source": [
    "fpr, tpr, thresholds = roc_curve(cbc_predict, y_test)\n",
    "roc_auc = auc(fpr, tpr)\n",
    "display = RocCurveDisplay(fpr=fpr, tpr=tpr, roc_auc=roc_auc, estimator_name='example estimator')\n",
    "display.plot()"
   ]
  }
 ],
 "metadata": {
  "kernelspec": {
   "display_name": "Python 3",
   "language": "python",
   "name": "python3"
  },
  "language_info": {
   "codemirror_mode": {
    "name": "ipython",
    "version": 3
   },
   "file_extension": ".py",
   "mimetype": "text/x-python",
   "name": "python",
   "nbconvert_exporter": "python",
   "pygments_lexer": "ipython3",
   "version": "3.9.2"
  },
  "orig_nbformat": 4
 },
 "nbformat": 4,
 "nbformat_minor": 2
}
