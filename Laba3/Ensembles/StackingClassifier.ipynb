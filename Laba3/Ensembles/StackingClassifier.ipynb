{
 "cells": [
  {
   "attachments": {},
   "cell_type": "markdown",
   "metadata": {},
   "source": [
    "# Импорт"
   ]
  },
  {
   "cell_type": "code",
   "execution_count": 58,
   "metadata": {},
   "outputs": [],
   "source": [
    "import pandas as pd\n",
    "import matplotlib.pyplot as plt\n",
    "import numpy as np\n",
    "\n",
    "from sklearn.neighbors import KNeighborsClassifier\n",
    "from sklearn.naive_bayes import GaussianNB\n",
    "from sklearn.svm import SVC\n",
    "\n",
    "from itertools import combinations, chain\n",
    "\n",
    "from sklearn.ensemble import StackingClassifier\n",
    "\n",
    "from sklearn.model_selection import GridSearchCV, RandomizedSearchCV\n",
    "from sklearn.model_selection import train_test_split\n",
    "\n",
    "from sklearn.metrics.pairwise import distance_metrics\n",
    "from sklearn.metrics import accuracy_score, confusion_matrix, classification_report, roc_curve, RocCurveDisplay, auc\n",
    "\n",
    "from joblib import dump\n"
   ]
  },
  {
   "cell_type": "markdown",
   "metadata": {},
   "source": [
    "# Загружаем датасет и разбиваем её на выборку."
   ]
  },
  {
   "cell_type": "code",
   "execution_count": 2,
   "metadata": {},
   "outputs": [
    {
     "data": {
      "text/plain": [
       "((24598, 4), (24598,))"
      ]
     },
     "execution_count": 2,
     "metadata": {},
     "output_type": "execute_result"
    }
   ],
   "source": [
    "data = pd.read_csv('../../Data/DataLaba2/neo_task_smoted.csv')\n",
    "X_train, X_test, y_train, y_test = train_test_split(data.drop('hazardous', axis=1), data['hazardous'], test_size=0.85, random_state=42)\n",
    "X_train.shape, y_train.shape\n"
   ]
  },
  {
   "cell_type": "code",
   "execution_count": 3,
   "metadata": {},
   "outputs": [
    {
     "data": {
      "text/html": [
       "<div>\n",
       "<style scoped>\n",
       "    .dataframe tbody tr th:only-of-type {\n",
       "        vertical-align: middle;\n",
       "    }\n",
       "\n",
       "    .dataframe tbody tr th {\n",
       "        vertical-align: top;\n",
       "    }\n",
       "\n",
       "    .dataframe thead th {\n",
       "        text-align: right;\n",
       "    }\n",
       "</style>\n",
       "<table border=\"1\" class=\"dataframe\">\n",
       "  <thead>\n",
       "    <tr style=\"text-align: right;\">\n",
       "      <th></th>\n",
       "      <th>est_diameter_max</th>\n",
       "      <th>relative_velocity</th>\n",
       "      <th>miss_distance</th>\n",
       "      <th>absolute_magnitude</th>\n",
       "      <th>hazardous</th>\n",
       "    </tr>\n",
       "  </thead>\n",
       "  <tbody>\n",
       "    <tr>\n",
       "      <th>0</th>\n",
       "      <td>-0.999187</td>\n",
       "      <td>-0.528599</td>\n",
       "      <td>-0.972789</td>\n",
       "      <td>0.407593</td>\n",
       "      <td>0.0</td>\n",
       "    </tr>\n",
       "    <tr>\n",
       "      <th>1</th>\n",
       "      <td>-0.998421</td>\n",
       "      <td>-0.935292</td>\n",
       "      <td>-0.126239</td>\n",
       "      <td>0.290780</td>\n",
       "      <td>0.0</td>\n",
       "    </tr>\n",
       "    <tr>\n",
       "      <th>2</th>\n",
       "      <td>-0.997101</td>\n",
       "      <td>-0.534989</td>\n",
       "      <td>0.748307</td>\n",
       "      <td>0.182311</td>\n",
       "      <td>0.0</td>\n",
       "    </tr>\n",
       "    <tr>\n",
       "      <th>3</th>\n",
       "      <td>-0.999016</td>\n",
       "      <td>-0.650926</td>\n",
       "      <td>-0.663033</td>\n",
       "      <td>0.374218</td>\n",
       "      <td>0.0</td>\n",
       "    </tr>\n",
       "    <tr>\n",
       "      <th>4</th>\n",
       "      <td>-0.992669</td>\n",
       "      <td>-0.430407</td>\n",
       "      <td>0.906601</td>\n",
       "      <td>0.015436</td>\n",
       "      <td>0.0</td>\n",
       "    </tr>\n",
       "    <tr>\n",
       "      <th>...</th>\n",
       "      <td>...</td>\n",
       "      <td>...</td>\n",
       "      <td>...</td>\n",
       "      <td>...</td>\n",
       "      <td>...</td>\n",
       "    </tr>\n",
       "    <tr>\n",
       "      <th>163987</th>\n",
       "      <td>-0.994367</td>\n",
       "      <td>-0.604209</td>\n",
       "      <td>-0.841236</td>\n",
       "      <td>0.062991</td>\n",
       "      <td>1.0</td>\n",
       "    </tr>\n",
       "    <tr>\n",
       "      <th>163988</th>\n",
       "      <td>-0.993778</td>\n",
       "      <td>-0.757087</td>\n",
       "      <td>-0.160396</td>\n",
       "      <td>0.045115</td>\n",
       "      <td>1.0</td>\n",
       "    </tr>\n",
       "    <tr>\n",
       "      <th>163989</th>\n",
       "      <td>-0.989685</td>\n",
       "      <td>-0.114495</td>\n",
       "      <td>-0.067884</td>\n",
       "      <td>-0.046048</td>\n",
       "      <td>1.0</td>\n",
       "    </tr>\n",
       "    <tr>\n",
       "      <th>163990</th>\n",
       "      <td>-0.986634</td>\n",
       "      <td>-0.067341</td>\n",
       "      <td>0.716200</td>\n",
       "      <td>-0.093033</td>\n",
       "      <td>1.0</td>\n",
       "    </tr>\n",
       "    <tr>\n",
       "      <th>163991</th>\n",
       "      <td>-0.991556</td>\n",
       "      <td>-0.530904</td>\n",
       "      <td>-0.851264</td>\n",
       "      <td>-0.010082</td>\n",
       "      <td>1.0</td>\n",
       "    </tr>\n",
       "  </tbody>\n",
       "</table>\n",
       "<p>163992 rows × 5 columns</p>\n",
       "</div>"
      ],
      "text/plain": [
       "        est_diameter_max  relative_velocity  miss_distance  \\\n",
       "0              -0.999187          -0.528599      -0.972789   \n",
       "1              -0.998421          -0.935292      -0.126239   \n",
       "2              -0.997101          -0.534989       0.748307   \n",
       "3              -0.999016          -0.650926      -0.663033   \n",
       "4              -0.992669          -0.430407       0.906601   \n",
       "...                  ...                ...            ...   \n",
       "163987         -0.994367          -0.604209      -0.841236   \n",
       "163988         -0.993778          -0.757087      -0.160396   \n",
       "163989         -0.989685          -0.114495      -0.067884   \n",
       "163990         -0.986634          -0.067341       0.716200   \n",
       "163991         -0.991556          -0.530904      -0.851264   \n",
       "\n",
       "        absolute_magnitude  hazardous  \n",
       "0                 0.407593        0.0  \n",
       "1                 0.290780        0.0  \n",
       "2                 0.182311        0.0  \n",
       "3                 0.374218        0.0  \n",
       "4                 0.015436        0.0  \n",
       "...                    ...        ...  \n",
       "163987            0.062991        1.0  \n",
       "163988            0.045115        1.0  \n",
       "163989           -0.046048        1.0  \n",
       "163990           -0.093033        1.0  \n",
       "163991           -0.010082        1.0  \n",
       "\n",
       "[163992 rows x 5 columns]"
      ]
     },
     "execution_count": 3,
     "metadata": {},
     "output_type": "execute_result"
    }
   ],
   "source": [
    "data"
   ]
  },
  {
   "cell_type": "markdown",
   "metadata": {},
   "source": [
    "# Подбираем гиппер-параметры."
   ]
  },
  {
   "cell_type": "markdown",
   "metadata": {},
   "source": [
    "## Для ближайших соседей."
   ]
  },
  {
   "cell_type": "code",
   "execution_count": 14,
   "metadata": {},
   "outputs": [
    {
     "name": "stderr",
     "output_type": "stream",
     "text": [
      "c:\\Users\\Mike\\AppData\\Local\\Programs\\Python\\Python39\\lib\\site-packages\\sklearn\\model_selection\\_validation.py:378: FitFailedWarning: \n",
      "25 fits failed out of a total of 60.\n",
      "The score on these train-test partitions for these parameters will be set to nan.\n",
      "If these failures are not expected, you can try to debug them by setting error_score='raise'.\n",
      "\n",
      "Below are more details about the failures:\n",
      "--------------------------------------------------------------------------------\n",
      "15 fits failed with the following error:\n",
      "Traceback (most recent call last):\n",
      "  File \"c:\\Users\\Mike\\AppData\\Local\\Programs\\Python\\Python39\\lib\\site-packages\\sklearn\\model_selection\\_validation.py\", line 686, in _fit_and_score\n",
      "    estimator.fit(X_train, y_train, **fit_params)\n",
      "  File \"c:\\Users\\Mike\\AppData\\Local\\Programs\\Python\\Python39\\lib\\site-packages\\sklearn\\neighbors\\_classification.py\", line 215, in fit\n",
      "    return self._fit(X, y)\n",
      "  File \"c:\\Users\\Mike\\AppData\\Local\\Programs\\Python\\Python39\\lib\\site-packages\\sklearn\\neighbors\\_base.py\", line 493, in _fit\n",
      "    self._check_algorithm_metric()\n",
      "  File \"c:\\Users\\Mike\\AppData\\Local\\Programs\\Python\\Python39\\lib\\site-packages\\sklearn\\neighbors\\_base.py\", line 434, in _check_algorithm_metric\n",
      "    raise ValueError(\n",
      "ValueError: Metric 'nan_euclidean' not valid. Use sorted(sklearn.neighbors.VALID_METRICS['kd_tree']) to get valid options. Metric can also be a callable function.\n",
      "\n",
      "--------------------------------------------------------------------------------\n",
      "5 fits failed with the following error:\n",
      "Traceback (most recent call last):\n",
      "  File \"c:\\Users\\Mike\\AppData\\Local\\Programs\\Python\\Python39\\lib\\site-packages\\sklearn\\model_selection\\_validation.py\", line 686, in _fit_and_score\n",
      "    estimator.fit(X_train, y_train, **fit_params)\n",
      "  File \"c:\\Users\\Mike\\AppData\\Local\\Programs\\Python\\Python39\\lib\\site-packages\\sklearn\\neighbors\\_classification.py\", line 215, in fit\n",
      "    return self._fit(X, y)\n",
      "  File \"c:\\Users\\Mike\\AppData\\Local\\Programs\\Python\\Python39\\lib\\site-packages\\sklearn\\neighbors\\_base.py\", line 493, in _fit\n",
      "    self._check_algorithm_metric()\n",
      "  File \"c:\\Users\\Mike\\AppData\\Local\\Programs\\Python\\Python39\\lib\\site-packages\\sklearn\\neighbors\\_base.py\", line 434, in _check_algorithm_metric\n",
      "    raise ValueError(\n",
      "ValueError: Metric 'cosine' not valid. Use sorted(sklearn.neighbors.VALID_METRICS['kd_tree']) to get valid options. Metric can also be a callable function.\n",
      "\n",
      "--------------------------------------------------------------------------------\n",
      "5 fits failed with the following error:\n",
      "Traceback (most recent call last):\n",
      "  File \"c:\\Users\\Mike\\AppData\\Local\\Programs\\Python\\Python39\\lib\\site-packages\\sklearn\\model_selection\\_validation.py\", line 686, in _fit_and_score\n",
      "    estimator.fit(X_train, y_train, **fit_params)\n",
      "  File \"c:\\Users\\Mike\\AppData\\Local\\Programs\\Python\\Python39\\lib\\site-packages\\sklearn\\neighbors\\_classification.py\", line 215, in fit\n",
      "    return self._fit(X, y)\n",
      "  File \"c:\\Users\\Mike\\AppData\\Local\\Programs\\Python\\Python39\\lib\\site-packages\\sklearn\\neighbors\\_base.py\", line 493, in _fit\n",
      "    self._check_algorithm_metric()\n",
      "  File \"c:\\Users\\Mike\\AppData\\Local\\Programs\\Python\\Python39\\lib\\site-packages\\sklearn\\neighbors\\_base.py\", line 434, in _check_algorithm_metric\n",
      "    raise ValueError(\n",
      "ValueError: Metric 'cosine' not valid. Use sorted(sklearn.neighbors.VALID_METRICS['ball_tree']) to get valid options. Metric can also be a callable function.\n",
      "\n",
      "  warnings.warn(some_fits_failed_message, FitFailedWarning)\n",
      "c:\\Users\\Mike\\AppData\\Local\\Programs\\Python\\Python39\\lib\\site-packages\\sklearn\\model_selection\\_search.py:952: UserWarning: One or more of the test scores are non-finite: [0.88435346        nan 0.87936211        nan        nan 0.88233983\n",
      " 0.87692701        nan 0.8867552  0.88497651        nan 0.88653592]\n",
      "  warnings.warn(\n"
     ]
    },
    {
     "data": {
      "text/plain": [
       "{'weights': 'distance',\n",
       " 'p': 6,\n",
       " 'n_neighbors': 3,\n",
       " 'metric': 'l1',\n",
       " 'algorithm': 'brute'}"
      ]
     },
     "execution_count": 14,
     "metadata": {},
     "output_type": "execute_result"
    }
   ],
   "source": [
    "knn_optimal_n_neighbors_by_f1 = RandomizedSearchCV(KNeighborsClassifier(), \n",
    "                                             {'n_neighbors': np.arange(1, 10, 2), \n",
    "                                              'weights': ['uniform', 'distance'],\n",
    "                                              'algorithm': ['ball_tree', 'kd_tree', 'brute'],\n",
    "                                              'p': np.arange(1, 10, 1),\n",
    "                                              'metric': list(distance_metrics().keys())\n",
    "                                              },\n",
    "                                              n_iter=12,\n",
    "                                              n_jobs=4,\n",
    "                                              scoring='f1',\n",
    "                                              random_state=71\n",
    "                                              ).fit(X_train, y_train)\n",
    "knn_optimal_n_neighbors_by_f1.best_params_"
   ]
  },
  {
   "cell_type": "code",
   "execution_count": 5,
   "metadata": {},
   "outputs": [
    {
     "name": "stderr",
     "output_type": "stream",
     "text": [
      "c:\\Users\\Mike\\AppData\\Local\\Programs\\Python\\Python39\\lib\\site-packages\\sklearn\\model_selection\\_validation.py:378: FitFailedWarning: \n",
      "25 fits failed out of a total of 60.\n",
      "The score on these train-test partitions for these parameters will be set to nan.\n",
      "If these failures are not expected, you can try to debug them by setting error_score='raise'.\n",
      "\n",
      "Below are more details about the failures:\n",
      "--------------------------------------------------------------------------------\n",
      "15 fits failed with the following error:\n",
      "Traceback (most recent call last):\n",
      "  File \"c:\\Users\\Mike\\AppData\\Local\\Programs\\Python\\Python39\\lib\\site-packages\\sklearn\\model_selection\\_validation.py\", line 686, in _fit_and_score\n",
      "    estimator.fit(X_train, y_train, **fit_params)\n",
      "  File \"c:\\Users\\Mike\\AppData\\Local\\Programs\\Python\\Python39\\lib\\site-packages\\sklearn\\neighbors\\_classification.py\", line 215, in fit\n",
      "    return self._fit(X, y)\n",
      "  File \"c:\\Users\\Mike\\AppData\\Local\\Programs\\Python\\Python39\\lib\\site-packages\\sklearn\\neighbors\\_base.py\", line 493, in _fit\n",
      "    self._check_algorithm_metric()\n",
      "  File \"c:\\Users\\Mike\\AppData\\Local\\Programs\\Python\\Python39\\lib\\site-packages\\sklearn\\neighbors\\_base.py\", line 434, in _check_algorithm_metric\n",
      "    raise ValueError(\n",
      "ValueError: Metric 'nan_euclidean' not valid. Use sorted(sklearn.neighbors.VALID_METRICS['kd_tree']) to get valid options. Metric can also be a callable function.\n",
      "\n",
      "--------------------------------------------------------------------------------\n",
      "5 fits failed with the following error:\n",
      "Traceback (most recent call last):\n",
      "  File \"c:\\Users\\Mike\\AppData\\Local\\Programs\\Python\\Python39\\lib\\site-packages\\sklearn\\model_selection\\_validation.py\", line 686, in _fit_and_score\n",
      "    estimator.fit(X_train, y_train, **fit_params)\n",
      "  File \"c:\\Users\\Mike\\AppData\\Local\\Programs\\Python\\Python39\\lib\\site-packages\\sklearn\\neighbors\\_classification.py\", line 215, in fit\n",
      "    return self._fit(X, y)\n",
      "  File \"c:\\Users\\Mike\\AppData\\Local\\Programs\\Python\\Python39\\lib\\site-packages\\sklearn\\neighbors\\_base.py\", line 493, in _fit\n",
      "    self._check_algorithm_metric()\n",
      "  File \"c:\\Users\\Mike\\AppData\\Local\\Programs\\Python\\Python39\\lib\\site-packages\\sklearn\\neighbors\\_base.py\", line 434, in _check_algorithm_metric\n",
      "    raise ValueError(\n",
      "ValueError: Metric 'cosine' not valid. Use sorted(sklearn.neighbors.VALID_METRICS['kd_tree']) to get valid options. Metric can also be a callable function.\n",
      "\n",
      "--------------------------------------------------------------------------------\n",
      "5 fits failed with the following error:\n",
      "Traceback (most recent call last):\n",
      "  File \"c:\\Users\\Mike\\AppData\\Local\\Programs\\Python\\Python39\\lib\\site-packages\\sklearn\\model_selection\\_validation.py\", line 686, in _fit_and_score\n",
      "    estimator.fit(X_train, y_train, **fit_params)\n",
      "  File \"c:\\Users\\Mike\\AppData\\Local\\Programs\\Python\\Python39\\lib\\site-packages\\sklearn\\neighbors\\_classification.py\", line 215, in fit\n",
      "    return self._fit(X, y)\n",
      "  File \"c:\\Users\\Mike\\AppData\\Local\\Programs\\Python\\Python39\\lib\\site-packages\\sklearn\\neighbors\\_base.py\", line 493, in _fit\n",
      "    self._check_algorithm_metric()\n",
      "  File \"c:\\Users\\Mike\\AppData\\Local\\Programs\\Python\\Python39\\lib\\site-packages\\sklearn\\neighbors\\_base.py\", line 434, in _check_algorithm_metric\n",
      "    raise ValueError(\n",
      "ValueError: Metric 'cosine' not valid. Use sorted(sklearn.neighbors.VALID_METRICS['ball_tree']) to get valid options. Metric can also be a callable function.\n",
      "\n",
      "  warnings.warn(some_fits_failed_message, FitFailedWarning)\n",
      "c:\\Users\\Mike\\AppData\\Local\\Programs\\Python\\Python39\\lib\\site-packages\\sklearn\\model_selection\\_search.py:952: UserWarning: One or more of the test scores are non-finite: [0.87307918        nan 0.86828182        nan        nan 0.87649426\n",
      " 0.86551746        nan 0.87848635 0.87649435        nan 0.87555908]\n",
      "  warnings.warn(\n"
     ]
    },
    {
     "data": {
      "text/plain": [
       "{'weights': 'distance',\n",
       " 'p': 6,\n",
       " 'n_neighbors': 3,\n",
       " 'metric': 'l1',\n",
       " 'algorithm': 'brute'}"
      ]
     },
     "execution_count": 5,
     "metadata": {},
     "output_type": "execute_result"
    }
   ],
   "source": [
    "knn_optimal_n_neighbors_by_accuracy = RandomizedSearchCV(KNeighborsClassifier(), \n",
    "                                             {'n_neighbors': np.arange(1, 10, 2), \n",
    "                                              'weights': ['uniform', 'distance'],\n",
    "                                              'algorithm': ['ball_tree', 'kd_tree', 'brute'],\n",
    "                                              'p': np.arange(1, 10, 1),\n",
    "                                              'metric': list(distance_metrics().keys())\n",
    "                                              },\n",
    "                                              n_iter=12,\n",
    "                                              n_jobs=4,\n",
    "                                              scoring='accuracy',\n",
    "                                              random_state=71\n",
    "                                              ).fit(X_train, y_train)\n",
    "knn_optimal_n_neighbors_by_accuracy.best_params_"
   ]
  },
  {
   "cell_type": "code",
   "execution_count": 6,
   "metadata": {},
   "outputs": [
    {
     "name": "stderr",
     "output_type": "stream",
     "text": [
      "c:\\Users\\Mike\\AppData\\Local\\Programs\\Python\\Python39\\lib\\site-packages\\sklearn\\model_selection\\_validation.py:378: FitFailedWarning: \n",
      "25 fits failed out of a total of 60.\n",
      "The score on these train-test partitions for these parameters will be set to nan.\n",
      "If these failures are not expected, you can try to debug them by setting error_score='raise'.\n",
      "\n",
      "Below are more details about the failures:\n",
      "--------------------------------------------------------------------------------\n",
      "15 fits failed with the following error:\n",
      "Traceback (most recent call last):\n",
      "  File \"c:\\Users\\Mike\\AppData\\Local\\Programs\\Python\\Python39\\lib\\site-packages\\sklearn\\model_selection\\_validation.py\", line 686, in _fit_and_score\n",
      "    estimator.fit(X_train, y_train, **fit_params)\n",
      "  File \"c:\\Users\\Mike\\AppData\\Local\\Programs\\Python\\Python39\\lib\\site-packages\\sklearn\\neighbors\\_classification.py\", line 215, in fit\n",
      "    return self._fit(X, y)\n",
      "  File \"c:\\Users\\Mike\\AppData\\Local\\Programs\\Python\\Python39\\lib\\site-packages\\sklearn\\neighbors\\_base.py\", line 493, in _fit\n",
      "    self._check_algorithm_metric()\n",
      "  File \"c:\\Users\\Mike\\AppData\\Local\\Programs\\Python\\Python39\\lib\\site-packages\\sklearn\\neighbors\\_base.py\", line 434, in _check_algorithm_metric\n",
      "    raise ValueError(\n",
      "ValueError: Metric 'nan_euclidean' not valid. Use sorted(sklearn.neighbors.VALID_METRICS['kd_tree']) to get valid options. Metric can also be a callable function.\n",
      "\n",
      "--------------------------------------------------------------------------------\n",
      "5 fits failed with the following error:\n",
      "Traceback (most recent call last):\n",
      "  File \"c:\\Users\\Mike\\AppData\\Local\\Programs\\Python\\Python39\\lib\\site-packages\\sklearn\\model_selection\\_validation.py\", line 686, in _fit_and_score\n",
      "    estimator.fit(X_train, y_train, **fit_params)\n",
      "  File \"c:\\Users\\Mike\\AppData\\Local\\Programs\\Python\\Python39\\lib\\site-packages\\sklearn\\neighbors\\_classification.py\", line 215, in fit\n",
      "    return self._fit(X, y)\n",
      "  File \"c:\\Users\\Mike\\AppData\\Local\\Programs\\Python\\Python39\\lib\\site-packages\\sklearn\\neighbors\\_base.py\", line 493, in _fit\n",
      "    self._check_algorithm_metric()\n",
      "  File \"c:\\Users\\Mike\\AppData\\Local\\Programs\\Python\\Python39\\lib\\site-packages\\sklearn\\neighbors\\_base.py\", line 434, in _check_algorithm_metric\n",
      "    raise ValueError(\n",
      "ValueError: Metric 'cosine' not valid. Use sorted(sklearn.neighbors.VALID_METRICS['kd_tree']) to get valid options. Metric can also be a callable function.\n",
      "\n",
      "--------------------------------------------------------------------------------\n",
      "5 fits failed with the following error:\n",
      "Traceback (most recent call last):\n",
      "  File \"c:\\Users\\Mike\\AppData\\Local\\Programs\\Python\\Python39\\lib\\site-packages\\sklearn\\model_selection\\_validation.py\", line 686, in _fit_and_score\n",
      "    estimator.fit(X_train, y_train, **fit_params)\n",
      "  File \"c:\\Users\\Mike\\AppData\\Local\\Programs\\Python\\Python39\\lib\\site-packages\\sklearn\\neighbors\\_classification.py\", line 215, in fit\n",
      "    return self._fit(X, y)\n",
      "  File \"c:\\Users\\Mike\\AppData\\Local\\Programs\\Python\\Python39\\lib\\site-packages\\sklearn\\neighbors\\_base.py\", line 493, in _fit\n",
      "    self._check_algorithm_metric()\n",
      "  File \"c:\\Users\\Mike\\AppData\\Local\\Programs\\Python\\Python39\\lib\\site-packages\\sklearn\\neighbors\\_base.py\", line 434, in _check_algorithm_metric\n",
      "    raise ValueError(\n",
      "ValueError: Metric 'cosine' not valid. Use sorted(sklearn.neighbors.VALID_METRICS['ball_tree']) to get valid options. Metric can also be a callable function.\n",
      "\n",
      "  warnings.warn(some_fits_failed_message, FitFailedWarning)\n",
      "c:\\Users\\Mike\\AppData\\Local\\Programs\\Python\\Python39\\lib\\site-packages\\sklearn\\model_selection\\_search.py:952: UserWarning: One or more of the test scores are non-finite: [0.96765594        nan 0.95727966        nan        nan 0.92339573\n",
      " 0.95541541        nan 0.94860627 0.94730938        nan 0.96935832]\n",
      "  warnings.warn(\n"
     ]
    },
    {
     "data": {
      "text/plain": [
       "{'weights': 'distance',\n",
       " 'p': 2,\n",
       " 'n_neighbors': 9,\n",
       " 'metric': 'l1',\n",
       " 'algorithm': 'ball_tree'}"
      ]
     },
     "execution_count": 6,
     "metadata": {},
     "output_type": "execute_result"
    }
   ],
   "source": [
    "knn_optimal_n_neighbors_by_recall = RandomizedSearchCV(KNeighborsClassifier(), \n",
    "                                             {'n_neighbors': np.arange(1, 10, 2), \n",
    "                                              'weights': ['uniform', 'distance'],\n",
    "                                              'algorithm': ['ball_tree', 'kd_tree', 'brute'],\n",
    "                                              'p': np.arange(1, 10, 1),\n",
    "                                              'metric': list(distance_metrics().keys())\n",
    "                                              },\n",
    "                                              n_iter=12,\n",
    "                                              n_jobs=4,\n",
    "                                              scoring='recall',\n",
    "                                              random_state=71\n",
    "                                              ).fit(X_train, y_train)\n",
    "knn_optimal_n_neighbors_by_recall.best_params_"
   ]
  },
  {
   "cell_type": "markdown",
   "metadata": {},
   "source": [
    "## Для расфасовщика."
   ]
  },
  {
   "cell_type": "markdown",
   "metadata": {},
   "source": [
    "### Создание классификаторов."
   ]
  },
  {
   "cell_type": "code",
   "execution_count": 18,
   "metadata": {},
   "outputs": [],
   "source": [
    "knn_recall = KNeighborsClassifier(\n",
    "    n_neighbors=knn_optimal_n_neighbors_by_recall.best_params_['n_neighbors'] if 'n_neighbors' in knn_optimal_n_neighbors_by_recall.best_params_ else 5,\n",
    "    algorithm=knn_optimal_n_neighbors_by_recall.best_params_['algorithm'] if 'algorithm' in knn_optimal_n_neighbors_by_recall.best_params_ else 'auto',\n",
    "    p=knn_optimal_n_neighbors_by_recall.best_params_['p'] if 'p' in knn_optimal_n_neighbors_by_recall.best_params_ else 2,\n",
    "    weights=knn_optimal_n_neighbors_by_recall.best_params_['weights'] if 'weights' in knn_optimal_n_neighbors_by_recall.best_params_ else 'uniform',\n",
    "    leaf_size=knn_optimal_n_neighbors_by_recall.best_params_['leaf_size'] if 'leaf_size' in knn_optimal_n_neighbors_by_recall.best_params_ else 30,\n",
    "    metric=knn_optimal_n_neighbors_by_recall.best_params_['metric'] if 'n_neighbors' in knn_optimal_n_neighbors_by_recall.best_params_ else 'minkowski',\n",
    "    )"
   ]
  },
  {
   "cell_type": "code",
   "execution_count": 19,
   "metadata": {},
   "outputs": [],
   "source": [
    "knn_accuracy = KNeighborsClassifier(\n",
    "    n_neighbors=knn_optimal_n_neighbors_by_accuracy.best_params_['n_neighbors'] if 'n_neighbors' in knn_optimal_n_neighbors_by_accuracy.best_params_ else 5,\n",
    "    algorithm=knn_optimal_n_neighbors_by_accuracy.best_params_['algorithm'] if 'algorithm' in knn_optimal_n_neighbors_by_accuracy.best_params_ else 'auto',\n",
    "    p=knn_optimal_n_neighbors_by_accuracy.best_params_['p'] if 'p' in knn_optimal_n_neighbors_by_accuracy.best_params_ else 2,\n",
    "    weights=knn_optimal_n_neighbors_by_accuracy.best_params_['weights'] if 'weights' in knn_optimal_n_neighbors_by_accuracy.best_params_ else 'uniform',\n",
    "    leaf_size=knn_optimal_n_neighbors_by_accuracy.best_params_['leaf_size'] if 'leaf_size' in knn_optimal_n_neighbors_by_accuracy.best_params_ else 30,\n",
    "    metric=knn_optimal_n_neighbors_by_accuracy.best_params_['metric'] if 'n_neighbors' in knn_optimal_n_neighbors_by_accuracy.best_params_ else 'minkowski',\n",
    "    )"
   ]
  },
  {
   "cell_type": "code",
   "execution_count": 20,
   "metadata": {},
   "outputs": [],
   "source": [
    "knn_f1 = KNeighborsClassifier(\n",
    "    n_neighbors=knn_optimal_n_neighbors_by_f1.best_params_['n_neighbors'] if 'n_neighbors' in knn_optimal_n_neighbors_by_f1.best_params_ else 5,\n",
    "    algorithm=knn_optimal_n_neighbors_by_f1.best_params_['algorithm'] if 'algorithm' in knn_optimal_n_neighbors_by_f1.best_params_ else 'auto',\n",
    "    p=knn_optimal_n_neighbors_by_f1.best_params_['p'] if 'p' in knn_optimal_n_neighbors_by_f1.best_params_ else 2,\n",
    "    weights=knn_optimal_n_neighbors_by_f1.best_params_['weights'] if 'weights' in knn_optimal_n_neighbors_by_f1.best_params_ else 'uniform',\n",
    "    leaf_size=knn_optimal_n_neighbors_by_f1.best_params_['leaf_size'] if 'leaf_size' in knn_optimal_n_neighbors_by_f1.best_params_ else 30,\n",
    "    metric=knn_optimal_n_neighbors_by_f1.best_params_['metric'] if 'n_neighbors' in knn_optimal_n_neighbors_by_f1.best_params_ else 'minkowski',\n",
    "    )"
   ]
  },
  {
   "cell_type": "markdown",
   "metadata": {},
   "source": [
    "### Подбор"
   ]
  },
  {
   "cell_type": "code",
   "execution_count": 59,
   "metadata": {},
   "outputs": [
    {
     "data": {
      "text/plain": [
       "[[('knn_accuracy',\n",
       "   KNeighborsClassifier(algorithm='brute', metric='l1', n_neighbors=3, p=6,\n",
       "                        weights='distance'))],\n",
       " [('knn_f1',\n",
       "   KNeighborsClassifier(algorithm='brute', metric='l1', n_neighbors=3, p=6,\n",
       "                        weights='distance'))],\n",
       " [('knn_recall',\n",
       "   KNeighborsClassifier(algorithm='ball_tree', metric='l1', n_neighbors=9,\n",
       "                        weights='distance'))],\n",
       " [('nb', GaussianNB())],\n",
       " [('knn_accuracy',\n",
       "   KNeighborsClassifier(algorithm='brute', metric='l1', n_neighbors=3, p=6,\n",
       "                        weights='distance')),\n",
       "  ('knn_f1',\n",
       "   KNeighborsClassifier(algorithm='brute', metric='l1', n_neighbors=3, p=6,\n",
       "                        weights='distance'))],\n",
       " [('knn_accuracy',\n",
       "   KNeighborsClassifier(algorithm='brute', metric='l1', n_neighbors=3, p=6,\n",
       "                        weights='distance')),\n",
       "  ('knn_recall',\n",
       "   KNeighborsClassifier(algorithm='ball_tree', metric='l1', n_neighbors=9,\n",
       "                        weights='distance'))],\n",
       " [('knn_accuracy',\n",
       "   KNeighborsClassifier(algorithm='brute', metric='l1', n_neighbors=3, p=6,\n",
       "                        weights='distance')),\n",
       "  ('nb', GaussianNB())],\n",
       " [('knn_f1',\n",
       "   KNeighborsClassifier(algorithm='brute', metric='l1', n_neighbors=3, p=6,\n",
       "                        weights='distance')),\n",
       "  ('knn_recall',\n",
       "   KNeighborsClassifier(algorithm='ball_tree', metric='l1', n_neighbors=9,\n",
       "                        weights='distance'))],\n",
       " [('knn_f1',\n",
       "   KNeighborsClassifier(algorithm='brute', metric='l1', n_neighbors=3, p=6,\n",
       "                        weights='distance')),\n",
       "  ('nb', GaussianNB())],\n",
       " [('knn_recall',\n",
       "   KNeighborsClassifier(algorithm='ball_tree', metric='l1', n_neighbors=9,\n",
       "                        weights='distance')),\n",
       "  ('nb', GaussianNB())],\n",
       " [('knn_accuracy',\n",
       "   KNeighborsClassifier(algorithm='brute', metric='l1', n_neighbors=3, p=6,\n",
       "                        weights='distance')),\n",
       "  ('knn_f1',\n",
       "   KNeighborsClassifier(algorithm='brute', metric='l1', n_neighbors=3, p=6,\n",
       "                        weights='distance')),\n",
       "  ('knn_recall',\n",
       "   KNeighborsClassifier(algorithm='ball_tree', metric='l1', n_neighbors=9,\n",
       "                        weights='distance'))],\n",
       " [('knn_accuracy',\n",
       "   KNeighborsClassifier(algorithm='brute', metric='l1', n_neighbors=3, p=6,\n",
       "                        weights='distance')),\n",
       "  ('knn_f1',\n",
       "   KNeighborsClassifier(algorithm='brute', metric='l1', n_neighbors=3, p=6,\n",
       "                        weights='distance')),\n",
       "  ('nb', GaussianNB())],\n",
       " [('knn_accuracy',\n",
       "   KNeighborsClassifier(algorithm='brute', metric='l1', n_neighbors=3, p=6,\n",
       "                        weights='distance')),\n",
       "  ('knn_recall',\n",
       "   KNeighborsClassifier(algorithm='ball_tree', metric='l1', n_neighbors=9,\n",
       "                        weights='distance')),\n",
       "  ('nb', GaussianNB())],\n",
       " [('knn_f1',\n",
       "   KNeighborsClassifier(algorithm='brute', metric='l1', n_neighbors=3, p=6,\n",
       "                        weights='distance')),\n",
       "  ('knn_recall',\n",
       "   KNeighborsClassifier(algorithm='ball_tree', metric='l1', n_neighbors=9,\n",
       "                        weights='distance')),\n",
       "  ('nb', GaussianNB())],\n",
       " [('knn_accuracy',\n",
       "   KNeighborsClassifier(algorithm='brute', metric='l1', n_neighbors=3, p=6,\n",
       "                        weights='distance')),\n",
       "  ('knn_f1',\n",
       "   KNeighborsClassifier(algorithm='brute', metric='l1', n_neighbors=3, p=6,\n",
       "                        weights='distance')),\n",
       "  ('knn_recall',\n",
       "   KNeighborsClassifier(algorithm='ball_tree', metric='l1', n_neighbors=9,\n",
       "                        weights='distance')),\n",
       "  ('nb', GaussianNB())]]"
      ]
     },
     "execution_count": 59,
     "metadata": {},
     "output_type": "execute_result"
    }
   ],
   "source": [
    "list_of_classificators = [('knn_accuracy', knn_accuracy), ('knn_f1', knn_f1),('knn_recall', knn_recall), ('nb', GaussianNB())]\n",
    "list_of_combinations_of_classificators = []\n",
    "for i in range(1, len(list_of_classificators)+1):\n",
    "        for j in combinations(list_of_classificators, i):\n",
    "                list_of_combinations_of_classificators.append(list(j))\n",
    "list_of_combinations_of_classificators\n"
   ]
  },
  {
   "cell_type": "code",
   "execution_count": 63,
   "metadata": {},
   "outputs": [
    {
     "data": {
      "text/plain": [
       "[('knn_accuracy',\n",
       "  KNeighborsClassifier(algorithm='brute', metric='l1', n_neighbors=3, p=6,\n",
       "                       weights='distance')),\n",
       " ('knn_f1',\n",
       "  KNeighborsClassifier(algorithm='brute', metric='l1', n_neighbors=3, p=6,\n",
       "                       weights='distance'))]"
      ]
     },
     "execution_count": 63,
     "metadata": {},
     "output_type": "execute_result"
    }
   ],
   "source": [
    "list_of_combinations_of_classificators[4]"
   ]
  },
  {
   "cell_type": "code",
   "execution_count": 65,
   "metadata": {},
   "outputs": [
    {
     "name": "stderr",
     "output_type": "stream",
     "text": [
      "c:\\Users\\Mike\\AppData\\Local\\Programs\\Python\\Python39\\lib\\site-packages\\sklearn\\model_selection\\_validation.py:378: FitFailedWarning: \n",
      "5 fits failed out of a total of 20.\n",
      "The score on these train-test partitions for these parameters will be set to nan.\n",
      "If these failures are not expected, you can try to debug them by setting error_score='raise'.\n",
      "\n",
      "Below are more details about the failures:\n",
      "--------------------------------------------------------------------------------\n",
      "5 fits failed with the following error:\n",
      "Traceback (most recent call last):\n",
      "  File \"c:\\Users\\Mike\\AppData\\Local\\Programs\\Python\\Python39\\lib\\site-packages\\sklearn\\model_selection\\_validation.py\", line 686, in _fit_and_score\n",
      "    estimator.fit(X_train, y_train, **fit_params)\n",
      "  File \"c:\\Users\\Mike\\AppData\\Local\\Programs\\Python\\Python39\\lib\\site-packages\\sklearn\\ensemble\\_stacking.py\", line 660, in fit\n",
      "    return super().fit(X, y_encoded, sample_weight)\n",
      "  File \"c:\\Users\\Mike\\AppData\\Local\\Programs\\Python\\Python39\\lib\\site-packages\\sklearn\\ensemble\\_stacking.py\", line 227, in fit\n",
      "    self.stack_method_ = [\n",
      "  File \"c:\\Users\\Mike\\AppData\\Local\\Programs\\Python\\Python39\\lib\\site-packages\\sklearn\\ensemble\\_stacking.py\", line 228, in <listcomp>\n",
      "    self._method_name(name, est, meth)\n",
      "  File \"c:\\Users\\Mike\\AppData\\Local\\Programs\\Python\\Python39\\lib\\site-packages\\sklearn\\ensemble\\_stacking.py\", line 157, in _method_name\n",
      "    raise ValueError(\n",
      "ValueError: Underlying estimator knn_f1 does not implement the method decision_function.\n",
      "\n",
      "  warnings.warn(some_fits_failed_message, FitFailedWarning)\n",
      "c:\\Users\\Mike\\AppData\\Local\\Programs\\Python\\Python39\\lib\\site-packages\\sklearn\\model_selection\\_search.py:952: UserWarning: One or more of the test scores are non-finite: [0.89948135        nan 0.87816155 0.78849097]\n",
      "  warnings.warn(\n"
     ]
    },
    {
     "data": {
      "text/plain": [
       "{'stack_method': 'predict_proba',\n",
       " 'final_estimator': KNeighborsClassifier(algorithm='ball_tree', metric='l1', n_neighbors=9,\n",
       "                      weights='distance'),\n",
       " 'estimators': [('knn_f1',\n",
       "   KNeighborsClassifier(algorithm='brute', metric='l1', n_neighbors=3, p=6,\n",
       "                        weights='distance')),\n",
       "  ('knn_recall',\n",
       "   KNeighborsClassifier(algorithm='ball_tree', metric='l1', n_neighbors=9,\n",
       "                        weights='distance'))]}"
      ]
     },
     "execution_count": 65,
     "metadata": {},
     "output_type": "execute_result"
    }
   ],
   "source": [
    "stacking_classifie_optimall_params = RandomizedSearchCV(StackingClassifier(list_of_combinations_of_classificators[0]), \n",
    "                                                          {\n",
    "                                                            'estimators': list_of_combinations_of_classificators,\n",
    "                                                            'final_estimator': [knn_accuracy, knn_f1, knn_recall, GaussianNB()],\n",
    "                                                            'stack_method' : ['predict_proba', 'decision_function', 'predict', 'auto']\n",
    "                                                          },\n",
    "                                                          n_iter=4,\n",
    "                                                          n_jobs=4,\n",
    "                                                          scoring='recall',\n",
    "                                                          random_state=71\n",
    "                                                          ).fit(X_train, y_train)\n",
    "stacking_classifie_optimall_params.best_params_"
   ]
  },
  {
   "cell_type": "markdown",
   "metadata": {},
   "source": [
    "# Обучение"
   ]
  },
  {
   "cell_type": "code",
   "execution_count": 68,
   "metadata": {},
   "outputs": [
    {
     "data": {
      "text/html": [
       "<style>#sk-container-id-2 {color: black;background-color: white;}#sk-container-id-2 pre{padding: 0;}#sk-container-id-2 div.sk-toggleable {background-color: white;}#sk-container-id-2 label.sk-toggleable__label {cursor: pointer;display: block;width: 100%;margin-bottom: 0;padding: 0.3em;box-sizing: border-box;text-align: center;}#sk-container-id-2 label.sk-toggleable__label-arrow:before {content: \"▸\";float: left;margin-right: 0.25em;color: #696969;}#sk-container-id-2 label.sk-toggleable__label-arrow:hover:before {color: black;}#sk-container-id-2 div.sk-estimator:hover label.sk-toggleable__label-arrow:before {color: black;}#sk-container-id-2 div.sk-toggleable__content {max-height: 0;max-width: 0;overflow: hidden;text-align: left;background-color: #f0f8ff;}#sk-container-id-2 div.sk-toggleable__content pre {margin: 0.2em;color: black;border-radius: 0.25em;background-color: #f0f8ff;}#sk-container-id-2 input.sk-toggleable__control:checked~div.sk-toggleable__content {max-height: 200px;max-width: 100%;overflow: auto;}#sk-container-id-2 input.sk-toggleable__control:checked~label.sk-toggleable__label-arrow:before {content: \"▾\";}#sk-container-id-2 div.sk-estimator input.sk-toggleable__control:checked~label.sk-toggleable__label {background-color: #d4ebff;}#sk-container-id-2 div.sk-label input.sk-toggleable__control:checked~label.sk-toggleable__label {background-color: #d4ebff;}#sk-container-id-2 input.sk-hidden--visually {border: 0;clip: rect(1px 1px 1px 1px);clip: rect(1px, 1px, 1px, 1px);height: 1px;margin: -1px;overflow: hidden;padding: 0;position: absolute;width: 1px;}#sk-container-id-2 div.sk-estimator {font-family: monospace;background-color: #f0f8ff;border: 1px dotted black;border-radius: 0.25em;box-sizing: border-box;margin-bottom: 0.5em;}#sk-container-id-2 div.sk-estimator:hover {background-color: #d4ebff;}#sk-container-id-2 div.sk-parallel-item::after {content: \"\";width: 100%;border-bottom: 1px solid gray;flex-grow: 1;}#sk-container-id-2 div.sk-label:hover label.sk-toggleable__label {background-color: #d4ebff;}#sk-container-id-2 div.sk-serial::before {content: \"\";position: absolute;border-left: 1px solid gray;box-sizing: border-box;top: 0;bottom: 0;left: 50%;z-index: 0;}#sk-container-id-2 div.sk-serial {display: flex;flex-direction: column;align-items: center;background-color: white;padding-right: 0.2em;padding-left: 0.2em;position: relative;}#sk-container-id-2 div.sk-item {position: relative;z-index: 1;}#sk-container-id-2 div.sk-parallel {display: flex;align-items: stretch;justify-content: center;background-color: white;position: relative;}#sk-container-id-2 div.sk-item::before, #sk-container-id-2 div.sk-parallel-item::before {content: \"\";position: absolute;border-left: 1px solid gray;box-sizing: border-box;top: 0;bottom: 0;left: 50%;z-index: -1;}#sk-container-id-2 div.sk-parallel-item {display: flex;flex-direction: column;z-index: 1;position: relative;background-color: white;}#sk-container-id-2 div.sk-parallel-item:first-child::after {align-self: flex-end;width: 50%;}#sk-container-id-2 div.sk-parallel-item:last-child::after {align-self: flex-start;width: 50%;}#sk-container-id-2 div.sk-parallel-item:only-child::after {width: 0;}#sk-container-id-2 div.sk-dashed-wrapped {border: 1px dashed gray;margin: 0 0.4em 0.5em 0.4em;box-sizing: border-box;padding-bottom: 0.4em;background-color: white;}#sk-container-id-2 div.sk-label label {font-family: monospace;font-weight: bold;display: inline-block;line-height: 1.2em;}#sk-container-id-2 div.sk-label-container {text-align: center;}#sk-container-id-2 div.sk-container {/* jupyter's `normalize.less` sets `[hidden] { display: none; }` but bootstrap.min.css set `[hidden] { display: none !important; }` so we also need the `!important` here to be able to override the default hidden behavior on the sphinx rendered scikit-learn.org. See: https://github.com/scikit-learn/scikit-learn/issues/21755 */display: inline-block !important;position: relative;}#sk-container-id-2 div.sk-text-repr-fallback {display: none;}</style><div id=\"sk-container-id-2\" class=\"sk-top-container\"><div class=\"sk-text-repr-fallback\"><pre>StackingClassifier(estimators=[(&#x27;knn_f1&#x27;,\n",
       "                                KNeighborsClassifier(algorithm=&#x27;brute&#x27;,\n",
       "                                                     metric=&#x27;l1&#x27;, n_neighbors=3,\n",
       "                                                     p=6, weights=&#x27;distance&#x27;)),\n",
       "                               (&#x27;knn_recall&#x27;,\n",
       "                                KNeighborsClassifier(algorithm=&#x27;ball_tree&#x27;,\n",
       "                                                     metric=&#x27;l1&#x27;, n_neighbors=9,\n",
       "                                                     weights=&#x27;distance&#x27;))],\n",
       "                   final_estimator=KNeighborsClassifier(algorithm=&#x27;ball_tree&#x27;,\n",
       "                                                        metric=&#x27;l1&#x27;,\n",
       "                                                        n_neighbors=9,\n",
       "                                                        weights=&#x27;distance&#x27;),\n",
       "                   stack_method=&#x27;predict_proba&#x27;)</pre><b>In a Jupyter environment, please rerun this cell to show the HTML representation or trust the notebook. <br />On GitHub, the HTML representation is unable to render, please try loading this page with nbviewer.org.</b></div><div class=\"sk-container\" hidden><div class=\"sk-item sk-dashed-wrapped\"><div class=\"sk-label-container\"><div class=\"sk-label sk-toggleable\"><input class=\"sk-toggleable__control sk-hidden--visually\" id=\"sk-estimator-id-5\" type=\"checkbox\" ><label for=\"sk-estimator-id-5\" class=\"sk-toggleable__label sk-toggleable__label-arrow\">StackingClassifier</label><div class=\"sk-toggleable__content\"><pre>StackingClassifier(estimators=[(&#x27;knn_f1&#x27;,\n",
       "                                KNeighborsClassifier(algorithm=&#x27;brute&#x27;,\n",
       "                                                     metric=&#x27;l1&#x27;, n_neighbors=3,\n",
       "                                                     p=6, weights=&#x27;distance&#x27;)),\n",
       "                               (&#x27;knn_recall&#x27;,\n",
       "                                KNeighborsClassifier(algorithm=&#x27;ball_tree&#x27;,\n",
       "                                                     metric=&#x27;l1&#x27;, n_neighbors=9,\n",
       "                                                     weights=&#x27;distance&#x27;))],\n",
       "                   final_estimator=KNeighborsClassifier(algorithm=&#x27;ball_tree&#x27;,\n",
       "                                                        metric=&#x27;l1&#x27;,\n",
       "                                                        n_neighbors=9,\n",
       "                                                        weights=&#x27;distance&#x27;),\n",
       "                   stack_method=&#x27;predict_proba&#x27;)</pre></div></div></div><div class=\"sk-serial\"><div class=\"sk-item\"><div class=\"sk-parallel\"><div class=\"sk-parallel-item\"><div class=\"sk-item\"><div class=\"sk-label-container\"><div class=\"sk-label sk-toggleable\"><label>knn_f1</label></div></div><div class=\"sk-serial\"><div class=\"sk-item\"><div class=\"sk-estimator sk-toggleable\"><input class=\"sk-toggleable__control sk-hidden--visually\" id=\"sk-estimator-id-6\" type=\"checkbox\" ><label for=\"sk-estimator-id-6\" class=\"sk-toggleable__label sk-toggleable__label-arrow\">KNeighborsClassifier</label><div class=\"sk-toggleable__content\"><pre>KNeighborsClassifier(algorithm=&#x27;brute&#x27;, metric=&#x27;l1&#x27;, n_neighbors=3, p=6,\n",
       "                     weights=&#x27;distance&#x27;)</pre></div></div></div></div></div></div><div class=\"sk-parallel-item\"><div class=\"sk-item\"><div class=\"sk-label-container\"><div class=\"sk-label sk-toggleable\"><label>knn_recall</label></div></div><div class=\"sk-serial\"><div class=\"sk-item\"><div class=\"sk-estimator sk-toggleable\"><input class=\"sk-toggleable__control sk-hidden--visually\" id=\"sk-estimator-id-7\" type=\"checkbox\" ><label for=\"sk-estimator-id-7\" class=\"sk-toggleable__label sk-toggleable__label-arrow\">KNeighborsClassifier</label><div class=\"sk-toggleable__content\"><pre>KNeighborsClassifier(algorithm=&#x27;ball_tree&#x27;, metric=&#x27;l1&#x27;, n_neighbors=9,\n",
       "                     weights=&#x27;distance&#x27;)</pre></div></div></div></div></div></div></div></div><div class=\"sk-item\"><div class=\"sk-parallel\"><div class=\"sk-parallel-item\"><div class=\"sk-item\"><div class=\"sk-label-container\"><div class=\"sk-label sk-toggleable\"><label>final_estimator</label></div></div><div class=\"sk-serial\"><div class=\"sk-item\"><div class=\"sk-estimator sk-toggleable\"><input class=\"sk-toggleable__control sk-hidden--visually\" id=\"sk-estimator-id-8\" type=\"checkbox\" ><label for=\"sk-estimator-id-8\" class=\"sk-toggleable__label sk-toggleable__label-arrow\">KNeighborsClassifier</label><div class=\"sk-toggleable__content\"><pre>KNeighborsClassifier(algorithm=&#x27;ball_tree&#x27;, metric=&#x27;l1&#x27;, n_neighbors=9,\n",
       "                     weights=&#x27;distance&#x27;)</pre></div></div></div></div></div></div></div></div></div></div></div></div>"
      ],
      "text/plain": [
       "StackingClassifier(estimators=[('knn_f1',\n",
       "                                KNeighborsClassifier(algorithm='brute',\n",
       "                                                     metric='l1', n_neighbors=3,\n",
       "                                                     p=6, weights='distance')),\n",
       "                               ('knn_recall',\n",
       "                                KNeighborsClassifier(algorithm='ball_tree',\n",
       "                                                     metric='l1', n_neighbors=9,\n",
       "                                                     weights='distance'))],\n",
       "                   final_estimator=KNeighborsClassifier(algorithm='ball_tree',\n",
       "                                                        metric='l1',\n",
       "                                                        n_neighbors=9,\n",
       "                                                        weights='distance'),\n",
       "                   stack_method='predict_proba')"
      ]
     },
     "execution_count": 68,
     "metadata": {},
     "output_type": "execute_result"
    }
   ],
   "source": [
    "stacking_classifier = StackingClassifier(\n",
    "    estimators=stacking_classifie_optimall_params.best_params_['estimators'] if 'estimators' in stacking_classifie_optimall_params.best_params_ else list_of_classificators,\n",
    "    final_estimator=stacking_classifie_optimall_params.best_params_['final_estimator'] if 'final_estimator' in stacking_classifie_optimall_params.best_params_ else None,\n",
    "    stack_method=stacking_classifie_optimall_params.best_params_['stack_method'] if 'stack_method' in stacking_classifie_optimall_params.best_params_ else 'auto'\n",
    "    )\n",
    "stacking_classifier.fit(X_train, y_train)"
   ]
  },
  {
   "cell_type": "markdown",
   "metadata": {},
   "source": [
    "# Предсказание"
   ]
  },
  {
   "cell_type": "code",
   "execution_count": 69,
   "metadata": {},
   "outputs": [
    {
     "data": {
      "text/plain": [
       "array([1., 0., 1., ..., 0., 1., 0.])"
      ]
     },
     "execution_count": 69,
     "metadata": {},
     "output_type": "execute_result"
    }
   ],
   "source": [
    "y_predicted = stacking_classifier.predict(X_test)\n",
    "y_predicted"
   ]
  },
  {
   "cell_type": "markdown",
   "metadata": {},
   "source": [
    "# Оценка"
   ]
  },
  {
   "cell_type": "code",
   "execution_count": null,
   "metadata": {},
   "outputs": [
    {
     "name": "stdout",
     "output_type": "stream",
     "text": [
      "Accuracy\n",
      "0.8759128800378783\n"
     ]
    }
   ],
   "source": [
    "print('Accuracy')\n",
    "print(accuracy_score(y_test, y_predicted))"
   ]
  },
  {
   "cell_type": "code",
   "execution_count": 70,
   "metadata": {},
   "outputs": [
    {
     "name": "stdout",
     "output_type": "stream",
     "text": [
      "Confusion matrix\n",
      "[[58359 11375]\n",
      " [ 6932 62728]]\n"
     ]
    }
   ],
   "source": [
    "print('Confusion matrix')\n",
    "print(confusion_matrix(y_test, y_predicted))"
   ]
  },
  {
   "cell_type": "code",
   "execution_count": 71,
   "metadata": {},
   "outputs": [
    {
     "name": "stdout",
     "output_type": "stream",
     "text": [
      "Precision, Recall, F\n",
      "               precision    recall  f1-score   support\n",
      "\n",
      "         0.0       0.89      0.84      0.86     69734\n",
      "         1.0       0.85      0.90      0.87     69660\n",
      "\n",
      "    accuracy                           0.87    139394\n",
      "   macro avg       0.87      0.87      0.87    139394\n",
      "weighted avg       0.87      0.87      0.87    139394\n",
      "\n"
     ]
    }
   ],
   "source": [
    "print('Precision, Recall, F\\n', classification_report(y_test, y_predicted))"
   ]
  },
  {
   "cell_type": "code",
   "execution_count": 72,
   "metadata": {},
   "outputs": [
    {
     "data": {
      "text/plain": [
       "<sklearn.metrics._plot.roc_curve.RocCurveDisplay at 0x1eb0735afa0>"
      ]
     },
     "execution_count": 72,
     "metadata": {},
     "output_type": "execute_result"
    },
    {
     "data": {
      "image/png": "[encoded data removed]",
      "text/plain": [
       "<Figure size 432x288 with 1 Axes>"
      ]
     },
     "metadata": {
      "needs_background": "light"
     },
     "output_type": "display_data"
    }
   ],
   "source": [
    "fpr, tpr, thresholds = roc_curve(y_predicted, y_test)\n",
    "roc_auc = auc(fpr, tpr)\n",
    "display = RocCurveDisplay(fpr=fpr, tpr=tpr, roc_auc=roc_auc, estimator_name='example estimator')\n",
    "display.plot()"
   ]
  }
 ],
 "metadata": {
  "kernelspec": {
   "display_name": "Python 3",
   "language": "python",
   "name": "python3"
  },
  "language_info": {
   "codemirror_mode": {
    "name": "ipython",
    "version": 3
   },
   "file_extension": ".py",
   "mimetype": "text/x-python",
   "name": "python",
   "nbconvert_exporter": "python",
   "pygments_lexer": "ipython3",
   "version": "3.9.2"
  },
  "orig_nbformat": 4
 },
 "nbformat": 4,
 "nbformat_minor": 2
}
