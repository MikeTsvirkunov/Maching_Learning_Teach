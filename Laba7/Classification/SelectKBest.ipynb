{
 "cells": [
  {
   "attachments": {},
   "cell_type": "markdown",
   "metadata": {},
   "source": [
    "# Import"
   ]
  },
  {
   "cell_type": "code",
   "execution_count": 34,
   "metadata": {},
   "outputs": [],
   "source": [
    "import pandas as pd\n",
    "import matplotlib.pyplot as plt\n",
    "import numpy as np\n",
    "import seaborn as sns\n",
    "import matplotlib.gridspec as gridspec\n",
    "from sklearn.feature_selection import SelectKBest\n",
    "from sklearn.preprocessing import MinMaxScaler, StandardScaler, MaxAbsScaler\n",
    "from sklearn.feature_selection import VarianceThreshold\n",
    "from sklearn.model_selection import GridSearchCV, RandomizedSearchCV\n",
    "from sklearn.model_selection import train_test_split\n",
    "from sklearn.metrics import accuracy_score, f1_score, recall_score, mean_absolute_error, mean_squared_error, classification_report, roc_curve, RocCurveDisplay, auc\n",
    "from sklearn.preprocessing import PolynomialFeatures\n",
    "from sklearn.naive_bayes import GaussianNB\n",
    "from imblearn.over_sampling import SMOTE\n",
    "\n",
    "\n"
   ]
  },
  {
   "attachments": {},
   "cell_type": "markdown",
   "metadata": {},
   "source": [
    "# Load Dataset"
   ]
  },
  {
   "cell_type": "code",
   "execution_count": 35,
   "metadata": {},
   "outputs": [
    {
     "data": {
      "text/html": [
       "<div>\n",
       "<style scoped>\n",
       "    .dataframe tbody tr th:only-of-type {\n",
       "        vertical-align: middle;\n",
       "    }\n",
       "\n",
       "    .dataframe tbody tr th {\n",
       "        vertical-align: top;\n",
       "    }\n",
       "\n",
       "    .dataframe thead th {\n",
       "        text-align: right;\n",
       "    }\n",
       "</style>\n",
       "<table border=\"1\" class=\"dataframe\">\n",
       "  <thead>\n",
       "    <tr style=\"text-align: right;\">\n",
       "      <th></th>\n",
       "      <th>id</th>\n",
       "      <th>name</th>\n",
       "      <th>est_diameter_min</th>\n",
       "      <th>est_diameter_max</th>\n",
       "      <th>relative_velocity</th>\n",
       "      <th>miss_distance</th>\n",
       "      <th>absolute_magnitude</th>\n",
       "      <th>hazardous</th>\n",
       "    </tr>\n",
       "  </thead>\n",
       "  <tbody>\n",
       "    <tr>\n",
       "      <th>0</th>\n",
       "      <td>3561024.0</td>\n",
       "      <td>0</td>\n",
       "      <td>0.016016</td>\n",
       "      <td>0.035813</td>\n",
       "      <td>56014.078517</td>\n",
       "      <td>1.024333e+06</td>\n",
       "      <td>26.10</td>\n",
       "      <td>False</td>\n",
       "    </tr>\n",
       "    <tr>\n",
       "      <th>1</th>\n",
       "      <td>54016766.0</td>\n",
       "      <td>1</td>\n",
       "      <td>0.030518</td>\n",
       "      <td>0.068240</td>\n",
       "      <td>7864.348060</td>\n",
       "      <td>3.268186e+07</td>\n",
       "      <td>24.70</td>\n",
       "      <td>False</td>\n",
       "    </tr>\n",
       "    <tr>\n",
       "      <th>2</th>\n",
       "      <td>3746620.0</td>\n",
       "      <td>2</td>\n",
       "      <td>0.055533</td>\n",
       "      <td>0.124177</td>\n",
       "      <td>55257.544508</td>\n",
       "      <td>6.538636e+07</td>\n",
       "      <td>23.40</td>\n",
       "      <td>False</td>\n",
       "    </tr>\n",
       "    <tr>\n",
       "      <th>3</th>\n",
       "      <td>3633054.0</td>\n",
       "      <td>3</td>\n",
       "      <td>0.019256</td>\n",
       "      <td>0.043057</td>\n",
       "      <td>41531.404722</td>\n",
       "      <td>1.260796e+07</td>\n",
       "      <td>25.70</td>\n",
       "      <td>False</td>\n",
       "    </tr>\n",
       "    <tr>\n",
       "      <th>4</th>\n",
       "      <td>3742124.0</td>\n",
       "      <td>4</td>\n",
       "      <td>0.139494</td>\n",
       "      <td>0.311918</td>\n",
       "      <td>67639.394481</td>\n",
       "      <td>7.130590e+07</td>\n",
       "      <td>21.40</td>\n",
       "      <td>False</td>\n",
       "    </tr>\n",
       "    <tr>\n",
       "      <th>...</th>\n",
       "      <td>...</td>\n",
       "      <td>...</td>\n",
       "      <td>...</td>\n",
       "      <td>...</td>\n",
       "      <td>...</td>\n",
       "      <td>...</td>\n",
       "      <td>...</td>\n",
       "      <td>...</td>\n",
       "    </tr>\n",
       "    <tr>\n",
       "      <th>90831</th>\n",
       "      <td>54231436.0</td>\n",
       "      <td>27136</td>\n",
       "      <td>0.017561</td>\n",
       "      <td>0.039268</td>\n",
       "      <td>23264.740825</td>\n",
       "      <td>1.635007e+06</td>\n",
       "      <td>25.90</td>\n",
       "      <td>False</td>\n",
       "    </tr>\n",
       "    <tr>\n",
       "      <th>90832</th>\n",
       "      <td>3824972.0</td>\n",
       "      <td>7446</td>\n",
       "      <td>0.110804</td>\n",
       "      <td>0.247765</td>\n",
       "      <td>24802.519406</td>\n",
       "      <td>3.351901e+07</td>\n",
       "      <td>21.90</td>\n",
       "      <td>False</td>\n",
       "    </tr>\n",
       "    <tr>\n",
       "      <th>90833</th>\n",
       "      <td>3740101.0</td>\n",
       "      <td>8402</td>\n",
       "      <td>0.035039</td>\n",
       "      <td>0.078350</td>\n",
       "      <td>116288.999548</td>\n",
       "      <td>5.471396e+07</td>\n",
       "      <td>24.40</td>\n",
       "      <td>False</td>\n",
       "    </tr>\n",
       "    <tr>\n",
       "      <th>90834</th>\n",
       "      <td>3691093.0</td>\n",
       "      <td>18852</td>\n",
       "      <td>0.044112</td>\n",
       "      <td>0.098637</td>\n",
       "      <td>45763.317060</td>\n",
       "      <td>2.694877e+07</td>\n",
       "      <td>23.90</td>\n",
       "      <td>False</td>\n",
       "    </tr>\n",
       "    <tr>\n",
       "      <th>90835</th>\n",
       "      <td>3600600.0</td>\n",
       "      <td>1035</td>\n",
       "      <td>0.084441</td>\n",
       "      <td>0.188817</td>\n",
       "      <td>79519.526381</td>\n",
       "      <td>3.631207e+07</td>\n",
       "      <td>22.49</td>\n",
       "      <td>False</td>\n",
       "    </tr>\n",
       "  </tbody>\n",
       "</table>\n",
       "<p>88540 rows × 8 columns</p>\n",
       "</div>"
      ],
      "text/plain": [
       "               id   name  est_diameter_min  est_diameter_max   \n",
       "0       3561024.0      0          0.016016          0.035813  \\\n",
       "1      54016766.0      1          0.030518          0.068240   \n",
       "2       3746620.0      2          0.055533          0.124177   \n",
       "3       3633054.0      3          0.019256          0.043057   \n",
       "4       3742124.0      4          0.139494          0.311918   \n",
       "...           ...    ...               ...               ...   \n",
       "90831  54231436.0  27136          0.017561          0.039268   \n",
       "90832   3824972.0   7446          0.110804          0.247765   \n",
       "90833   3740101.0   8402          0.035039          0.078350   \n",
       "90834   3691093.0  18852          0.044112          0.098637   \n",
       "90835   3600600.0   1035          0.084441          0.188817   \n",
       "\n",
       "       relative_velocity  miss_distance  absolute_magnitude  hazardous  \n",
       "0           56014.078517   1.024333e+06               26.10      False  \n",
       "1            7864.348060   3.268186e+07               24.70      False  \n",
       "2           55257.544508   6.538636e+07               23.40      False  \n",
       "3           41531.404722   1.260796e+07               25.70      False  \n",
       "4           67639.394481   7.130590e+07               21.40      False  \n",
       "...                  ...            ...                 ...        ...  \n",
       "90831       23264.740825   1.635007e+06               25.90      False  \n",
       "90832       24802.519406   3.351901e+07               21.90      False  \n",
       "90833      116288.999548   5.471396e+07               24.40      False  \n",
       "90834       45763.317060   2.694877e+07               23.90      False  \n",
       "90835       79519.526381   3.631207e+07               22.49      False  \n",
       "\n",
       "[88540 rows x 8 columns]"
      ]
     },
     "execution_count": 35,
     "metadata": {},
     "output_type": "execute_result"
    }
   ],
   "source": [
    "data = pd.read_csv('../../Data/DataLaba2/neo_task.csv').dropna()\n",
    "data['name'] = pd.factorize(data['name'])[0]\n",
    "data\n"
   ]
  },
  {
   "attachments": {},
   "cell_type": "markdown",
   "metadata": {},
   "source": [
    "# Normalise data"
   ]
  },
  {
   "cell_type": "code",
   "execution_count": 36,
   "metadata": {},
   "outputs": [],
   "source": [
    "mm_scaler = MinMaxScaler()\n",
    "data_scaled = mm_scaler.fit_transform(data)\n",
    "data_scaled = pd.DataFrame(data_scaled, columns=data.columns)\n",
    "# data_scaled['date'] = data['date']\n",
    "# data_scaled\n",
    "data_scaled_x, hazardous = SMOTE().fit_resample(data_scaled.drop(['hazardous'], axis=1), data['hazardous'])\n",
    "# data_scaled_x = data.drop(['Appliances', 'date'], axis=1)\n",
    "\n"
   ]
  },
  {
   "cell_type": "code",
   "execution_count": 37,
   "metadata": {},
   "outputs": [
    {
     "data": {
      "text/html": [
       "<div>\n",
       "<style scoped>\n",
       "    .dataframe tbody tr th:only-of-type {\n",
       "        vertical-align: middle;\n",
       "    }\n",
       "\n",
       "    .dataframe tbody tr th {\n",
       "        vertical-align: top;\n",
       "    }\n",
       "\n",
       "    .dataframe thead th {\n",
       "        text-align: right;\n",
       "    }\n",
       "</style>\n",
       "<table border=\"1\" class=\"dataframe\">\n",
       "  <thead>\n",
       "    <tr style=\"text-align: right;\">\n",
       "      <th></th>\n",
       "      <th>id</th>\n",
       "      <th>name</th>\n",
       "      <th>est_diameter_min</th>\n",
       "      <th>est_diameter_max</th>\n",
       "      <th>relative_velocity</th>\n",
       "      <th>miss_distance</th>\n",
       "      <th>absolute_magnitude</th>\n",
       "    </tr>\n",
       "  </thead>\n",
       "  <tbody>\n",
       "    <tr>\n",
       "      <th>0</th>\n",
       "      <td>0.029853</td>\n",
       "      <td>0.000000</td>\n",
       "      <td>0.000407</td>\n",
       "      <td>0.000407</td>\n",
       "      <td>0.235700</td>\n",
       "      <td>0.013606</td>\n",
       "      <td>0.703796</td>\n",
       "    </tr>\n",
       "    <tr>\n",
       "      <th>1</th>\n",
       "      <td>0.995043</td>\n",
       "      <td>0.000037</td>\n",
       "      <td>0.000789</td>\n",
       "      <td>0.000789</td>\n",
       "      <td>0.032354</td>\n",
       "      <td>0.436880</td>\n",
       "      <td>0.645390</td>\n",
       "    </tr>\n",
       "    <tr>\n",
       "      <th>2</th>\n",
       "      <td>0.033404</td>\n",
       "      <td>0.000074</td>\n",
       "      <td>0.001450</td>\n",
       "      <td>0.001450</td>\n",
       "      <td>0.232505</td>\n",
       "      <td>0.874154</td>\n",
       "      <td>0.591156</td>\n",
       "    </tr>\n",
       "    <tr>\n",
       "      <th>3</th>\n",
       "      <td>0.031231</td>\n",
       "      <td>0.000111</td>\n",
       "      <td>0.000492</td>\n",
       "      <td>0.000492</td>\n",
       "      <td>0.174537</td>\n",
       "      <td>0.168484</td>\n",
       "      <td>0.687109</td>\n",
       "    </tr>\n",
       "    <tr>\n",
       "      <th>4</th>\n",
       "      <td>0.033318</td>\n",
       "      <td>0.000147</td>\n",
       "      <td>0.003665</td>\n",
       "      <td>0.003665</td>\n",
       "      <td>0.284797</td>\n",
       "      <td>0.953300</td>\n",
       "      <td>0.507718</td>\n",
       "    </tr>\n",
       "    <tr>\n",
       "      <th>...</th>\n",
       "      <td>...</td>\n",
       "      <td>...</td>\n",
       "      <td>...</td>\n",
       "      <td>...</td>\n",
       "      <td>...</td>\n",
       "      <td>...</td>\n",
       "      <td>...</td>\n",
       "    </tr>\n",
       "    <tr>\n",
       "      <th>159883</th>\n",
       "      <td>0.005021</td>\n",
       "      <td>0.046178</td>\n",
       "      <td>0.007278</td>\n",
       "      <td>0.007278</td>\n",
       "      <td>0.424891</td>\n",
       "      <td>0.906060</td>\n",
       "      <td>0.446283</td>\n",
       "    </tr>\n",
       "    <tr>\n",
       "      <th>159884</th>\n",
       "      <td>0.008379</td>\n",
       "      <td>0.265985</td>\n",
       "      <td>0.004203</td>\n",
       "      <td>0.004203</td>\n",
       "      <td>0.295490</td>\n",
       "      <td>0.815921</td>\n",
       "      <td>0.495367</td>\n",
       "    </tr>\n",
       "    <tr>\n",
       "      <th>159885</th>\n",
       "      <td>0.032710</td>\n",
       "      <td>0.214408</td>\n",
       "      <td>0.004362</td>\n",
       "      <td>0.004362</td>\n",
       "      <td>0.262384</td>\n",
       "      <td>0.254741</td>\n",
       "      <td>0.492067</td>\n",
       "    </tr>\n",
       "    <tr>\n",
       "      <th>159886</th>\n",
       "      <td>0.023501</td>\n",
       "      <td>0.472132</td>\n",
       "      <td>0.005501</td>\n",
       "      <td>0.005501</td>\n",
       "      <td>0.115337</td>\n",
       "      <td>0.233392</td>\n",
       "      <td>0.471932</td>\n",
       "    </tr>\n",
       "    <tr>\n",
       "      <th>159887</th>\n",
       "      <td>0.011092</td>\n",
       "      <td>0.073148</td>\n",
       "      <td>0.002783</td>\n",
       "      <td>0.002783</td>\n",
       "      <td>0.298667</td>\n",
       "      <td>0.910259</td>\n",
       "      <td>0.532538</td>\n",
       "    </tr>\n",
       "  </tbody>\n",
       "</table>\n",
       "<p>159888 rows × 7 columns</p>\n",
       "</div>"
      ],
      "text/plain": [
       "              id      name  est_diameter_min  est_diameter_max   \n",
       "0       0.029853  0.000000          0.000407          0.000407  \\\n",
       "1       0.995043  0.000037          0.000789          0.000789   \n",
       "2       0.033404  0.000074          0.001450          0.001450   \n",
       "3       0.031231  0.000111          0.000492          0.000492   \n",
       "4       0.033318  0.000147          0.003665          0.003665   \n",
       "...          ...       ...               ...               ...   \n",
       "159883  0.005021  0.046178          0.007278          0.007278   \n",
       "159884  0.008379  0.265985          0.004203          0.004203   \n",
       "159885  0.032710  0.214408          0.004362          0.004362   \n",
       "159886  0.023501  0.472132          0.005501          0.005501   \n",
       "159887  0.011092  0.073148          0.002783          0.002783   \n",
       "\n",
       "        relative_velocity  miss_distance  absolute_magnitude  \n",
       "0                0.235700       0.013606            0.703796  \n",
       "1                0.032354       0.436880            0.645390  \n",
       "2                0.232505       0.874154            0.591156  \n",
       "3                0.174537       0.168484            0.687109  \n",
       "4                0.284797       0.953300            0.507718  \n",
       "...                   ...            ...                 ...  \n",
       "159883           0.424891       0.906060            0.446283  \n",
       "159884           0.295490       0.815921            0.495367  \n",
       "159885           0.262384       0.254741            0.492067  \n",
       "159886           0.115337       0.233392            0.471932  \n",
       "159887           0.298667       0.910259            0.532538  \n",
       "\n",
       "[159888 rows x 7 columns]"
      ]
     },
     "execution_count": 37,
     "metadata": {},
     "output_type": "execute_result"
    }
   ],
   "source": [
    "data_scaled_x"
   ]
  },
  {
   "attachments": {},
   "cell_type": "markdown",
   "metadata": {},
   "source": [
    "# Power data"
   ]
  },
  {
   "cell_type": "code",
   "execution_count": 38,
   "metadata": {},
   "outputs": [
    {
     "data": {
      "text/plain": [
       "(159888, 8)"
      ]
     },
     "execution_count": 38,
     "metadata": {},
     "output_type": "execute_result"
    }
   ],
   "source": [
    "p = PolynomialFeatures(1)\n",
    "data_scaled_powered_x = p.fit_transform(data_scaled_x)\n",
    "data_scaled_powered_x.shape\n",
    "# data_scaled_powered_x = data_scaled_x.to_numpy()"
   ]
  },
  {
   "attachments": {},
   "cell_type": "markdown",
   "metadata": {},
   "source": [
    "# VarianceThreshold feature select"
   ]
  },
  {
   "cell_type": "code",
   "execution_count": 39,
   "metadata": {},
   "outputs": [
    {
     "data": {
      "text/plain": [
       "(8,)"
      ]
     },
     "execution_count": 39,
     "metadata": {},
     "output_type": "execute_result"
    }
   ],
   "source": [
    "data_scaled_powered_x.mean(axis=0).shape"
   ]
  },
  {
   "cell_type": "code",
   "execution_count": 40,
   "metadata": {},
   "outputs": [
    {
     "name": "stdout",
     "output_type": "stream",
     "text": [
      "1-\n",
      "2-\n",
      "3-\n",
      "4-\n",
      "5-\n",
      "6-\n",
      "7-\n"
     ]
    },
    {
     "name": "stderr",
     "output_type": "stream",
     "text": [
      "c:\\Users\\Mike\\Desktop\\4semak\\Maching_learning\\Maching_Learning\\lib\\site-packages\\sklearn\\feature_selection\\_univariate_selection.py:112: UserWarning: Features [0] are constant.\n",
      "  warnings.warn(\"Features %s are constant.\" % constant_features_idx, UserWarning)\n",
      "c:\\Users\\Mike\\Desktop\\4semak\\Maching_learning\\Maching_Learning\\lib\\site-packages\\sklearn\\feature_selection\\_univariate_selection.py:113: RuntimeWarning: invalid value encountered in divide\n",
      "  f = msb / msw\n",
      "c:\\Users\\Mike\\Desktop\\4semak\\Maching_learning\\Maching_Learning\\lib\\site-packages\\sklearn\\feature_selection\\_univariate_selection.py:112: UserWarning: Features [0] are constant.\n",
      "  warnings.warn(\"Features %s are constant.\" % constant_features_idx, UserWarning)\n",
      "c:\\Users\\Mike\\Desktop\\4semak\\Maching_learning\\Maching_Learning\\lib\\site-packages\\sklearn\\feature_selection\\_univariate_selection.py:113: RuntimeWarning: invalid value encountered in divide\n",
      "  f = msb / msw\n",
      "c:\\Users\\Mike\\Desktop\\4semak\\Maching_learning\\Maching_Learning\\lib\\site-packages\\sklearn\\feature_selection\\_univariate_selection.py:112: UserWarning: Features [0] are constant.\n",
      "  warnings.warn(\"Features %s are constant.\" % constant_features_idx, UserWarning)\n",
      "c:\\Users\\Mike\\Desktop\\4semak\\Maching_learning\\Maching_Learning\\lib\\site-packages\\sklearn\\feature_selection\\_univariate_selection.py:113: RuntimeWarning: invalid value encountered in divide\n",
      "  f = msb / msw\n",
      "c:\\Users\\Mike\\Desktop\\4semak\\Maching_learning\\Maching_Learning\\lib\\site-packages\\sklearn\\feature_selection\\_univariate_selection.py:112: UserWarning: Features [0] are constant.\n",
      "  warnings.warn(\"Features %s are constant.\" % constant_features_idx, UserWarning)\n",
      "c:\\Users\\Mike\\Desktop\\4semak\\Maching_learning\\Maching_Learning\\lib\\site-packages\\sklearn\\feature_selection\\_univariate_selection.py:113: RuntimeWarning: invalid value encountered in divide\n",
      "  f = msb / msw\n",
      "c:\\Users\\Mike\\Desktop\\4semak\\Maching_learning\\Maching_Learning\\lib\\site-packages\\sklearn\\feature_selection\\_univariate_selection.py:112: UserWarning: Features [0] are constant.\n",
      "  warnings.warn(\"Features %s are constant.\" % constant_features_idx, UserWarning)\n",
      "c:\\Users\\Mike\\Desktop\\4semak\\Maching_learning\\Maching_Learning\\lib\\site-packages\\sklearn\\feature_selection\\_univariate_selection.py:113: RuntimeWarning: invalid value encountered in divide\n",
      "  f = msb / msw\n",
      "c:\\Users\\Mike\\Desktop\\4semak\\Maching_learning\\Maching_Learning\\lib\\site-packages\\sklearn\\feature_selection\\_univariate_selection.py:112: UserWarning: Features [0] are constant.\n",
      "  warnings.warn(\"Features %s are constant.\" % constant_features_idx, UserWarning)\n",
      "c:\\Users\\Mike\\Desktop\\4semak\\Maching_learning\\Maching_Learning\\lib\\site-packages\\sklearn\\feature_selection\\_univariate_selection.py:113: RuntimeWarning: invalid value encountered in divide\n",
      "  f = msb / msw\n",
      "c:\\Users\\Mike\\Desktop\\4semak\\Maching_learning\\Maching_Learning\\lib\\site-packages\\sklearn\\feature_selection\\_univariate_selection.py:112: UserWarning: Features [0] are constant.\n",
      "  warnings.warn(\"Features %s are constant.\" % constant_features_idx, UserWarning)\n",
      "c:\\Users\\Mike\\Desktop\\4semak\\Maching_learning\\Maching_Learning\\lib\\site-packages\\sklearn\\feature_selection\\_univariate_selection.py:113: RuntimeWarning: invalid value encountered in divide\n",
      "  f = msb / msw\n"
     ]
    }
   ],
   "source": [
    "data_thresh_remove = []\n",
    "td = []\n",
    "for i in range(1, data_scaled_powered_x.shape[1]):\n",
    "    try:\n",
    "        skb = SelectKBest(k=i)\n",
    "        data_thresh_remove.append(skb.fit_transform(data_scaled_powered_x, hazardous))\n",
    "        td.append(i)\n",
    "        # X_vt.shape\n",
    "        print(f'{i}-')\n",
    "    except ValueError:\n",
    "        print(i)\n"
   ]
  },
  {
   "attachments": {},
   "cell_type": "markdown",
   "metadata": {},
   "source": [
    "# Predictors"
   ]
  },
  {
   "cell_type": "code",
   "execution_count": 41,
   "metadata": {},
   "outputs": [],
   "source": [
    "ridge_optimal_for_line_regressions = []\n",
    "data_splits = []\n",
    "for d in data_thresh_remove:\n",
    "    X_train, X_test, y_train, y_test = train_test_split(d, hazardous, test_size=0.2)\n",
    "    data_splits.append({'X_train': X_train, 'X_test': X_test, 'y_train': y_train, 'y_test': y_test})\n",
    "    # x = RandomizedSearchCV(SVC(), {'kernel': ['linear', 'poly', ]}, n_iter=5,\n",
    "    #                        n_jobs=3,\n",
    "    #                        scoring='f1',\n",
    "    #                        random_state=71).fit(X_train, y_train)\n",
    "    x = GaussianNB().fit(X_train, y_train)\n",
    "    ridge_optimal_for_line_regressions.append(x)\n",
    "    # print(1)\n",
    "# ridge_optimal_for_line_regression.best_params_\n"
   ]
  },
  {
   "cell_type": "code",
   "execution_count": 42,
   "metadata": {},
   "outputs": [],
   "source": [
    "# print([r.best_params_ for r in ridge_optimal_for_line_regressions])\n"
   ]
  },
  {
   "cell_type": "code",
   "execution_count": 43,
   "metadata": {},
   "outputs": [
    {
     "data": {
      "text/plain": [
       "(7, 7, 7)"
      ]
     },
     "execution_count": 43,
     "metadata": {},
     "output_type": "execute_result"
    }
   ],
   "source": [
    "len(ridge_optimal_for_line_regressions), len(data_splits), len(td)\n"
   ]
  },
  {
   "attachments": {},
   "cell_type": "markdown",
   "metadata": {},
   "source": [
    "# Result Analize"
   ]
  },
  {
   "cell_type": "code",
   "execution_count": 44,
   "metadata": {},
   "outputs": [],
   "source": [
    "def res(y_predicted, y_test):\n",
    "    print(#f\"MAE: {mean_absolute_error(y_predicted, y_test)}\",\n",
    "        #   f'RMSE: {mean_squared_error(y_predicted, y_test)}',\n",
    "          f'MSE: {accuracy_score(y_predicted, y_test)}',\n",
    "          f'MAPE: {recall_score(y_predicted, y_test)}',\n",
    "          f'R^2: {f1_score(y_predicted, y_test)}',\n",
    "          sep='\\n')\n"
   ]
  },
  {
   "cell_type": "code",
   "execution_count": 45,
   "metadata": {},
   "outputs": [
    {
     "data": {
      "text/plain": [
       "((31978,),\n",
       " 114712     True\n",
       " 42836      True\n",
       " 60182     False\n",
       " 62415     False\n",
       " 8677      False\n",
       "           ...  \n",
       " 37838     False\n",
       " 115126     True\n",
       " 17950     False\n",
       " 90511      True\n",
       " 44035     False\n",
       " Name: hazardous, Length: 31978, dtype: bool)"
      ]
     },
     "execution_count": 45,
     "metadata": {},
     "output_type": "execute_result"
    }
   ],
   "source": [
    "i = 0\n",
    "ridge_optimal_for_line_regressions[i].predict(data_splits[i]['X_test']).shape, data_splits[i]['y_test']\n"
   ]
  },
  {
   "cell_type": "code",
   "execution_count": 46,
   "metadata": {},
   "outputs": [
    {
     "name": "stdout",
     "output_type": "stream",
     "text": [
      "1) <><><><><><><><><><><><><><><><><><><><>\n",
      "MSE: 0.8640002501719932\n",
      "MAPE: 0.7948834392976082\n",
      "R^2: 0.8787058987588899\n",
      "\n",
      "\n",
      "2) <><><><><><><><><><><><><><><><><><><><>\n",
      "MSE: 0.8564950903746326\n",
      "MAPE: 0.8024222892192535\n",
      "R^2: 0.8705975241801314\n",
      "\n",
      "\n",
      "3) <><><><><><><><><><><><><><><><><><><><>\n",
      "MSE: 0.8513352930139471\n",
      "MAPE: 0.7973023009785771\n",
      "R^2: 0.86378223495702\n",
      "\n",
      "\n",
      "4) <><><><><><><><><><><><><><><><><><><><>\n",
      "MSE: 0.8524297954843956\n",
      "MAPE: 0.8002644802962179\n",
      "R^2: 0.865082768676559\n",
      "\n",
      "\n",
      "5) <><><><><><><><><><><><><><><><><><><><>\n",
      "MSE: 0.8414847707799112\n",
      "MAPE: 0.7915773681954565\n",
      "R^2: 0.853569055666291\n",
      "\n",
      "\n",
      "6) <><><><><><><><><><><><><><><><><><><><>\n",
      "MSE: 0.8406717118018637\n",
      "MAPE: 0.793981978116284\n",
      "R^2: 0.8531742601077779\n",
      "\n",
      "\n",
      "7) <><><><><><><><><><><><><><><><><><><><>\n",
      "MSE: 0.8355119144411783\n",
      "MAPE: 0.7886340441531933\n",
      "R^2: 0.8480822550831794\n",
      "\n",
      "\n"
     ]
    }
   ],
   "source": [
    "for i, m, d in zip(td, ridge_optimal_for_line_regressions, data_splits):\n",
    "    print(f'{i}) ' + '<>'*20)\n",
    "    res(m.predict(d['X_test']), d['y_test'])\n",
    "    print('\\n')\n",
    "    "
   ]
  },
  {
   "cell_type": "code",
   "execution_count": null,
   "metadata": {},
   "outputs": [],
   "source": []
  },
  {
   "cell_type": "code",
   "execution_count": 47,
   "metadata": {},
   "outputs": [
    {
     "data": {
      "image/png": "[encoded data removed]",
      "text/plain": [
       "<Figure size 500x800 with 3 Axes>"
      ]
     },
     "metadata": {},
     "output_type": "display_data"
    }
   ],
   "source": [
    "scores = [accuracy_score, recall_score, f1_score]\n",
    "fig = plt.figure(tight_layout=True)\n",
    "fig.set_figheight(8)\n",
    "fig.set_figwidth(5)\n",
    "gs = gridspec.GridSpec(len(scores), 1)\n",
    "for s in range(len(scores)):\n",
    "    x = []\n",
    "    y = []  \n",
    "    for i, m, d in zip(td, ridge_optimal_for_line_regressions, data_splits):\n",
    "        x.append(i)\n",
    "        y.append(scores[s](m.predict(d['X_test']), d['y_test']))\n",
    "        # print(x, y)\n",
    "    ax = fig.add_subplot(gs[s, 0])\n",
    "    ax.scatter(x, y, c='red')\n"
   ]
  },
  {
   "cell_type": "code",
   "execution_count": 48,
   "metadata": {},
   "outputs": [
    {
     "data": {
      "image/png": "[encoded data removed]",
      "text/plain": [
       "<Figure size 500x1000 with 7 Axes>"
      ]
     },
     "metadata": {},
     "output_type": "display_data"
    }
   ],
   "source": [
    "fig = plt.figure(tight_layout=True)\n",
    "fig.set_figheight(10)\n",
    "fig.set_figwidth(5)\n",
    "gs = gridspec.GridSpec(len(ridge_optimal_for_line_regressions), 1)\n",
    "\n",
    "for i, m, d in zip(range(len(ridge_optimal_for_line_regressions)), ridge_optimal_for_line_regressions, data_splits):\n",
    "    ax = fig.add_subplot(gs[i, 0])\n",
    "    # ax.scatter(m, d['y_test'], c='red')\n",
    "    fpr, tpr, thresholds = roc_curve(m.predict(d['X_test'][:1000]), d['y_test'][:1000])\n",
    "    roc_auc = auc(fpr, tpr)\n",
    "    # display = RocCurveDisplay(fpr=fpr, tpr=tpr, roc_auc=roc_auc, estimator_name='example estimator')\n",
    "    # display.plot()\n",
    "    ax.plot(fpr, tpr, c='red')\n",
    "    ax.set_title()\n"
   ]
  }
 ],
 "metadata": {
  "kernelspec": {
   "display_name": "Python 3",
   "language": "python",
   "name": "python3"
  },
  "language_info": {
   "codemirror_mode": {
    "name": "ipython",
    "version": 3
   },
   "file_extension": ".py",
   "mimetype": "text/x-python",
   "name": "python",
   "nbconvert_exporter": "python",
   "pygments_lexer": "ipython3",
   "version": "3.9.2"
  },
  "orig_nbformat": 4
 },
 "nbformat": 4,
 "nbformat_minor": 2
}
