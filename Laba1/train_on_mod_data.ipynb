{
 "cells": [
  {
   "cell_type": "markdown",
   "id": "43dfc1f0",
   "metadata": {},
   "source": [
    "# Лабораторная работа 1. Введение в машинное обучение. Обучение с учителем. Задача регрессии"
   ]
  },
  {
   "cell_type": "markdown",
   "id": "af0b0580",
   "metadata": {},
   "source": [
    "<b>Традиционное предупреждение для всех лабораторных работ:</b> перед обучением моделей необходимо выполнить предварительную обработку данных, которая <b>обязательно</b> включает в себя:\n",
    "- заполнение пропущенных значений (рекомедуется логика заполнения пропусков на основе типа данных, которая использовалась в РГР по Практикуму);\n",
    "- преобразование категориальных признаков в числовые (используйте one-hot кодирование или map; используйте знания с Практикума)."
   ]
  },
  {
   "cell_type": "markdown",
   "id": "b08d9e23",
   "metadata": {},
   "source": [
    "Предобработка может включать в себя другие действия, но выполнение описанных выше действий обязательно."
   ]
  },
  {
   "cell_type": "markdown",
   "id": "05aab9d1",
   "metadata": {},
   "source": [
    "Сделайте это один раз и сохраните в отдельный csv файл, а потом его используйте."
   ]
  },
  {
   "cell_type": "markdown",
   "id": "e053af5b",
   "metadata": {},
   "source": [
    "<b>Выполните следующие задания:</b>\n",
    "- загрузите датасет для регрессии, выделите целевой признак и предикторы, разбейте данные на обучающую и тестовую выборку;\n",
    "- решите задачу регрессии на ваших данных с использованием моделей sklearn (линейная регрессия + L1, L2), для моделей с регуляризациями подберите гиперпараметр;\n",
    "- решите задачу регрессии на ваших данных с использованием моделей sklearn (полиномиальная регрессия + L1, L2), для моделей с регуляризациями подберите гиперпараметр;\n",
    "- вычислите значения метрик $R^2$, MAE, MSE, RMSE, MAPE для всех обученных моделей; выберите лучшую модель;\n",
    "- самостоятельно реализуйте (желательно в виде класса) модель линейной регрессии с регуляризацией (можете выбрать L1 или L2);\n",
    "- самостоятельно реализуйте вычисление всех используемых метрик (в виде функций, принимающих два аргумента);\n",
    "- обучите вашу модель линейной регрессии на ваших данных; оцените качество с помощью реализованных вами метрик."
   ]
  },
  {
   "attachments": {},
   "cell_type": "markdown",
   "id": "8986202d",
   "metadata": {},
   "source": [
    "# Импорт"
   ]
  },
  {
   "cell_type": "code",
   "execution_count": 29,
   "id": "dab4a51e",
   "metadata": {},
   "outputs": [],
   "source": [
    "import pandas as pd\n",
    "import matplotlib.pyplot as plt\n",
    "import numpy as np\n",
    "import seaborn as sns\n",
    "from sklearn.model_selection import train_test_split\n",
    "from sklearn.linear_model import LinearRegression, Lasso, Ridge\n",
    "from sklearn.metrics import mean_absolute_error, mean_squared_error, mean_absolute_percentage_error\n",
    "\n",
    "# omsky_gamedev"
   ]
  },
  {
   "attachments": {},
   "cell_type": "markdown",
   "id": "d67212c3",
   "metadata": {},
   "source": [
    "# Основное задание"
   ]
  },
  {
   "attachments": {},
   "cell_type": "markdown",
   "id": "73fba933",
   "metadata": {},
   "source": [
    "### Загрузите датасет для регрессии."
   ]
  },
  {
   "cell_type": "code",
   "execution_count": 49,
   "id": "d3ab724d",
   "metadata": {},
   "outputs": [
    {
     "data": {
      "text/html": [
       "<div>\n",
       "<style scoped>\n",
       "    .dataframe tbody tr th:only-of-type {\n",
       "        vertical-align: middle;\n",
       "    }\n",
       "\n",
       "    .dataframe tbody tr th {\n",
       "        vertical-align: top;\n",
       "    }\n",
       "\n",
       "    .dataframe thead th {\n",
       "        text-align: right;\n",
       "    }\n",
       "</style>\n",
       "<table border=\"1\" class=\"dataframe\">\n",
       "  <thead>\n",
       "    <tr style=\"text-align: right;\">\n",
       "      <th></th>\n",
       "      <th>Appliances</th>\n",
       "      <th>lights</th>\n",
       "      <th>T1</th>\n",
       "      <th>RH_1</th>\n",
       "      <th>T2</th>\n",
       "      <th>RH_2</th>\n",
       "      <th>T3</th>\n",
       "      <th>RH_3</th>\n",
       "      <th>T4</th>\n",
       "      <th>RH_4</th>\n",
       "      <th>...</th>\n",
       "      <th>T_out</th>\n",
       "      <th>Press_mm_hg</th>\n",
       "      <th>RH_out</th>\n",
       "      <th>Windspeed</th>\n",
       "      <th>Visibility</th>\n",
       "      <th>Tdewpoint</th>\n",
       "      <th>day</th>\n",
       "      <th>month</th>\n",
       "      <th>year</th>\n",
       "      <th>time</th>\n",
       "    </tr>\n",
       "  </thead>\n",
       "  <tbody>\n",
       "    <tr>\n",
       "      <th>0</th>\n",
       "      <td>60.0</td>\n",
       "      <td>30.0</td>\n",
       "      <td>19.890000</td>\n",
       "      <td>47.596667</td>\n",
       "      <td>19.200000</td>\n",
       "      <td>44.790000</td>\n",
       "      <td>19.790000</td>\n",
       "      <td>44.730000</td>\n",
       "      <td>19.000000</td>\n",
       "      <td>45.566667</td>\n",
       "      <td>...</td>\n",
       "      <td>6.60</td>\n",
       "      <td>733.5</td>\n",
       "      <td>92.000000</td>\n",
       "      <td>7.000000</td>\n",
       "      <td>63.000000</td>\n",
       "      <td>5.3</td>\n",
       "      <td>11.0</td>\n",
       "      <td>1.0</td>\n",
       "      <td>2016.0</td>\n",
       "      <td>1020.0</td>\n",
       "    </tr>\n",
       "    <tr>\n",
       "      <th>1</th>\n",
       "      <td>60.0</td>\n",
       "      <td>30.0</td>\n",
       "      <td>19.890000</td>\n",
       "      <td>46.693333</td>\n",
       "      <td>19.200000</td>\n",
       "      <td>44.722500</td>\n",
       "      <td>19.790000</td>\n",
       "      <td>44.790000</td>\n",
       "      <td>19.000000</td>\n",
       "      <td>45.992500</td>\n",
       "      <td>...</td>\n",
       "      <td>6.48</td>\n",
       "      <td>733.6</td>\n",
       "      <td>92.000000</td>\n",
       "      <td>6.666667</td>\n",
       "      <td>59.166667</td>\n",
       "      <td>5.2</td>\n",
       "      <td>11.0</td>\n",
       "      <td>1.0</td>\n",
       "      <td>2016.0</td>\n",
       "      <td>1030.0</td>\n",
       "    </tr>\n",
       "    <tr>\n",
       "      <th>2</th>\n",
       "      <td>50.0</td>\n",
       "      <td>30.0</td>\n",
       "      <td>19.890000</td>\n",
       "      <td>46.300000</td>\n",
       "      <td>19.200000</td>\n",
       "      <td>44.626667</td>\n",
       "      <td>19.790000</td>\n",
       "      <td>44.933333</td>\n",
       "      <td>18.926667</td>\n",
       "      <td>45.890000</td>\n",
       "      <td>...</td>\n",
       "      <td>6.37</td>\n",
       "      <td>733.7</td>\n",
       "      <td>92.000000</td>\n",
       "      <td>6.333333</td>\n",
       "      <td>55.333333</td>\n",
       "      <td>5.1</td>\n",
       "      <td>11.0</td>\n",
       "      <td>1.0</td>\n",
       "      <td>2016.0</td>\n",
       "      <td>1040.0</td>\n",
       "    </tr>\n",
       "    <tr>\n",
       "      <th>3</th>\n",
       "      <td>50.0</td>\n",
       "      <td>40.0</td>\n",
       "      <td>19.890000</td>\n",
       "      <td>46.066667</td>\n",
       "      <td>19.200000</td>\n",
       "      <td>44.590000</td>\n",
       "      <td>19.790000</td>\n",
       "      <td>45.000000</td>\n",
       "      <td>18.890000</td>\n",
       "      <td>45.723333</td>\n",
       "      <td>...</td>\n",
       "      <td>6.25</td>\n",
       "      <td>733.8</td>\n",
       "      <td>92.000000</td>\n",
       "      <td>6.000000</td>\n",
       "      <td>51.500000</td>\n",
       "      <td>5.0</td>\n",
       "      <td>11.0</td>\n",
       "      <td>1.0</td>\n",
       "      <td>2016.0</td>\n",
       "      <td>1050.0</td>\n",
       "    </tr>\n",
       "    <tr>\n",
       "      <th>4</th>\n",
       "      <td>60.0</td>\n",
       "      <td>40.0</td>\n",
       "      <td>19.890000</td>\n",
       "      <td>46.333333</td>\n",
       "      <td>19.200000</td>\n",
       "      <td>44.530000</td>\n",
       "      <td>19.790000</td>\n",
       "      <td>45.000000</td>\n",
       "      <td>18.890000</td>\n",
       "      <td>45.530000</td>\n",
       "      <td>...</td>\n",
       "      <td>6.13</td>\n",
       "      <td>733.9</td>\n",
       "      <td>92.000000</td>\n",
       "      <td>5.666667</td>\n",
       "      <td>47.666667</td>\n",
       "      <td>4.9</td>\n",
       "      <td>11.0</td>\n",
       "      <td>1.0</td>\n",
       "      <td>2016.0</td>\n",
       "      <td>1060.0</td>\n",
       "    </tr>\n",
       "    <tr>\n",
       "      <th>...</th>\n",
       "      <td>...</td>\n",
       "      <td>...</td>\n",
       "      <td>...</td>\n",
       "      <td>...</td>\n",
       "      <td>...</td>\n",
       "      <td>...</td>\n",
       "      <td>...</td>\n",
       "      <td>...</td>\n",
       "      <td>...</td>\n",
       "      <td>...</td>\n",
       "      <td>...</td>\n",
       "      <td>...</td>\n",
       "      <td>...</td>\n",
       "      <td>...</td>\n",
       "      <td>...</td>\n",
       "      <td>...</td>\n",
       "      <td>...</td>\n",
       "      <td>...</td>\n",
       "      <td>...</td>\n",
       "      <td>...</td>\n",
       "      <td>...</td>\n",
       "    </tr>\n",
       "    <tr>\n",
       "      <th>19730</th>\n",
       "      <td>100.0</td>\n",
       "      <td>0.0</td>\n",
       "      <td>25.566667</td>\n",
       "      <td>46.560000</td>\n",
       "      <td>25.890000</td>\n",
       "      <td>42.025714</td>\n",
       "      <td>27.200000</td>\n",
       "      <td>41.163333</td>\n",
       "      <td>24.700000</td>\n",
       "      <td>45.590000</td>\n",
       "      <td>...</td>\n",
       "      <td>22.70</td>\n",
       "      <td>755.2</td>\n",
       "      <td>55.666667</td>\n",
       "      <td>3.333333</td>\n",
       "      <td>23.666667</td>\n",
       "      <td>13.3</td>\n",
       "      <td>27.0</td>\n",
       "      <td>5.0</td>\n",
       "      <td>2016.0</td>\n",
       "      <td>1040.0</td>\n",
       "    </tr>\n",
       "    <tr>\n",
       "      <th>19731</th>\n",
       "      <td>90.0</td>\n",
       "      <td>0.0</td>\n",
       "      <td>25.500000</td>\n",
       "      <td>46.500000</td>\n",
       "      <td>25.754000</td>\n",
       "      <td>42.080000</td>\n",
       "      <td>27.133333</td>\n",
       "      <td>41.223333</td>\n",
       "      <td>24.700000</td>\n",
       "      <td>45.590000</td>\n",
       "      <td>...</td>\n",
       "      <td>22.60</td>\n",
       "      <td>755.2</td>\n",
       "      <td>56.000000</td>\n",
       "      <td>3.500000</td>\n",
       "      <td>24.500000</td>\n",
       "      <td>13.3</td>\n",
       "      <td>27.0</td>\n",
       "      <td>5.0</td>\n",
       "      <td>2016.0</td>\n",
       "      <td>1050.0</td>\n",
       "    </tr>\n",
       "    <tr>\n",
       "      <th>19732</th>\n",
       "      <td>270.0</td>\n",
       "      <td>10.0</td>\n",
       "      <td>25.500000</td>\n",
       "      <td>46.596667</td>\n",
       "      <td>25.628571</td>\n",
       "      <td>42.768571</td>\n",
       "      <td>27.050000</td>\n",
       "      <td>41.690000</td>\n",
       "      <td>24.700000</td>\n",
       "      <td>45.730000</td>\n",
       "      <td>...</td>\n",
       "      <td>22.50</td>\n",
       "      <td>755.2</td>\n",
       "      <td>56.333333</td>\n",
       "      <td>3.666667</td>\n",
       "      <td>25.333333</td>\n",
       "      <td>13.3</td>\n",
       "      <td>27.0</td>\n",
       "      <td>5.0</td>\n",
       "      <td>2016.0</td>\n",
       "      <td>1060.0</td>\n",
       "    </tr>\n",
       "    <tr>\n",
       "      <th>19733</th>\n",
       "      <td>420.0</td>\n",
       "      <td>10.0</td>\n",
       "      <td>25.500000</td>\n",
       "      <td>46.990000</td>\n",
       "      <td>25.414000</td>\n",
       "      <td>43.036000</td>\n",
       "      <td>26.890000</td>\n",
       "      <td>41.290000</td>\n",
       "      <td>24.700000</td>\n",
       "      <td>45.790000</td>\n",
       "      <td>...</td>\n",
       "      <td>22.30</td>\n",
       "      <td>755.2</td>\n",
       "      <td>56.666667</td>\n",
       "      <td>3.833333</td>\n",
       "      <td>26.166667</td>\n",
       "      <td>13.2</td>\n",
       "      <td>27.0</td>\n",
       "      <td>5.0</td>\n",
       "      <td>2016.0</td>\n",
       "      <td>1070.0</td>\n",
       "    </tr>\n",
       "    <tr>\n",
       "      <th>19734</th>\n",
       "      <td>430.0</td>\n",
       "      <td>10.0</td>\n",
       "      <td>25.500000</td>\n",
       "      <td>46.600000</td>\n",
       "      <td>25.264286</td>\n",
       "      <td>42.971429</td>\n",
       "      <td>26.823333</td>\n",
       "      <td>41.156667</td>\n",
       "      <td>24.700000</td>\n",
       "      <td>45.963333</td>\n",
       "      <td>...</td>\n",
       "      <td>22.20</td>\n",
       "      <td>755.2</td>\n",
       "      <td>57.000000</td>\n",
       "      <td>4.000000</td>\n",
       "      <td>27.000000</td>\n",
       "      <td>13.2</td>\n",
       "      <td>27.0</td>\n",
       "      <td>5.0</td>\n",
       "      <td>2016.0</td>\n",
       "      <td>1080.0</td>\n",
       "    </tr>\n",
       "  </tbody>\n",
       "</table>\n",
       "<p>19735 rows × 30 columns</p>\n",
       "</div>"
      ],
      "text/plain": [
       "       Appliances  lights         T1       RH_1         T2       RH_2  \\\n",
       "0            60.0    30.0  19.890000  47.596667  19.200000  44.790000   \n",
       "1            60.0    30.0  19.890000  46.693333  19.200000  44.722500   \n",
       "2            50.0    30.0  19.890000  46.300000  19.200000  44.626667   \n",
       "3            50.0    40.0  19.890000  46.066667  19.200000  44.590000   \n",
       "4            60.0    40.0  19.890000  46.333333  19.200000  44.530000   \n",
       "...           ...     ...        ...        ...        ...        ...   \n",
       "19730       100.0     0.0  25.566667  46.560000  25.890000  42.025714   \n",
       "19731        90.0     0.0  25.500000  46.500000  25.754000  42.080000   \n",
       "19732       270.0    10.0  25.500000  46.596667  25.628571  42.768571   \n",
       "19733       420.0    10.0  25.500000  46.990000  25.414000  43.036000   \n",
       "19734       430.0    10.0  25.500000  46.600000  25.264286  42.971429   \n",
       "\n",
       "              T3       RH_3         T4       RH_4  ...  T_out  Press_mm_hg  \\\n",
       "0      19.790000  44.730000  19.000000  45.566667  ...   6.60        733.5   \n",
       "1      19.790000  44.790000  19.000000  45.992500  ...   6.48        733.6   \n",
       "2      19.790000  44.933333  18.926667  45.890000  ...   6.37        733.7   \n",
       "3      19.790000  45.000000  18.890000  45.723333  ...   6.25        733.8   \n",
       "4      19.790000  45.000000  18.890000  45.530000  ...   6.13        733.9   \n",
       "...          ...        ...        ...        ...  ...    ...          ...   \n",
       "19730  27.200000  41.163333  24.700000  45.590000  ...  22.70        755.2   \n",
       "19731  27.133333  41.223333  24.700000  45.590000  ...  22.60        755.2   \n",
       "19732  27.050000  41.690000  24.700000  45.730000  ...  22.50        755.2   \n",
       "19733  26.890000  41.290000  24.700000  45.790000  ...  22.30        755.2   \n",
       "19734  26.823333  41.156667  24.700000  45.963333  ...  22.20        755.2   \n",
       "\n",
       "          RH_out  Windspeed  Visibility  Tdewpoint   day  month    year  \\\n",
       "0      92.000000   7.000000   63.000000        5.3  11.0    1.0  2016.0   \n",
       "1      92.000000   6.666667   59.166667        5.2  11.0    1.0  2016.0   \n",
       "2      92.000000   6.333333   55.333333        5.1  11.0    1.0  2016.0   \n",
       "3      92.000000   6.000000   51.500000        5.0  11.0    1.0  2016.0   \n",
       "4      92.000000   5.666667   47.666667        4.9  11.0    1.0  2016.0   \n",
       "...          ...        ...         ...        ...   ...    ...     ...   \n",
       "19730  55.666667   3.333333   23.666667       13.3  27.0    5.0  2016.0   \n",
       "19731  56.000000   3.500000   24.500000       13.3  27.0    5.0  2016.0   \n",
       "19732  56.333333   3.666667   25.333333       13.3  27.0    5.0  2016.0   \n",
       "19733  56.666667   3.833333   26.166667       13.2  27.0    5.0  2016.0   \n",
       "19734  57.000000   4.000000   27.000000       13.2  27.0    5.0  2016.0   \n",
       "\n",
       "         time  \n",
       "0      1020.0  \n",
       "1      1030.0  \n",
       "2      1040.0  \n",
       "3      1050.0  \n",
       "4      1060.0  \n",
       "...       ...  \n",
       "19730  1040.0  \n",
       "19731  1050.0  \n",
       "19732  1060.0  \n",
       "19733  1070.0  \n",
       "19734  1080.0  \n",
       "\n",
       "[19735 rows x 30 columns]"
      ]
     },
     "execution_count": 49,
     "metadata": {},
     "output_type": "execute_result"
    }
   ],
   "source": [
    "models = pd.read_csv('../Data/energy_task_moded.csv')\n",
    "models"
   ]
  },
  {
   "attachments": {},
   "cell_type": "markdown",
   "id": "ac6d629c",
   "metadata": {},
   "source": [
    "## Решите задачу регрессии на ваших данных с использованием моделей sklearn (линейная регрессия + L1, L2), для моделей с регуляризациями подберите гиперпараметр;"
   ]
  },
  {
   "attachments": {},
   "cell_type": "markdown",
   "id": "f33c58b4",
   "metadata": {},
   "source": [
    "### Разбиваем на выборку"
   ]
  },
  {
   "cell_type": "code",
   "execution_count": 40,
   "id": "d48b22d3",
   "metadata": {},
   "outputs": [],
   "source": [
    "X_train, X_test, y_train, y_test = train_test_split(models.drop('Appliances', axis=1), models['Appliances'], test_size=0.7)\n"
   ]
  },
  {
   "attachments": {},
   "cell_type": "markdown",
   "id": "4c8e3af2",
   "metadata": {},
   "source": [
    "### Обуение"
   ]
  },
  {
   "cell_type": "code",
   "execution_count": 41,
   "id": "f0e466cd",
   "metadata": {},
   "outputs": [
    {
     "data": {
      "text/plain": [
       "array([ 34.03942519,  93.90396831,  33.34935291, ...,  89.00937336,\n",
       "       122.0452582 ,  50.08987206])"
      ]
     },
     "execution_count": 41,
     "metadata": {},
     "output_type": "execute_result"
    }
   ],
   "source": [
    "reg = LinearRegression().fit(X_train, y_train)\n",
    "reg.predict(X_test)"
   ]
  },
  {
   "attachments": {},
   "cell_type": "markdown",
   "id": "79d7c5ab",
   "metadata": {},
   "source": [
    "### Значения ошибок: <br>\n",
    "- средней абсолютной ошибки;\n",
    "- средней квадраттичной ошибки (MSE);\n",
    "- средней квадраттичной ошибки под корнем (RMSE);\n",
    "- средней абсолютной процентной ошибки;"
   ]
  },
  {
   "cell_type": "code",
   "execution_count": 42,
   "id": "babe7bbd",
   "metadata": {},
   "outputs": [
    {
     "name": "stdout",
     "output_type": "stream",
     "text": [
      "MAE: 53.372304770498076\n",
      "RMSE: 8916.806517719837\n",
      "MSE: 94.42884367458831\n",
      "MAPE: 0.5999985564611633\n",
      "R^2: 0.15995777651128618\n"
     ]
    }
   ],
   "source": [
    "print(f\"MAE: {mean_absolute_error(reg.predict(X_test), y_test)}\",\n",
    "      f'RMSE: {mean_squared_error(reg.predict(X_test), y_test)}',\n",
    "      f'MSE: {mean_squared_error(reg.predict(X_test), y_test)**0.5}',\n",
    "      f'MAPE: {mean_absolute_percentage_error(reg.predict(X_test), y_test)}',\n",
    "      f'R^2: {reg.score(X_test, y_test)}',\n",
    "      sep='\\n')\n"
   ]
  },
  {
   "attachments": {},
   "cell_type": "markdown",
   "id": "920a51d4",
   "metadata": {},
   "source": [
    "### Значение весов."
   ]
  },
  {
   "cell_type": "code",
   "execution_count": 43,
   "id": "be93258f",
   "metadata": {},
   "outputs": [
    {
     "name": "stdout",
     "output_type": "stream",
     "text": [
      "29\n",
      "[ 2.08250809e+00 -3.13839421e+00  1.40920679e+01 -1.29246911e+01\n",
      " -1.10674255e+01  2.70287701e+01  4.65885750e+00 -5.19675581e+00\n",
      " -3.66481756e+00  1.80765885e+00 -1.02424370e-01  6.40277675e+00\n",
      "  2.80076490e-02 -8.89213758e-01 -1.44494332e+00  6.51189770e+00\n",
      " -3.63218265e+00 -1.03446571e+01  1.18077807e-01 -5.14843905e+00\n",
      "  3.48378152e-01  2.74970551e-01  1.99860945e+00 -8.03213094e-03\n",
      "  4.73321153e-01 -3.46560615e-01 -1.17557217e+01  0.00000000e+00\n",
      "  1.72513937e-02]\n"
     ]
    }
   ],
   "source": [
    "print(len(reg.coef_), reg.coef_, sep='\\n')\n"
   ]
  },
  {
   "attachments": {},
   "cell_type": "markdown",
   "id": "95bcac0b",
   "metadata": {},
   "source": [
    "### Предварительные результаты"
   ]
  },
  {
   "cell_type": "code",
   "execution_count": 44,
   "id": "61f07f32",
   "metadata": {},
   "outputs": [
    {
     "data": {
      "text/plain": [
       "[<matplotlib.lines.Line2D at 0x21fcbafa940>,\n",
       " <matplotlib.lines.Line2D at 0x21fcbafa880>,\n",
       " <matplotlib.lines.Line2D at 0x21fcbafab20>,\n",
       " <matplotlib.lines.Line2D at 0x21fcbafabe0>,\n",
       " <matplotlib.lines.Line2D at 0x21fcbafacd0>,\n",
       " <matplotlib.lines.Line2D at 0x21fcbafadc0>,\n",
       " <matplotlib.lines.Line2D at 0x21fcbafaeb0>,\n",
       " <matplotlib.lines.Line2D at 0x21fcbafafa0>,\n",
       " <matplotlib.lines.Line2D at 0x21fcbb090d0>,\n",
       " <matplotlib.lines.Line2D at 0x21fcbb091c0>,\n",
       " <matplotlib.lines.Line2D at 0x21fcbb092b0>,\n",
       " <matplotlib.lines.Line2D at 0x21fcbb093a0>,\n",
       " <matplotlib.lines.Line2D at 0x21fcbb09490>,\n",
       " <matplotlib.lines.Line2D at 0x21fcbb09580>,\n",
       " <matplotlib.lines.Line2D at 0x21fcbb09670>,\n",
       " <matplotlib.lines.Line2D at 0x21fcbb09760>,\n",
       " <matplotlib.lines.Line2D at 0x21fcbb09850>,\n",
       " <matplotlib.lines.Line2D at 0x21fcbb09940>,\n",
       " <matplotlib.lines.Line2D at 0x21fcbb09a30>,\n",
       " <matplotlib.lines.Line2D at 0x21fcbb09b20>,\n",
       " <matplotlib.lines.Line2D at 0x21fcbb09c10>,\n",
       " <matplotlib.lines.Line2D at 0x21fcbb09d00>,\n",
       " <matplotlib.lines.Line2D at 0x21fcbb09df0>,\n",
       " <matplotlib.lines.Line2D at 0x21fcbb09ee0>,\n",
       " <matplotlib.lines.Line2D at 0x21fcbb09fd0>,\n",
       " <matplotlib.lines.Line2D at 0x21fcbb10100>,\n",
       " <matplotlib.lines.Line2D at 0x21fcbb101f0>,\n",
       " <matplotlib.lines.Line2D at 0x21fcbb102e0>,\n",
       " <matplotlib.lines.Line2D at 0x21fcbb103d0>]"
      ]
     },
     "execution_count": 44,
     "metadata": {},
     "output_type": "execute_result"
    },
    {
     "data": {
      "image/png": "[encoded data removed]",
      "text/plain": [
       "<Figure size 640x480 with 1 Axes>"
      ]
     },
     "metadata": {},
     "output_type": "display_data"
    }
   ],
   "source": [
    "plt.plot(X_test, y_test, 'ro', markersize=3)\n",
    "plt.plot(X_test, reg.predict(X_test), 'bo', markersize=1)"
   ]
  },
  {
   "attachments": {},
   "cell_type": "markdown",
   "id": "ebedc8da",
   "metadata": {},
   "source": [
    "### Ridge"
   ]
  },
  {
   "cell_type": "code",
   "execution_count": 57,
   "id": "1247e128",
   "metadata": {},
   "outputs": [
    {
     "name": "stdout",
     "output_type": "stream",
     "text": [
      "MAE: 53.37199289760862\n",
      "RMSE: 8916.805253529554\n",
      "MSE: 94.42883698071026\n",
      "MAPE: 0.5989689475010951\n",
      "R^2: 0.15995789560921836\n"
     ]
    },
    {
     "data": {
      "text/plain": [
       "array([ 2.08257289e+00, -3.13803848e+00,  1.40901174e+01, -1.29184073e+01,\n",
       "       -1.10645081e+01,  2.70229653e+01,  4.65890202e+00, -5.19748480e+00,\n",
       "       -3.66495787e+00,  1.80566288e+00, -1.02402071e-01,  6.40171700e+00,\n",
       "        2.80574714e-02, -8.90013529e-01, -1.44515236e+00,  6.51035452e+00,\n",
       "       -3.63197443e+00, -1.03411251e+01,  1.18293123e-01, -5.14757962e+00,\n",
       "        3.48301454e-01,  2.74875806e-01,  1.99874300e+00, -8.02723563e-03,\n",
       "        4.72550892e-01, -3.46359045e-01, -1.17495031e+01,  0.00000000e+00,\n",
       "        1.72523262e-02])"
      ]
     },
     "execution_count": 57,
     "metadata": {},
     "output_type": "execute_result"
    }
   ],
   "source": [
    "ridge = Ridge(alpha=0.4).fit(X_train, y_train)\n",
    "y_result = ridge.predict(X_test)\n",
    "print(f\"MAE: {mean_absolute_error(y_result, y_test)}\",\n",
    "      f'RMSE: {mean_squared_error(y_result, y_test)}',\n",
    "      f'MSE: {mean_squared_error(y_result, y_test)**0.5}',\n",
    "      f'MAPE: {mean_absolute_percentage_error(y_result, y_test)}',\n",
    "      f'R^2: {ridge.score(X_test, y_test)}',\n",
    "      sep='\\n')\n",
    "ridge.coef_"
   ]
  },
  {
   "cell_type": "code",
   "execution_count": 51,
   "id": "641fd1a1",
   "metadata": {},
   "outputs": [
    {
     "data": {
      "text/plain": [
       "[<matplotlib.lines.Line2D at 0x21fcbc7f730>,\n",
       " <matplotlib.lines.Line2D at 0x21fcbc7f670>,\n",
       " <matplotlib.lines.Line2D at 0x21fcbc7f910>,\n",
       " <matplotlib.lines.Line2D at 0x21fcbc7f9d0>,\n",
       " <matplotlib.lines.Line2D at 0x21fcbc7fac0>,\n",
       " <matplotlib.lines.Line2D at 0x21fcbc7fbb0>,\n",
       " <matplotlib.lines.Line2D at 0x21fcbc7fca0>,\n",
       " <matplotlib.lines.Line2D at 0x21fcbc7fd90>,\n",
       " <matplotlib.lines.Line2D at 0x21fcbc7fe80>,\n",
       " <matplotlib.lines.Line2D at 0x21fcbc7ff70>,\n",
       " <matplotlib.lines.Line2D at 0x21fcbc8a0a0>,\n",
       " <matplotlib.lines.Line2D at 0x21fcbc8a190>,\n",
       " <matplotlib.lines.Line2D at 0x21fcbc8a280>,\n",
       " <matplotlib.lines.Line2D at 0x21fcbc8a370>,\n",
       " <matplotlib.lines.Line2D at 0x21fcbc8a460>,\n",
       " <matplotlib.lines.Line2D at 0x21fcbc8a550>,\n",
       " <matplotlib.lines.Line2D at 0x21fcbc8a640>,\n",
       " <matplotlib.lines.Line2D at 0x21fcbc8a730>,\n",
       " <matplotlib.lines.Line2D at 0x21fcbc8a820>,\n",
       " <matplotlib.lines.Line2D at 0x21fcbc8a910>,\n",
       " <matplotlib.lines.Line2D at 0x21fcbc8aa00>,\n",
       " <matplotlib.lines.Line2D at 0x21fcbc8aaf0>,\n",
       " <matplotlib.lines.Line2D at 0x21fcbc8abe0>,\n",
       " <matplotlib.lines.Line2D at 0x21fcbc8acd0>,\n",
       " <matplotlib.lines.Line2D at 0x21fcbc8adc0>,\n",
       " <matplotlib.lines.Line2D at 0x21fcbc8aeb0>,\n",
       " <matplotlib.lines.Line2D at 0x21fcbc8afa0>,\n",
       " <matplotlib.lines.Line2D at 0x21fd38210d0>,\n",
       " <matplotlib.lines.Line2D at 0x21fd38211c0>]"
      ]
     },
     "execution_count": 51,
     "metadata": {},
     "output_type": "execute_result"
    },
    {
     "data": {
      "image/png": "[encoded data removed]",
      "text/plain": [
       "<Figure size 640x480 with 1 Axes>"
      ]
     },
     "metadata": {},
     "output_type": "display_data"
    }
   ],
   "source": [
    "plt.plot(X_test, y_test, 'ro', markersize=3)\n",
    "plt.plot(X_test, ridge.predict(X_test), 'bo', markersize=1)"
   ]
  },
  {
   "attachments": {},
   "cell_type": "markdown",
   "id": "aacc2bc8",
   "metadata": {},
   "source": [
    "### Lasso"
   ]
  },
  {
   "cell_type": "code",
   "execution_count": 48,
   "id": "e842066c",
   "metadata": {},
   "outputs": [
    {
     "name": "stdout",
     "output_type": "stream",
     "text": [
      "MAE: 53.372304770498076\n",
      "RMSE: 8916.806517719837\n",
      "MSE: 94.42884367458831\n",
      "MAPE: 0.5999985564611633\n",
      "R^2: 0.15995777651128618\n"
     ]
    },
    {
     "data": {
      "text/plain": [
       "array([ 2.11444845e+00, -6.56722612e-01,  1.30932605e+01, -9.91247583e+00,\n",
       "       -9.45038649e+00,  2.33938585e+01,  3.94502168e+00, -5.52124240e+00,\n",
       "       -3.03401848e+00, -0.00000000e+00, -7.02555056e-02,  5.24386179e+00,\n",
       "        6.52956848e-02, -0.00000000e+00, -1.75859417e+00,  3.43458102e+00,\n",
       "       -3.23436513e+00, -8.28568413e+00,  0.00000000e+00, -4.25687926e+00,\n",
       "        2.17905544e-01,  1.60906545e-01,  1.84195306e+00,  2.07306511e-03,\n",
       "       -0.00000000e+00, -2.19366928e-01, -7.42986626e+00,  0.00000000e+00,\n",
       "        1.77018717e-02])"
      ]
     },
     "execution_count": 48,
     "metadata": {},
     "output_type": "execute_result"
    }
   ],
   "source": [
    "lasso = Lasso(alpha=0.7).fit(X_train, y_train)\n",
    "print(f\"MAE: {mean_absolute_error(reg.predict(X_test), y_test)}\",\n",
    "      f'RMSE: {mean_squared_error(reg.predict(X_test), y_test)}',\n",
    "      f'MSE: {mean_squared_error(reg.predict(X_test), y_test)**0.5}',\n",
    "      f'MAPE: {mean_absolute_percentage_error(reg.predict(X_test), y_test)}',\n",
    "      f'R^2: {reg.score(X_test, y_test)}',\n",
    "      sep='\\n')\n",
    "lasso.coef_"
   ]
  }
 ],
 "metadata": {
  "kernelspec": {
   "display_name": "Maching_Learning",
   "language": "python",
   "name": "python3"
  },
  "language_info": {
   "codemirror_mode": {
    "name": "ipython",
    "version": 3
   },
   "file_extension": ".py",
   "mimetype": "text/x-python",
   "name": "python",
   "nbconvert_exporter": "python",
   "pygments_lexer": "ipython3",
   "version": "3.9.2"
  },
  "vscode": {
   "interpreter": {
    "hash": "72fa092132459f2e9e0e62acfe6b07e699dc0f19c1369114b8b6fdbd4fdea11c"
   }
  }
 },
 "nbformat": 4,
 "nbformat_minor": 5
}
