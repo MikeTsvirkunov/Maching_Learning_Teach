{
 "cells": [
  {
   "cell_type": "markdown",
   "metadata": {},
   "source": [
    "# Импорт"
   ]
  },
  {
   "cell_type": "code",
   "execution_count": 1,
   "metadata": {},
   "outputs": [],
   "source": [
    "import pandas as pd\n",
    "import matplotlib.pyplot as plt\n",
    "import numpy as np\n",
    "from sklearn.model_selection import train_test_split\n",
    "from sklearn.linear_model import LinearRegression, Lasso, Ridge\n",
    "from sklearn.metrics import mean_absolute_error, mean_squared_error, mean_absolute_percentage_error\n",
    "from sklearn.model_selection import GridSearchCV\n",
    "from sklearn.preprocessing import PolynomialFeatures\n",
    "from sklearn.pipeline import make_pipeline\n",
    "import matplotlib.gridspec as gridspec\n",
    "import joblib\n",
    "# omsky_gamedev"
   ]
  },
  {
   "cell_type": "markdown",
   "metadata": {},
   "source": [
    "# Загрузка датасета для регрессии."
   ]
  },
  {
   "cell_type": "code",
   "execution_count": 2,
   "metadata": {},
   "outputs": [
    {
     "data": {
      "text/html": [
       "<div>\n",
       "<style scoped>\n",
       "    .dataframe tbody tr th:only-of-type {\n",
       "        vertical-align: middle;\n",
       "    }\n",
       "\n",
       "    .dataframe tbody tr th {\n",
       "        vertical-align: top;\n",
       "    }\n",
       "\n",
       "    .dataframe thead th {\n",
       "        text-align: right;\n",
       "    }\n",
       "</style>\n",
       "<table border=\"1\" class=\"dataframe\">\n",
       "  <thead>\n",
       "    <tr style=\"text-align: right;\">\n",
       "      <th></th>\n",
       "      <th>Appliances</th>\n",
       "      <th>lights</th>\n",
       "      <th>T1</th>\n",
       "      <th>RH_1</th>\n",
       "      <th>T2</th>\n",
       "      <th>RH_2</th>\n",
       "      <th>T3</th>\n",
       "      <th>RH_3</th>\n",
       "      <th>T4</th>\n",
       "      <th>RH_4</th>\n",
       "      <th>...</th>\n",
       "      <th>T_out</th>\n",
       "      <th>Press_mm_hg</th>\n",
       "      <th>RH_out</th>\n",
       "      <th>Windspeed</th>\n",
       "      <th>Visibility</th>\n",
       "      <th>Tdewpoint</th>\n",
       "      <th>day</th>\n",
       "      <th>month</th>\n",
       "      <th>year</th>\n",
       "      <th>time</th>\n",
       "    </tr>\n",
       "  </thead>\n",
       "  <tbody>\n",
       "    <tr>\n",
       "      <th>0</th>\n",
       "      <td>60</td>\n",
       "      <td>30</td>\n",
       "      <td>19.890000</td>\n",
       "      <td>47.596667</td>\n",
       "      <td>19.200000</td>\n",
       "      <td>44.790000</td>\n",
       "      <td>19.790000</td>\n",
       "      <td>44.730000</td>\n",
       "      <td>19.000000</td>\n",
       "      <td>45.566667</td>\n",
       "      <td>...</td>\n",
       "      <td>6.60</td>\n",
       "      <td>733.5</td>\n",
       "      <td>92.000000</td>\n",
       "      <td>7.000000</td>\n",
       "      <td>63.000000</td>\n",
       "      <td>5.3</td>\n",
       "      <td>11</td>\n",
       "      <td>1</td>\n",
       "      <td>2016</td>\n",
       "      <td>1020</td>\n",
       "    </tr>\n",
       "    <tr>\n",
       "      <th>1</th>\n",
       "      <td>60</td>\n",
       "      <td>30</td>\n",
       "      <td>19.890000</td>\n",
       "      <td>46.693333</td>\n",
       "      <td>19.200000</td>\n",
       "      <td>44.722500</td>\n",
       "      <td>19.790000</td>\n",
       "      <td>44.790000</td>\n",
       "      <td>19.000000</td>\n",
       "      <td>45.992500</td>\n",
       "      <td>...</td>\n",
       "      <td>6.48</td>\n",
       "      <td>733.6</td>\n",
       "      <td>92.000000</td>\n",
       "      <td>6.666667</td>\n",
       "      <td>59.166667</td>\n",
       "      <td>5.2</td>\n",
       "      <td>11</td>\n",
       "      <td>1</td>\n",
       "      <td>2016</td>\n",
       "      <td>1030</td>\n",
       "    </tr>\n",
       "    <tr>\n",
       "      <th>2</th>\n",
       "      <td>50</td>\n",
       "      <td>30</td>\n",
       "      <td>19.890000</td>\n",
       "      <td>46.300000</td>\n",
       "      <td>19.200000</td>\n",
       "      <td>44.626667</td>\n",
       "      <td>19.790000</td>\n",
       "      <td>44.933333</td>\n",
       "      <td>18.926667</td>\n",
       "      <td>45.890000</td>\n",
       "      <td>...</td>\n",
       "      <td>6.37</td>\n",
       "      <td>733.7</td>\n",
       "      <td>92.000000</td>\n",
       "      <td>6.333333</td>\n",
       "      <td>55.333333</td>\n",
       "      <td>5.1</td>\n",
       "      <td>11</td>\n",
       "      <td>1</td>\n",
       "      <td>2016</td>\n",
       "      <td>1040</td>\n",
       "    </tr>\n",
       "    <tr>\n",
       "      <th>3</th>\n",
       "      <td>50</td>\n",
       "      <td>40</td>\n",
       "      <td>19.890000</td>\n",
       "      <td>46.066667</td>\n",
       "      <td>19.200000</td>\n",
       "      <td>44.590000</td>\n",
       "      <td>19.790000</td>\n",
       "      <td>45.000000</td>\n",
       "      <td>18.890000</td>\n",
       "      <td>45.723333</td>\n",
       "      <td>...</td>\n",
       "      <td>6.25</td>\n",
       "      <td>733.8</td>\n",
       "      <td>92.000000</td>\n",
       "      <td>6.000000</td>\n",
       "      <td>51.500000</td>\n",
       "      <td>5.0</td>\n",
       "      <td>11</td>\n",
       "      <td>1</td>\n",
       "      <td>2016</td>\n",
       "      <td>1050</td>\n",
       "    </tr>\n",
       "    <tr>\n",
       "      <th>4</th>\n",
       "      <td>60</td>\n",
       "      <td>40</td>\n",
       "      <td>19.890000</td>\n",
       "      <td>46.333333</td>\n",
       "      <td>19.200000</td>\n",
       "      <td>44.530000</td>\n",
       "      <td>19.790000</td>\n",
       "      <td>45.000000</td>\n",
       "      <td>18.890000</td>\n",
       "      <td>45.530000</td>\n",
       "      <td>...</td>\n",
       "      <td>6.13</td>\n",
       "      <td>733.9</td>\n",
       "      <td>92.000000</td>\n",
       "      <td>5.666667</td>\n",
       "      <td>47.666667</td>\n",
       "      <td>4.9</td>\n",
       "      <td>11</td>\n",
       "      <td>1</td>\n",
       "      <td>2016</td>\n",
       "      <td>1060</td>\n",
       "    </tr>\n",
       "    <tr>\n",
       "      <th>...</th>\n",
       "      <td>...</td>\n",
       "      <td>...</td>\n",
       "      <td>...</td>\n",
       "      <td>...</td>\n",
       "      <td>...</td>\n",
       "      <td>...</td>\n",
       "      <td>...</td>\n",
       "      <td>...</td>\n",
       "      <td>...</td>\n",
       "      <td>...</td>\n",
       "      <td>...</td>\n",
       "      <td>...</td>\n",
       "      <td>...</td>\n",
       "      <td>...</td>\n",
       "      <td>...</td>\n",
       "      <td>...</td>\n",
       "      <td>...</td>\n",
       "      <td>...</td>\n",
       "      <td>...</td>\n",
       "      <td>...</td>\n",
       "      <td>...</td>\n",
       "    </tr>\n",
       "    <tr>\n",
       "      <th>18533</th>\n",
       "      <td>100</td>\n",
       "      <td>0</td>\n",
       "      <td>25.566667</td>\n",
       "      <td>46.560000</td>\n",
       "      <td>25.890000</td>\n",
       "      <td>42.025714</td>\n",
       "      <td>27.200000</td>\n",
       "      <td>41.163333</td>\n",
       "      <td>24.700000</td>\n",
       "      <td>45.590000</td>\n",
       "      <td>...</td>\n",
       "      <td>22.70</td>\n",
       "      <td>755.2</td>\n",
       "      <td>55.666667</td>\n",
       "      <td>3.333333</td>\n",
       "      <td>23.666667</td>\n",
       "      <td>13.3</td>\n",
       "      <td>27</td>\n",
       "      <td>5</td>\n",
       "      <td>2016</td>\n",
       "      <td>1040</td>\n",
       "    </tr>\n",
       "    <tr>\n",
       "      <th>18534</th>\n",
       "      <td>90</td>\n",
       "      <td>0</td>\n",
       "      <td>25.500000</td>\n",
       "      <td>46.500000</td>\n",
       "      <td>25.754000</td>\n",
       "      <td>42.080000</td>\n",
       "      <td>27.133333</td>\n",
       "      <td>41.223333</td>\n",
       "      <td>24.700000</td>\n",
       "      <td>45.590000</td>\n",
       "      <td>...</td>\n",
       "      <td>22.60</td>\n",
       "      <td>755.2</td>\n",
       "      <td>56.000000</td>\n",
       "      <td>3.500000</td>\n",
       "      <td>24.500000</td>\n",
       "      <td>13.3</td>\n",
       "      <td>27</td>\n",
       "      <td>5</td>\n",
       "      <td>2016</td>\n",
       "      <td>1050</td>\n",
       "    </tr>\n",
       "    <tr>\n",
       "      <th>18535</th>\n",
       "      <td>270</td>\n",
       "      <td>10</td>\n",
       "      <td>25.500000</td>\n",
       "      <td>46.596667</td>\n",
       "      <td>25.628571</td>\n",
       "      <td>42.768571</td>\n",
       "      <td>27.050000</td>\n",
       "      <td>41.690000</td>\n",
       "      <td>24.700000</td>\n",
       "      <td>45.730000</td>\n",
       "      <td>...</td>\n",
       "      <td>22.50</td>\n",
       "      <td>755.2</td>\n",
       "      <td>56.333333</td>\n",
       "      <td>3.666667</td>\n",
       "      <td>25.333333</td>\n",
       "      <td>13.3</td>\n",
       "      <td>27</td>\n",
       "      <td>5</td>\n",
       "      <td>2016</td>\n",
       "      <td>1060</td>\n",
       "    </tr>\n",
       "    <tr>\n",
       "      <th>18536</th>\n",
       "      <td>420</td>\n",
       "      <td>10</td>\n",
       "      <td>25.500000</td>\n",
       "      <td>46.990000</td>\n",
       "      <td>25.414000</td>\n",
       "      <td>43.036000</td>\n",
       "      <td>26.890000</td>\n",
       "      <td>41.290000</td>\n",
       "      <td>24.700000</td>\n",
       "      <td>45.790000</td>\n",
       "      <td>...</td>\n",
       "      <td>22.30</td>\n",
       "      <td>755.2</td>\n",
       "      <td>56.666667</td>\n",
       "      <td>3.833333</td>\n",
       "      <td>26.166667</td>\n",
       "      <td>13.2</td>\n",
       "      <td>27</td>\n",
       "      <td>5</td>\n",
       "      <td>2016</td>\n",
       "      <td>1070</td>\n",
       "    </tr>\n",
       "    <tr>\n",
       "      <th>18537</th>\n",
       "      <td>430</td>\n",
       "      <td>10</td>\n",
       "      <td>25.500000</td>\n",
       "      <td>46.600000</td>\n",
       "      <td>25.264286</td>\n",
       "      <td>42.971429</td>\n",
       "      <td>26.823333</td>\n",
       "      <td>41.156667</td>\n",
       "      <td>24.700000</td>\n",
       "      <td>45.963333</td>\n",
       "      <td>...</td>\n",
       "      <td>22.20</td>\n",
       "      <td>755.2</td>\n",
       "      <td>57.000000</td>\n",
       "      <td>4.000000</td>\n",
       "      <td>27.000000</td>\n",
       "      <td>13.2</td>\n",
       "      <td>27</td>\n",
       "      <td>5</td>\n",
       "      <td>2016</td>\n",
       "      <td>1080</td>\n",
       "    </tr>\n",
       "  </tbody>\n",
       "</table>\n",
       "<p>18538 rows × 30 columns</p>\n",
       "</div>"
      ],
      "text/plain": [
       "       Appliances  lights         T1       RH_1         T2       RH_2  \\\n",
       "0              60      30  19.890000  47.596667  19.200000  44.790000   \n",
       "1              60      30  19.890000  46.693333  19.200000  44.722500   \n",
       "2              50      30  19.890000  46.300000  19.200000  44.626667   \n",
       "3              50      40  19.890000  46.066667  19.200000  44.590000   \n",
       "4              60      40  19.890000  46.333333  19.200000  44.530000   \n",
       "...           ...     ...        ...        ...        ...        ...   \n",
       "18533         100       0  25.566667  46.560000  25.890000  42.025714   \n",
       "18534          90       0  25.500000  46.500000  25.754000  42.080000   \n",
       "18535         270      10  25.500000  46.596667  25.628571  42.768571   \n",
       "18536         420      10  25.500000  46.990000  25.414000  43.036000   \n",
       "18537         430      10  25.500000  46.600000  25.264286  42.971429   \n",
       "\n",
       "              T3       RH_3         T4       RH_4  ...  T_out  Press_mm_hg  \\\n",
       "0      19.790000  44.730000  19.000000  45.566667  ...   6.60        733.5   \n",
       "1      19.790000  44.790000  19.000000  45.992500  ...   6.48        733.6   \n",
       "2      19.790000  44.933333  18.926667  45.890000  ...   6.37        733.7   \n",
       "3      19.790000  45.000000  18.890000  45.723333  ...   6.25        733.8   \n",
       "4      19.790000  45.000000  18.890000  45.530000  ...   6.13        733.9   \n",
       "...          ...        ...        ...        ...  ...    ...          ...   \n",
       "18533  27.200000  41.163333  24.700000  45.590000  ...  22.70        755.2   \n",
       "18534  27.133333  41.223333  24.700000  45.590000  ...  22.60        755.2   \n",
       "18535  27.050000  41.690000  24.700000  45.730000  ...  22.50        755.2   \n",
       "18536  26.890000  41.290000  24.700000  45.790000  ...  22.30        755.2   \n",
       "18537  26.823333  41.156667  24.700000  45.963333  ...  22.20        755.2   \n",
       "\n",
       "          RH_out  Windspeed  Visibility  Tdewpoint  day  month  year  time  \n",
       "0      92.000000   7.000000   63.000000        5.3   11      1  2016  1020  \n",
       "1      92.000000   6.666667   59.166667        5.2   11      1  2016  1030  \n",
       "2      92.000000   6.333333   55.333333        5.1   11      1  2016  1040  \n",
       "3      92.000000   6.000000   51.500000        5.0   11      1  2016  1050  \n",
       "4      92.000000   5.666667   47.666667        4.9   11      1  2016  1060  \n",
       "...          ...        ...         ...        ...  ...    ...   ...   ...  \n",
       "18533  55.666667   3.333333   23.666667       13.3   27      5  2016  1040  \n",
       "18534  56.000000   3.500000   24.500000       13.3   27      5  2016  1050  \n",
       "18535  56.333333   3.666667   25.333333       13.3   27      5  2016  1060  \n",
       "18536  56.666667   3.833333   26.166667       13.2   27      5  2016  1070  \n",
       "18537  57.000000   4.000000   27.000000       13.2   27      5  2016  1080  \n",
       "\n",
       "[18538 rows x 30 columns]"
      ]
     },
     "execution_count": 2,
     "metadata": {},
     "output_type": "execute_result"
    }
   ],
   "source": [
    "models = pd.read_csv('../../Data/energy_task_moded_removed_nan.csv')\n",
    "models"
   ]
  },
  {
   "cell_type": "markdown",
   "metadata": {},
   "source": [
    "# Разбиваем на выборку"
   ]
  },
  {
   "cell_type": "code",
   "execution_count": 3,
   "metadata": {},
   "outputs": [],
   "source": [
    "X_train, X_test, y_train, y_test = train_test_split(models.drop('Appliances', axis=1), models['Appliances'], test_size=0.5)\n"
   ]
  },
  {
   "cell_type": "markdown",
   "metadata": {},
   "source": [
    "# <b>Линейная регресия</b>"
   ]
  },
  {
   "cell_type": "markdown",
   "metadata": {},
   "source": [
    "## Обычная линейная регресия (без гиппер параметра)."
   ]
  },
  {
   "cell_type": "markdown",
   "metadata": {},
   "source": [
    "### Обуение"
   ]
  },
  {
   "cell_type": "code",
   "execution_count": 4,
   "metadata": {},
   "outputs": [
    {
     "data": {
      "text/plain": [
       "array([69.81208327, 39.76333204, 99.92638504, ..., 87.61470231,\n",
       "       54.7734327 , 86.31337066])"
      ]
     },
     "execution_count": 4,
     "metadata": {},
     "output_type": "execute_result"
    }
   ],
   "source": [
    "line_regression_classic = LinearRegression().fit(X_train, y_train)\n",
    "line_regression_classic.predict(X_test)"
   ]
  },
  {
   "cell_type": "markdown",
   "metadata": {},
   "source": [
    "### Значения ошибок: <br>\n",
    "- средней абсолютной ошибки;\n",
    "- средней квадраттичной ошибки (MSE);\n",
    "- средней квадраттичной ошибки под корнем (RMSE);\n",
    "- средней абсолютной процентной ошибки;"
   ]
  },
  {
   "cell_type": "code",
   "execution_count": 5,
   "metadata": {},
   "outputs": [
    {
     "name": "stdout",
     "output_type": "stream",
     "text": [
      "MAE: 52.93546791460476\n",
      "RMSE: 8645.303450059004\n",
      "MSE: 92.98012395162206\n",
      "MAPE: 1.4082091482584576\n",
      "R^2: 0.1616644964782582\n"
     ]
    }
   ],
   "source": [
    "y_predicted = line_regression_classic.predict(X_test)\n",
    "line_regression_classic_errors = {'MAE': mean_absolute_error(y_predicted, y_test), \n",
    "                          'RMSE': mean_squared_error(y_predicted, y_test),\n",
    "                          'MSE': mean_squared_error(y_predicted, y_test)**0.5,\n",
    "                          'MAPE': mean_absolute_percentage_error(y_predicted, y_test),\n",
    "                          'R^2': line_regression_classic.score(X_test, y_test)}\n",
    "print(f\"MAE: {mean_absolute_error(y_predicted, y_test)}\",\n",
    "      f'RMSE: {mean_squared_error(y_predicted, y_test)}',\n",
    "      f'MSE: {mean_squared_error(y_predicted, y_test)**0.5}',\n",
    "      f'MAPE: {mean_absolute_percentage_error(y_predicted, y_test)}',\n",
    "      f'R^2: {line_regression_classic.score(X_test, y_test)}',\n",
    "      sep='\\n')\n"
   ]
  },
  {
   "cell_type": "markdown",
   "metadata": {},
   "source": [
    "### Значение весов."
   ]
  },
  {
   "cell_type": "code",
   "execution_count": 6,
   "metadata": {},
   "outputs": [
    {
     "name": "stdout",
     "output_type": "stream",
     "text": [
      "29\n",
      "[ 1.85446569e+00 -2.56347565e+00  1.55180048e+01 -2.03950429e+01\n",
      " -1.39057533e+01  2.63979803e+01  4.28437759e+00 -2.66895458e+00\n",
      " -1.43348518e+00  2.52748794e-01 -1.17558874e-01  7.17802348e+00\n",
      "  4.55625340e-02 -8.98546452e-01 -1.12157996e+00  1.01756528e+01\n",
      " -4.16658955e+00 -1.01977534e+01  2.80804871e-01 -7.59799425e+00\n",
      "  2.45829863e-01 -2.75913802e-01  2.21523999e+00  2.14422190e-01\n",
      "  2.42837709e+00 -1.34386969e-01 -9.70809419e+00  0.00000000e+00\n",
      "  1.74726392e-02]\n"
     ]
    }
   ],
   "source": [
    "print(len(line_regression_classic.coef_), line_regression_classic.coef_, sep='\\n')\n"
   ]
  },
  {
   "cell_type": "markdown",
   "metadata": {},
   "source": [
    "### Предварительные результаты"
   ]
  },
  {
   "cell_type": "code",
   "execution_count": 7,
   "metadata": {},
   "outputs": [
    {
     "data": {
      "text/plain": [
       "[<matplotlib.lines.Line2D at 0x1fba1016700>,\n",
       " <matplotlib.lines.Line2D at 0x1fba10165e0>,\n",
       " <matplotlib.lines.Line2D at 0x1fba1016940>,\n",
       " <matplotlib.lines.Line2D at 0x1fba1016a00>,\n",
       " <matplotlib.lines.Line2D at 0x1fba1016af0>,\n",
       " <matplotlib.lines.Line2D at 0x1fba1016be0>,\n",
       " <matplotlib.lines.Line2D at 0x1fba1016cd0>,\n",
       " <matplotlib.lines.Line2D at 0x1fba1016dc0>,\n",
       " <matplotlib.lines.Line2D at 0x1fba1016eb0>,\n",
       " <matplotlib.lines.Line2D at 0x1fba1016fa0>,\n",
       " <matplotlib.lines.Line2D at 0x1fba10250d0>,\n",
       " <matplotlib.lines.Line2D at 0x1fba10251c0>,\n",
       " <matplotlib.lines.Line2D at 0x1fba10252b0>,\n",
       " <matplotlib.lines.Line2D at 0x1fba10253a0>,\n",
       " <matplotlib.lines.Line2D at 0x1fba1025490>,\n",
       " <matplotlib.lines.Line2D at 0x1fba1025580>,\n",
       " <matplotlib.lines.Line2D at 0x1fba1025670>,\n",
       " <matplotlib.lines.Line2D at 0x1fba1025760>,\n",
       " <matplotlib.lines.Line2D at 0x1fba1025850>,\n",
       " <matplotlib.lines.Line2D at 0x1fba1025940>,\n",
       " <matplotlib.lines.Line2D at 0x1fba1025a30>,\n",
       " <matplotlib.lines.Line2D at 0x1fba1025b20>,\n",
       " <matplotlib.lines.Line2D at 0x1fba1025c10>,\n",
       " <matplotlib.lines.Line2D at 0x1fba1025d00>,\n",
       " <matplotlib.lines.Line2D at 0x1fba1025df0>,\n",
       " <matplotlib.lines.Line2D at 0x1fba1025ee0>,\n",
       " <matplotlib.lines.Line2D at 0x1fba1025fd0>,\n",
       " <matplotlib.lines.Line2D at 0x1fba102d100>,\n",
       " <matplotlib.lines.Line2D at 0x1fba102d1f0>]"
      ]
     },
     "execution_count": 7,
     "metadata": {},
     "output_type": "execute_result"
    },
    {
     "data": {
      "image/png": "[encoded data removed]",
      "text/plain": [
       "<Figure size 640x480 with 1 Axes>"
      ]
     },
     "metadata": {},
     "output_type": "display_data"
    }
   ],
   "source": [
    "plt.plot(X_test, y_test, 'ro', markersize=3)\n",
    "plt.plot(X_test, line_regression_classic.predict(X_test), 'bo', markersize=1)"
   ]
  },
  {
   "cell_type": "markdown",
   "metadata": {},
   "source": [
    "## Ridge (линейная регрессия + L1)"
   ]
  },
  {
   "cell_type": "markdown",
   "metadata": {},
   "source": [
    "### Ridge - подборка гиппер параметра $\\alpha$"
   ]
  },
  {
   "cell_type": "code",
   "execution_count": 8,
   "metadata": {},
   "outputs": [
    {
     "data": {
      "text/plain": [
       "{'alpha': 94}"
      ]
     },
     "execution_count": 8,
     "metadata": {},
     "output_type": "execute_result"
    }
   ],
   "source": [
    "ridge_optimal_for_line_regression = GridSearchCV(Ridge(), {'alpha': np.arange(0, 100, 1)}).fit(X_train, y_train)\n",
    "ridge_optimal_for_line_regression.best_params_"
   ]
  },
  {
   "cell_type": "code",
   "execution_count": 9,
   "metadata": {},
   "outputs": [
    {
     "data": {
      "text/plain": [
       "93.5050000000001"
      ]
     },
     "execution_count": 9,
     "metadata": {},
     "output_type": "execute_result"
    }
   ],
   "source": [
    "i = 10\n",
    "a = 0\n",
    "b = 1000\n",
    "while i > 0.0001:\n",
    "    ridge_optimal_for_line_regression = GridSearchCV(Ridge(), {'alpha': np.arange(a, b, i)}).fit(X_train, y_train)\n",
    "    if (ridge_optimal_for_line_regression.best_params_['alpha'] == 0):\n",
    "        break\n",
    "    elif (ridge_optimal_for_line_regression.best_params_['alpha'] != b):\n",
    "        a = ridge_optimal_for_line_regression.best_params_['alpha']-i\n",
    "        b = ridge_optimal_for_line_regression.best_params_['alpha']+i\n",
    "        i/=10\n",
    "    else:\n",
    "        a = b\n",
    "        b*=2\n",
    "\n",
    "ridge_optimal_for_line_regression.best_params_['alpha']  \n",
    "\n",
    "\n",
    "    "
   ]
  },
  {
   "cell_type": "markdown",
   "metadata": {},
   "source": [
    "### Ridge - обучение с подобранным гиппер параметрам $\\alpha$"
   ]
  },
  {
   "cell_type": "code",
   "execution_count": 10,
   "metadata": {},
   "outputs": [
    {
     "name": "stdout",
     "output_type": "stream",
     "text": [
      "MAE: 52.87987363046219\n",
      "RMSE: 8642.69558830827\n",
      "MSE: 92.96609913462149\n",
      "MAPE: 0.548288070736519\n",
      "R^2: 0.16191738096132424\n"
     ]
    },
    {
     "data": {
      "text/plain": [
       "array([ 1.87273341e+00, -2.87209140e+00,  1.50909436e+01, -1.88695264e+01,\n",
       "       -1.32125452e+01,  2.55886021e+01,  4.27773958e+00, -2.91541154e+00,\n",
       "       -1.55081922e+00, -2.39975961e-02, -1.18035367e-01,  6.90779751e+00,\n",
       "        4.55020324e-02, -9.97104118e-01, -1.17465851e+00,  9.85996147e+00,\n",
       "       -4.10964085e+00, -9.66496517e+00,  3.00314476e-01, -6.99614244e+00,\n",
       "        2.34391246e-01, -2.05676745e-01,  2.25427972e+00,  2.13947758e-01,\n",
       "        1.91181657e+00, -1.02472302e-01, -8.95445659e+00,  0.00000000e+00,\n",
       "        1.76659638e-02])"
      ]
     },
     "execution_count": 10,
     "metadata": {},
     "output_type": "execute_result"
    }
   ],
   "source": [
    "line_regression_ridge = Ridge(alpha=ridge_optimal_for_line_regression.best_params_['alpha']).fit(X_train, y_train)\n",
    "y_predicted = line_regression_ridge.predict(X_test)\n",
    "line_regression_ridge_errors = {'MAE': mean_absolute_error(y_predicted, y_test),\n",
    "                                'RMSE': mean_squared_error(y_predicted, y_test),\n",
    "                                'MSE': mean_squared_error(y_predicted, y_test)**0.5,\n",
    "                                'MAPE': mean_absolute_percentage_error(y_predicted, y_test),\n",
    "                                'R^2': line_regression_classic.score(X_test, y_test)}\n",
    "print(f\"MAE: {mean_absolute_error(y_predicted, y_test)}\",\n",
    "      f'RMSE: {mean_squared_error(y_predicted, y_test)}',\n",
    "      f'MSE: {mean_squared_error(y_predicted, y_test)**0.5}',\n",
    "      f'MAPE: {mean_absolute_percentage_error(y_predicted, y_test)}',\n",
    "      f'R^2: {ridge_optimal_for_line_regression.score(X_test, y_test)}',\n",
    "      sep='\\n')\n",
    "line_regression_ridge.coef_"
   ]
  },
  {
   "cell_type": "markdown",
   "metadata": {},
   "source": [
    "## Lasso (линейная регрессия + L2)"
   ]
  },
  {
   "cell_type": "markdown",
   "metadata": {},
   "source": [
    "### Lasso - подборка гиппер параметра $\\alpha$"
   ]
  },
  {
   "cell_type": "code",
   "execution_count": 11,
   "metadata": {},
   "outputs": [
    {
     "name": "stderr",
     "output_type": "stream",
     "text": [
      "c:\\Users\\Mike\\Desktop\\4semak\\Maching_learning\\Maching_Learning\\lib\\site-packages\\sklearn\\model_selection\\_validation.py:686: UserWarning: With alpha=0, this algorithm does not converge well. You are advised to use the LinearRegression estimator\n",
      "  estimator.fit(X_train, y_train, **fit_params)\n",
      "c:\\Users\\Mike\\Desktop\\4semak\\Maching_learning\\Maching_Learning\\lib\\site-packages\\sklearn\\linear_model\\_coordinate_descent.py:631: UserWarning: Coordinate descent with no regularization may lead to unexpected results and is discouraged.\n",
      "  model = cd_fast.enet_coordinate_descent(\n",
      "c:\\Users\\Mike\\Desktop\\4semak\\Maching_learning\\Maching_Learning\\lib\\site-packages\\sklearn\\linear_model\\_coordinate_descent.py:631: ConvergenceWarning: Objective did not converge. You might want to increase the number of iterations, check the scale of the features or consider increasing regularisation. Duality gap: 3.341e+07, tolerance: 8.110e+03 Linear regression models with null weight for the l1 regularization term are more efficiently fitted using one of the solvers implemented in sklearn.linear_model.Ridge/RidgeCV instead.\n",
      "  model = cd_fast.enet_coordinate_descent(\n",
      "c:\\Users\\Mike\\Desktop\\4semak\\Maching_learning\\Maching_Learning\\lib\\site-packages\\sklearn\\model_selection\\_validation.py:686: UserWarning: With alpha=0, this algorithm does not converge well. You are advised to use the LinearRegression estimator\n",
      "  estimator.fit(X_train, y_train, **fit_params)\n",
      "c:\\Users\\Mike\\Desktop\\4semak\\Maching_learning\\Maching_Learning\\lib\\site-packages\\sklearn\\linear_model\\_coordinate_descent.py:631: UserWarning: Coordinate descent with no regularization may lead to unexpected results and is discouraged.\n",
      "  model = cd_fast.enet_coordinate_descent(\n",
      "c:\\Users\\Mike\\Desktop\\4semak\\Maching_learning\\Maching_Learning\\lib\\site-packages\\sklearn\\linear_model\\_coordinate_descent.py:631: ConvergenceWarning: Objective did not converge. You might want to increase the number of iterations, check the scale of the features or consider increasing regularisation. Duality gap: 3.230e+07, tolerance: 7.835e+03 Linear regression models with null weight for the l1 regularization term are more efficiently fitted using one of the solvers implemented in sklearn.linear_model.Ridge/RidgeCV instead.\n",
      "  model = cd_fast.enet_coordinate_descent(\n",
      "c:\\Users\\Mike\\Desktop\\4semak\\Maching_learning\\Maching_Learning\\lib\\site-packages\\sklearn\\model_selection\\_validation.py:686: UserWarning: With alpha=0, this algorithm does not converge well. You are advised to use the LinearRegression estimator\n",
      "  estimator.fit(X_train, y_train, **fit_params)\n",
      "c:\\Users\\Mike\\Desktop\\4semak\\Maching_learning\\Maching_Learning\\lib\\site-packages\\sklearn\\linear_model\\_coordinate_descent.py:631: UserWarning: Coordinate descent with no regularization may lead to unexpected results and is discouraged.\n",
      "  model = cd_fast.enet_coordinate_descent(\n",
      "c:\\Users\\Mike\\Desktop\\4semak\\Maching_learning\\Maching_Learning\\lib\\site-packages\\sklearn\\linear_model\\_coordinate_descent.py:631: ConvergenceWarning: Objective did not converge. You might want to increase the number of iterations, check the scale of the features or consider increasing regularisation. Duality gap: 3.281e+07, tolerance: 7.832e+03 Linear regression models with null weight for the l1 regularization term are more efficiently fitted using one of the solvers implemented in sklearn.linear_model.Ridge/RidgeCV instead.\n",
      "  model = cd_fast.enet_coordinate_descent(\n",
      "c:\\Users\\Mike\\Desktop\\4semak\\Maching_learning\\Maching_Learning\\lib\\site-packages\\sklearn\\model_selection\\_validation.py:686: UserWarning: With alpha=0, this algorithm does not converge well. You are advised to use the LinearRegression estimator\n",
      "  estimator.fit(X_train, y_train, **fit_params)\n",
      "c:\\Users\\Mike\\Desktop\\4semak\\Maching_learning\\Maching_Learning\\lib\\site-packages\\sklearn\\linear_model\\_coordinate_descent.py:631: UserWarning: Coordinate descent with no regularization may lead to unexpected results and is discouraged.\n",
      "  model = cd_fast.enet_coordinate_descent(\n",
      "c:\\Users\\Mike\\Desktop\\4semak\\Maching_learning\\Maching_Learning\\lib\\site-packages\\sklearn\\linear_model\\_coordinate_descent.py:631: ConvergenceWarning: Objective did not converge. You might want to increase the number of iterations, check the scale of the features or consider increasing regularisation. Duality gap: 3.308e+07, tolerance: 8.070e+03 Linear regression models with null weight for the l1 regularization term are more efficiently fitted using one of the solvers implemented in sklearn.linear_model.Ridge/RidgeCV instead.\n",
      "  model = cd_fast.enet_coordinate_descent(\n",
      "c:\\Users\\Mike\\Desktop\\4semak\\Maching_learning\\Maching_Learning\\lib\\site-packages\\sklearn\\model_selection\\_validation.py:686: UserWarning: With alpha=0, this algorithm does not converge well. You are advised to use the LinearRegression estimator\n",
      "  estimator.fit(X_train, y_train, **fit_params)\n",
      "c:\\Users\\Mike\\Desktop\\4semak\\Maching_learning\\Maching_Learning\\lib\\site-packages\\sklearn\\linear_model\\_coordinate_descent.py:631: UserWarning: Coordinate descent with no regularization may lead to unexpected results and is discouraged.\n",
      "  model = cd_fast.enet_coordinate_descent(\n",
      "c:\\Users\\Mike\\Desktop\\4semak\\Maching_learning\\Maching_Learning\\lib\\site-packages\\sklearn\\linear_model\\_coordinate_descent.py:631: ConvergenceWarning: Objective did not converge. You might want to increase the number of iterations, check the scale of the features or consider increasing regularisation. Duality gap: 3.252e+07, tolerance: 7.858e+03 Linear regression models with null weight for the l1 regularization term are more efficiently fitted using one of the solvers implemented in sklearn.linear_model.Ridge/RidgeCV instead.\n",
      "  model = cd_fast.enet_coordinate_descent(\n",
      "c:\\Users\\Mike\\Desktop\\4semak\\Maching_learning\\Maching_Learning\\lib\\site-packages\\sklearn\\model_selection\\_search.py:909: UserWarning: With alpha=0, this algorithm does not converge well. You are advised to use the LinearRegression estimator\n",
      "  self.best_estimator_.fit(X, y, **fit_params)\n",
      "c:\\Users\\Mike\\Desktop\\4semak\\Maching_learning\\Maching_Learning\\lib\\site-packages\\sklearn\\linear_model\\_coordinate_descent.py:631: UserWarning: Coordinate descent with no regularization may lead to unexpected results and is discouraged.\n",
      "  model = cd_fast.enet_coordinate_descent(\n",
      "c:\\Users\\Mike\\Desktop\\4semak\\Maching_learning\\Maching_Learning\\lib\\site-packages\\sklearn\\linear_model\\_coordinate_descent.py:631: ConvergenceWarning: Objective did not converge. You might want to increase the number of iterations, check the scale of the features or consider increasing regularisation. Duality gap: 4.108e+07, tolerance: 9.926e+03 Linear regression models with null weight for the l1 regularization term are more efficiently fitted using one of the solvers implemented in sklearn.linear_model.Ridge/RidgeCV instead.\n",
      "  model = cd_fast.enet_coordinate_descent(\n"
     ]
    },
    {
     "data": {
      "text/plain": [
       "{'alpha': 0}"
      ]
     },
     "execution_count": 11,
     "metadata": {},
     "output_type": "execute_result"
    }
   ],
   "source": [
    "lasso_optimal_for_line_regression = GridSearchCV(Lasso(), {'alpha': np.arange(0, 100, 1)}).fit(X_train, y_train)\n",
    "lasso_optimal_for_line_regression.best_params_"
   ]
  },
  {
   "cell_type": "code",
   "execution_count": 12,
   "metadata": {},
   "outputs": [
    {
     "name": "stderr",
     "output_type": "stream",
     "text": [
      "c:\\Users\\Mike\\Desktop\\4semak\\Maching_learning\\Maching_Learning\\lib\\site-packages\\sklearn\\model_selection\\_validation.py:686: UserWarning: With alpha=0, this algorithm does not converge well. You are advised to use the LinearRegression estimator\n",
      "  estimator.fit(X_train, y_train, **fit_params)\n",
      "c:\\Users\\Mike\\Desktop\\4semak\\Maching_learning\\Maching_Learning\\lib\\site-packages\\sklearn\\linear_model\\_coordinate_descent.py:631: UserWarning: Coordinate descent with no regularization may lead to unexpected results and is discouraged.\n",
      "  model = cd_fast.enet_coordinate_descent(\n",
      "c:\\Users\\Mike\\Desktop\\4semak\\Maching_learning\\Maching_Learning\\lib\\site-packages\\sklearn\\linear_model\\_coordinate_descent.py:631: ConvergenceWarning: Objective did not converge. You might want to increase the number of iterations, check the scale of the features or consider increasing regularisation. Duality gap: 3.341e+07, tolerance: 8.110e+03 Linear regression models with null weight for the l1 regularization term are more efficiently fitted using one of the solvers implemented in sklearn.linear_model.Ridge/RidgeCV instead.\n",
      "  model = cd_fast.enet_coordinate_descent(\n",
      "c:\\Users\\Mike\\Desktop\\4semak\\Maching_learning\\Maching_Learning\\lib\\site-packages\\sklearn\\model_selection\\_validation.py:686: UserWarning: With alpha=0, this algorithm does not converge well. You are advised to use the LinearRegression estimator\n",
      "  estimator.fit(X_train, y_train, **fit_params)\n",
      "c:\\Users\\Mike\\Desktop\\4semak\\Maching_learning\\Maching_Learning\\lib\\site-packages\\sklearn\\linear_model\\_coordinate_descent.py:631: UserWarning: Coordinate descent with no regularization may lead to unexpected results and is discouraged.\n",
      "  model = cd_fast.enet_coordinate_descent(\n",
      "c:\\Users\\Mike\\Desktop\\4semak\\Maching_learning\\Maching_Learning\\lib\\site-packages\\sklearn\\linear_model\\_coordinate_descent.py:631: ConvergenceWarning: Objective did not converge. You might want to increase the number of iterations, check the scale of the features or consider increasing regularisation. Duality gap: 3.230e+07, tolerance: 7.835e+03 Linear regression models with null weight for the l1 regularization term are more efficiently fitted using one of the solvers implemented in sklearn.linear_model.Ridge/RidgeCV instead.\n",
      "  model = cd_fast.enet_coordinate_descent(\n",
      "c:\\Users\\Mike\\Desktop\\4semak\\Maching_learning\\Maching_Learning\\lib\\site-packages\\sklearn\\model_selection\\_validation.py:686: UserWarning: With alpha=0, this algorithm does not converge well. You are advised to use the LinearRegression estimator\n",
      "  estimator.fit(X_train, y_train, **fit_params)\n",
      "c:\\Users\\Mike\\Desktop\\4semak\\Maching_learning\\Maching_Learning\\lib\\site-packages\\sklearn\\linear_model\\_coordinate_descent.py:631: UserWarning: Coordinate descent with no regularization may lead to unexpected results and is discouraged.\n",
      "  model = cd_fast.enet_coordinate_descent(\n",
      "c:\\Users\\Mike\\Desktop\\4semak\\Maching_learning\\Maching_Learning\\lib\\site-packages\\sklearn\\linear_model\\_coordinate_descent.py:631: ConvergenceWarning: Objective did not converge. You might want to increase the number of iterations, check the scale of the features or consider increasing regularisation. Duality gap: 3.281e+07, tolerance: 7.832e+03 Linear regression models with null weight for the l1 regularization term are more efficiently fitted using one of the solvers implemented in sklearn.linear_model.Ridge/RidgeCV instead.\n",
      "  model = cd_fast.enet_coordinate_descent(\n",
      "c:\\Users\\Mike\\Desktop\\4semak\\Maching_learning\\Maching_Learning\\lib\\site-packages\\sklearn\\model_selection\\_validation.py:686: UserWarning: With alpha=0, this algorithm does not converge well. You are advised to use the LinearRegression estimator\n",
      "  estimator.fit(X_train, y_train, **fit_params)\n",
      "c:\\Users\\Mike\\Desktop\\4semak\\Maching_learning\\Maching_Learning\\lib\\site-packages\\sklearn\\linear_model\\_coordinate_descent.py:631: UserWarning: Coordinate descent with no regularization may lead to unexpected results and is discouraged.\n",
      "  model = cd_fast.enet_coordinate_descent(\n",
      "c:\\Users\\Mike\\Desktop\\4semak\\Maching_learning\\Maching_Learning\\lib\\site-packages\\sklearn\\linear_model\\_coordinate_descent.py:631: ConvergenceWarning: Objective did not converge. You might want to increase the number of iterations, check the scale of the features or consider increasing regularisation. Duality gap: 3.308e+07, tolerance: 8.070e+03 Linear regression models with null weight for the l1 regularization term are more efficiently fitted using one of the solvers implemented in sklearn.linear_model.Ridge/RidgeCV instead.\n",
      "  model = cd_fast.enet_coordinate_descent(\n",
      "c:\\Users\\Mike\\Desktop\\4semak\\Maching_learning\\Maching_Learning\\lib\\site-packages\\sklearn\\model_selection\\_validation.py:686: UserWarning: With alpha=0, this algorithm does not converge well. You are advised to use the LinearRegression estimator\n",
      "  estimator.fit(X_train, y_train, **fit_params)\n",
      "c:\\Users\\Mike\\Desktop\\4semak\\Maching_learning\\Maching_Learning\\lib\\site-packages\\sklearn\\linear_model\\_coordinate_descent.py:631: UserWarning: Coordinate descent with no regularization may lead to unexpected results and is discouraged.\n",
      "  model = cd_fast.enet_coordinate_descent(\n",
      "c:\\Users\\Mike\\Desktop\\4semak\\Maching_learning\\Maching_Learning\\lib\\site-packages\\sklearn\\linear_model\\_coordinate_descent.py:631: ConvergenceWarning: Objective did not converge. You might want to increase the number of iterations, check the scale of the features or consider increasing regularisation. Duality gap: 3.252e+07, tolerance: 7.858e+03 Linear regression models with null weight for the l1 regularization term are more efficiently fitted using one of the solvers implemented in sklearn.linear_model.Ridge/RidgeCV instead.\n",
      "  model = cd_fast.enet_coordinate_descent(\n",
      "c:\\Users\\Mike\\Desktop\\4semak\\Maching_learning\\Maching_Learning\\lib\\site-packages\\sklearn\\model_selection\\_search.py:909: UserWarning: With alpha=0, this algorithm does not converge well. You are advised to use the LinearRegression estimator\n",
      "  self.best_estimator_.fit(X, y, **fit_params)\n",
      "c:\\Users\\Mike\\Desktop\\4semak\\Maching_learning\\Maching_Learning\\lib\\site-packages\\sklearn\\linear_model\\_coordinate_descent.py:631: UserWarning: Coordinate descent with no regularization may lead to unexpected results and is discouraged.\n",
      "  model = cd_fast.enet_coordinate_descent(\n",
      "c:\\Users\\Mike\\Desktop\\4semak\\Maching_learning\\Maching_Learning\\lib\\site-packages\\sklearn\\linear_model\\_coordinate_descent.py:631: ConvergenceWarning: Objective did not converge. You might want to increase the number of iterations, check the scale of the features or consider increasing regularisation. Duality gap: 4.108e+07, tolerance: 9.926e+03 Linear regression models with null weight for the l1 regularization term are more efficiently fitted using one of the solvers implemented in sklearn.linear_model.Ridge/RidgeCV instead.\n",
      "  model = cd_fast.enet_coordinate_descent(\n"
     ]
    },
    {
     "data": {
      "text/plain": [
       "{'alpha': 0}"
      ]
     },
     "execution_count": 12,
     "metadata": {},
     "output_type": "execute_result"
    }
   ],
   "source": [
    "i = 10\n",
    "a = 0\n",
    "b = 1000\n",
    "while i > 0.0001:\n",
    "    lasso_optimal_for_line_regression = GridSearchCV(Lasso(), {'alpha': np.arange(0, 100, 1)}).fit(X_train, y_train)\n",
    "    if (lasso_optimal_for_line_regression.best_params_['alpha'] == 0):\n",
    "        break\n",
    "    elif (lasso_optimal_for_line_regression.best_params_['alpha'] != b):\n",
    "        a = lasso_optimal_for_line_regression.best_params_['alpha']-i\n",
    "        b = lasso_optimal_for_line_regression.best_params_['alpha']+i\n",
    "        i/=10\n",
    "    else:\n",
    "        a = b\n",
    "        b*=2\n",
    "\n",
    "lasso_optimal_for_line_regression.best_params_"
   ]
  },
  {
   "cell_type": "markdown",
   "metadata": {},
   "source": [
    "### Lasso - обучение с подобранным гиппер параметрам $\\alpha$"
   ]
  },
  {
   "cell_type": "code",
   "execution_count": 13,
   "metadata": {},
   "outputs": [
    {
     "name": "stderr",
     "output_type": "stream",
     "text": [
      "C:\\Users\\Mike\\AppData\\Local\\Temp\\ipykernel_15336\\860381744.py:1: UserWarning: With alpha=0, this algorithm does not converge well. You are advised to use the LinearRegression estimator\n",
      "  line_regression_lasso = Lasso(alpha=lasso_optimal_for_line_regression.best_params_['alpha']).fit(X_train, y_train)\n",
      "c:\\Users\\Mike\\Desktop\\4semak\\Maching_learning\\Maching_Learning\\lib\\site-packages\\sklearn\\linear_model\\_coordinate_descent.py:631: UserWarning: Coordinate descent with no regularization may lead to unexpected results and is discouraged.\n",
      "  model = cd_fast.enet_coordinate_descent(\n"
     ]
    },
    {
     "name": "stdout",
     "output_type": "stream",
     "text": [
      "MAE: 52.93545024284487\n",
      "RMSE: 8645.303839316079\n",
      "MSE: 92.98012604484938\n",
      "MAPE: 1.3464304154892395\n",
      "R^2: 0.16166445873198032\n"
     ]
    },
    {
     "name": "stderr",
     "output_type": "stream",
     "text": [
      "c:\\Users\\Mike\\Desktop\\4semak\\Maching_learning\\Maching_Learning\\lib\\site-packages\\sklearn\\linear_model\\_coordinate_descent.py:631: ConvergenceWarning: Objective did not converge. You might want to increase the number of iterations, check the scale of the features or consider increasing regularisation. Duality gap: 4.108e+07, tolerance: 9.926e+03 Linear regression models with null weight for the l1 regularization term are more efficiently fitted using one of the solvers implemented in sklearn.linear_model.Ridge/RidgeCV instead.\n",
      "  model = cd_fast.enet_coordinate_descent(\n"
     ]
    },
    {
     "data": {
      "text/plain": [
       "array([ 1.85446640e+00, -2.56376537e+00,  1.55180090e+01, -2.03947852e+01,\n",
       "       -1.39056538e+01,  2.63980334e+01,  4.28432891e+00, -2.66892879e+00,\n",
       "       -1.43347622e+00,  2.52637232e-01, -1.17555738e-01,  7.17771774e+00,\n",
       "        4.55415972e-02, -8.98656772e-01, -1.12157945e+00,  1.01756588e+01,\n",
       "       -4.16662846e+00, -1.01975969e+01,  2.80785382e-01, -7.59666122e+00,\n",
       "        2.45826826e-01, -2.75676604e-01,  2.21527005e+00,  2.14420243e-01,\n",
       "        2.42731904e+00, -1.34385447e-01, -9.70841015e+00,  0.00000000e+00,\n",
       "        1.74725566e-02])"
      ]
     },
     "execution_count": 13,
     "metadata": {},
     "output_type": "execute_result"
    }
   ],
   "source": [
    "line_regression_lasso = Lasso(alpha=lasso_optimal_for_line_regression.best_params_['alpha']).fit(X_train, y_train)\n",
    "y_predicted = line_regression_lasso.predict(X_test)\n",
    "line_regression_lasso_errors = {'MAE': mean_absolute_error(y_predicted, y_test),\n",
    "                               'RMSE': mean_squared_error(y_predicted, y_test),\n",
    "                               'MSE': mean_squared_error(y_predicted, y_test)**0.5,\n",
    "                               'MAPE': mean_absolute_percentage_error(y_predicted, y_test),\n",
    "                               'R^2': line_regression_lasso.score(X_test, y_test)}\n",
    "print(f\"MAE: {mean_absolute_error(y_predicted, y_test)}\",\n",
    "      f'RMSE: {mean_squared_error(y_predicted, y_test)}',\n",
    "      f'MSE: {mean_squared_error(y_predicted, y_test)**0.5}',\n",
    "      f'MAPE: {mean_absolute_percentage_error(y_predicted, y_test)}',\n",
    "      f'R^2: {line_regression_lasso.score(X_test, y_test)}',\n",
    "      sep='\\n')\n",
    "line_regression_lasso.coef_"
   ]
  },
  {
   "attachments": {},
   "cell_type": "markdown",
   "metadata": {},
   "source": [
    "# Save Models"
   ]
  },
  {
   "cell_type": "code",
   "execution_count": 14,
   "metadata": {},
   "outputs": [
    {
     "data": {
      "text/plain": [
       "['../../Pipelines/Laba1/LineRegressions/LineRegressionLassoModel__cleared.sav']"
      ]
     },
     "execution_count": 14,
     "metadata": {},
     "output_type": "execute_result"
    }
   ],
   "source": [
    "joblib.dump(line_regression_classic, '../../Pipelines/Laba1/LineRegressions/LineRegressionClassicModel__cleared.sav')\n",
    "joblib.dump(line_regression_ridge, '../../Pipelines/Laba1/LineRegressions/LineRegressionRidgeModel__cleared.sav')\n",
    "joblib.dump(line_regression_lasso, '../../Pipelines/Laba1/LineRegressions/LineRegressionLassoModel__cleared.sav')\n"
   ]
  }
 ],
 "metadata": {
  "kernelspec": {
   "display_name": "Maching_Learning",
   "language": "python",
   "name": "python3"
  },
  "language_info": {
   "codemirror_mode": {
    "name": "ipython",
    "version": 3
   },
   "file_extension": ".py",
   "mimetype": "text/x-python",
   "name": "python",
   "nbconvert_exporter": "python",
   "pygments_lexer": "ipython3",
   "version": "3.9.2"
  },
  "orig_nbformat": 4,
  "vscode": {
   "interpreter": {
    "hash": "72fa092132459f2e9e0e62acfe6b07e699dc0f19c1369114b8b6fdbd4fdea11c"
   }
  }
 },
 "nbformat": 4,
 "nbformat_minor": 2
}
