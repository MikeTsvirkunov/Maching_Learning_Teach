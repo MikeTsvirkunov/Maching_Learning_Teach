{
 "cells": [
  {
   "cell_type": "markdown",
   "metadata": {},
   "source": [
    "# Импорт"
   ]
  },
  {
   "cell_type": "code",
   "execution_count": 21,
   "metadata": {},
   "outputs": [],
   "source": [
    "import pandas as pd\n",
    "import matplotlib.pyplot as plt\n",
    "import numpy as np\n",
    "from sklearn.model_selection import train_test_split\n",
    "from sklearn.linear_model import LinearRegression, Lasso, Ridge\n",
    "from sklearn.metrics import mean_absolute_error, mean_squared_error, mean_absolute_percentage_error\n",
    "from sklearn.model_selection import GridSearchCV\n",
    "from sklearn.preprocessing import PolynomialFeatures\n",
    "from sklearn.pipeline import make_pipeline\n",
    "import matplotlib.gridspec as gridspec\n",
    "import joblib\n",
    "# omsky_gamedev"
   ]
  },
  {
   "cell_type": "markdown",
   "metadata": {},
   "source": [
    "# Загрузка датасета для регрессии."
   ]
  },
  {
   "cell_type": "code",
   "execution_count": 22,
   "metadata": {},
   "outputs": [
    {
     "data": {
      "text/html": [
       "<div>\n",
       "<style scoped>\n",
       "    .dataframe tbody tr th:only-of-type {\n",
       "        vertical-align: middle;\n",
       "    }\n",
       "\n",
       "    .dataframe tbody tr th {\n",
       "        vertical-align: top;\n",
       "    }\n",
       "\n",
       "    .dataframe thead th {\n",
       "        text-align: right;\n",
       "    }\n",
       "</style>\n",
       "<table border=\"1\" class=\"dataframe\">\n",
       "  <thead>\n",
       "    <tr style=\"text-align: right;\">\n",
       "      <th></th>\n",
       "      <th>Appliances</th>\n",
       "      <th>lights</th>\n",
       "      <th>T1</th>\n",
       "      <th>RH_1</th>\n",
       "      <th>T2</th>\n",
       "      <th>RH_2</th>\n",
       "      <th>T3</th>\n",
       "      <th>RH_3</th>\n",
       "      <th>T4</th>\n",
       "      <th>RH_4</th>\n",
       "      <th>...</th>\n",
       "      <th>T_out</th>\n",
       "      <th>Press_mm_hg</th>\n",
       "      <th>RH_out</th>\n",
       "      <th>Windspeed</th>\n",
       "      <th>Visibility</th>\n",
       "      <th>Tdewpoint</th>\n",
       "      <th>day</th>\n",
       "      <th>month</th>\n",
       "      <th>year</th>\n",
       "      <th>time</th>\n",
       "    </tr>\n",
       "  </thead>\n",
       "  <tbody>\n",
       "    <tr>\n",
       "      <th>0</th>\n",
       "      <td>60.0</td>\n",
       "      <td>30.0</td>\n",
       "      <td>19.890000</td>\n",
       "      <td>47.596667</td>\n",
       "      <td>19.200000</td>\n",
       "      <td>44.790000</td>\n",
       "      <td>19.790000</td>\n",
       "      <td>44.730000</td>\n",
       "      <td>19.000000</td>\n",
       "      <td>45.566667</td>\n",
       "      <td>...</td>\n",
       "      <td>6.60</td>\n",
       "      <td>733.5</td>\n",
       "      <td>92.000000</td>\n",
       "      <td>7.000000</td>\n",
       "      <td>63.000000</td>\n",
       "      <td>5.3</td>\n",
       "      <td>11.0</td>\n",
       "      <td>1.0</td>\n",
       "      <td>2016.0</td>\n",
       "      <td>1020.0</td>\n",
       "    </tr>\n",
       "    <tr>\n",
       "      <th>1</th>\n",
       "      <td>60.0</td>\n",
       "      <td>30.0</td>\n",
       "      <td>19.890000</td>\n",
       "      <td>46.693333</td>\n",
       "      <td>19.200000</td>\n",
       "      <td>44.722500</td>\n",
       "      <td>19.790000</td>\n",
       "      <td>44.790000</td>\n",
       "      <td>19.000000</td>\n",
       "      <td>45.992500</td>\n",
       "      <td>...</td>\n",
       "      <td>6.48</td>\n",
       "      <td>733.6</td>\n",
       "      <td>92.000000</td>\n",
       "      <td>6.666667</td>\n",
       "      <td>59.166667</td>\n",
       "      <td>5.2</td>\n",
       "      <td>11.0</td>\n",
       "      <td>1.0</td>\n",
       "      <td>2016.0</td>\n",
       "      <td>1030.0</td>\n",
       "    </tr>\n",
       "    <tr>\n",
       "      <th>2</th>\n",
       "      <td>50.0</td>\n",
       "      <td>30.0</td>\n",
       "      <td>19.890000</td>\n",
       "      <td>46.300000</td>\n",
       "      <td>19.200000</td>\n",
       "      <td>44.626667</td>\n",
       "      <td>19.790000</td>\n",
       "      <td>44.933333</td>\n",
       "      <td>18.926667</td>\n",
       "      <td>45.890000</td>\n",
       "      <td>...</td>\n",
       "      <td>6.37</td>\n",
       "      <td>733.7</td>\n",
       "      <td>92.000000</td>\n",
       "      <td>6.333333</td>\n",
       "      <td>55.333333</td>\n",
       "      <td>5.1</td>\n",
       "      <td>11.0</td>\n",
       "      <td>1.0</td>\n",
       "      <td>2016.0</td>\n",
       "      <td>1040.0</td>\n",
       "    </tr>\n",
       "    <tr>\n",
       "      <th>3</th>\n",
       "      <td>50.0</td>\n",
       "      <td>40.0</td>\n",
       "      <td>19.890000</td>\n",
       "      <td>46.066667</td>\n",
       "      <td>19.200000</td>\n",
       "      <td>44.590000</td>\n",
       "      <td>19.790000</td>\n",
       "      <td>45.000000</td>\n",
       "      <td>18.890000</td>\n",
       "      <td>45.723333</td>\n",
       "      <td>...</td>\n",
       "      <td>6.25</td>\n",
       "      <td>733.8</td>\n",
       "      <td>92.000000</td>\n",
       "      <td>6.000000</td>\n",
       "      <td>51.500000</td>\n",
       "      <td>5.0</td>\n",
       "      <td>11.0</td>\n",
       "      <td>1.0</td>\n",
       "      <td>2016.0</td>\n",
       "      <td>1050.0</td>\n",
       "    </tr>\n",
       "    <tr>\n",
       "      <th>4</th>\n",
       "      <td>60.0</td>\n",
       "      <td>40.0</td>\n",
       "      <td>19.890000</td>\n",
       "      <td>46.333333</td>\n",
       "      <td>19.200000</td>\n",
       "      <td>44.530000</td>\n",
       "      <td>19.790000</td>\n",
       "      <td>45.000000</td>\n",
       "      <td>18.890000</td>\n",
       "      <td>45.530000</td>\n",
       "      <td>...</td>\n",
       "      <td>6.13</td>\n",
       "      <td>733.9</td>\n",
       "      <td>92.000000</td>\n",
       "      <td>5.666667</td>\n",
       "      <td>47.666667</td>\n",
       "      <td>4.9</td>\n",
       "      <td>11.0</td>\n",
       "      <td>1.0</td>\n",
       "      <td>2016.0</td>\n",
       "      <td>1060.0</td>\n",
       "    </tr>\n",
       "    <tr>\n",
       "      <th>...</th>\n",
       "      <td>...</td>\n",
       "      <td>...</td>\n",
       "      <td>...</td>\n",
       "      <td>...</td>\n",
       "      <td>...</td>\n",
       "      <td>...</td>\n",
       "      <td>...</td>\n",
       "      <td>...</td>\n",
       "      <td>...</td>\n",
       "      <td>...</td>\n",
       "      <td>...</td>\n",
       "      <td>...</td>\n",
       "      <td>...</td>\n",
       "      <td>...</td>\n",
       "      <td>...</td>\n",
       "      <td>...</td>\n",
       "      <td>...</td>\n",
       "      <td>...</td>\n",
       "      <td>...</td>\n",
       "      <td>...</td>\n",
       "      <td>...</td>\n",
       "    </tr>\n",
       "    <tr>\n",
       "      <th>19730</th>\n",
       "      <td>100.0</td>\n",
       "      <td>0.0</td>\n",
       "      <td>25.566667</td>\n",
       "      <td>46.560000</td>\n",
       "      <td>25.890000</td>\n",
       "      <td>42.025714</td>\n",
       "      <td>27.200000</td>\n",
       "      <td>41.163333</td>\n",
       "      <td>24.700000</td>\n",
       "      <td>45.590000</td>\n",
       "      <td>...</td>\n",
       "      <td>22.70</td>\n",
       "      <td>755.2</td>\n",
       "      <td>55.666667</td>\n",
       "      <td>3.333333</td>\n",
       "      <td>23.666667</td>\n",
       "      <td>13.3</td>\n",
       "      <td>27.0</td>\n",
       "      <td>5.0</td>\n",
       "      <td>2016.0</td>\n",
       "      <td>1040.0</td>\n",
       "    </tr>\n",
       "    <tr>\n",
       "      <th>19731</th>\n",
       "      <td>90.0</td>\n",
       "      <td>0.0</td>\n",
       "      <td>25.500000</td>\n",
       "      <td>46.500000</td>\n",
       "      <td>25.754000</td>\n",
       "      <td>42.080000</td>\n",
       "      <td>27.133333</td>\n",
       "      <td>41.223333</td>\n",
       "      <td>24.700000</td>\n",
       "      <td>45.590000</td>\n",
       "      <td>...</td>\n",
       "      <td>22.60</td>\n",
       "      <td>755.2</td>\n",
       "      <td>56.000000</td>\n",
       "      <td>3.500000</td>\n",
       "      <td>24.500000</td>\n",
       "      <td>13.3</td>\n",
       "      <td>27.0</td>\n",
       "      <td>5.0</td>\n",
       "      <td>2016.0</td>\n",
       "      <td>1050.0</td>\n",
       "    </tr>\n",
       "    <tr>\n",
       "      <th>19732</th>\n",
       "      <td>270.0</td>\n",
       "      <td>10.0</td>\n",
       "      <td>25.500000</td>\n",
       "      <td>46.596667</td>\n",
       "      <td>25.628571</td>\n",
       "      <td>42.768571</td>\n",
       "      <td>27.050000</td>\n",
       "      <td>41.690000</td>\n",
       "      <td>24.700000</td>\n",
       "      <td>45.730000</td>\n",
       "      <td>...</td>\n",
       "      <td>22.50</td>\n",
       "      <td>755.2</td>\n",
       "      <td>56.333333</td>\n",
       "      <td>3.666667</td>\n",
       "      <td>25.333333</td>\n",
       "      <td>13.3</td>\n",
       "      <td>27.0</td>\n",
       "      <td>5.0</td>\n",
       "      <td>2016.0</td>\n",
       "      <td>1060.0</td>\n",
       "    </tr>\n",
       "    <tr>\n",
       "      <th>19733</th>\n",
       "      <td>420.0</td>\n",
       "      <td>10.0</td>\n",
       "      <td>25.500000</td>\n",
       "      <td>46.990000</td>\n",
       "      <td>25.414000</td>\n",
       "      <td>43.036000</td>\n",
       "      <td>26.890000</td>\n",
       "      <td>41.290000</td>\n",
       "      <td>24.700000</td>\n",
       "      <td>45.790000</td>\n",
       "      <td>...</td>\n",
       "      <td>22.30</td>\n",
       "      <td>755.2</td>\n",
       "      <td>56.666667</td>\n",
       "      <td>3.833333</td>\n",
       "      <td>26.166667</td>\n",
       "      <td>13.2</td>\n",
       "      <td>27.0</td>\n",
       "      <td>5.0</td>\n",
       "      <td>2016.0</td>\n",
       "      <td>1070.0</td>\n",
       "    </tr>\n",
       "    <tr>\n",
       "      <th>19734</th>\n",
       "      <td>430.0</td>\n",
       "      <td>10.0</td>\n",
       "      <td>25.500000</td>\n",
       "      <td>46.600000</td>\n",
       "      <td>25.264286</td>\n",
       "      <td>42.971429</td>\n",
       "      <td>26.823333</td>\n",
       "      <td>41.156667</td>\n",
       "      <td>24.700000</td>\n",
       "      <td>45.963333</td>\n",
       "      <td>...</td>\n",
       "      <td>22.20</td>\n",
       "      <td>755.2</td>\n",
       "      <td>57.000000</td>\n",
       "      <td>4.000000</td>\n",
       "      <td>27.000000</td>\n",
       "      <td>13.2</td>\n",
       "      <td>27.0</td>\n",
       "      <td>5.0</td>\n",
       "      <td>2016.0</td>\n",
       "      <td>1080.0</td>\n",
       "    </tr>\n",
       "  </tbody>\n",
       "</table>\n",
       "<p>19735 rows × 30 columns</p>\n",
       "</div>"
      ],
      "text/plain": [
       "       Appliances  lights         T1       RH_1         T2       RH_2  \\\n",
       "0            60.0    30.0  19.890000  47.596667  19.200000  44.790000   \n",
       "1            60.0    30.0  19.890000  46.693333  19.200000  44.722500   \n",
       "2            50.0    30.0  19.890000  46.300000  19.200000  44.626667   \n",
       "3            50.0    40.0  19.890000  46.066667  19.200000  44.590000   \n",
       "4            60.0    40.0  19.890000  46.333333  19.200000  44.530000   \n",
       "...           ...     ...        ...        ...        ...        ...   \n",
       "19730       100.0     0.0  25.566667  46.560000  25.890000  42.025714   \n",
       "19731        90.0     0.0  25.500000  46.500000  25.754000  42.080000   \n",
       "19732       270.0    10.0  25.500000  46.596667  25.628571  42.768571   \n",
       "19733       420.0    10.0  25.500000  46.990000  25.414000  43.036000   \n",
       "19734       430.0    10.0  25.500000  46.600000  25.264286  42.971429   \n",
       "\n",
       "              T3       RH_3         T4       RH_4  ...  T_out  Press_mm_hg  \\\n",
       "0      19.790000  44.730000  19.000000  45.566667  ...   6.60        733.5   \n",
       "1      19.790000  44.790000  19.000000  45.992500  ...   6.48        733.6   \n",
       "2      19.790000  44.933333  18.926667  45.890000  ...   6.37        733.7   \n",
       "3      19.790000  45.000000  18.890000  45.723333  ...   6.25        733.8   \n",
       "4      19.790000  45.000000  18.890000  45.530000  ...   6.13        733.9   \n",
       "...          ...        ...        ...        ...  ...    ...          ...   \n",
       "19730  27.200000  41.163333  24.700000  45.590000  ...  22.70        755.2   \n",
       "19731  27.133333  41.223333  24.700000  45.590000  ...  22.60        755.2   \n",
       "19732  27.050000  41.690000  24.700000  45.730000  ...  22.50        755.2   \n",
       "19733  26.890000  41.290000  24.700000  45.790000  ...  22.30        755.2   \n",
       "19734  26.823333  41.156667  24.700000  45.963333  ...  22.20        755.2   \n",
       "\n",
       "          RH_out  Windspeed  Visibility  Tdewpoint   day  month    year  \\\n",
       "0      92.000000   7.000000   63.000000        5.3  11.0    1.0  2016.0   \n",
       "1      92.000000   6.666667   59.166667        5.2  11.0    1.0  2016.0   \n",
       "2      92.000000   6.333333   55.333333        5.1  11.0    1.0  2016.0   \n",
       "3      92.000000   6.000000   51.500000        5.0  11.0    1.0  2016.0   \n",
       "4      92.000000   5.666667   47.666667        4.9  11.0    1.0  2016.0   \n",
       "...          ...        ...         ...        ...   ...    ...     ...   \n",
       "19730  55.666667   3.333333   23.666667       13.3  27.0    5.0  2016.0   \n",
       "19731  56.000000   3.500000   24.500000       13.3  27.0    5.0  2016.0   \n",
       "19732  56.333333   3.666667   25.333333       13.3  27.0    5.0  2016.0   \n",
       "19733  56.666667   3.833333   26.166667       13.2  27.0    5.0  2016.0   \n",
       "19734  57.000000   4.000000   27.000000       13.2  27.0    5.0  2016.0   \n",
       "\n",
       "         time  \n",
       "0      1020.0  \n",
       "1      1030.0  \n",
       "2      1040.0  \n",
       "3      1050.0  \n",
       "4      1060.0  \n",
       "...       ...  \n",
       "19730  1040.0  \n",
       "19731  1050.0  \n",
       "19732  1060.0  \n",
       "19733  1070.0  \n",
       "19734  1080.0  \n",
       "\n",
       "[19735 rows x 30 columns]"
      ]
     },
     "execution_count": 22,
     "metadata": {},
     "output_type": "execute_result"
    }
   ],
   "source": [
    "models = pd.read_csv('../../Data/energy_task_moded.csv')\n",
    "models"
   ]
  },
  {
   "cell_type": "markdown",
   "metadata": {},
   "source": [
    "# Разбиваем на выборку"
   ]
  },
  {
   "cell_type": "code",
   "execution_count": 23,
   "metadata": {},
   "outputs": [],
   "source": [
    "X_train, X_test, y_train, y_test = train_test_split(models.drop('Appliances', axis=1), models['Appliances'], test_size=0.5)\n"
   ]
  },
  {
   "cell_type": "markdown",
   "metadata": {},
   "source": [
    "# <b>Линейная регресия</b>"
   ]
  },
  {
   "cell_type": "markdown",
   "metadata": {},
   "source": [
    "## Обычная линейная регресия (без гиппер параметра)."
   ]
  },
  {
   "cell_type": "markdown",
   "metadata": {},
   "source": [
    "### Обуение"
   ]
  },
  {
   "cell_type": "code",
   "execution_count": 24,
   "metadata": {},
   "outputs": [
    {
     "data": {
      "text/plain": [
       "array([ 59.76974911, 126.58408722, 105.18474913, ...,  92.09272525,\n",
       "        58.05672923, 108.57400564])"
      ]
     },
     "execution_count": 24,
     "metadata": {},
     "output_type": "execute_result"
    }
   ],
   "source": [
    "line_regression_classic = LinearRegression().fit(X_train, y_train)\n",
    "line_regression_classic.predict(X_test)"
   ]
  },
  {
   "cell_type": "markdown",
   "metadata": {},
   "source": [
    "### Значения ошибок: <br>\n",
    "- средней абсолютной ошибки;\n",
    "- средней квадраттичной ошибки (MSE);\n",
    "- средней квадраттичной ошибки под корнем (RMSE);\n",
    "- средней абсолютной процентной ошибки;"
   ]
  },
  {
   "cell_type": "code",
   "execution_count": 25,
   "metadata": {},
   "outputs": [
    {
     "name": "stdout",
     "output_type": "stream",
     "text": [
      "MAE: 53.57473970718654\n",
      "RMSE: 9128.720354384184\n",
      "MSE: 95.54433711311302\n",
      "MAPE: 0.6130715487654562\n",
      "R^2: 0.15279624514094126\n"
     ]
    }
   ],
   "source": [
    "y_predicted = line_regression_classic.predict(X_test)\n",
    "line_regression_classic_errors = {'MAE': mean_absolute_error(y_predicted, y_test), \n",
    "                          'RMSE': mean_squared_error(y_predicted, y_test),\n",
    "                          'MSE': mean_squared_error(y_predicted, y_test)**0.5,\n",
    "                          'MAPE': mean_absolute_percentage_error(y_predicted, y_test),\n",
    "                          'R^2': line_regression_classic.score(X_test, y_test)}\n",
    "print(f\"MAE: {mean_absolute_error(y_predicted, y_test)}\",\n",
    "      f'RMSE: {mean_squared_error(y_predicted, y_test)}',\n",
    "      f'MSE: {mean_squared_error(y_predicted, y_test)**0.5}',\n",
    "      f'MAPE: {mean_absolute_percentage_error(y_predicted, y_test)}',\n",
    "      f'R^2: {line_regression_classic.score(X_test, y_test)}',\n",
    "      sep='\\n')\n"
   ]
  },
  {
   "cell_type": "markdown",
   "metadata": {},
   "source": [
    "### Значение весов."
   ]
  },
  {
   "cell_type": "code",
   "execution_count": 26,
   "metadata": {},
   "outputs": [
    {
     "name": "stdout",
     "output_type": "stream",
     "text": [
      "29\n",
      "[ 1.81963610e+00 -6.97282383e+00  1.33384761e+01 -1.53738115e+01\n",
      " -1.09981785e+01  2.85230504e+01  3.77541974e+00 -1.72399339e+00\n",
      " -9.14746938e-01 -6.56013964e-01 -8.47263244e-02  6.57071521e+00\n",
      "  2.44217443e-02  3.85838922e+00 -1.97997048e+00  7.77328987e+00\n",
      " -3.04389147e+00 -1.39371163e+01 -8.92700595e-01 -4.13997903e+00\n",
      " -6.41926410e-02  2.76871658e-01  1.42433213e+00  1.64728949e-01\n",
      " -9.61831201e-01 -2.86836859e-01 -1.22634026e+01  0.00000000e+00\n",
      "  1.75319850e-02]\n"
     ]
    }
   ],
   "source": [
    "print(len(line_regression_classic.coef_), line_regression_classic.coef_, sep='\\n')\n"
   ]
  },
  {
   "cell_type": "markdown",
   "metadata": {},
   "source": [
    "### Предварительные результаты"
   ]
  },
  {
   "cell_type": "code",
   "execution_count": 27,
   "metadata": {},
   "outputs": [
    {
     "data": {
      "text/plain": [
       "[<matplotlib.lines.Line2D at 0x228ac77a580>,\n",
       " <matplotlib.lines.Line2D at 0x228ac77a4c0>,\n",
       " <matplotlib.lines.Line2D at 0x228ac77a760>,\n",
       " <matplotlib.lines.Line2D at 0x228ac77a820>,\n",
       " <matplotlib.lines.Line2D at 0x228ac77a910>,\n",
       " <matplotlib.lines.Line2D at 0x228ac77aa00>,\n",
       " <matplotlib.lines.Line2D at 0x228ac77aaf0>,\n",
       " <matplotlib.lines.Line2D at 0x228ac77abe0>,\n",
       " <matplotlib.lines.Line2D at 0x228ac77acd0>,\n",
       " <matplotlib.lines.Line2D at 0x228ac77adc0>,\n",
       " <matplotlib.lines.Line2D at 0x228ac77aeb0>,\n",
       " <matplotlib.lines.Line2D at 0x228ac77afa0>,\n",
       " <matplotlib.lines.Line2D at 0x228ac7850d0>,\n",
       " <matplotlib.lines.Line2D at 0x228ac7851c0>,\n",
       " <matplotlib.lines.Line2D at 0x228ac7852b0>,\n",
       " <matplotlib.lines.Line2D at 0x228ac7853a0>,\n",
       " <matplotlib.lines.Line2D at 0x228ac785490>,\n",
       " <matplotlib.lines.Line2D at 0x228ac785580>,\n",
       " <matplotlib.lines.Line2D at 0x228ac785670>,\n",
       " <matplotlib.lines.Line2D at 0x228ac785760>,\n",
       " <matplotlib.lines.Line2D at 0x228ac785850>,\n",
       " <matplotlib.lines.Line2D at 0x228ac785940>,\n",
       " <matplotlib.lines.Line2D at 0x228ac785a30>,\n",
       " <matplotlib.lines.Line2D at 0x228ac785b20>,\n",
       " <matplotlib.lines.Line2D at 0x228ac785c10>,\n",
       " <matplotlib.lines.Line2D at 0x228ac785d00>,\n",
       " <matplotlib.lines.Line2D at 0x228ac785df0>,\n",
       " <matplotlib.lines.Line2D at 0x228ac785ee0>,\n",
       " <matplotlib.lines.Line2D at 0x228ac785fd0>]"
      ]
     },
     "execution_count": 27,
     "metadata": {},
     "output_type": "execute_result"
    },
    {
     "data": {
      "image/png": "[encoded data removed]",
      "text/plain": [
       "<Figure size 640x480 with 1 Axes>"
      ]
     },
     "metadata": {},
     "output_type": "display_data"
    }
   ],
   "source": [
    "plt.plot(X_test, y_test, 'ro', markersize=3)\n",
    "plt.plot(X_test, line_regression_classic.predict(X_test), 'bo', markersize=1)"
   ]
  },
  {
   "cell_type": "markdown",
   "metadata": {},
   "source": [
    "## Ridge (линейная регрессия + L1)"
   ]
  },
  {
   "cell_type": "markdown",
   "metadata": {},
   "source": [
    "### Ridge - подборка гиппер параметра $\\alpha$"
   ]
  },
  {
   "cell_type": "code",
   "execution_count": 28,
   "metadata": {},
   "outputs": [
    {
     "data": {
      "text/plain": [
       "{'alpha': 52}"
      ]
     },
     "execution_count": 28,
     "metadata": {},
     "output_type": "execute_result"
    }
   ],
   "source": [
    "ridge_optimal_for_line_regression = GridSearchCV(Ridge(), {'alpha': np.arange(0, 100, 1)}).fit(X_train, y_train)\n",
    "ridge_optimal_for_line_regression.best_params_"
   ]
  },
  {
   "cell_type": "code",
   "execution_count": 29,
   "metadata": {},
   "outputs": [
    {
     "data": {
      "text/plain": [
       "52.194999999999965"
      ]
     },
     "execution_count": 29,
     "metadata": {},
     "output_type": "execute_result"
    }
   ],
   "source": [
    "i = 10\n",
    "a = 0\n",
    "b = 1000\n",
    "while i > 0.0001:\n",
    "    ridge_optimal_for_line_regression = GridSearchCV(Ridge(), {'alpha': np.arange(a, b, i)}).fit(X_train, y_train)\n",
    "    if (ridge_optimal_for_line_regression.best_params_['alpha'] == 0):\n",
    "        break\n",
    "    elif (ridge_optimal_for_line_regression.best_params_['alpha'] != b):\n",
    "        a = ridge_optimal_for_line_regression.best_params_['alpha']-i\n",
    "        b = ridge_optimal_for_line_regression.best_params_['alpha']+i\n",
    "        i/=10\n",
    "    else:\n",
    "        a = b\n",
    "        b*=2\n",
    "\n",
    "ridge_optimal_for_line_regression.best_params_['alpha']  \n",
    "\n",
    "\n",
    "    "
   ]
  },
  {
   "cell_type": "markdown",
   "metadata": {},
   "source": [
    "### Ridge - обучение с подобранным гиппер параметрам $\\alpha$"
   ]
  },
  {
   "cell_type": "code",
   "execution_count": 30,
   "metadata": {},
   "outputs": [
    {
     "name": "stdout",
     "output_type": "stream",
     "text": [
      "MAE: 53.530347643825735\n",
      "RMSE: 9126.42260392649\n",
      "MSE: 95.53231183179066\n",
      "MAPE: 0.6245491955293551\n",
      "R^2: 0.15300949110969864\n"
     ]
    },
    {
     "data": {
      "text/plain": [
       "array([ 1.82770197e+00, -6.75578007e+00,  1.32159170e+01, -1.49616371e+01,\n",
       "       -1.07994612e+01,  2.80046488e+01,  3.80497602e+00, -1.85515162e+00,\n",
       "       -9.66173029e-01, -7.89827793e-01, -8.44456819e-02,  6.49991149e+00,\n",
       "        2.94656699e-02,  3.65081256e+00, -1.98107455e+00,  7.63417485e+00,\n",
       "       -3.03171556e+00, -1.34563645e+01, -8.65372715e-01, -4.10260962e+00,\n",
       "       -6.77433616e-02,  2.60775984e-01,  1.42913907e+00,  1.64225200e-01,\n",
       "       -1.00374187e+00, -2.69395718e-01, -1.17892520e+01,  0.00000000e+00,\n",
       "        1.76064464e-02])"
      ]
     },
     "execution_count": 30,
     "metadata": {},
     "output_type": "execute_result"
    }
   ],
   "source": [
    "line_regression_ridge = Ridge(alpha=ridge_optimal_for_line_regression.best_params_['alpha']).fit(X_train, y_train)\n",
    "y_result = line_regression_ridge.predict(X_test)\n",
    "line_regression_ridge_errors = {'MAE': mean_absolute_error(y_predicted, y_test),\n",
    "                                'RMSE': mean_squared_error(y_predicted, y_test),\n",
    "                                'MSE': mean_squared_error(y_predicted, y_test)**0.5,\n",
    "                                'MAPE': mean_absolute_percentage_error(y_predicted, y_test),\n",
    "                                'R^2': line_regression_classic.score(X_test, y_test)}\n",
    "print(f\"MAE: {mean_absolute_error(y_result, y_test)}\",\n",
    "      f'RMSE: {mean_squared_error(y_result, y_test)}',\n",
    "      f'MSE: {mean_squared_error(y_result, y_test)**0.5}',\n",
    "      f'MAPE: {mean_absolute_percentage_error(y_result, y_test)}',\n",
    "      f'R^2: {ridge_optimal_for_line_regression.score(X_test, y_test)}',\n",
    "      sep='\\n')\n",
    "line_regression_ridge.coef_"
   ]
  },
  {
   "cell_type": "markdown",
   "metadata": {},
   "source": [
    "## Lasso (линейная регрессия + L2)"
   ]
  },
  {
   "cell_type": "markdown",
   "metadata": {},
   "source": [
    "### Lasso - подборка гиппер параметра $\\alpha$"
   ]
  },
  {
   "cell_type": "code",
   "execution_count": 31,
   "metadata": {},
   "outputs": [
    {
     "name": "stderr",
     "output_type": "stream",
     "text": [
      "c:\\Users\\Mike\\Desktop\\4semak\\Maching_learning\\Maching_Learning\\lib\\site-packages\\sklearn\\model_selection\\_validation.py:686: UserWarning: With alpha=0, this algorithm does not converge well. You are advised to use the LinearRegression estimator\n",
      "  estimator.fit(X_train, y_train, **fit_params)\n",
      "c:\\Users\\Mike\\Desktop\\4semak\\Maching_learning\\Maching_Learning\\lib\\site-packages\\sklearn\\linear_model\\_coordinate_descent.py:631: UserWarning: Coordinate descent with no regularization may lead to unexpected results and is discouraged.\n",
      "  model = cd_fast.enet_coordinate_descent(\n",
      "c:\\Users\\Mike\\Desktop\\4semak\\Maching_learning\\Maching_Learning\\lib\\site-packages\\sklearn\\linear_model\\_coordinate_descent.py:631: ConvergenceWarning: Objective did not converge. You might want to increase the number of iterations, check the scale of the features or consider increasing regularisation. Duality gap: 3.313e+07, tolerance: 8.069e+03 Linear regression models with null weight for the l1 regularization term are more efficiently fitted using one of the solvers implemented in sklearn.linear_model.Ridge/RidgeCV instead.\n",
      "  model = cd_fast.enet_coordinate_descent(\n",
      "c:\\Users\\Mike\\Desktop\\4semak\\Maching_learning\\Maching_Learning\\lib\\site-packages\\sklearn\\model_selection\\_validation.py:686: UserWarning: With alpha=0, this algorithm does not converge well. You are advised to use the LinearRegression estimator\n",
      "  estimator.fit(X_train, y_train, **fit_params)\n",
      "c:\\Users\\Mike\\Desktop\\4semak\\Maching_learning\\Maching_Learning\\lib\\site-packages\\sklearn\\linear_model\\_coordinate_descent.py:631: UserWarning: Coordinate descent with no regularization may lead to unexpected results and is discouraged.\n",
      "  model = cd_fast.enet_coordinate_descent(\n",
      "c:\\Users\\Mike\\Desktop\\4semak\\Maching_learning\\Maching_Learning\\lib\\site-packages\\sklearn\\linear_model\\_coordinate_descent.py:631: ConvergenceWarning: Objective did not converge. You might want to increase the number of iterations, check the scale of the features or consider increasing regularisation. Duality gap: 3.296e+07, tolerance: 8.045e+03 Linear regression models with null weight for the l1 regularization term are more efficiently fitted using one of the solvers implemented in sklearn.linear_model.Ridge/RidgeCV instead.\n",
      "  model = cd_fast.enet_coordinate_descent(\n",
      "c:\\Users\\Mike\\Desktop\\4semak\\Maching_learning\\Maching_Learning\\lib\\site-packages\\sklearn\\model_selection\\_validation.py:686: UserWarning: With alpha=0, this algorithm does not converge well. You are advised to use the LinearRegression estimator\n",
      "  estimator.fit(X_train, y_train, **fit_params)\n",
      "c:\\Users\\Mike\\Desktop\\4semak\\Maching_learning\\Maching_Learning\\lib\\site-packages\\sklearn\\linear_model\\_coordinate_descent.py:631: UserWarning: Coordinate descent with no regularization may lead to unexpected results and is discouraged.\n",
      "  model = cd_fast.enet_coordinate_descent(\n",
      "c:\\Users\\Mike\\Desktop\\4semak\\Maching_learning\\Maching_Learning\\lib\\site-packages\\sklearn\\linear_model\\_coordinate_descent.py:631: ConvergenceWarning: Objective did not converge. You might want to increase the number of iterations, check the scale of the features or consider increasing regularisation. Duality gap: 3.316e+07, tolerance: 8.128e+03 Linear regression models with null weight for the l1 regularization term are more efficiently fitted using one of the solvers implemented in sklearn.linear_model.Ridge/RidgeCV instead.\n",
      "  model = cd_fast.enet_coordinate_descent(\n",
      "c:\\Users\\Mike\\Desktop\\4semak\\Maching_learning\\Maching_Learning\\lib\\site-packages\\sklearn\\model_selection\\_validation.py:686: UserWarning: With alpha=0, this algorithm does not converge well. You are advised to use the LinearRegression estimator\n",
      "  estimator.fit(X_train, y_train, **fit_params)\n",
      "c:\\Users\\Mike\\Desktop\\4semak\\Maching_learning\\Maching_Learning\\lib\\site-packages\\sklearn\\linear_model\\_coordinate_descent.py:631: UserWarning: Coordinate descent with no regularization may lead to unexpected results and is discouraged.\n",
      "  model = cd_fast.enet_coordinate_descent(\n",
      "c:\\Users\\Mike\\Desktop\\4semak\\Maching_learning\\Maching_Learning\\lib\\site-packages\\sklearn\\linear_model\\_coordinate_descent.py:631: ConvergenceWarning: Objective did not converge. You might want to increase the number of iterations, check the scale of the features or consider increasing regularisation. Duality gap: 3.378e+07, tolerance: 8.179e+03 Linear regression models with null weight for the l1 regularization term are more efficiently fitted using one of the solvers implemented in sklearn.linear_model.Ridge/RidgeCV instead.\n",
      "  model = cd_fast.enet_coordinate_descent(\n",
      "c:\\Users\\Mike\\Desktop\\4semak\\Maching_learning\\Maching_Learning\\lib\\site-packages\\sklearn\\model_selection\\_validation.py:686: UserWarning: With alpha=0, this algorithm does not converge well. You are advised to use the LinearRegression estimator\n",
      "  estimator.fit(X_train, y_train, **fit_params)\n",
      "c:\\Users\\Mike\\Desktop\\4semak\\Maching_learning\\Maching_Learning\\lib\\site-packages\\sklearn\\linear_model\\_coordinate_descent.py:631: UserWarning: Coordinate descent with no regularization may lead to unexpected results and is discouraged.\n",
      "  model = cd_fast.enet_coordinate_descent(\n",
      "c:\\Users\\Mike\\Desktop\\4semak\\Maching_learning\\Maching_Learning\\lib\\site-packages\\sklearn\\linear_model\\_coordinate_descent.py:631: ConvergenceWarning: Objective did not converge. You might want to increase the number of iterations, check the scale of the features or consider increasing regularisation. Duality gap: 3.298e+07, tolerance: 8.014e+03 Linear regression models with null weight for the l1 regularization term are more efficiently fitted using one of the solvers implemented in sklearn.linear_model.Ridge/RidgeCV instead.\n",
      "  model = cd_fast.enet_coordinate_descent(\n",
      "c:\\Users\\Mike\\Desktop\\4semak\\Maching_learning\\Maching_Learning\\lib\\site-packages\\sklearn\\model_selection\\_search.py:909: UserWarning: With alpha=0, this algorithm does not converge well. You are advised to use the LinearRegression estimator\n",
      "  self.best_estimator_.fit(X, y, **fit_params)\n",
      "c:\\Users\\Mike\\Desktop\\4semak\\Maching_learning\\Maching_Learning\\lib\\site-packages\\sklearn\\linear_model\\_coordinate_descent.py:631: UserWarning: Coordinate descent with no regularization may lead to unexpected results and is discouraged.\n",
      "  model = cd_fast.enet_coordinate_descent(\n",
      "c:\\Users\\Mike\\Desktop\\4semak\\Maching_learning\\Maching_Learning\\lib\\site-packages\\sklearn\\linear_model\\_coordinate_descent.py:631: ConvergenceWarning: Objective did not converge. You might want to increase the number of iterations, check the scale of the features or consider increasing regularisation. Duality gap: 4.153e+07, tolerance: 1.011e+04 Linear regression models with null weight for the l1 regularization term are more efficiently fitted using one of the solvers implemented in sklearn.linear_model.Ridge/RidgeCV instead.\n",
      "  model = cd_fast.enet_coordinate_descent(\n"
     ]
    },
    {
     "data": {
      "text/plain": [
       "{'alpha': 0}"
      ]
     },
     "execution_count": 31,
     "metadata": {},
     "output_type": "execute_result"
    }
   ],
   "source": [
    "lasso_optimal_for_line_regression = GridSearchCV(Lasso(), {'alpha': np.arange(0, 100, 1)}).fit(X_train, y_train)\n",
    "lasso_optimal_for_line_regression.best_params_"
   ]
  },
  {
   "cell_type": "code",
   "execution_count": 32,
   "metadata": {},
   "outputs": [
    {
     "name": "stderr",
     "output_type": "stream",
     "text": [
      "c:\\Users\\Mike\\Desktop\\4semak\\Maching_learning\\Maching_Learning\\lib\\site-packages\\sklearn\\model_selection\\_validation.py:686: UserWarning: With alpha=0, this algorithm does not converge well. You are advised to use the LinearRegression estimator\n",
      "  estimator.fit(X_train, y_train, **fit_params)\n",
      "c:\\Users\\Mike\\Desktop\\4semak\\Maching_learning\\Maching_Learning\\lib\\site-packages\\sklearn\\linear_model\\_coordinate_descent.py:631: UserWarning: Coordinate descent with no regularization may lead to unexpected results and is discouraged.\n",
      "  model = cd_fast.enet_coordinate_descent(\n",
      "c:\\Users\\Mike\\Desktop\\4semak\\Maching_learning\\Maching_Learning\\lib\\site-packages\\sklearn\\linear_model\\_coordinate_descent.py:631: ConvergenceWarning: Objective did not converge. You might want to increase the number of iterations, check the scale of the features or consider increasing regularisation. Duality gap: 3.313e+07, tolerance: 8.069e+03 Linear regression models with null weight for the l1 regularization term are more efficiently fitted using one of the solvers implemented in sklearn.linear_model.Ridge/RidgeCV instead.\n",
      "  model = cd_fast.enet_coordinate_descent(\n",
      "c:\\Users\\Mike\\Desktop\\4semak\\Maching_learning\\Maching_Learning\\lib\\site-packages\\sklearn\\model_selection\\_validation.py:686: UserWarning: With alpha=0, this algorithm does not converge well. You are advised to use the LinearRegression estimator\n",
      "  estimator.fit(X_train, y_train, **fit_params)\n",
      "c:\\Users\\Mike\\Desktop\\4semak\\Maching_learning\\Maching_Learning\\lib\\site-packages\\sklearn\\linear_model\\_coordinate_descent.py:631: UserWarning: Coordinate descent with no regularization may lead to unexpected results and is discouraged.\n",
      "  model = cd_fast.enet_coordinate_descent(\n",
      "c:\\Users\\Mike\\Desktop\\4semak\\Maching_learning\\Maching_Learning\\lib\\site-packages\\sklearn\\linear_model\\_coordinate_descent.py:631: ConvergenceWarning: Objective did not converge. You might want to increase the number of iterations, check the scale of the features or consider increasing regularisation. Duality gap: 3.296e+07, tolerance: 8.045e+03 Linear regression models with null weight for the l1 regularization term are more efficiently fitted using one of the solvers implemented in sklearn.linear_model.Ridge/RidgeCV instead.\n",
      "  model = cd_fast.enet_coordinate_descent(\n",
      "c:\\Users\\Mike\\Desktop\\4semak\\Maching_learning\\Maching_Learning\\lib\\site-packages\\sklearn\\model_selection\\_validation.py:686: UserWarning: With alpha=0, this algorithm does not converge well. You are advised to use the LinearRegression estimator\n",
      "  estimator.fit(X_train, y_train, **fit_params)\n",
      "c:\\Users\\Mike\\Desktop\\4semak\\Maching_learning\\Maching_Learning\\lib\\site-packages\\sklearn\\linear_model\\_coordinate_descent.py:631: UserWarning: Coordinate descent with no regularization may lead to unexpected results and is discouraged.\n",
      "  model = cd_fast.enet_coordinate_descent(\n",
      "c:\\Users\\Mike\\Desktop\\4semak\\Maching_learning\\Maching_Learning\\lib\\site-packages\\sklearn\\linear_model\\_coordinate_descent.py:631: ConvergenceWarning: Objective did not converge. You might want to increase the number of iterations, check the scale of the features or consider increasing regularisation. Duality gap: 3.316e+07, tolerance: 8.128e+03 Linear regression models with null weight for the l1 regularization term are more efficiently fitted using one of the solvers implemented in sklearn.linear_model.Ridge/RidgeCV instead.\n",
      "  model = cd_fast.enet_coordinate_descent(\n",
      "c:\\Users\\Mike\\Desktop\\4semak\\Maching_learning\\Maching_Learning\\lib\\site-packages\\sklearn\\model_selection\\_validation.py:686: UserWarning: With alpha=0, this algorithm does not converge well. You are advised to use the LinearRegression estimator\n",
      "  estimator.fit(X_train, y_train, **fit_params)\n",
      "c:\\Users\\Mike\\Desktop\\4semak\\Maching_learning\\Maching_Learning\\lib\\site-packages\\sklearn\\linear_model\\_coordinate_descent.py:631: UserWarning: Coordinate descent with no regularization may lead to unexpected results and is discouraged.\n",
      "  model = cd_fast.enet_coordinate_descent(\n",
      "c:\\Users\\Mike\\Desktop\\4semak\\Maching_learning\\Maching_Learning\\lib\\site-packages\\sklearn\\linear_model\\_coordinate_descent.py:631: ConvergenceWarning: Objective did not converge. You might want to increase the number of iterations, check the scale of the features or consider increasing regularisation. Duality gap: 3.378e+07, tolerance: 8.179e+03 Linear regression models with null weight for the l1 regularization term are more efficiently fitted using one of the solvers implemented in sklearn.linear_model.Ridge/RidgeCV instead.\n",
      "  model = cd_fast.enet_coordinate_descent(\n",
      "c:\\Users\\Mike\\Desktop\\4semak\\Maching_learning\\Maching_Learning\\lib\\site-packages\\sklearn\\model_selection\\_validation.py:686: UserWarning: With alpha=0, this algorithm does not converge well. You are advised to use the LinearRegression estimator\n",
      "  estimator.fit(X_train, y_train, **fit_params)\n",
      "c:\\Users\\Mike\\Desktop\\4semak\\Maching_learning\\Maching_Learning\\lib\\site-packages\\sklearn\\linear_model\\_coordinate_descent.py:631: UserWarning: Coordinate descent with no regularization may lead to unexpected results and is discouraged.\n",
      "  model = cd_fast.enet_coordinate_descent(\n",
      "c:\\Users\\Mike\\Desktop\\4semak\\Maching_learning\\Maching_Learning\\lib\\site-packages\\sklearn\\linear_model\\_coordinate_descent.py:631: ConvergenceWarning: Objective did not converge. You might want to increase the number of iterations, check the scale of the features or consider increasing regularisation. Duality gap: 3.298e+07, tolerance: 8.014e+03 Linear regression models with null weight for the l1 regularization term are more efficiently fitted using one of the solvers implemented in sklearn.linear_model.Ridge/RidgeCV instead.\n",
      "  model = cd_fast.enet_coordinate_descent(\n",
      "c:\\Users\\Mike\\Desktop\\4semak\\Maching_learning\\Maching_Learning\\lib\\site-packages\\sklearn\\model_selection\\_search.py:909: UserWarning: With alpha=0, this algorithm does not converge well. You are advised to use the LinearRegression estimator\n",
      "  self.best_estimator_.fit(X, y, **fit_params)\n",
      "c:\\Users\\Mike\\Desktop\\4semak\\Maching_learning\\Maching_Learning\\lib\\site-packages\\sklearn\\linear_model\\_coordinate_descent.py:631: UserWarning: Coordinate descent with no regularization may lead to unexpected results and is discouraged.\n",
      "  model = cd_fast.enet_coordinate_descent(\n",
      "c:\\Users\\Mike\\Desktop\\4semak\\Maching_learning\\Maching_Learning\\lib\\site-packages\\sklearn\\linear_model\\_coordinate_descent.py:631: ConvergenceWarning: Objective did not converge. You might want to increase the number of iterations, check the scale of the features or consider increasing regularisation. Duality gap: 4.153e+07, tolerance: 1.011e+04 Linear regression models with null weight for the l1 regularization term are more efficiently fitted using one of the solvers implemented in sklearn.linear_model.Ridge/RidgeCV instead.\n",
      "  model = cd_fast.enet_coordinate_descent(\n"
     ]
    },
    {
     "data": {
      "text/plain": [
       "{'alpha': 0}"
      ]
     },
     "execution_count": 32,
     "metadata": {},
     "output_type": "execute_result"
    }
   ],
   "source": [
    "i = 10\n",
    "a = 0\n",
    "b = 1000\n",
    "while i > 0.0001:\n",
    "    lasso_optimal_for_line_regression = GridSearchCV(Lasso(), {'alpha': np.arange(0, 100, 1)}).fit(X_train, y_train)\n",
    "    if (lasso_optimal_for_line_regression.best_params_['alpha'] == 0):\n",
    "        break\n",
    "    elif (lasso_optimal_for_line_regression.best_params_['alpha'] != b):\n",
    "        a = lasso_optimal_for_line_regression.best_params_['alpha']-i\n",
    "        b = lasso_optimal_for_line_regression.best_params_['alpha']+i\n",
    "        i/=10\n",
    "    else:\n",
    "        a = b\n",
    "        b*=2\n",
    "\n",
    "lasso_optimal_for_line_regression.best_params_"
   ]
  },
  {
   "cell_type": "markdown",
   "metadata": {},
   "source": [
    "### Lasso - обучение с подобранным гиппер параметрам $\\alpha$"
   ]
  },
  {
   "cell_type": "code",
   "execution_count": 33,
   "metadata": {},
   "outputs": [
    {
     "name": "stderr",
     "output_type": "stream",
     "text": [
      "C:\\Users\\Mike\\AppData\\Local\\Temp\\ipykernel_6352\\3665724445.py:1: UserWarning: With alpha=0, this algorithm does not converge well. You are advised to use the LinearRegression estimator\n",
      "  line_regression_lasso = Lasso(alpha=lasso_optimal_for_line_regression.best_params_['alpha']).fit(X_train, y_train)\n",
      "c:\\Users\\Mike\\Desktop\\4semak\\Maching_learning\\Maching_Learning\\lib\\site-packages\\sklearn\\linear_model\\_coordinate_descent.py:631: UserWarning: Coordinate descent with no regularization may lead to unexpected results and is discouraged.\n",
      "  model = cd_fast.enet_coordinate_descent(\n",
      "c:\\Users\\Mike\\Desktop\\4semak\\Maching_learning\\Maching_Learning\\lib\\site-packages\\sklearn\\linear_model\\_coordinate_descent.py:631: ConvergenceWarning: Objective did not converge. You might want to increase the number of iterations, check the scale of the features or consider increasing regularisation. Duality gap: 4.153e+07, tolerance: 1.011e+04 Linear regression models with null weight for the l1 regularization term are more efficiently fitted using one of the solvers implemented in sklearn.linear_model.Ridge/RidgeCV instead.\n",
      "  model = cd_fast.enet_coordinate_descent(\n"
     ]
    },
    {
     "name": "stdout",
     "output_type": "stream",
     "text": [
      "MAE: 53.57473970718466\n",
      "RMSE: 9128.720354384075\n",
      "MSE: 95.54433711311243\n",
      "MAPE: 0.6130715487670698\n",
      "R^2: 0.15279624514095136\n"
     ]
    },
    {
     "data": {
      "text/plain": [
       "array([ 1.81963610e+00, -6.97282383e+00,  1.33384761e+01, -1.53738115e+01,\n",
       "       -1.09981785e+01,  2.85230504e+01,  3.77541974e+00, -1.72399339e+00,\n",
       "       -9.14746938e-01, -6.56013964e-01, -8.47263244e-02,  6.57071521e+00,\n",
       "        2.44217443e-02,  3.85838922e+00, -1.97997048e+00,  7.77328987e+00,\n",
       "       -3.04389147e+00, -1.39371163e+01, -8.92700595e-01, -4.13997903e+00,\n",
       "       -6.41926410e-02,  2.76871658e-01,  1.42433213e+00,  1.64728949e-01,\n",
       "       -9.61831201e-01, -2.86836859e-01, -1.22634026e+01,  0.00000000e+00,\n",
       "        1.75319850e-02])"
      ]
     },
     "execution_count": 33,
     "metadata": {},
     "output_type": "execute_result"
    }
   ],
   "source": [
    "line_regression_lasso = Lasso(alpha=lasso_optimal_for_line_regression.best_params_['alpha']).fit(X_train, y_train)\n",
    "y_predict = line_regression_lasso.predict(X_test)\n",
    "line_regression_lasso_errors = {'MAE': mean_absolute_error(y_predicted, y_test),\n",
    "                               'RMSE': mean_squared_error(y_predicted, y_test),\n",
    "                               'MSE': mean_squared_error(y_predicted, y_test)**0.5,\n",
    "                               'MAPE': mean_absolute_percentage_error(y_predicted, y_test),\n",
    "                               'R^2': line_regression_lasso.score(X_test, y_test)}\n",
    "print(f\"MAE: {mean_absolute_error(y_predict, y_test)}\",\n",
    "      f'RMSE: {mean_squared_error(y_predict, y_test)}',\n",
    "      f'MSE: {mean_squared_error(y_predict, y_test)**0.5}',\n",
    "      f'MAPE: {mean_absolute_percentage_error(y_predict, y_test)}',\n",
    "      f'R^2: {line_regression_lasso.score(X_test, y_test)}',\n",
    "      sep='\\n')\n",
    "line_regression_lasso.coef_"
   ]
  },
  {
   "attachments": {},
   "cell_type": "markdown",
   "metadata": {},
   "source": [
    "# Save Models"
   ]
  },
  {
   "cell_type": "code",
   "execution_count": 34,
   "metadata": {},
   "outputs": [
    {
     "data": {
      "text/plain": [
       "['../../Pipelines/Laba1/LineRegressions/LineRegressionLassoModel.sav']"
      ]
     },
     "execution_count": 34,
     "metadata": {},
     "output_type": "execute_result"
    }
   ],
   "source": [
    "joblib.dump(line_regression_classic, '../../Pipelines/Laba1/LineRegressions/LineRegressionClassicModel.sav')\n",
    "joblib.dump(line_regression_ridge, '../../Pipelines/Laba1/LineRegressions/LineRegressionRidgeModel.sav')\n",
    "joblib.dump(line_regression_lasso, '../../Pipelines/Laba1/LineRegressions/LineRegressionLassoModel.sav')\n"
   ]
  }
 ],
 "metadata": {
  "kernelspec": {
   "display_name": "Maching_Learning",
   "language": "python",
   "name": "python3"
  },
  "language_info": {
   "codemirror_mode": {
    "name": "ipython",
    "version": 3
   },
   "file_extension": ".py",
   "mimetype": "text/x-python",
   "name": "python",
   "nbconvert_exporter": "python",
   "pygments_lexer": "ipython3",
   "version": "3.9.2"
  },
  "orig_nbformat": 4,
  "vscode": {
   "interpreter": {
    "hash": "72fa092132459f2e9e0e62acfe6b07e699dc0f19c1369114b8b6fdbd4fdea11c"
   }
  }
 },
 "nbformat": 4,
 "nbformat_minor": 2
}
