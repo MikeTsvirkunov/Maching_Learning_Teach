{
 "cells": [
  {
   "cell_type": "markdown",
   "id": "43dfc1f0",
   "metadata": {},
   "source": [
    "# Лабораторная работа 1. Введение в машинное обучение. Обучение с учителем. Задача регрессии"
   ]
  },
  {
   "cell_type": "markdown",
   "id": "af0b0580",
   "metadata": {},
   "source": [
    "<b>Традиционное предупреждение для всех лабораторных работ:</b> перед обучением моделей необходимо выполнить предварительную обработку данных, которая <b>обязательно</b> включает в себя:\n",
    "- заполнение пропущенных значений (рекомедуется логика заполнения пропусков на основе типа данных, которая использовалась в РГР по Практикуму);\n",
    "- преобразование категориальных признаков в числовые (используйте one-hot кодирование или map; используйте знания с Практикума)."
   ]
  },
  {
   "cell_type": "markdown",
   "id": "b08d9e23",
   "metadata": {},
   "source": [
    "Предобработка может включать в себя другие действия, но выполнение описанных выше действий обязательно."
   ]
  },
  {
   "cell_type": "markdown",
   "id": "05aab9d1",
   "metadata": {},
   "source": [
    "Сделайте это один раз и сохраните в отдельный csv файл, а потом его используйте."
   ]
  },
  {
   "cell_type": "markdown",
   "id": "e053af5b",
   "metadata": {},
   "source": [
    "<b>Выполните следующие задания:</b>\n",
    "- загрузите датасет для регрессии, выделите целевой признак и предикторы, разбейте данные на обучающую и тестовую выборку;\n",
    "- решите задачу регрессии на ваших данных с использованием моделей sklearn (линейная регрессия + L1, L2), для моделей с регуляризациями подберите гиперпараметр;\n",
    "- решите задачу регрессии на ваших данных с использованием моделей sklearn (полиномиальная регрессия + L1, L2), для моделей с регуляризациями подберите гиперпараметр;\n",
    "- вычислите значения метрик $R^2$, MAE, MSE, RMSE, MAPE для всех обученных моделей; выберите лучшую модель;\n",
    "- самостоятельно реализуйте (желательно в виде класса) модель линейной регрессии с регуляризацией (можете выбрать L1 или L2);\n",
    "- самостоятельно реализуйте вычисление всех используемых метрик (в виде функций, принимающих два аргумента);\n",
    "- обучите вашу модель линейной регрессии на ваших данных; оцените качество с помощью реализованных вами метрик."
   ]
  },
  {
   "attachments": {},
   "cell_type": "markdown",
   "id": "8986202d",
   "metadata": {},
   "source": [
    "# Импорт"
   ]
  },
  {
   "cell_type": "code",
   "execution_count": 1,
   "id": "dab4a51e",
   "metadata": {},
   "outputs": [],
   "source": [
    "import pandas as pd\n",
    "import matplotlib.pyplot as plt\n",
    "import numpy as np\n",
    "from sklearn.model_selection import train_test_split\n",
    "from sklearn.linear_model import LinearRegression, Lasso, Ridge\n",
    "from sklearn.metrics import mean_absolute_error, mean_squared_error, mean_absolute_percentage_error\n",
    "from sklearn.model_selection import GridSearchCV, RandomizedSearchCV\n",
    "\n",
    "# omsky_gamedev"
   ]
  },
  {
   "attachments": {},
   "cell_type": "markdown",
   "id": "73fba933",
   "metadata": {},
   "source": [
    "# Загрузка датасета для регрессии."
   ]
  },
  {
   "cell_type": "code",
   "execution_count": 2,
   "id": "d3ab724d",
   "metadata": {},
   "outputs": [
    {
     "data": {
      "text/html": [
       "<div>\n",
       "<style scoped>\n",
       "    .dataframe tbody tr th:only-of-type {\n",
       "        vertical-align: middle;\n",
       "    }\n",
       "\n",
       "    .dataframe tbody tr th {\n",
       "        vertical-align: top;\n",
       "    }\n",
       "\n",
       "    .dataframe thead th {\n",
       "        text-align: right;\n",
       "    }\n",
       "</style>\n",
       "<table border=\"1\" class=\"dataframe\">\n",
       "  <thead>\n",
       "    <tr style=\"text-align: right;\">\n",
       "      <th></th>\n",
       "      <th>Appliances</th>\n",
       "      <th>lights</th>\n",
       "      <th>T1</th>\n",
       "      <th>RH_1</th>\n",
       "      <th>T2</th>\n",
       "      <th>RH_2</th>\n",
       "      <th>T3</th>\n",
       "      <th>RH_3</th>\n",
       "      <th>T4</th>\n",
       "      <th>RH_4</th>\n",
       "      <th>...</th>\n",
       "      <th>T_out</th>\n",
       "      <th>Press_mm_hg</th>\n",
       "      <th>RH_out</th>\n",
       "      <th>Windspeed</th>\n",
       "      <th>Visibility</th>\n",
       "      <th>Tdewpoint</th>\n",
       "      <th>day</th>\n",
       "      <th>month</th>\n",
       "      <th>year</th>\n",
       "      <th>time</th>\n",
       "    </tr>\n",
       "  </thead>\n",
       "  <tbody>\n",
       "    <tr>\n",
       "      <th>0</th>\n",
       "      <td>60.0</td>\n",
       "      <td>30.0</td>\n",
       "      <td>19.890000</td>\n",
       "      <td>47.596667</td>\n",
       "      <td>19.200000</td>\n",
       "      <td>44.790000</td>\n",
       "      <td>19.790000</td>\n",
       "      <td>44.730000</td>\n",
       "      <td>19.000000</td>\n",
       "      <td>45.566667</td>\n",
       "      <td>...</td>\n",
       "      <td>6.60</td>\n",
       "      <td>733.5</td>\n",
       "      <td>92.000000</td>\n",
       "      <td>7.000000</td>\n",
       "      <td>63.000000</td>\n",
       "      <td>5.3</td>\n",
       "      <td>11.0</td>\n",
       "      <td>1.0</td>\n",
       "      <td>2016.0</td>\n",
       "      <td>1020.0</td>\n",
       "    </tr>\n",
       "    <tr>\n",
       "      <th>1</th>\n",
       "      <td>60.0</td>\n",
       "      <td>30.0</td>\n",
       "      <td>19.890000</td>\n",
       "      <td>46.693333</td>\n",
       "      <td>19.200000</td>\n",
       "      <td>44.722500</td>\n",
       "      <td>19.790000</td>\n",
       "      <td>44.790000</td>\n",
       "      <td>19.000000</td>\n",
       "      <td>45.992500</td>\n",
       "      <td>...</td>\n",
       "      <td>6.48</td>\n",
       "      <td>733.6</td>\n",
       "      <td>92.000000</td>\n",
       "      <td>6.666667</td>\n",
       "      <td>59.166667</td>\n",
       "      <td>5.2</td>\n",
       "      <td>11.0</td>\n",
       "      <td>1.0</td>\n",
       "      <td>2016.0</td>\n",
       "      <td>1030.0</td>\n",
       "    </tr>\n",
       "    <tr>\n",
       "      <th>2</th>\n",
       "      <td>50.0</td>\n",
       "      <td>30.0</td>\n",
       "      <td>19.890000</td>\n",
       "      <td>46.300000</td>\n",
       "      <td>19.200000</td>\n",
       "      <td>44.626667</td>\n",
       "      <td>19.790000</td>\n",
       "      <td>44.933333</td>\n",
       "      <td>18.926667</td>\n",
       "      <td>45.890000</td>\n",
       "      <td>...</td>\n",
       "      <td>6.37</td>\n",
       "      <td>733.7</td>\n",
       "      <td>92.000000</td>\n",
       "      <td>6.333333</td>\n",
       "      <td>55.333333</td>\n",
       "      <td>5.1</td>\n",
       "      <td>11.0</td>\n",
       "      <td>1.0</td>\n",
       "      <td>2016.0</td>\n",
       "      <td>1040.0</td>\n",
       "    </tr>\n",
       "    <tr>\n",
       "      <th>3</th>\n",
       "      <td>50.0</td>\n",
       "      <td>40.0</td>\n",
       "      <td>19.890000</td>\n",
       "      <td>46.066667</td>\n",
       "      <td>19.200000</td>\n",
       "      <td>44.590000</td>\n",
       "      <td>19.790000</td>\n",
       "      <td>45.000000</td>\n",
       "      <td>18.890000</td>\n",
       "      <td>45.723333</td>\n",
       "      <td>...</td>\n",
       "      <td>6.25</td>\n",
       "      <td>733.8</td>\n",
       "      <td>92.000000</td>\n",
       "      <td>6.000000</td>\n",
       "      <td>51.500000</td>\n",
       "      <td>5.0</td>\n",
       "      <td>11.0</td>\n",
       "      <td>1.0</td>\n",
       "      <td>2016.0</td>\n",
       "      <td>1050.0</td>\n",
       "    </tr>\n",
       "    <tr>\n",
       "      <th>4</th>\n",
       "      <td>60.0</td>\n",
       "      <td>40.0</td>\n",
       "      <td>19.890000</td>\n",
       "      <td>46.333333</td>\n",
       "      <td>19.200000</td>\n",
       "      <td>44.530000</td>\n",
       "      <td>19.790000</td>\n",
       "      <td>45.000000</td>\n",
       "      <td>18.890000</td>\n",
       "      <td>45.530000</td>\n",
       "      <td>...</td>\n",
       "      <td>6.13</td>\n",
       "      <td>733.9</td>\n",
       "      <td>92.000000</td>\n",
       "      <td>5.666667</td>\n",
       "      <td>47.666667</td>\n",
       "      <td>4.9</td>\n",
       "      <td>11.0</td>\n",
       "      <td>1.0</td>\n",
       "      <td>2016.0</td>\n",
       "      <td>1060.0</td>\n",
       "    </tr>\n",
       "    <tr>\n",
       "      <th>...</th>\n",
       "      <td>...</td>\n",
       "      <td>...</td>\n",
       "      <td>...</td>\n",
       "      <td>...</td>\n",
       "      <td>...</td>\n",
       "      <td>...</td>\n",
       "      <td>...</td>\n",
       "      <td>...</td>\n",
       "      <td>...</td>\n",
       "      <td>...</td>\n",
       "      <td>...</td>\n",
       "      <td>...</td>\n",
       "      <td>...</td>\n",
       "      <td>...</td>\n",
       "      <td>...</td>\n",
       "      <td>...</td>\n",
       "      <td>...</td>\n",
       "      <td>...</td>\n",
       "      <td>...</td>\n",
       "      <td>...</td>\n",
       "      <td>...</td>\n",
       "    </tr>\n",
       "    <tr>\n",
       "      <th>19730</th>\n",
       "      <td>100.0</td>\n",
       "      <td>0.0</td>\n",
       "      <td>25.566667</td>\n",
       "      <td>46.560000</td>\n",
       "      <td>25.890000</td>\n",
       "      <td>42.025714</td>\n",
       "      <td>27.200000</td>\n",
       "      <td>41.163333</td>\n",
       "      <td>24.700000</td>\n",
       "      <td>45.590000</td>\n",
       "      <td>...</td>\n",
       "      <td>22.70</td>\n",
       "      <td>755.2</td>\n",
       "      <td>55.666667</td>\n",
       "      <td>3.333333</td>\n",
       "      <td>23.666667</td>\n",
       "      <td>13.3</td>\n",
       "      <td>27.0</td>\n",
       "      <td>5.0</td>\n",
       "      <td>2016.0</td>\n",
       "      <td>1040.0</td>\n",
       "    </tr>\n",
       "    <tr>\n",
       "      <th>19731</th>\n",
       "      <td>90.0</td>\n",
       "      <td>0.0</td>\n",
       "      <td>25.500000</td>\n",
       "      <td>46.500000</td>\n",
       "      <td>25.754000</td>\n",
       "      <td>42.080000</td>\n",
       "      <td>27.133333</td>\n",
       "      <td>41.223333</td>\n",
       "      <td>24.700000</td>\n",
       "      <td>45.590000</td>\n",
       "      <td>...</td>\n",
       "      <td>22.60</td>\n",
       "      <td>755.2</td>\n",
       "      <td>56.000000</td>\n",
       "      <td>3.500000</td>\n",
       "      <td>24.500000</td>\n",
       "      <td>13.3</td>\n",
       "      <td>27.0</td>\n",
       "      <td>5.0</td>\n",
       "      <td>2016.0</td>\n",
       "      <td>1050.0</td>\n",
       "    </tr>\n",
       "    <tr>\n",
       "      <th>19732</th>\n",
       "      <td>270.0</td>\n",
       "      <td>10.0</td>\n",
       "      <td>25.500000</td>\n",
       "      <td>46.596667</td>\n",
       "      <td>25.628571</td>\n",
       "      <td>42.768571</td>\n",
       "      <td>27.050000</td>\n",
       "      <td>41.690000</td>\n",
       "      <td>24.700000</td>\n",
       "      <td>45.730000</td>\n",
       "      <td>...</td>\n",
       "      <td>22.50</td>\n",
       "      <td>755.2</td>\n",
       "      <td>56.333333</td>\n",
       "      <td>3.666667</td>\n",
       "      <td>25.333333</td>\n",
       "      <td>13.3</td>\n",
       "      <td>27.0</td>\n",
       "      <td>5.0</td>\n",
       "      <td>2016.0</td>\n",
       "      <td>1060.0</td>\n",
       "    </tr>\n",
       "    <tr>\n",
       "      <th>19733</th>\n",
       "      <td>420.0</td>\n",
       "      <td>10.0</td>\n",
       "      <td>25.500000</td>\n",
       "      <td>46.990000</td>\n",
       "      <td>25.414000</td>\n",
       "      <td>43.036000</td>\n",
       "      <td>26.890000</td>\n",
       "      <td>41.290000</td>\n",
       "      <td>24.700000</td>\n",
       "      <td>45.790000</td>\n",
       "      <td>...</td>\n",
       "      <td>22.30</td>\n",
       "      <td>755.2</td>\n",
       "      <td>56.666667</td>\n",
       "      <td>3.833333</td>\n",
       "      <td>26.166667</td>\n",
       "      <td>13.2</td>\n",
       "      <td>27.0</td>\n",
       "      <td>5.0</td>\n",
       "      <td>2016.0</td>\n",
       "      <td>1070.0</td>\n",
       "    </tr>\n",
       "    <tr>\n",
       "      <th>19734</th>\n",
       "      <td>430.0</td>\n",
       "      <td>10.0</td>\n",
       "      <td>25.500000</td>\n",
       "      <td>46.600000</td>\n",
       "      <td>25.264286</td>\n",
       "      <td>42.971429</td>\n",
       "      <td>26.823333</td>\n",
       "      <td>41.156667</td>\n",
       "      <td>24.700000</td>\n",
       "      <td>45.963333</td>\n",
       "      <td>...</td>\n",
       "      <td>22.20</td>\n",
       "      <td>755.2</td>\n",
       "      <td>57.000000</td>\n",
       "      <td>4.000000</td>\n",
       "      <td>27.000000</td>\n",
       "      <td>13.2</td>\n",
       "      <td>27.0</td>\n",
       "      <td>5.0</td>\n",
       "      <td>2016.0</td>\n",
       "      <td>1080.0</td>\n",
       "    </tr>\n",
       "  </tbody>\n",
       "</table>\n",
       "<p>19735 rows × 30 columns</p>\n",
       "</div>"
      ],
      "text/plain": [
       "       Appliances  lights         T1       RH_1         T2       RH_2  \\\n",
       "0            60.0    30.0  19.890000  47.596667  19.200000  44.790000   \n",
       "1            60.0    30.0  19.890000  46.693333  19.200000  44.722500   \n",
       "2            50.0    30.0  19.890000  46.300000  19.200000  44.626667   \n",
       "3            50.0    40.0  19.890000  46.066667  19.200000  44.590000   \n",
       "4            60.0    40.0  19.890000  46.333333  19.200000  44.530000   \n",
       "...           ...     ...        ...        ...        ...        ...   \n",
       "19730       100.0     0.0  25.566667  46.560000  25.890000  42.025714   \n",
       "19731        90.0     0.0  25.500000  46.500000  25.754000  42.080000   \n",
       "19732       270.0    10.0  25.500000  46.596667  25.628571  42.768571   \n",
       "19733       420.0    10.0  25.500000  46.990000  25.414000  43.036000   \n",
       "19734       430.0    10.0  25.500000  46.600000  25.264286  42.971429   \n",
       "\n",
       "              T3       RH_3         T4       RH_4  ...  T_out  Press_mm_hg  \\\n",
       "0      19.790000  44.730000  19.000000  45.566667  ...   6.60        733.5   \n",
       "1      19.790000  44.790000  19.000000  45.992500  ...   6.48        733.6   \n",
       "2      19.790000  44.933333  18.926667  45.890000  ...   6.37        733.7   \n",
       "3      19.790000  45.000000  18.890000  45.723333  ...   6.25        733.8   \n",
       "4      19.790000  45.000000  18.890000  45.530000  ...   6.13        733.9   \n",
       "...          ...        ...        ...        ...  ...    ...          ...   \n",
       "19730  27.200000  41.163333  24.700000  45.590000  ...  22.70        755.2   \n",
       "19731  27.133333  41.223333  24.700000  45.590000  ...  22.60        755.2   \n",
       "19732  27.050000  41.690000  24.700000  45.730000  ...  22.50        755.2   \n",
       "19733  26.890000  41.290000  24.700000  45.790000  ...  22.30        755.2   \n",
       "19734  26.823333  41.156667  24.700000  45.963333  ...  22.20        755.2   \n",
       "\n",
       "          RH_out  Windspeed  Visibility  Tdewpoint   day  month    year  \\\n",
       "0      92.000000   7.000000   63.000000        5.3  11.0    1.0  2016.0   \n",
       "1      92.000000   6.666667   59.166667        5.2  11.0    1.0  2016.0   \n",
       "2      92.000000   6.333333   55.333333        5.1  11.0    1.0  2016.0   \n",
       "3      92.000000   6.000000   51.500000        5.0  11.0    1.0  2016.0   \n",
       "4      92.000000   5.666667   47.666667        4.9  11.0    1.0  2016.0   \n",
       "...          ...        ...         ...        ...   ...    ...     ...   \n",
       "19730  55.666667   3.333333   23.666667       13.3  27.0    5.0  2016.0   \n",
       "19731  56.000000   3.500000   24.500000       13.3  27.0    5.0  2016.0   \n",
       "19732  56.333333   3.666667   25.333333       13.3  27.0    5.0  2016.0   \n",
       "19733  56.666667   3.833333   26.166667       13.2  27.0    5.0  2016.0   \n",
       "19734  57.000000   4.000000   27.000000       13.2  27.0    5.0  2016.0   \n",
       "\n",
       "         time  \n",
       "0      1020.0  \n",
       "1      1030.0  \n",
       "2      1040.0  \n",
       "3      1050.0  \n",
       "4      1060.0  \n",
       "...       ...  \n",
       "19730  1040.0  \n",
       "19731  1050.0  \n",
       "19732  1060.0  \n",
       "19733  1070.0  \n",
       "19734  1080.0  \n",
       "\n",
       "[19735 rows x 30 columns]"
      ]
     },
     "execution_count": 2,
     "metadata": {},
     "output_type": "execute_result"
    }
   ],
   "source": [
    "models = pd.read_csv('../Data/energy_task_moded.csv')\n",
    "models"
   ]
  },
  {
   "attachments": {},
   "cell_type": "markdown",
   "id": "f33c58b4",
   "metadata": {},
   "source": [
    "# Разбиваем на выборку"
   ]
  },
  {
   "cell_type": "code",
   "execution_count": 3,
   "id": "d48b22d3",
   "metadata": {},
   "outputs": [],
   "source": [
    "X_train, X_test, y_train, y_test = train_test_split(models.drop('Appliances', axis=1), models['Appliances'], test_size=0.7)\n"
   ]
  },
  {
   "attachments": {},
   "cell_type": "markdown",
   "id": "433b21d7",
   "metadata": {},
   "source": [
    "# <b>Линейная регресия</b>"
   ]
  },
  {
   "attachments": {},
   "cell_type": "markdown",
   "id": "1617f53a",
   "metadata": {},
   "source": [
    "## Обычная линейная регресия (без гиппер параметра)."
   ]
  },
  {
   "attachments": {},
   "cell_type": "markdown",
   "id": "4c8e3af2",
   "metadata": {},
   "source": [
    "### Обуение"
   ]
  },
  {
   "cell_type": "code",
   "execution_count": 4,
   "id": "f0e466cd",
   "metadata": {},
   "outputs": [
    {
     "data": {
      "text/plain": [
       "array([107.60020776, 108.59325998,  49.57655137, ..., 137.32680814,\n",
       "        78.19080044,  37.8763193 ])"
      ]
     },
     "execution_count": 4,
     "metadata": {},
     "output_type": "execute_result"
    }
   ],
   "source": [
    "line_regression = LinearRegression().fit(X_train, y_train)\n",
    "line_regression.predict(X_test)"
   ]
  },
  {
   "attachments": {},
   "cell_type": "markdown",
   "id": "79d7c5ab",
   "metadata": {},
   "source": [
    "### Значения ошибок: <br>\n",
    "- средней абсолютной ошибки;\n",
    "- средней квадраттичной ошибки (MSE);\n",
    "- средней квадраттичной ошибки под корнем (RMSE);\n",
    "- средней абсолютной процентной ошибки;"
   ]
  },
  {
   "cell_type": "code",
   "execution_count": 5,
   "id": "babe7bbd",
   "metadata": {},
   "outputs": [
    {
     "name": "stdout",
     "output_type": "stream",
     "text": [
      "MAE: 52.97287483401935\n",
      "RMSE: 8512.227596977173\n",
      "MSE: 92.26173419667101\n",
      "MAPE: 0.7275228853880993\n",
      "R^2: 0.16294573303574833\n"
     ]
    }
   ],
   "source": [
    "y_predicted = line_regression.predict(X_test)\n",
    "print(f\"MAE: {mean_absolute_error(y_predicted, y_test)}\",\n",
    "      f'RMSE: {mean_squared_error(y_predicted, y_test)}',\n",
    "      f'MSE: {mean_squared_error(y_predicted, y_test)**0.5}',\n",
    "      f'MAPE: {mean_absolute_percentage_error(y_predicted, y_test)}',\n",
    "      f'R^2: {line_regression.score(X_test, y_test)}',\n",
    "      sep='\\n')\n"
   ]
  },
  {
   "attachments": {},
   "cell_type": "markdown",
   "id": "920a51d4",
   "metadata": {},
   "source": [
    "### Значение весов."
   ]
  },
  {
   "cell_type": "code",
   "execution_count": 6,
   "id": "be93258f",
   "metadata": {},
   "outputs": [
    {
     "name": "stdout",
     "output_type": "stream",
     "text": [
      "29\n",
      "[ 2.23830828e+00 -1.83950799e+00  1.37468831e+01 -1.30474987e+01\n",
      " -1.04906003e+01  2.39477884e+01  5.04234858e+00 -5.91998284e+00\n",
      " -4.05329141e+00 -2.59452735e-01 -6.34447603e-02  6.42449643e+00\n",
      " -3.87682603e-02  2.22487203e+00 -1.06153101e+00  6.21076291e+00\n",
      " -3.56287321e+00 -1.07035441e+01 -9.95892443e-01 -2.84802605e+00\n",
      "  7.46539689e-03  8.08084871e-01  1.93691397e+00  1.19956893e-01\n",
      " -9.96781028e-01 -2.24169832e-01 -1.20331940e+01  0.00000000e+00\n",
      "  1.87325827e-02]\n"
     ]
    }
   ],
   "source": [
    "print(len(line_regression.coef_), line_regression.coef_, sep='\\n')\n"
   ]
  },
  {
   "attachments": {},
   "cell_type": "markdown",
   "id": "95bcac0b",
   "metadata": {},
   "source": [
    "### Предварительные результаты"
   ]
  },
  {
   "cell_type": "code",
   "execution_count": 7,
   "id": "61f07f32",
   "metadata": {},
   "outputs": [
    {
     "data": {
      "text/plain": [
       "[<matplotlib.lines.Line2D at 0x1f108474dc0>,\n",
       " <matplotlib.lines.Line2D at 0x1f108474ca0>,\n",
       " <matplotlib.lines.Line2D at 0x1f108474ee0>,\n",
       " <matplotlib.lines.Line2D at 0x1f108487100>,\n",
       " <matplotlib.lines.Line2D at 0x1f1084871f0>,\n",
       " <matplotlib.lines.Line2D at 0x1f1084872e0>,\n",
       " <matplotlib.lines.Line2D at 0x1f1084873d0>,\n",
       " <matplotlib.lines.Line2D at 0x1f1084874c0>,\n",
       " <matplotlib.lines.Line2D at 0x1f1084875b0>,\n",
       " <matplotlib.lines.Line2D at 0x1f1084876a0>,\n",
       " <matplotlib.lines.Line2D at 0x1f108487790>,\n",
       " <matplotlib.lines.Line2D at 0x1f108487880>,\n",
       " <matplotlib.lines.Line2D at 0x1f108487970>,\n",
       " <matplotlib.lines.Line2D at 0x1f108487a60>,\n",
       " <matplotlib.lines.Line2D at 0x1f108487b50>,\n",
       " <matplotlib.lines.Line2D at 0x1f108487c40>,\n",
       " <matplotlib.lines.Line2D at 0x1f108487d30>,\n",
       " <matplotlib.lines.Line2D at 0x1f108487e20>,\n",
       " <matplotlib.lines.Line2D at 0x1f108487f10>,\n",
       " <matplotlib.lines.Line2D at 0x1f108490040>,\n",
       " <matplotlib.lines.Line2D at 0x1f108490130>,\n",
       " <matplotlib.lines.Line2D at 0x1f108490220>,\n",
       " <matplotlib.lines.Line2D at 0x1f108490310>,\n",
       " <matplotlib.lines.Line2D at 0x1f108490400>,\n",
       " <matplotlib.lines.Line2D at 0x1f1084904f0>,\n",
       " <matplotlib.lines.Line2D at 0x1f1084905e0>,\n",
       " <matplotlib.lines.Line2D at 0x1f1084906d0>,\n",
       " <matplotlib.lines.Line2D at 0x1f1084907c0>,\n",
       " <matplotlib.lines.Line2D at 0x1f1084908b0>]"
      ]
     },
     "execution_count": 7,
     "metadata": {},
     "output_type": "execute_result"
    },
    {
     "data": {
      "image/png": "[encoded data removed]",
      "text/plain": [
       "<Figure size 640x480 with 1 Axes>"
      ]
     },
     "metadata": {},
     "output_type": "display_data"
    }
   ],
   "source": [
    "plt.plot(X_test, y_test, 'ro', markersize=3)\n",
    "plt.plot(X_test, line_regression.predict(X_test), 'bo', markersize=1)"
   ]
  },
  {
   "attachments": {},
   "cell_type": "markdown",
   "id": "ebedc8da",
   "metadata": {},
   "source": [
    "## Ridge (линейная регрессия + L1)"
   ]
  },
  {
   "attachments": {},
   "cell_type": "markdown",
   "id": "3f160f35",
   "metadata": {},
   "source": [
    "### Ridge - подборка гиппер параметра $\\alpha$"
   ]
  },
  {
   "cell_type": "code",
   "execution_count": 8,
   "id": "87f97762",
   "metadata": {},
   "outputs": [
    {
     "data": {
      "text/plain": [
       "{'alpha': 166.99900000000477}"
      ]
     },
     "execution_count": 8,
     "metadata": {},
     "output_type": "execute_result"
    }
   ],
   "source": [
    "ridge_optimal = GridSearchCV(Ridge(), {'alpha': np.arange(166, 167, 0.001)}).fit(X_train, y_train)\n",
    "ridge_optimal.best_params_"
   ]
  },
  {
   "attachments": {},
   "cell_type": "markdown",
   "id": "e7a08d68",
   "metadata": {},
   "source": [
    "### Ridge - обучение с подобранным гиппер параметрам $\\alpha$"
   ]
  },
  {
   "cell_type": "code",
   "execution_count": 9,
   "id": "fe6b46c9",
   "metadata": {},
   "outputs": [
    {
     "name": "stdout",
     "output_type": "stream",
     "text": [
      "MAE: 52.917349920579184\n",
      "RMSE: 8521.428465010991\n",
      "MSE: 92.31158359063608\n",
      "MAPE: 0.9372721953217795\n",
      "R^2: 0.16204096095819986\n"
     ]
    },
    {
     "data": {
      "text/plain": [
       "array([ 2.26545250e+00, -1.78025355e+00,  1.30449788e+01, -1.09250867e+01,\n",
       "       -9.50985632e+00,  2.19523209e+01,  5.05156961e+00, -6.06689581e+00,\n",
       "       -4.06256069e+00, -7.33257874e-01, -6.14248154e-02,  6.06743937e+00,\n",
       "       -1.65827251e-02,  1.63284198e+00, -1.12161064e+00,  5.72142536e+00,\n",
       "       -3.51220826e+00, -9.36547012e+00, -8.68847145e-01, -2.73229165e+00,\n",
       "       -2.05686313e-02,  7.30128450e-01,  1.95924803e+00,  1.20346631e-01,\n",
       "       -1.10410532e+00, -1.46106515e-01, -9.85025180e+00,  0.00000000e+00,\n",
       "        1.91314918e-02])"
      ]
     },
     "execution_count": 9,
     "metadata": {},
     "output_type": "execute_result"
    }
   ],
   "source": [
    "ridge = Ridge(alpha=ridge_optimal.best_params_['alpha']).fit(X_train, y_train)\n",
    "y_result = ridge.predict(X_test)\n",
    "print(f\"MAE: {mean_absolute_error(y_result, y_test)}\",\n",
    "      f'RMSE: {mean_squared_error(y_result, y_test)}',\n",
    "      f'MSE: {mean_squared_error(y_result, y_test)**0.5}',\n",
    "      f'MAPE: {mean_absolute_percentage_error(y_result, y_test)}',\n",
    "      f'R^2: {ridge.score(X_test, y_test)}',\n",
    "      sep='\\n')\n",
    "ridge.coef_"
   ]
  },
  {
   "attachments": {},
   "cell_type": "markdown",
   "id": "aacc2bc8",
   "metadata": {},
   "source": [
    "## Lasso (линейная регрессия + L2)"
   ]
  },
  {
   "attachments": {},
   "cell_type": "markdown",
   "id": "dad6439c",
   "metadata": {},
   "source": [
    "### Lasso - подборка гиппер параметра $\\alpha$"
   ]
  },
  {
   "cell_type": "code",
   "execution_count": 10,
   "id": "6ac7d5fb",
   "metadata": {},
   "outputs": [
    {
     "data": {
      "text/plain": [
       "{'alpha': 0.3}"
      ]
     },
     "execution_count": 10,
     "metadata": {},
     "output_type": "execute_result"
    }
   ],
   "source": [
    "lasso_optimal = GridSearchCV(Lasso(), {'alpha': np.arange(0.3, 0.6, 0.001)}).fit(X_train, y_train)\n",
    "lasso_optimal.best_params_"
   ]
  },
  {
   "attachments": {},
   "cell_type": "markdown",
   "id": "262517e1",
   "metadata": {},
   "source": [
    "### Lasso - обучение с подобранным гиппер параметрам $\\alpha$"
   ]
  },
  {
   "cell_type": "code",
   "execution_count": 11,
   "id": "671bc84c",
   "metadata": {},
   "outputs": [
    {
     "name": "stdout",
     "output_type": "stream",
     "text": [
      "MAE: 52.868344792235796\n",
      "RMSE: 8516.815293154028\n",
      "MSE: 92.28659324709103\n",
      "MAPE: 0.6355021513759435\n",
      "R^2: 0.16249459957900936\n"
     ]
    },
    {
     "data": {
      "text/plain": [
       "array([ 2.25674831e+00, -5.36029203e-01,  1.34055311e+01, -1.20671885e+01,\n",
       "       -9.97333016e+00,  2.21920040e+01,  4.76446770e+00, -5.95141156e+00,\n",
       "       -3.98931524e+00, -2.93278142e-01, -5.64611418e-02,  5.87960508e+00,\n",
       "       -1.61509051e-02,  4.84368856e-01, -9.95212879e-01,  5.41455467e+00,\n",
       "       -3.63181801e+00, -8.74947860e+00, -7.34353631e-01, -2.81821462e+00,\n",
       "       -2.63814413e-02,  6.40935687e-01,  1.81884962e+00,  1.20279701e-01,\n",
       "       -7.65981078e-01, -1.42429109e-01, -1.01483862e+01,  0.00000000e+00,\n",
       "        1.89636882e-02])"
      ]
     },
     "execution_count": 11,
     "metadata": {},
     "output_type": "execute_result"
    }
   ],
   "source": [
    "lasso = Lasso(alpha=lasso_optimal.best_params_['alpha']).fit(X_train, y_train)\n",
    "y_predict = lasso.predict(X_test)\n",
    "print(f\"MAE: {mean_absolute_error(y_predict, y_test)}\",\n",
    "      f'RMSE: {mean_squared_error(y_predict, y_test)}',\n",
    "      f'MSE: {mean_squared_error(y_predict, y_test)**0.5}',\n",
    "      f'MAPE: {mean_absolute_percentage_error(y_predict, y_test)}',\n",
    "      f'R^2: {lasso.score(X_test, y_test)}',\n",
    "      sep='\\n')\n",
    "lasso.coef_"
   ]
  }
 ],
 "metadata": {
  "kernelspec": {
   "display_name": "Maching_Learning",
   "language": "python",
   "name": "python3"
  },
  "language_info": {
   "codemirror_mode": {
    "name": "ipython",
    "version": 3
   },
   "file_extension": ".py",
   "mimetype": "text/x-python",
   "name": "python",
   "nbconvert_exporter": "python",
   "pygments_lexer": "ipython3",
   "version": "3.9.2"
  },
  "vscode": {
   "interpreter": {
    "hash": "72fa092132459f2e9e0e62acfe6b07e699dc0f19c1369114b8b6fdbd4fdea11c"
   }
  }
 },
 "nbformat": 4,
 "nbformat_minor": 5
}
