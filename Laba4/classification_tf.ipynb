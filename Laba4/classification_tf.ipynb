{
 "cells": [
  {
   "cell_type": "markdown",
   "metadata": {},
   "source": [
    "# Импорт"
   ]
  },
  {
   "cell_type": "code",
   "execution_count": 100,
   "metadata": {},
   "outputs": [],
   "source": [
    "import pandas as pd\n",
    "import matplotlib.pyplot as plt\n",
    "import numpy as np\n",
    "\n",
    "from sklearn.model_selection import train_test_split\n",
    "import tensorflow as tf\n",
    "\n",
    "from sklearn.metrics import accuracy_score, confusion_matrix, classification_report, roc_curve, RocCurveDisplay, auc\n",
    "\n",
    "from joblib import dump\n"
   ]
  },
  {
   "cell_type": "markdown",
   "metadata": {},
   "source": [
    "# Загружаем датасет и разбиваем её на выборку."
   ]
  },
  {
   "cell_type": "code",
   "execution_count": 101,
   "metadata": {},
   "outputs": [],
   "source": [
    "models = pd.read_csv('../Data/DataLaba2/neo_task_smoted.csv')\n",
    "X_train, X_test, y_train, y_test = train_test_split(models.drop('hazardous', axis=1), models['hazardous'], test_size=0.5, random_state=42)\n"
   ]
  },
  {
   "cell_type": "code",
   "execution_count": 102,
   "metadata": {},
   "outputs": [
    {
     "data": {
      "text/html": [
       "<div>\n",
       "<style scoped>\n",
       "    .dataframe tbody tr th:only-of-type {\n",
       "        vertical-align: middle;\n",
       "    }\n",
       "\n",
       "    .dataframe tbody tr th {\n",
       "        vertical-align: top;\n",
       "    }\n",
       "\n",
       "    .dataframe thead th {\n",
       "        text-align: right;\n",
       "    }\n",
       "</style>\n",
       "<table border=\"1\" class=\"dataframe\">\n",
       "  <thead>\n",
       "    <tr style=\"text-align: right;\">\n",
       "      <th></th>\n",
       "      <th>est_diameter_max</th>\n",
       "      <th>relative_velocity</th>\n",
       "      <th>miss_distance</th>\n",
       "      <th>absolute_magnitude</th>\n",
       "      <th>hazardous</th>\n",
       "    </tr>\n",
       "  </thead>\n",
       "  <tbody>\n",
       "    <tr>\n",
       "      <th>count</th>\n",
       "      <td>163992.000000</td>\n",
       "      <td>163992.000000</td>\n",
       "      <td>163992.000000</td>\n",
       "      <td>163992.000000</td>\n",
       "      <td>163992.000000</td>\n",
       "    </tr>\n",
       "    <tr>\n",
       "      <th>mean</th>\n",
       "      <td>-0.989587</td>\n",
       "      <td>-0.540983</td>\n",
       "      <td>0.024955</td>\n",
       "      <td>0.074678</td>\n",
       "      <td>0.500000</td>\n",
       "    </tr>\n",
       "    <tr>\n",
       "      <th>std</th>\n",
       "      <td>0.015573</td>\n",
       "      <td>0.227387</td>\n",
       "      <td>0.584422</td>\n",
       "      <td>0.234184</td>\n",
       "      <td>0.500002</td>\n",
       "    </tr>\n",
       "    <tr>\n",
       "      <th>min</th>\n",
       "      <td>-1.000000</td>\n",
       "      <td>-1.000000</td>\n",
       "      <td>-1.000000</td>\n",
       "      <td>-1.000000</td>\n",
       "      <td>0.000000</td>\n",
       "    </tr>\n",
       "    <tr>\n",
       "      <th>25%</th>\n",
       "      <td>-0.997909</td>\n",
       "      <td>-0.712718</td>\n",
       "      <td>-0.485564</td>\n",
       "      <td>-0.082243</td>\n",
       "      <td>0.000000</td>\n",
       "    </tr>\n",
       "    <tr>\n",
       "      <th>50%</th>\n",
       "      <td>-0.992936</td>\n",
       "      <td>-0.575117</td>\n",
       "      <td>0.051370</td>\n",
       "      <td>0.023780</td>\n",
       "      <td>0.500000</td>\n",
       "    </tr>\n",
       "    <tr>\n",
       "      <th>75%</th>\n",
       "      <td>-0.987381</td>\n",
       "      <td>-0.409016</td>\n",
       "      <td>0.536592</td>\n",
       "      <td>0.240718</td>\n",
       "      <td>1.000000</td>\n",
       "    </tr>\n",
       "    <tr>\n",
       "      <th>max</th>\n",
       "      <td>1.000000</td>\n",
       "      <td>1.000000</td>\n",
       "      <td>1.000000</td>\n",
       "      <td>1.000000</td>\n",
       "      <td>1.000000</td>\n",
       "    </tr>\n",
       "  </tbody>\n",
       "</table>\n",
       "</div>"
      ],
      "text/plain": [
       "       est_diameter_max  relative_velocity  miss_distance  absolute_magnitude  \\\n",
       "count     163992.000000      163992.000000  163992.000000       163992.000000   \n",
       "mean          -0.989587          -0.540983       0.024955            0.074678   \n",
       "std            0.015573           0.227387       0.584422            0.234184   \n",
       "min           -1.000000          -1.000000      -1.000000           -1.000000   \n",
       "25%           -0.997909          -0.712718      -0.485564           -0.082243   \n",
       "50%           -0.992936          -0.575117       0.051370            0.023780   \n",
       "75%           -0.987381          -0.409016       0.536592            0.240718   \n",
       "max            1.000000           1.000000       1.000000            1.000000   \n",
       "\n",
       "           hazardous  \n",
       "count  163992.000000  \n",
       "mean        0.500000  \n",
       "std         0.500002  \n",
       "min         0.000000  \n",
       "25%         0.000000  \n",
       "50%         0.500000  \n",
       "75%         1.000000  \n",
       "max         1.000000  "
      ]
     },
     "execution_count": 102,
     "metadata": {},
     "output_type": "execute_result"
    }
   ],
   "source": [
    "models.describe()\n"
   ]
  },
  {
   "attachments": {},
   "cell_type": "markdown",
   "metadata": {},
   "source": [
    "# Создание модели"
   ]
  },
  {
   "cell_type": "code",
   "execution_count": 103,
   "metadata": {},
   "outputs": [
    {
     "name": "stdout",
     "output_type": "stream",
     "text": [
      "Model: \"sequential_11\"\n",
      "_________________________________________________________________\n",
      " Layer (type)                Output Shape              Param #   \n",
      "=================================================================\n",
      " input (Dense)               (None, 4)                 20        \n",
      "                                                                 \n",
      " hidden_layer_2 (Dense)      (None, 8)                 40        \n",
      "                                                                 \n",
      " hidden_layer_3 (Dense)      (None, 4)                 36        \n",
      "                                                                 \n",
      " output (Dense)              (None, 1)                 5         \n",
      "                                                                 \n",
      "=================================================================\n",
      "Total params: 101\n",
      "Trainable params: 101\n",
      "Non-trainable params: 0\n",
      "_________________________________________________________________\n"
     ]
    }
   ],
   "source": [
    "model_class = tf.keras.models.Sequential()\n",
    "model_class.add(tf.keras.layers.Dense(X_train.shape[1],\n",
    "                                      activation='sigmoid',\n",
    "                                      input_shape=(X_train.shape[1],), \n",
    "                                      name='input',\n",
    "                                      # kernel_regularizer=tf.keras.regularizers.L2(l2=1),\n",
    "                                      #   kernel_constraint=tf.keras.constraints.max_norm(1000.),\n",
    "                                      # bias_initializer=tf.keras.initializers.HeNormal,\n",
    "                                      use_bias=True\n",
    "                                      ))\n",
    "model_class.add(tf.keras.layers.Dense(X_train.shape[1]*2,\n",
    "                                      activation='sigmoid',\n",
    "                                      name='hidden_layer_2',\n",
    "                                      # kernel_regularizer=tf.keras.regularizers.L2(l2=1),\n",
    "                                      #   kernel_constraint=tf.keras.constraints.max_norm(1000.),\n",
    "                                      # bias_initializer=tf.keras.initializers.HeNormal,\n",
    "                                      use_bias=True\n",
    "                                      ))\n",
    "model_class.add(tf.keras.layers.Dense(X_train.shape[1],\n",
    "                                      activation='sigmoid',\n",
    "                                      name='hidden_layer_3',\n",
    "                                      # kernel_regularizer=tf.keras.regularizers.L2(l2=1),\n",
    "                                      #   kernel_constraint=tf.keras.constraints.max_norm(1000.),\n",
    "                                      # bias_initializer=tf.keras.initializers.HeNormal,\n",
    "                                      use_bias=True\n",
    "                                      ))\n",
    "model_class.add(tf.keras.layers.Dense(1,\n",
    "                                      name='output', \n",
    "                                      activation='sigmoid',\n",
    "                                      # kernel_regularizer=tf.keras.regularizers.L2(l2=1), \n",
    "                                    #   kernel_constraint=tf.keras.constraints.max_norm(1000.),\n",
    "                                      # bias_initializer=tf.keras.initializers.HeNormal,\n",
    "                                      use_bias=True\n",
    "                                      ))\n",
    "model_class.summary()\n",
    "model_coder = model_class\n"
   ]
  },
  {
   "cell_type": "code",
   "execution_count": 104,
   "metadata": {},
   "outputs": [],
   "source": [
    "# model_coder = tf.keras.models.Sequential([\n",
    "#     tf.keras.layers.Dense(3, input_shape=(X_train.shape[1],)),\n",
    "#     tf.keras.layers.Dense(1,)\n",
    "# ])\n"
   ]
  },
  {
   "attachments": {},
   "cell_type": "markdown",
   "metadata": {},
   "source": [
    "## Компиляция"
   ]
  },
  {
   "cell_type": "code",
   "execution_count": 105,
   "metadata": {},
   "outputs": [],
   "source": [
    "model_coder.compile(\n",
    "    optimizer='Adam',\n",
    "    loss='mse',\n",
    "    metrics=['binary_crossentropy', tf.keras.metrics.FalseNegatives(), tf.keras.metrics.Recall()]\n",
    ")\n"
   ]
  },
  {
   "attachments": {},
   "cell_type": "markdown",
   "metadata": {},
   "source": [
    "# Обучение"
   ]
  },
  {
   "cell_type": "code",
   "execution_count": 106,
   "metadata": {},
   "outputs": [
    {
     "name": "stdout",
     "output_type": "stream",
     "text": [
      "Epoch 1/10\n",
      "4100/4100 [==============================] - 10s 2ms/step - loss: 0.2002 - binary_crossentropy: 0.5845 - false_negatives_8: 5031.0000 - recall_9: 0.7541 - val_loss: 0.1228 - val_binary_crossentropy: 0.4019 - val_false_negatives_8: 444.0000 - val_recall_9: 0.9783\n",
      "Epoch 2/10\n",
      "4100/4100 [==============================] - 9s 2ms/step - loss: 0.1144 - binary_crossentropy: 0.3701 - false_negatives_8: 466.0000 - recall_9: 0.9772 - val_loss: 0.1128 - val_binary_crossentropy: 0.3605 - val_false_negatives_8: 384.0000 - val_recall_9: 0.9813\n",
      "Epoch 3/10\n",
      "4100/4100 [==============================] - 9s 2ms/step - loss: 0.1098 - binary_crossentropy: 0.3509 - false_negatives_8: 350.0000 - recall_9: 0.9829 - val_loss: 0.1100 - val_binary_crossentropy: 0.3512 - val_false_negatives_8: 295.0000 - val_recall_9: 0.9856\n",
      "Epoch 4/10\n",
      "4100/4100 [==============================] - 9s 2ms/step - loss: 0.1078 - binary_crossentropy: 0.3451 - false_negatives_8: 312.0000 - recall_9: 0.9847 - val_loss: 0.1090 - val_binary_crossentropy: 0.3484 - val_false_negatives_8: 218.0000 - val_recall_9: 0.9894\n",
      "Epoch 5/10\n",
      "4100/4100 [==============================] - 9s 2ms/step - loss: 0.1066 - binary_crossentropy: 0.3424 - false_negatives_8: 303.0000 - recall_9: 0.9852 - val_loss: 0.1079 - val_binary_crossentropy: 0.3462 - val_false_negatives_8: 424.0000 - val_recall_9: 0.9793\n",
      "Epoch 6/10\n",
      "4100/4100 [==============================] - 9s 2ms/step - loss: 0.1058 - binary_crossentropy: 0.3412 - false_negatives_8: 286.0000 - recall_9: 0.9860 - val_loss: 0.1069 - val_binary_crossentropy: 0.3447 - val_false_negatives_8: 279.0000 - val_recall_9: 0.9864\n",
      "Epoch 7/10\n",
      "4100/4100 [==============================] - 9s 2ms/step - loss: 0.1053 - binary_crossentropy: 0.3405 - false_negatives_8: 279.0000 - recall_9: 0.9864 - val_loss: 0.1064 - val_binary_crossentropy: 0.3443 - val_false_negatives_8: 288.0000 - val_recall_9: 0.9860\n",
      "Epoch 8/10\n",
      "4100/4100 [==============================] - 9s 2ms/step - loss: 0.1050 - binary_crossentropy: 0.3405 - false_negatives_8: 274.0000 - recall_9: 0.9866 - val_loss: 0.1062 - val_binary_crossentropy: 0.3442 - val_false_negatives_8: 270.0000 - val_recall_9: 0.9868\n",
      "Epoch 9/10\n",
      "4100/4100 [==============================] - 9s 2ms/step - loss: 0.1047 - binary_crossentropy: 0.3403 - false_negatives_8: 276.0000 - recall_9: 0.9865 - val_loss: 0.1062 - val_binary_crossentropy: 0.3448 - val_false_negatives_8: 356.0000 - val_recall_9: 0.9826\n",
      "Epoch 10/10\n",
      "4100/4100 [==============================] - 9s 2ms/step - loss: 0.1046 - binary_crossentropy: 0.3403 - false_negatives_8: 276.0000 - recall_9: 0.9865 - val_loss: 0.1058 - val_binary_crossentropy: 0.3443 - val_false_negatives_8: 315.0000 - val_recall_9: 0.9846\n"
     ]
    },
    {
     "data": {
      "text/plain": [
       "<keras.callbacks.History at 0x23bbcff5d30>"
      ]
     },
     "execution_count": 106,
     "metadata": {},
     "output_type": "execute_result"
    }
   ],
   "source": [
    "model_coder.fit(\n",
    "    X_train.to_numpy(),\n",
    "    y_train.to_numpy(),\n",
    "    validation_split=0.5,\n",
    "    epochs=10,\n",
    "    batch_size=10\n",
    ")\n"
   ]
  },
  {
   "attachments": {},
   "cell_type": "markdown",
   "metadata": {},
   "source": [
    "# Predict"
   ]
  },
  {
   "cell_type": "code",
   "execution_count": 107,
   "metadata": {},
   "outputs": [
    {
     "name": "stdout",
     "output_type": "stream",
     "text": [
      "2563/2563 [==============================] - 3s 1ms/step\n"
     ]
    }
   ],
   "source": [
    "y_predicted = model_coder.predict(X_test).T[0]\n"
   ]
  },
  {
   "cell_type": "code",
   "execution_count": 108,
   "metadata": {},
   "outputs": [
    {
     "data": {
      "text/plain": [
       "array([0.00127466, 0.00127466, 0.00127466, ..., 0.8101582 , 0.81015825,\n",
       "       0.81015855], dtype=float32)"
      ]
     },
     "execution_count": 108,
     "metadata": {},
     "output_type": "execute_result"
    }
   ],
   "source": [
    "np.unique(y_predicted)\n"
   ]
  },
  {
   "cell_type": "markdown",
   "metadata": {},
   "source": [
    "# Оценка качества "
   ]
  },
  {
   "cell_type": "code",
   "execution_count": 120,
   "metadata": {},
   "outputs": [
    {
     "name": "stdout",
     "output_type": "stream",
     "text": [
      "Accuracy\n",
      "0.8687009122396214\n"
     ]
    }
   ],
   "source": [
    "print('Accuracy')\n",
    "print(accuracy_score(y_test, y_predicted>0.5))\n"
   ]
  },
  {
   "cell_type": "code",
   "execution_count": 121,
   "metadata": {},
   "outputs": [
    {
     "name": "stdout",
     "output_type": "stream",
     "text": [
      "Confusion matrix\n",
      "[[30873 10086]\n",
      " [  680 40357]]\n"
     ]
    }
   ],
   "source": [
    "print('Confusion matrix')\n",
    "print(confusion_matrix(y_test, y_predicted > 0.5))\n"
   ]
  },
  {
   "cell_type": "code",
   "execution_count": 122,
   "metadata": {},
   "outputs": [
    {
     "name": "stdout",
     "output_type": "stream",
     "text": [
      "Precision, Recall, F\n",
      "               precision    recall  f1-score   support\n",
      "\n",
      "         0.0       0.98      0.75      0.85     40959\n",
      "         1.0       0.80      0.98      0.88     41037\n",
      "\n",
      "    accuracy                           0.87     81996\n",
      "   macro avg       0.89      0.87      0.87     81996\n",
      "weighted avg       0.89      0.87      0.87     81996\n",
      "\n"
     ]
    }
   ],
   "source": [
    "print('Precision, Recall, F\\n', classification_report(y_test, y_predicted > 0.5))\n"
   ]
  },
  {
   "cell_type": "code",
   "execution_count": 123,
   "metadata": {},
   "outputs": [
    {
     "data": {
      "text/plain": [
       "<sklearn.metrics._plot.roc_curve.RocCurveDisplay at 0x23bbcff5ac0>"
      ]
     },
     "execution_count": 123,
     "metadata": {},
     "output_type": "execute_result"
    },
    {
     "data": {
      "image/png": "[encoded data removed]",
      "text/plain": [
       "<Figure size 432x288 with 1 Axes>"
      ]
     },
     "metadata": {
      "needs_background": "light"
     },
     "output_type": "display_data"
    }
   ],
   "source": [
    "fpr, tpr, thresholds = roc_curve(y_predicted > 0.5, y_test)\n",
    "roc_auc = auc(fpr, tpr)\n",
    "display = RocCurveDisplay(fpr=fpr, tpr=tpr, roc_auc=roc_auc, estimator_name='example estimator')\n",
    "display.plot()"
   ]
  }
 ],
 "metadata": {
  "kernelspec": {
   "display_name": "Python 3",
   "language": "python",
   "name": "python3"
  },
  "language_info": {
   "codemirror_mode": {
    "name": "ipython",
    "version": 3
   },
   "file_extension": ".py",
   "mimetype": "text/x-python",
   "name": "python",
   "nbconvert_exporter": "python",
   "pygments_lexer": "ipython3",
   "version": "3.9.2"
  },
  "orig_nbformat": 4
 },
 "nbformat": 4,
 "nbformat_minor": 2
}
