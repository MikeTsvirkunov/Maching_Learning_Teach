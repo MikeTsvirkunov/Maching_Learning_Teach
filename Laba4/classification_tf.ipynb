{
 "cells": [
  {
   "cell_type": "markdown",
   "metadata": {},
   "source": [
    "# Импорт"
   ]
  },
  {
   "cell_type": "code",
   "execution_count": 29,
   "metadata": {},
   "outputs": [],
   "source": [
    "import pandas as pd\n",
    "import matplotlib.pyplot as plt\n",
    "import numpy as np\n",
    "\n",
    "from sklearn.model_selection import train_test_split\n",
    "import tensorflow as tf\n",
    "\n",
    "from sklearn.metrics import accuracy_score, confusion_matrix, classification_report, roc_curve, RocCurveDisplay, auc\n",
    "\n",
    "from joblib import dump\n"
   ]
  },
  {
   "cell_type": "markdown",
   "metadata": {},
   "source": [
    "# Загружаем датасет и разбиваем её на выборку."
   ]
  },
  {
   "cell_type": "code",
   "execution_count": 30,
   "metadata": {},
   "outputs": [],
   "source": [
    "models = pd.read_csv('../Data/DataLaba2/neo_task_smoted.csv')\n",
    "X_train, X_test, y_train, y_test = train_test_split(models.drop('hazardous', axis=1), models['hazardous'], test_size=0.25, random_state=42)\n"
   ]
  },
  {
   "attachments": {},
   "cell_type": "markdown",
   "metadata": {},
   "source": [
    "# Создание модели"
   ]
  },
  {
   "cell_type": "code",
   "execution_count": 31,
   "metadata": {},
   "outputs": [
    {
     "name": "stdout",
     "output_type": "stream",
     "text": [
      "Model: \"sequential_7\"\n",
      "_________________________________________________________________\n",
      " Layer (type)                Output Shape              Param #   \n",
      "=================================================================\n",
      " input (Dense)               (None, 6)                 30        \n",
      "                                                                 \n",
      " hidden_layer_2 (Dense)      (None, 3)                 21        \n",
      "                                                                 \n",
      " output (Dense)              (None, 2)                 8         \n",
      "                                                                 \n",
      "=================================================================\n",
      "Total params: 59\n",
      "Trainable params: 59\n",
      "Non-trainable params: 0\n",
      "_________________________________________________________________\n"
     ]
    }
   ],
   "source": [
    "model_class = tf.keras.models.Sequential()\n",
    "model_class.add(tf.keras.layers.Dense(6, activation='relu', input_shape=(X_train.shape[1],), name='input'))\n",
    "model_class.add(tf.keras.layers.Dense(3, activation='relu', name='hidden_layer_2'))\n",
    "model_class.add(tf.keras.layers.Dense(2, name='output'))\n",
    "model_class.summary()\n"
   ]
  },
  {
   "cell_type": "code",
   "execution_count": 32,
   "metadata": {},
   "outputs": [],
   "source": [
    "model_coder = tf.keras.models.Sequential([\n",
    "    tf.keras.layers.Dense(3, input_shape=(X_train.shape[1],)),\n",
    "    tf.keras.layers.Dense(1,)\n",
    "])\n"
   ]
  },
  {
   "attachments": {},
   "cell_type": "markdown",
   "metadata": {},
   "source": [
    "## Компиляция"
   ]
  },
  {
   "cell_type": "code",
   "execution_count": 33,
   "metadata": {},
   "outputs": [],
   "source": [
    "model_coder.compile(\n",
    "    optimizer='Adam',\n",
    "    loss='mse',\n",
    "    metrics=['mean_absolute_error']\n",
    ")\n"
   ]
  },
  {
   "attachments": {},
   "cell_type": "markdown",
   "metadata": {},
   "source": [
    "# Обучение"
   ]
  },
  {
   "cell_type": "code",
   "execution_count": 34,
   "metadata": {},
   "outputs": [
    {
     "name": "stdout",
     "output_type": "stream",
     "text": [
      "Epoch 1/5\n",
      "3075/3075 [==============================] - 10s 3ms/step - loss: 0.1757 - mean_absolute_error: 0.3502 - val_loss: 0.1497 - val_mean_absolute_error: 0.3267\n",
      "Epoch 2/5\n",
      "3075/3075 [==============================] - 9s 3ms/step - loss: 0.1482 - mean_absolute_error: 0.3249 - val_loss: 0.1498 - val_mean_absolute_error: 0.3257\n",
      "Epoch 3/5\n",
      "3075/3075 [==============================] - 9s 3ms/step - loss: 0.1482 - mean_absolute_error: 0.3247 - val_loss: 0.1497 - val_mean_absolute_error: 0.3273\n",
      "Epoch 4/5\n",
      "3075/3075 [==============================] - 9s 3ms/step - loss: 0.1482 - mean_absolute_error: 0.3248 - val_loss: 0.1496 - val_mean_absolute_error: 0.3270\n",
      "Epoch 5/5\n",
      "3075/3075 [==============================] - 9s 3ms/step - loss: 0.1481 - mean_absolute_error: 0.3247 - val_loss: 0.1494 - val_mean_absolute_error: 0.3256\n"
     ]
    },
    {
     "data": {
      "text/plain": [
       "<keras.callbacks.History at 0x18b6e4c9c40>"
      ]
     },
     "execution_count": 34,
     "metadata": {},
     "output_type": "execute_result"
    }
   ],
   "source": [
    "model_coder.fit(\n",
    "    X_train,\n",
    "    y_train,\n",
    "    validation_split=0.5,\n",
    "    epochs=5,\n",
    "    batch_size=20\n",
    ")\n"
   ]
  },
  {
   "attachments": {},
   "cell_type": "markdown",
   "metadata": {},
   "source": [
    "# Predict"
   ]
  },
  {
   "cell_type": "code",
   "execution_count": 40,
   "metadata": {},
   "outputs": [
    {
     "name": "stdout",
     "output_type": "stream",
     "text": [
      "1282/1282 [==============================] - 2s 2ms/step\n"
     ]
    }
   ],
   "source": [
    "y_predicted = model_coder.predict(X_test).T[0]\n"
   ]
  },
  {
   "cell_type": "code",
   "execution_count": 39,
   "metadata": {},
   "outputs": [
    {
     "data": {
      "text/plain": [
       "array([0.7973768 , 0.34785348, 0.52603453, ..., 0.3331228 , 0.7155223 ,\n",
       "       0.4423653 ], dtype=float32)"
      ]
     },
     "execution_count": 39,
     "metadata": {},
     "output_type": "execute_result"
    }
   ],
   "source": [
    "y_predicted\n"
   ]
  },
  {
   "cell_type": "markdown",
   "metadata": {},
   "source": [
    "# Оценка качества "
   ]
  },
  {
   "cell_type": "code",
   "execution_count": 42,
   "metadata": {},
   "outputs": [
    {
     "name": "stdout",
     "output_type": "stream",
     "text": [
      "Accuracy\n",
      "0.8506024684130933\n"
     ]
    }
   ],
   "source": [
    "print('Accuracy')\n",
    "print(accuracy_score(y_test, y_predicted>0.5))\n"
   ]
  },
  {
   "cell_type": "code",
   "execution_count": 43,
   "metadata": {},
   "outputs": [
    {
     "name": "stdout",
     "output_type": "stream",
     "text": [
      "Confusion matrix\n",
      "[[15210  5164]\n",
      " [  961 19663]]\n"
     ]
    }
   ],
   "source": [
    "print('Confusion matrix')\n",
    "print(confusion_matrix(y_test, y_predicted > 0.5))\n"
   ]
  },
  {
   "cell_type": "code",
   "execution_count": 44,
   "metadata": {},
   "outputs": [
    {
     "name": "stdout",
     "output_type": "stream",
     "text": [
      "Precision, Recall, F\n",
      "               precision    recall  f1-score   support\n",
      "\n",
      "         0.0       0.94      0.75      0.83     20374\n",
      "         1.0       0.79      0.95      0.87     20624\n",
      "\n",
      "    accuracy                           0.85     40998\n",
      "   macro avg       0.87      0.85      0.85     40998\n",
      "weighted avg       0.87      0.85      0.85     40998\n",
      "\n"
     ]
    }
   ],
   "source": [
    "print('Precision, Recall, F\\n', classification_report(y_test, y_predicted > 0.5))\n"
   ]
  },
  {
   "cell_type": "code",
   "execution_count": 45,
   "metadata": {},
   "outputs": [
    {
     "data": {
      "text/plain": [
       "<sklearn.metrics._plot.roc_curve.RocCurveDisplay at 0x18b6c735ee0>"
      ]
     },
     "execution_count": 45,
     "metadata": {},
     "output_type": "execute_result"
    },
    {
     "data": {
      "image/png": "[encoded data removed]",
      "text/plain": [
       "<Figure size 432x288 with 1 Axes>"
      ]
     },
     "metadata": {
      "needs_background": "light"
     },
     "output_type": "display_data"
    }
   ],
   "source": [
    "fpr, tpr, thresholds = roc_curve(y_predicted > 0.5, y_test)\n",
    "roc_auc = auc(fpr, tpr)\n",
    "display = RocCurveDisplay(fpr=fpr, tpr=tpr, roc_auc=roc_auc, estimator_name='example estimator')\n",
    "display.plot()"
   ]
  }
 ],
 "metadata": {
  "kernelspec": {
   "display_name": "Python 3",
   "language": "python",
   "name": "python3"
  },
  "language_info": {
   "codemirror_mode": {
    "name": "ipython",
    "version": 3
   },
   "file_extension": ".py",
   "mimetype": "text/x-python",
   "name": "python",
   "nbconvert_exporter": "python",
   "pygments_lexer": "ipython3",
   "version": "3.9.2"
  },
  "orig_nbformat": 4
 },
 "nbformat": 4,
 "nbformat_minor": 2
}
