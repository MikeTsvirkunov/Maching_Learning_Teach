{
 "cells": [
  {
   "attachments": {},
   "cell_type": "markdown",
   "metadata": {},
   "source": [
    "# Импорт"
   ]
  },
  {
   "cell_type": "code",
   "execution_count": 2,
   "metadata": {},
   "outputs": [],
   "source": [
    "import pandas as pd\n",
    "import matplotlib.pyplot as plt\n",
    "import numpy as np\n",
    "\n",
    "from sklearn.model_selection import train_test_split\n",
    "import tensorflow as tf\n",
    "\n",
    "from sklearn.metrics import accuracy_score, confusion_matrix, classification_report, roc_curve, RocCurveDisplay, auc\n",
    "\n",
    "from joblib import dump\n"
   ]
  },
  {
   "attachments": {},
   "cell_type": "markdown",
   "metadata": {},
   "source": [
    "# Загружаем датасет и разбиваем её на выборку."
   ]
  },
  {
   "cell_type": "code",
   "execution_count": 3,
   "metadata": {},
   "outputs": [],
   "source": [
    "models = pd.read_csv('../Data/DataLaba2/neo_task_smoted.csv')\n",
    "X_train, X_test, y_train, y_test = train_test_split(models.drop('hazardous', axis=1), models['hazardous'], test_size=0.5, random_state=42)\n"
   ]
  },
  {
   "cell_type": "code",
   "execution_count": 4,
   "metadata": {},
   "outputs": [
    {
     "data": {
      "text/html": [
       "<div>\n",
       "<style scoped>\n",
       "    .dataframe tbody tr th:only-of-type {\n",
       "        vertical-align: middle;\n",
       "    }\n",
       "\n",
       "    .dataframe tbody tr th {\n",
       "        vertical-align: top;\n",
       "    }\n",
       "\n",
       "    .dataframe thead th {\n",
       "        text-align: right;\n",
       "    }\n",
       "</style>\n",
       "<table border=\"1\" class=\"dataframe\">\n",
       "  <thead>\n",
       "    <tr style=\"text-align: right;\">\n",
       "      <th></th>\n",
       "      <th>est_diameter_max</th>\n",
       "      <th>relative_velocity</th>\n",
       "      <th>miss_distance</th>\n",
       "      <th>absolute_magnitude</th>\n",
       "      <th>hazardous</th>\n",
       "    </tr>\n",
       "  </thead>\n",
       "  <tbody>\n",
       "    <tr>\n",
       "      <th>count</th>\n",
       "      <td>163992.000000</td>\n",
       "      <td>163992.000000</td>\n",
       "      <td>163992.000000</td>\n",
       "      <td>163992.000000</td>\n",
       "      <td>163992.000000</td>\n",
       "    </tr>\n",
       "    <tr>\n",
       "      <th>mean</th>\n",
       "      <td>-0.989587</td>\n",
       "      <td>-0.540983</td>\n",
       "      <td>0.024955</td>\n",
       "      <td>0.074678</td>\n",
       "      <td>0.500000</td>\n",
       "    </tr>\n",
       "    <tr>\n",
       "      <th>std</th>\n",
       "      <td>0.015573</td>\n",
       "      <td>0.227387</td>\n",
       "      <td>0.584422</td>\n",
       "      <td>0.234184</td>\n",
       "      <td>0.500002</td>\n",
       "    </tr>\n",
       "    <tr>\n",
       "      <th>min</th>\n",
       "      <td>-1.000000</td>\n",
       "      <td>-1.000000</td>\n",
       "      <td>-1.000000</td>\n",
       "      <td>-1.000000</td>\n",
       "      <td>0.000000</td>\n",
       "    </tr>\n",
       "    <tr>\n",
       "      <th>25%</th>\n",
       "      <td>-0.997909</td>\n",
       "      <td>-0.712718</td>\n",
       "      <td>-0.485564</td>\n",
       "      <td>-0.082243</td>\n",
       "      <td>0.000000</td>\n",
       "    </tr>\n",
       "    <tr>\n",
       "      <th>50%</th>\n",
       "      <td>-0.992936</td>\n",
       "      <td>-0.575117</td>\n",
       "      <td>0.051370</td>\n",
       "      <td>0.023780</td>\n",
       "      <td>0.500000</td>\n",
       "    </tr>\n",
       "    <tr>\n",
       "      <th>75%</th>\n",
       "      <td>-0.987381</td>\n",
       "      <td>-0.409016</td>\n",
       "      <td>0.536592</td>\n",
       "      <td>0.240718</td>\n",
       "      <td>1.000000</td>\n",
       "    </tr>\n",
       "    <tr>\n",
       "      <th>max</th>\n",
       "      <td>1.000000</td>\n",
       "      <td>1.000000</td>\n",
       "      <td>1.000000</td>\n",
       "      <td>1.000000</td>\n",
       "      <td>1.000000</td>\n",
       "    </tr>\n",
       "  </tbody>\n",
       "</table>\n",
       "</div>"
      ],
      "text/plain": [
       "       est_diameter_max  relative_velocity  miss_distance  absolute_magnitude  \\\n",
       "count     163992.000000      163992.000000  163992.000000       163992.000000   \n",
       "mean          -0.989587          -0.540983       0.024955            0.074678   \n",
       "std            0.015573           0.227387       0.584422            0.234184   \n",
       "min           -1.000000          -1.000000      -1.000000           -1.000000   \n",
       "25%           -0.997909          -0.712718      -0.485564           -0.082243   \n",
       "50%           -0.992936          -0.575117       0.051370            0.023780   \n",
       "75%           -0.987381          -0.409016       0.536592            0.240718   \n",
       "max            1.000000           1.000000       1.000000            1.000000   \n",
       "\n",
       "           hazardous  \n",
       "count  163992.000000  \n",
       "mean        0.500000  \n",
       "std         0.500002  \n",
       "min         0.000000  \n",
       "25%         0.000000  \n",
       "50%         0.500000  \n",
       "75%         1.000000  \n",
       "max         1.000000  "
      ]
     },
     "execution_count": 4,
     "metadata": {},
     "output_type": "execute_result"
    }
   ],
   "source": [
    "models.describe()\n"
   ]
  },
  {
   "attachments": {},
   "cell_type": "markdown",
   "metadata": {},
   "source": [
    "# Создание модели"
   ]
  },
  {
   "cell_type": "code",
   "execution_count": 5,
   "metadata": {},
   "outputs": [
    {
     "name": "stdout",
     "output_type": "stream",
     "text": [
      "Model: \"sequential\"\n",
      "_________________________________________________________________\n",
      " Layer (type)                Output Shape              Param #   \n",
      "=================================================================\n",
      " input (Dense)               (None, 4)                 20        \n",
      "                                                                 \n",
      " hidden_layer_2 (Dense)      (None, 8)                 40        \n",
      "                                                                 \n",
      " hidden_layer_3 (Dense)      (None, 4)                 36        \n",
      "                                                                 \n",
      " output (Dense)              (None, 1)                 5         \n",
      "                                                                 \n",
      "=================================================================\n",
      "Total params: 101\n",
      "Trainable params: 101\n",
      "Non-trainable params: 0\n",
      "_________________________________________________________________\n"
     ]
    }
   ],
   "source": [
    "model_class = tf.keras.models.Sequential()\n",
    "model_class.add(tf.keras.layers.Dense(X_train.shape[1],\n",
    "                                      activation='sigmoid',\n",
    "                                      input_shape=(X_train.shape[1],), \n",
    "                                      name='input',\n",
    "                                      # kernel_regularizer=tf.keras.regularizers.L2(l2=1),\n",
    "                                      #   kernel_constraint=tf.keras.constraints.max_norm(1000.),\n",
    "                                      # bias_initializer=tf.keras.initializers.HeNormal,\n",
    "                                      use_bias=True\n",
    "                                      ))\n",
    "model_class.add(tf.keras.layers.Dense(X_train.shape[1]*2,\n",
    "                                      activation='sigmoid',\n",
    "                                      name='hidden_layer_2',\n",
    "                                      # kernel_regularizer=tf.keras.regularizers.L2(l2=1),\n",
    "                                      #   kernel_constraint=tf.keras.constraints.max_norm(1000.),\n",
    "                                      # bias_initializer=tf.keras.initializers.HeNormal,\n",
    "                                      use_bias=True\n",
    "                                      ))\n",
    "model_class.add(tf.keras.layers.Dense(X_train.shape[1],\n",
    "                                      activation='sigmoid',\n",
    "                                      name='hidden_layer_3',\n",
    "                                      # kernel_regularizer=tf.keras.regularizers.L2(l2=1),\n",
    "                                      #   kernel_constraint=tf.keras.constraints.max_norm(1000.),\n",
    "                                      # bias_initializer=tf.keras.initializers.HeNormal,\n",
    "                                      use_bias=True\n",
    "                                      ))\n",
    "model_class.add(tf.keras.layers.Dense(1,\n",
    "                                      name='output', \n",
    "                                      activation='sigmoid',\n",
    "                                      # kernel_regularizer=tf.keras.regularizers.L2(l2=1), \n",
    "                                    #   kernel_constraint=tf.keras.constraints.max_norm(1000.),\n",
    "                                      # bias_initializer=tf.keras.initializers.HeNormal,\n",
    "                                      use_bias=True\n",
    "                                      ))\n",
    "model_class.summary()\n",
    "model_coder = model_class\n"
   ]
  },
  {
   "cell_type": "code",
   "execution_count": 6,
   "metadata": {},
   "outputs": [],
   "source": [
    "# model_coder = tf.keras.models.Sequential([\n",
    "#     tf.keras.layers.Dense(3, input_shape=(X_train.shape[1],)),\n",
    "#     tf.keras.layers.Dense(1,)\n",
    "# ])\n"
   ]
  },
  {
   "attachments": {},
   "cell_type": "markdown",
   "metadata": {},
   "source": [
    "## Компиляция"
   ]
  },
  {
   "cell_type": "code",
   "execution_count": 7,
   "metadata": {},
   "outputs": [],
   "source": [
    "model_coder.compile(\n",
    "    optimizer='Adam',\n",
    "    loss='mse',\n",
    "    metrics=['binary_crossentropy', tf.keras.metrics.FalseNegatives(), tf.keras.metrics.Recall()]\n",
    ")\n"
   ]
  },
  {
   "attachments": {},
   "cell_type": "markdown",
   "metadata": {},
   "source": [
    "# Обучение"
   ]
  },
  {
   "cell_type": "code",
   "execution_count": 8,
   "metadata": {},
   "outputs": [
    {
     "name": "stdout",
     "output_type": "stream",
     "text": [
      "Epoch 1/10\n",
      "4100/4100 [==============================] - 10s 2ms/step - loss: 0.1892 - binary_crossentropy: 0.5587 - false_negatives: 3013.0000 - recall: 0.8527 - val_loss: 0.1194 - val_binary_crossentropy: 0.3891 - val_false_negatives: 766.0000 - val_recall: 0.9626\n",
      "Epoch 2/10\n",
      "4100/4100 [==============================] - 9s 2ms/step - loss: 0.1127 - binary_crossentropy: 0.3648 - false_negatives: 425.0000 - recall: 0.9792 - val_loss: 0.1119 - val_binary_crossentropy: 0.3584 - val_false_negatives: 314.0000 - val_recall: 0.9847\n",
      "Epoch 3/10\n",
      "4100/4100 [==============================] - 9s 2ms/step - loss: 0.1092 - binary_crossentropy: 0.3498 - false_negatives: 342.0000 - recall: 0.9833 - val_loss: 0.1097 - val_binary_crossentropy: 0.3505 - val_false_negatives: 314.0000 - val_recall: 0.9847\n",
      "Epoch 4/10\n",
      "4100/4100 [==============================] - 9s 2ms/step - loss: 0.1076 - binary_crossentropy: 0.3447 - false_negatives: 304.0000 - recall: 0.9851 - val_loss: 0.1084 - val_binary_crossentropy: 0.3471 - val_false_negatives: 344.0000 - val_recall: 0.9832\n",
      "Epoch 5/10\n",
      "4100/4100 [==============================] - 9s 2ms/step - loss: 0.1065 - binary_crossentropy: 0.3421 - false_negatives: 293.0000 - recall: 0.9857 - val_loss: 0.1075 - val_binary_crossentropy: 0.3451 - val_false_negatives: 306.0000 - val_recall: 0.9851\n",
      "Epoch 6/10\n",
      "4100/4100 [==============================] - 9s 2ms/step - loss: 0.1058 - binary_crossentropy: 0.3408 - false_negatives: 281.0000 - recall: 0.9863 - val_loss: 0.1069 - val_binary_crossentropy: 0.3441 - val_false_negatives: 323.0000 - val_recall: 0.9842\n",
      "Epoch 7/10\n",
      "4100/4100 [==============================] - 9s 2ms/step - loss: 0.1053 - binary_crossentropy: 0.3398 - false_negatives: 275.0000 - recall: 0.9866 - val_loss: 0.1066 - val_binary_crossentropy: 0.3439 - val_false_negatives: 228.0000 - val_recall: 0.9889\n",
      "Epoch 8/10\n",
      "4100/4100 [==============================] - 9s 2ms/step - loss: 0.1050 - binary_crossentropy: 0.3395 - false_negatives: 275.0000 - recall: 0.9866 - val_loss: 0.1061 - val_binary_crossentropy: 0.3430 - val_false_negatives: 298.0000 - val_recall: 0.9855\n",
      "Epoch 9/10\n",
      "4100/4100 [==============================] - 9s 2ms/step - loss: 0.1047 - binary_crossentropy: 0.3391 - false_negatives: 267.0000 - recall: 0.9869 - val_loss: 0.1059 - val_binary_crossentropy: 0.3431 - val_false_negatives: 268.0000 - val_recall: 0.9869\n",
      "Epoch 10/10\n",
      "4100/4100 [==============================] - 9s 2ms/step - loss: 0.1046 - binary_crossentropy: 0.3390 - false_negatives: 272.0000 - recall: 0.9867 - val_loss: 0.1059 - val_binary_crossentropy: 0.3431 - val_false_negatives: 270.0000 - val_recall: 0.9868\n"
     ]
    },
    {
     "data": {
      "text/plain": [
       "<keras.callbacks.History at 0x23d9cbfe6d0>"
      ]
     },
     "execution_count": 8,
     "metadata": {},
     "output_type": "execute_result"
    }
   ],
   "source": [
    "model_coder.fit(\n",
    "    X_train.to_numpy(),\n",
    "    y_train.to_numpy(),\n",
    "    validation_split=0.5,\n",
    "    epochs=10,\n",
    "    batch_size=10\n",
    ")\n"
   ]
  },
  {
   "attachments": {},
   "cell_type": "markdown",
   "metadata": {},
   "source": [
    "# Predict"
   ]
  },
  {
   "cell_type": "code",
   "execution_count": 9,
   "metadata": {},
   "outputs": [
    {
     "name": "stdout",
     "output_type": "stream",
     "text": [
      "2563/2563 [==============================] - 2s 895us/step\n"
     ]
    }
   ],
   "source": [
    "y_predicted = model_coder.predict(X_test).T[0]\n"
   ]
  },
  {
   "cell_type": "code",
   "execution_count": 10,
   "metadata": {},
   "outputs": [
    {
     "data": {
      "text/plain": [
       "array([0.00209496, 0.00209497, 0.00209497, ..., 0.81937426, 0.81937444,\n",
       "       0.81937534], dtype=float32)"
      ]
     },
     "execution_count": 10,
     "metadata": {},
     "output_type": "execute_result"
    }
   ],
   "source": [
    "np.unique(y_predicted)\n"
   ]
  },
  {
   "attachments": {},
   "cell_type": "markdown",
   "metadata": {},
   "source": [
    "# Оценка качества "
   ]
  },
  {
   "cell_type": "code",
   "execution_count": 11,
   "metadata": {},
   "outputs": [
    {
     "name": "stdout",
     "output_type": "stream",
     "text": [
      "Accuracy\n",
      "0.8681399092638665\n"
     ]
    }
   ],
   "source": [
    "print('Accuracy')\n",
    "print(accuracy_score(y_test, y_predicted>0.5))\n"
   ]
  },
  {
   "cell_type": "code",
   "execution_count": 12,
   "metadata": {},
   "outputs": [
    {
     "name": "stdout",
     "output_type": "stream",
     "text": [
      "Confusion matrix\n",
      "[[30723 10236]\n",
      " [  576 40461]]\n"
     ]
    }
   ],
   "source": [
    "print('Confusion matrix')\n",
    "print(confusion_matrix(y_test, y_predicted > 0.5))\n"
   ]
  },
  {
   "cell_type": "code",
   "execution_count": 13,
   "metadata": {},
   "outputs": [
    {
     "name": "stdout",
     "output_type": "stream",
     "text": [
      "Precision, Recall, F\n",
      "               precision    recall  f1-score   support\n",
      "\n",
      "         0.0       0.98      0.75      0.85     40959\n",
      "         1.0       0.80      0.99      0.88     41037\n",
      "\n",
      "    accuracy                           0.87     81996\n",
      "   macro avg       0.89      0.87      0.87     81996\n",
      "weighted avg       0.89      0.87      0.87     81996\n",
      "\n"
     ]
    }
   ],
   "source": [
    "print('Precision, Recall, F\\n', classification_report(y_test, y_predicted > 0.5))\n"
   ]
  },
  {
   "cell_type": "code",
   "execution_count": 14,
   "metadata": {},
   "outputs": [
    {
     "data": {
      "text/plain": [
       "<sklearn.metrics._plot.roc_curve.RocCurveDisplay at 0x23d9f549790>"
      ]
     },
     "execution_count": 14,
     "metadata": {},
     "output_type": "execute_result"
    },
    {
     "data": {
      "image/png": "[encoded data removed]",
      "text/plain": [
       "<Figure size 432x288 with 1 Axes>"
      ]
     },
     "metadata": {
      "needs_background": "light"
     },
     "output_type": "display_data"
    }
   ],
   "source": [
    "fpr, tpr, thresholds = roc_curve(y_predicted > 0.7, y_test)\n",
    "roc_auc = auc(fpr, tpr)\n",
    "display = RocCurveDisplay(fpr=fpr, tpr=tpr, roc_auc=roc_auc, estimator_name='example estimator')\n",
    "display.plot()"
   ]
  }
 ],
 "metadata": {
  "kernelspec": {
   "display_name": "Python 3",
   "language": "python",
   "name": "python3"
  },
  "language_info": {
   "codemirror_mode": {
    "name": "ipython",
    "version": 3
   },
   "file_extension": ".py",
   "mimetype": "text/x-python",
   "name": "python",
   "nbconvert_exporter": "python",
   "pygments_lexer": "ipython3",
   "version": "3.9.2"
  },
  "orig_nbformat": 4
 },
 "nbformat": 4,
 "nbformat_minor": 2
}
