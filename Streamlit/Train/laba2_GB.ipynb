{
 "cells": [
  {
   "attachments": {},
   "cell_type": "markdown",
   "metadata": {},
   "source": [
    "# Импорт."
   ]
  },
  {
   "cell_type": "code",
   "execution_count": 18,
   "metadata": {},
   "outputs": [],
   "source": [
    "from sys import setrecursionlimit\n",
    "from sys import path\n",
    "path.append(\"../../MyMethods\")\n",
    "setrecursionlimit(5000)\n"
   ]
  },
  {
   "cell_type": "code",
   "execution_count": 19,
   "metadata": {},
   "outputs": [],
   "source": [
    "from Classes.NaiveBayesianClassificator import NaiveBayesianClassificator\n",
    "from Classes.NaiveBayesianTeacher import NaiveBayesianTeacher\n",
    "\n",
    "from Functions.distance_functions import euclid_distance\n",
    "from Functions.functions_of_priority import max_count_class\n",
    "from Functions.spreading_functions import normal_spread\n",
    "from Functions.metrics import *\n",
    "\n",
    "from sklearn.metrics import classification_report\n",
    "from sklearn.model_selection import train_test_split\n",
    "\n",
    "import pandas as pd\n",
    "import numpy as np\n",
    "import pickle\n"
   ]
  },
  {
   "attachments": {},
   "cell_type": "markdown",
   "metadata": {},
   "source": [
    "# Загрузка Dataset'а."
   ]
  },
  {
   "cell_type": "code",
   "execution_count": 20,
   "metadata": {},
   "outputs": [],
   "source": [
    "models = pd.read_csv('../../Data/DataLaba2/neo_task_smoted.csv')\n",
    "X_train, X_test, y_train, y_test = train_test_split(models.drop('hazardous', axis=1), models['hazardous'], test_size=0.1, random_state=42)"
   ]
  },
  {
   "attachments": {},
   "cell_type": "markdown",
   "metadata": {},
   "source": [
    "# Naive Bayesian"
   ]
  },
  {
   "cell_type": "code",
   "execution_count": 21,
   "metadata": {},
   "outputs": [],
   "source": [
    "def f(a): \n",
    "    return a > 0\n"
   ]
  },
  {
   "cell_type": "code",
   "execution_count": 23,
   "metadata": {},
   "outputs": [],
   "source": [
    "nbc = NaiveBayesianClassificator(f)\n",
    "NaiveBayesianTeacher(nbc).teach(np.array(X_train)[:500], np.array(y_train)[:500], [normal_spread, normal_spread, normal_spread, normal_spread])\n",
    "nbc_predict = nbc.predict(np.array(X_test))\n"
   ]
  },
  {
   "cell_type": "code",
   "execution_count": 24,
   "metadata": {},
   "outputs": [
    {
     "name": "stdout",
     "output_type": "stream",
     "text": [
      "TP : 7222\n",
      "TN : 6247\n",
      "FN : 1031\n",
      "FP : 1900\n",
      "Accuracy : 0.8212804878048781\n",
      "Specificity : 0.7667853197496011\n",
      "Prcision : 0.7917123437842578\n",
      "Recall : 0.8750757300375621\n",
      "F1 : 0.8313093525179857\n"
     ]
    }
   ],
   "source": [
    "print(\n",
    "    f'TP : {TruePositive(nbc_predict, y_test)}',\n",
    "    f'TN : {TrueNegative(nbc_predict, y_test)}',\n",
    "    f'FN : {FalseNegative(nbc_predict, y_test)}',\n",
    "    f'FP : {FalsePositive(nbc_predict, y_test)}',\n",
    "    f'Accuracy : {accuracy(nbc_predict, y_test)}',\n",
    "    f'Specificity : {specificity(nbc_predict, y_test)}',\n",
    "    f'Prcision : {precision(nbc_predict, y_test)}',\n",
    "    f'Recall : {recall(nbc_predict, y_test)}',\n",
    "    f'F1 : {f1(nbc_predict, y_test)}',\n",
    "    sep='\\n'\n",
    "    )"
   ]
  },
  {
   "cell_type": "code",
   "execution_count": 25,
   "metadata": {},
   "outputs": [
    {
     "name": "stdout",
     "output_type": "stream",
     "text": [
      "              precision    recall  f1-score   support\n",
      "\n",
      "       False       0.77      0.86      0.81      7278\n",
      "        True       0.88      0.79      0.83      9122\n",
      "\n",
      "    accuracy                           0.82     16400\n",
      "   macro avg       0.82      0.83      0.82     16400\n",
      "weighted avg       0.83      0.82      0.82     16400\n",
      "\n"
     ]
    }
   ],
   "source": [
    "print(classification_report(nbc_predict, y_test))"
   ]
  },
  {
   "cell_type": "code",
   "execution_count": 26,
   "metadata": {},
   "outputs": [
    {
     "data": {
      "text/plain": [
       "<Classes.NaiveBayesianClassificator.NaiveBayesianClassificator at 0x2b9a738bca0>"
      ]
     },
     "execution_count": 26,
     "metadata": {},
     "output_type": "execute_result"
    }
   ],
   "source": [
    "nbc"
   ]
  },
  {
   "cell_type": "code",
   "execution_count": 27,
   "metadata": {},
   "outputs": [],
   "source": [
    "with open('../Models/GB.pickle', 'wb') as handle:\n",
    "    b = pickle.dump(nbc, handle, protocol=pickle.HIGHEST_PROTOCOL)\n"
   ]
  }
 ],
 "metadata": {
  "kernelspec": {
   "display_name": "Python 3",
   "language": "python",
   "name": "python3"
  },
  "language_info": {
   "codemirror_mode": {
    "name": "ipython",
    "version": 3
   },
   "file_extension": ".py",
   "mimetype": "text/x-python",
   "name": "python",
   "nbconvert_exporter": "python",
   "pygments_lexer": "ipython3",
   "version": "3.9.2"
  },
  "orig_nbformat": 4
 },
 "nbformat": 4,
 "nbformat_minor": 2
}
