{
 "cells": [
  {
   "attachments": {},
   "cell_type": "markdown",
   "metadata": {},
   "source": [
    "# Импорт"
   ]
  },
  {
   "cell_type": "code",
   "execution_count": 1,
   "metadata": {},
   "outputs": [],
   "source": [
    "import pandas as pd\n",
    "import matplotlib.pyplot as plt\n",
    "import numpy as np\n",
    "\n",
    "from sklearn.model_selection import train_test_split\n",
    "import tensorflow as tf\n",
    "\n",
    "from sklearn.metrics import accuracy_score, confusion_matrix, classification_report, roc_curve, RocCurveDisplay, auc\n",
    "\n",
    "from joblib import dump\n"
   ]
  },
  {
   "attachments": {},
   "cell_type": "markdown",
   "metadata": {},
   "source": [
    "# Загружаем датасет и разбиваем её на выборку."
   ]
  },
  {
   "cell_type": "code",
   "execution_count": 3,
   "metadata": {},
   "outputs": [
    {
     "data": {
      "text/plain": [
       "(119916, 4)"
      ]
     },
     "execution_count": 3,
     "metadata": {},
     "output_type": "execute_result"
    }
   ],
   "source": [
    "data = pd.read_csv('../Data/data_for_train.csv')\n",
    "X_train, X_test, y_train, y_test = train_test_split(data.drop('hazardous', axis=1), data['hazardous'], test_size=0.25, random_state=42)\n",
    "X_train.shape\n"
   ]
  },
  {
   "attachments": {},
   "cell_type": "markdown",
   "metadata": {},
   "source": [
    "# Создание модели"
   ]
  },
  {
   "cell_type": "code",
   "execution_count": 4,
   "metadata": {},
   "outputs": [
    {
     "name": "stdout",
     "output_type": "stream",
     "text": [
      "Model: \"sequential\"\n",
      "_________________________________________________________________\n",
      " Layer (type)                Output Shape              Param #   \n",
      "=================================================================\n",
      " input (Dense)               (None, 4)                 20        \n",
      "                                                                 \n",
      " hidden_layer_2 (Dense)      (None, 8)                 40        \n",
      "                                                                 \n",
      " hidden_layer_3 (Dense)      (None, 4)                 36        \n",
      "                                                                 \n",
      " output (Dense)              (None, 1)                 5         \n",
      "                                                                 \n",
      "=================================================================\n",
      "Total params: 101\n",
      "Trainable params: 101\n",
      "Non-trainable params: 0\n",
      "_________________________________________________________________\n"
     ]
    }
   ],
   "source": [
    "model_class = tf.keras.models.Sequential()\n",
    "model_class.add(tf.keras.layers.Dense(X_train.shape[1],\n",
    "                                      activation='sigmoid',\n",
    "                                      input_shape=(X_train.shape[1],), \n",
    "                                      name='input',\n",
    "                                      # kernel_regularizer=tf.keras.regularizers.L2(l2=1),\n",
    "                                      #   kernel_constraint=tf.keras.constraints.max_norm(1000.),\n",
    "                                      # bias_initializer=tf.keras.initializers.HeNormal,\n",
    "                                      use_bias=True\n",
    "                                      ))\n",
    "model_class.add(tf.keras.layers.Dense(X_train.shape[1]*2,\n",
    "                                      activation='sigmoid',\n",
    "                                      name='hidden_layer_2',\n",
    "                                      # kernel_regularizer=tf.keras.regularizers.L2(l2=1),\n",
    "                                      #   kernel_constraint=tf.keras.constraints.max_norm(1000.),\n",
    "                                      # bias_initializer=tf.keras.initializers.HeNormal,\n",
    "                                      use_bias=True\n",
    "                                      ))\n",
    "model_class.add(tf.keras.layers.Dense(X_train.shape[1],\n",
    "                                      activation='sigmoid',\n",
    "                                      name='hidden_layer_3',\n",
    "                                      # kernel_regularizer=tf.keras.regularizers.L2(l2=1),\n",
    "                                      #   kernel_constraint=tf.keras.constraints.max_norm(1000.),\n",
    "                                      # bias_initializer=tf.keras.initializers.HeNormal,\n",
    "                                      use_bias=True\n",
    "                                      ))\n",
    "model_class.add(tf.keras.layers.Dense(1,\n",
    "                                      name='output', \n",
    "                                      activation='sigmoid',\n",
    "                                      # kernel_regularizer=tf.keras.regularizers.L2(l2=1), \n",
    "                                    #   kernel_constraint=tf.keras.constraints.max_norm(1000.),\n",
    "                                      # bias_initializer=tf.keras.initializers.HeNormal,\n",
    "                                      use_bias=True\n",
    "                                      ))\n",
    "model_class.summary()\n",
    "model_coder = model_class\n"
   ]
  },
  {
   "cell_type": "code",
   "execution_count": 104,
   "metadata": {},
   "outputs": [],
   "source": [
    "# model_coder = tf.keras.models.Sequential([\n",
    "#     tf.keras.layers.Dense(3, input_shape=(X_train.shape[1],)),\n",
    "#     tf.keras.layers.Dense(1,)\n",
    "# ])\n"
   ]
  },
  {
   "attachments": {},
   "cell_type": "markdown",
   "metadata": {},
   "source": [
    "## Компиляция"
   ]
  },
  {
   "cell_type": "code",
   "execution_count": 5,
   "metadata": {},
   "outputs": [],
   "source": [
    "model_coder.compile(\n",
    "    optimizer='Adam',\n",
    "    loss='mse',\n",
    "    metrics=['binary_crossentropy', tf.keras.metrics.FalseNegatives(), tf.keras.metrics.Recall()]\n",
    ")\n"
   ]
  },
  {
   "attachments": {},
   "cell_type": "markdown",
   "metadata": {},
   "source": [
    "# Обучение"
   ]
  },
  {
   "cell_type": "code",
   "execution_count": 6,
   "metadata": {},
   "outputs": [
    {
     "name": "stdout",
     "output_type": "stream",
     "text": [
      "Epoch 1/10\n",
      "5996/5996 [==============================] - 14s 2ms/step - loss: 0.2482 - binary_crossentropy: 0.6897 - false_negatives: 6506.0000 - recall: 0.7830 - val_loss: 0.2331 - val_binary_crossentropy: 0.6591 - val_false_negatives: 3217.0000 - val_recall: 0.8922\n",
      "Epoch 2/10\n",
      "5996/5996 [==============================] - 13s 2ms/step - loss: 0.1907 - binary_crossentropy: 0.5695 - false_negatives: 5327.0000 - recall: 0.8223 - val_loss: 0.1594 - val_binary_crossentropy: 0.4985 - val_false_negatives: 4065.0000 - val_recall: 0.8638\n",
      "Epoch 3/10\n",
      "5996/5996 [==============================] - 13s 2ms/step - loss: 0.1458 - binary_crossentropy: 0.4631 - false_negatives: 2955.0000 - recall: 0.9014 - val_loss: 0.1322 - val_binary_crossentropy: 0.4279 - val_false_negatives: 1598.0000 - val_recall: 0.9465\n",
      "Epoch 4/10\n",
      "5996/5996 [==============================] - 13s 2ms/step - loss: 0.1270 - binary_crossentropy: 0.4109 - false_negatives: 1339.0000 - recall: 0.9553 - val_loss: 0.1198 - val_binary_crossentropy: 0.3906 - val_false_negatives: 504.0000 - val_recall: 0.9831\n",
      "Epoch 5/10\n",
      "5996/5996 [==============================] - 13s 2ms/step - loss: 0.1186 - binary_crossentropy: 0.3836 - false_negatives: 597.0000 - recall: 0.9801 - val_loss: 0.1140 - val_binary_crossentropy: 0.3694 - val_false_negatives: 216.0000 - val_recall: 0.9928\n",
      "Epoch 6/10\n",
      "5996/5996 [==============================] - 13s 2ms/step - loss: 0.1137 - binary_crossentropy: 0.3659 - false_negatives: 407.0000 - recall: 0.9864 - val_loss: 0.1100 - val_binary_crossentropy: 0.3545 - val_false_negatives: 347.0000 - val_recall: 0.9884\n",
      "Epoch 7/10\n",
      "5996/5996 [==============================] - 14s 2ms/step - loss: 0.1105 - binary_crossentropy: 0.3548 - false_negatives: 293.0000 - recall: 0.9902 - val_loss: 0.1082 - val_binary_crossentropy: 0.3486 - val_false_negatives: 86.0000 - val_recall: 0.9971\n",
      "Epoch 8/10\n",
      "5996/5996 [==============================] - 13s 2ms/step - loss: 0.1086 - binary_crossentropy: 0.3480 - false_negatives: 258.0000 - recall: 0.9914 - val_loss: 0.1078 - val_binary_crossentropy: 0.3461 - val_false_negatives: 22.0000 - val_recall: 0.9993\n",
      "Epoch 9/10\n",
      "5996/5996 [==============================] - 13s 2ms/step - loss: 0.1075 - binary_crossentropy: 0.3438 - false_negatives: 215.0000 - recall: 0.9928 - val_loss: 0.1058 - val_binary_crossentropy: 0.3380 - val_false_negatives: 433.0000 - val_recall: 0.9855\n",
      "Epoch 10/10\n",
      "5996/5996 [==============================] - 13s 2ms/step - loss: 0.1066 - binary_crossentropy: 0.3404 - false_negatives: 204.0000 - recall: 0.9932 - val_loss: 0.1046 - val_binary_crossentropy: 0.3352 - val_false_negatives: 146.0000 - val_recall: 0.9951\n"
     ]
    },
    {
     "data": {
      "text/plain": [
       "<keras.callbacks.History at 0x2404a5aaf70>"
      ]
     },
     "execution_count": 6,
     "metadata": {},
     "output_type": "execute_result"
    }
   ],
   "source": [
    "model_coder.fit(\n",
    "    X_train.to_numpy(),\n",
    "    y_train.to_numpy(),\n",
    "    validation_split=0.5,\n",
    "    epochs=10,\n",
    "    batch_size=10\n",
    ")\n"
   ]
  },
  {
   "attachments": {},
   "cell_type": "markdown",
   "metadata": {},
   "source": [
    "# Predict"
   ]
  },
  {
   "cell_type": "code",
   "execution_count": 7,
   "metadata": {},
   "outputs": [
    {
     "name": "stdout",
     "output_type": "stream",
     "text": [
      "1250/1250 [==============================] - 1s 966us/step\n"
     ]
    }
   ],
   "source": [
    "y_predicted = model_coder.predict(X_test).T[0]\n"
   ]
  },
  {
   "cell_type": "code",
   "execution_count": 8,
   "metadata": {},
   "outputs": [
    {
     "data": {
      "text/plain": [
       "array([0.01553766, 0.01553791, 0.01553835, ..., 0.8568084 , 0.8568128 ,\n",
       "       0.8568154 ], dtype=float32)"
      ]
     },
     "execution_count": 8,
     "metadata": {},
     "output_type": "execute_result"
    }
   ],
   "source": [
    "np.unique(y_predicted)\n"
   ]
  },
  {
   "attachments": {},
   "cell_type": "markdown",
   "metadata": {},
   "source": [
    "# Оценка качества "
   ]
  },
  {
   "cell_type": "code",
   "execution_count": 9,
   "metadata": {},
   "outputs": [
    {
     "name": "stdout",
     "output_type": "stream",
     "text": [
      "Accuracy\n",
      "0.871985389772841\n"
     ]
    }
   ],
   "source": [
    "print('Accuracy')\n",
    "print(accuracy_score(y_test, y_predicted>0.5))\n"
   ]
  },
  {
   "cell_type": "code",
   "execution_count": 10,
   "metadata": {},
   "outputs": [
    {
     "name": "stdout",
     "output_type": "stream",
     "text": [
      "Confusion matrix\n",
      "[[14825  5026]\n",
      " [   91 20030]]\n"
     ]
    }
   ],
   "source": [
    "print('Confusion matrix')\n",
    "print(confusion_matrix(y_test, y_predicted > 0.5))\n"
   ]
  },
  {
   "cell_type": "code",
   "execution_count": 11,
   "metadata": {},
   "outputs": [
    {
     "name": "stdout",
     "output_type": "stream",
     "text": [
      "Precision, Recall, F\n",
      "               precision    recall  f1-score   support\n",
      "\n",
      "       False       0.99      0.75      0.85     19851\n",
      "        True       0.80      1.00      0.89     20121\n",
      "\n",
      "    accuracy                           0.87     39972\n",
      "   macro avg       0.90      0.87      0.87     39972\n",
      "weighted avg       0.90      0.87      0.87     39972\n",
      "\n"
     ]
    }
   ],
   "source": [
    "print('Precision, Recall, F\\n', classification_report(y_test, y_predicted > 0.5))\n"
   ]
  },
  {
   "cell_type": "code",
   "execution_count": 12,
   "metadata": {},
   "outputs": [
    {
     "data": {
      "text/plain": [
       "<sklearn.metrics._plot.roc_curve.RocCurveDisplay at 0x2404a50fe20>"
      ]
     },
     "execution_count": 12,
     "metadata": {},
     "output_type": "execute_result"
    },
    {
     "data": {
      "image/png": "[encoded data removed]",
      "text/plain": [
       "<Figure size 640x480 with 1 Axes>"
      ]
     },
     "metadata": {},
     "output_type": "display_data"
    }
   ],
   "source": [
    "fpr, tpr, thresholds = roc_curve(y_predicted > 0.5, y_test)\n",
    "roc_auc = auc(fpr, tpr)\n",
    "display = RocCurveDisplay(fpr=fpr, tpr=tpr, roc_auc=roc_auc, estimator_name='example estimator')\n",
    "display.plot()"
   ]
  },
  {
   "cell_type": "code",
   "execution_count": 13,
   "metadata": {},
   "outputs": [],
   "source": [
    "with open('../Models/Perceptron.sav', 'wb') as handle:\n",
    "    b = dump(model_coder, handle)\n"
   ]
  }
 ],
 "metadata": {
  "kernelspec": {
   "display_name": "Python 3",
   "language": "python",
   "name": "python3"
  },
  "language_info": {
   "codemirror_mode": {
    "name": "ipython",
    "version": 3
   },
   "file_extension": ".py",
   "mimetype": "text/x-python",
   "name": "python",
   "nbconvert_exporter": "python",
   "pygments_lexer": "ipython3",
   "version": "3.9.2"
  },
  "orig_nbformat": 4
 },
 "nbformat": 4,
 "nbformat_minor": 2
}
