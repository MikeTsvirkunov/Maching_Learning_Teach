{
 "cells": [
  {
   "attachments": {},
   "cell_type": "markdown",
   "metadata": {},
   "source": [
    "# Импорт."
   ]
  },
  {
   "cell_type": "code",
   "execution_count": 11,
   "metadata": {},
   "outputs": [],
   "source": [
    "from sys import setrecursionlimit\n",
    "from sys import path\n",
    "path.append(\"../../MyMethods\")\n",
    "setrecursionlimit(5000)\n"
   ]
  },
  {
   "cell_type": "code",
   "execution_count": 12,
   "metadata": {},
   "outputs": [],
   "source": [
    "from Classes.KNumNeighborsClassifier import KNumNeighborsClassifier\n",
    "from Classes.KNumNeighborsTeacher import KNumNeighborsTeacher\n",
    "\n",
    "from Functions.distance_functions import euclid_distance\n",
    "from Functions.functions_of_priority import max_count_class\n",
    "from Functions.spreading_functions import normal_spread\n",
    "from Functions.metrics import *\n",
    "\n",
    "from sklearn.metrics import classification_report\n",
    "from sklearn.model_selection import train_test_split\n",
    "\n",
    "import pandas as pd\n",
    "import numpy as np\n",
    "\n",
    "import pickle\n",
    "import joblib\n"
   ]
  },
  {
   "attachments": {},
   "cell_type": "markdown",
   "metadata": {},
   "source": [
    "# Загрузка Dataset'а."
   ]
  },
  {
   "cell_type": "code",
   "execution_count": 13,
   "metadata": {},
   "outputs": [],
   "source": [
    "data = pd.read_csv('../Data/data_for_train.csv')\n",
    "X_train, X_test, y_train, y_test = train_test_split(data.drop('hazardous', axis=1), data['hazardous'], test_size=0.25, random_state=42)\n",
    "X_train.shape\n"
   ]
  },
  {
   "attachments": {},
   "cell_type": "markdown",
   "metadata": {},
   "source": [
    "# KNN"
   ]
  },
  {
   "cell_type": "code",
   "execution_count": 14,
   "metadata": {},
   "outputs": [],
   "source": [
    "knn = KNumNeighborsClassifier(k=5, \n",
    "                            distance=euclid_distance, \n",
    "                            function_of_priority=max_count_class)\n",
    "knn_teacher = KNumNeighborsTeacher(classifier=knn)\n",
    "knn_teacher.teach(np.array(X_train), np.array(y_train))\n",
    "knn_predict = knn.predict(np.array(X_test))"
   ]
  },
  {
   "cell_type": "code",
   "execution_count": 15,
   "metadata": {},
   "outputs": [
    {
     "name": "stdout",
     "output_type": "stream",
     "text": [
      "TP : 8148\n",
      "TN : 6830\n",
      "FN : 105\n",
      "FP : 1317\n",
      "Accuracy : 0.9132926829268293\n",
      "Specificity : 0.8383454032159077\n",
      "Prcision : 0.8608557844690967\n",
      "Recall : 0.9872773536895675\n",
      "F1 : 0.9197426346088724\n"
     ]
    }
   ],
   "source": [
    "print(\n",
    "    f'TP : {TruePositive(knn_predict, y_test)}',\n",
    "    f'TN : {TrueNegative(knn_predict, y_test)}',\n",
    "    f'FN : {FalseNegative(knn_predict, y_test)}',\n",
    "    f'FP : {FalsePositive(knn_predict, y_test)}',\n",
    "    f'Accuracy : {accuracy(knn_predict, y_test)}',\n",
    "    f'Specificity : {specificity(knn_predict, y_test)}',\n",
    "    f'Prcision : {precision(knn_predict, y_test)}',\n",
    "    f'Recall : {recall(knn_predict, y_test)}',\n",
    "    f'F1 : {f1(knn_predict, y_test)}',\n",
    "    sep='\\n'\n",
    "    )"
   ]
  },
  {
   "cell_type": "code",
   "execution_count": 16,
   "metadata": {},
   "outputs": [
    {
     "name": "stdout",
     "output_type": "stream",
     "text": [
      "              precision    recall  f1-score   support\n",
      "\n",
      "         0.0       0.84      0.98      0.91      6935\n",
      "         1.0       0.99      0.86      0.92      9465\n",
      "\n",
      "    accuracy                           0.91     16400\n",
      "   macro avg       0.91      0.92      0.91     16400\n",
      "weighted avg       0.92      0.91      0.91     16400\n",
      "\n"
     ]
    }
   ],
   "source": [
    "print(classification_report(knn_predict, y_test))"
   ]
  },
  {
   "cell_type": "code",
   "execution_count": 19,
   "metadata": {},
   "outputs": [],
   "source": [
    "with open('../Models/KNN.pickle', 'wb') as handle:\n",
    "    b = pickle.dump(knn, handle, protocol=pickle.HIGHEST_PROTOCOL)\n"
   ]
  }
 ],
 "metadata": {
  "kernelspec": {
   "display_name": "Python 3",
   "language": "python",
   "name": "python3"
  },
  "language_info": {
   "codemirror_mode": {
    "name": "ipython",
    "version": 3
   },
   "file_extension": ".py",
   "mimetype": "text/x-python",
   "name": "python",
   "nbconvert_exporter": "python",
   "pygments_lexer": "ipython3",
   "version": "3.9.2"
  },
  "orig_nbformat": 4
 },
 "nbformat": 4,
 "nbformat_minor": 2
}
